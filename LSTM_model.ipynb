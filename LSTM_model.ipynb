{
 "cells": [
  {
   "cell_type": "code",
   "execution_count": 3,
   "metadata": {},
   "outputs": [
    {
     "name": "stderr",
     "output_type": "stream",
     "text": [
      "/home/luojiawei/anaconda3/envs/py37/lib/python3.7/site-packages/tqdm/auto.py:22: TqdmWarning: IProgress not found. Please update jupyter and ipywidgets. See https://ipywidgets.readthedocs.io/en/stable/user_install.html\n",
      "  from .autonotebook import tqdm as notebook_tqdm\n"
     ]
    }
   ],
   "source": [
    "import torch\n",
    "import torch.nn as nn\n",
    "import torch.optim as optim\n",
    "import torch.nn.functional as F\n",
    "import numpy as np\n",
    "import pandas as pd\n",
    "import os\n",
    "import matplotlib.pyplot as plt\n",
    "from tqdm import tqdm"
   ]
  },
  {
   "cell_type": "code",
   "execution_count": 245,
   "metadata": {},
   "outputs": [],
   "source": [
    "\n",
    "class CustomData(object):\n",
    "\n",
    "    def __init__(self, root, id_file, cls=None):\n",
    "        \"\"\"\n",
    "        :param root: 包含所有病人文件夹的根文件夹路径\n",
    "        :param id_file: 包含所有病人id的csv文件路径\n",
    "        :param cls: 病人分类，0或1\n",
    "        \"\"\"\n",
    "        super().__init__()\n",
    "        self.root = root\n",
    "        if cls is not None:\n",
    "            ds = pd.read_csv(id_file, header=0)\n",
    "            self.all_pid = ds.loc[ds.iloc[:,1]==cls, \"HADM_ID\"].tolist()\n",
    "            print(\"all_pid 的数量:\", len(self.all_pid))\n",
    "        else:\n",
    "            ds = pd.read_csv(id_file, header=0)\n",
    "            self.all_pid = ds.loc[:, \"HADM_ID\"].tolist()\n",
    "            print(\"all_pid 的数量:\", len(self.all_pid))\n",
    "\n",
    "    def __len__(self):\n",
    "        return len(self.all_pid)\n",
    "    \n",
    "    def len(self):\n",
    "        return len(self.all_pid)\n",
    "\n",
    "    def get_item(self, ind):\n",
    "\n",
    "        folder_path = os.path.join(self.root, str(self.all_pid[ind]))\n",
    "\n",
    "        dym_X_locf = pd.read_csv(os.path.join(folder_path, \"dym_X_locf.csv\"), header=0)\n",
    "        X_dym = np.asarray(dym_X_locf)\n",
    "\n",
    "        static_vars = [\"AGE\",\"Aids\", \"Hm\", \"Mc\", \"ADtype1\", \"ADtype2\",\"ADtype3\"]\n",
    "        full = pd.read_csv(os.path.join(folder_path, \"full.csv\"), header=0)\n",
    "        time = np.asarray(full.loc[:,\"time\"]).reshape(-1,1)\n",
    "        y = np.asarray(full.loc[:,\"HOSPITAL_EXPIRE_FLAG\"]).reshape(-1,1)\n",
    "        X_stc = np.asarray(full.loc[:,static_vars])\n",
    "        \n",
    "        mask_fea = pd.read_csv(os.path.join(folder_path, \"mask_fea.csv\"), header=0)\n",
    "        mask_fea = np.asarray(mask_fea)\n",
    "        \n",
    "        mask = pd.read_csv(os.path.join(folder_path, \"mask.csv\"), header=0)\n",
    "        mask = np.asarray(mask)\n",
    "\n",
    "        return X_dym, X_stc, mask_fea, time, y, mask\n",
    "\n",
    "    def get_item1(self, ind):\n",
    "\n",
    "        datas = self.get_item(ind)\n",
    "        if datas is not None:\n",
    "            X_dym, X_stc, mask_fea, time, y, mask = datas\n",
    "        else:\n",
    "            return None\n",
    "\n",
    "        X_dym = torch.from_numpy(X_dym).float()\n",
    "        X_stc = torch.from_numpy(X_stc).float()\n",
    "        mask_fea = torch.from_numpy(mask_fea).float()\n",
    "        time = torch.from_numpy(time).float()\n",
    "        y = torch.from_numpy(y).float()\n",
    "        mask = torch.from_numpy(mask).float()\n",
    "        \n",
    "        return X_dym, X_stc, mask_fea, time, y, mask\n",
    "\n",
    "\n",
    "    def get_data(self, inds):\n",
    "\n",
    "        batches = []\n",
    "        ids1 = []\n",
    "        for i in range(len(inds)):\n",
    "            data = self.get_item1(inds[i])\n",
    "            if data is None:\n",
    "                continue\n",
    "            else:\n",
    "                batches.append(data)\n",
    "                ids1.append(inds[i])\n",
    "        return batches, ids1\n",
    "\n",
    "    def iterate_batch(self, size, shuffle=True):\n",
    "\n",
    "        if size > self.len():\n",
    "            raise ValueError(\"batch size 大于了总样本数\")\n",
    "\n",
    "        if shuffle:\n",
    "            all_ids = np.random.choice(self.len(), size=self.len(), replace=False)\n",
    "        else:\n",
    "            all_ids = list(range(self.len()))\n",
    "\n",
    "        if self.len() % size == 0:\n",
    "            n = self.len() // size\n",
    "        else:\n",
    "            n = self.len() // size + 1\n",
    "\n",
    "        for i in range(n):\n",
    "            if i == n:\n",
    "                yield self.get_data(all_ids[(size * i):])\n",
    "            else:\n",
    "                yield self.get_data(all_ids[(size * i): (size * (i + 1))])\n",
    "        return"
   ]
  },
  {
   "cell_type": "code",
   "execution_count": 246,
   "metadata": {},
   "outputs": [],
   "source": [
    "class PredModel(nn.Module):\n",
    "    def __init__(self, input_size, hidden_size, num_layers, output_size):\n",
    "        super(PredModel, self).__init__()\n",
    "        self.lstm = nn.LSTM(input_size, hidden_size, num_layers, batch_first=True, bidirectional=True)\n",
    "        self.fc = nn.Linear(hidden_size*2, output_size)\n",
    "        \n",
    "    def forward(self, x):\n",
    "        out, _ = self.lstm(x)\n",
    "        out = self.fc(out[:, -1, :])\n",
    "        out = F.sigmoid(out)\n",
    "        return out"
   ]
  },
  {
   "cell_type": "code",
   "execution_count": 247,
   "metadata": {
    "scrolled": true
   },
   "outputs": [
    {
     "name": "stdout",
     "output_type": "stream",
     "text": [
      "all_pid 的数量: 1843\n",
      "all_pid 的数量: 15051\n",
      "all_pid 的数量: 2817\n"
     ]
    }
   ],
   "source": [
    "data_pos = CustomData(\"/home/luojiawei/mimic3_Miss_project/all_admissions/\",\n",
    "                      \"/home/luojiawei/mimic3_Miss_project/train.csv\",\n",
    "                     cls=1)\n",
    "\n",
    "data_neg = CustomData(\"/home/luojiawei/mimic3_Miss_project/all_admissions/\",\n",
    "                      \"/home/luojiawei/mimic3_Miss_project/train.csv\",\n",
    "                     cls=0)\n",
    "\n",
    "data_valid = CustomData(\"/home/luojiawei/mimic3_Miss_project/all_admissions/\",\n",
    "                      \"/home/luojiawei/mimic3_Miss_project/valid.csv\")"
   ]
  },
  {
   "cell_type": "code",
   "execution_count": 248,
   "metadata": {},
   "outputs": [],
   "source": [
    "model = PredModel(input_size=21, hidden_size=200, num_layers=2, output_size=1)"
   ]
  },
  {
   "cell_type": "code",
   "execution_count": 244,
   "metadata": {},
   "outputs": [
    {
     "data": {
      "text/plain": [
       "<All keys matched successfully>"
      ]
     },
     "execution_count": 244,
     "metadata": {},
     "output_type": "execute_result"
    }
   ],
   "source": [
    "model.load_state_dict(torch.load(\"/home/luojiawei/mimic3_Miss_project/pred_model_params-1.pth\"))"
   ]
  },
  {
   "cell_type": "code",
   "execution_count": 249,
   "metadata": {},
   "outputs": [],
   "source": [
    "optimizer = optim.Adam(model.parameters(), lr=0.001)"
   ]
  },
  {
   "cell_type": "code",
   "execution_count": 250,
   "metadata": {},
   "outputs": [],
   "source": [
    "device = torch.device(\"cuda:2\" if torch.cuda.is_available() else \"cpu\")"
   ]
  },
  {
   "cell_type": "code",
   "execution_count": 251,
   "metadata": {},
   "outputs": [],
   "source": [
    "model = model.to(device)"
   ]
  },
  {
   "cell_type": "code",
   "execution_count": 252,
   "metadata": {
    "scrolled": true
   },
   "outputs": [
    {
     "name": "stderr",
     "output_type": "stream",
     "text": [
      "  0%|          | 0/200 [00:00<?, ?it/s]/home/luojiawei/anaconda3/envs/py37/lib/python3.7/site-packages/torch/nn/functional.py:1709: UserWarning: nn.functional.sigmoid is deprecated. Use torch.sigmoid instead.\n",
      "  warnings.warn(\"nn.functional.sigmoid is deprecated. Use torch.sigmoid instead.\")\n",
      "100%|██████████| 200/200 [00:01<00:00, 148.34it/s]\n"
     ]
    },
    {
     "name": "stdout",
     "output_type": "stream",
     "text": [
      "Epoch: 0, Batch: 199, Loss: 0.006913648918271065\n"
     ]
    },
    {
     "name": "stderr",
     "output_type": "stream",
     "text": [
      "100%|██████████| 200/200 [00:00<00:00, 207.23it/s]\n"
     ]
    },
    {
     "name": "stdout",
     "output_type": "stream",
     "text": [
      "Epoch: 0, Batch: 199, Loss: 0.006688281893730164\n"
     ]
    },
    {
     "name": "stderr",
     "output_type": "stream",
     "text": [
      "100%|██████████| 200/200 [00:00<00:00, 202.30it/s]\n"
     ]
    },
    {
     "name": "stdout",
     "output_type": "stream",
     "text": [
      "Epoch: 0, Batch: 199, Loss: 0.006575699429959059\n"
     ]
    },
    {
     "name": "stderr",
     "output_type": "stream",
     "text": [
      "100%|██████████| 200/200 [00:01<00:00, 194.98it/s]\n"
     ]
    },
    {
     "name": "stdout",
     "output_type": "stream",
     "text": [
      "Epoch: 0, Batch: 199, Loss: 0.00642834696918726\n"
     ]
    },
    {
     "name": "stderr",
     "output_type": "stream",
     "text": [
      "100%|██████████| 200/200 [00:00<00:00, 208.83it/s]\n"
     ]
    },
    {
     "name": "stdout",
     "output_type": "stream",
     "text": [
      "Epoch: 0, Batch: 199, Loss: 0.005970758851617575\n"
     ]
    },
    {
     "name": "stderr",
     "output_type": "stream",
     "text": [
      "100%|██████████| 200/200 [00:01<00:00, 193.80it/s]\n"
     ]
    },
    {
     "name": "stdout",
     "output_type": "stream",
     "text": [
      "Epoch: 0, Batch: 199, Loss: 0.006028877571225166\n"
     ]
    },
    {
     "name": "stderr",
     "output_type": "stream",
     "text": [
      "100%|██████████| 200/200 [00:00<00:00, 210.32it/s]\n"
     ]
    },
    {
     "name": "stdout",
     "output_type": "stream",
     "text": [
      "Epoch: 0, Batch: 199, Loss: 0.0062317019328475\n"
     ]
    },
    {
     "name": "stderr",
     "output_type": "stream",
     "text": [
      "100%|██████████| 200/200 [00:01<00:00, 196.92it/s]\n"
     ]
    },
    {
     "name": "stdout",
     "output_type": "stream",
     "text": [
      "Epoch: 0, Batch: 199, Loss: 0.00578660424798727\n"
     ]
    },
    {
     "name": "stderr",
     "output_type": "stream",
     "text": [
      "100%|██████████| 200/200 [00:01<00:00, 199.48it/s]\n"
     ]
    },
    {
     "name": "stdout",
     "output_type": "stream",
     "text": [
      "Epoch: 0, Batch: 199, Loss: 0.005371426697820425\n"
     ]
    },
    {
     "name": "stderr",
     "output_type": "stream",
     "text": [
      "100%|██████████| 43/43 [00:00<00:00, 171.53it/s]\n"
     ]
    },
    {
     "name": "stdout",
     "output_type": "stream",
     "text": [
      "Epoch: 0, Batch: 42, Loss: 0.0053558493964374065\n",
      "Valid loss: 0.6931702162571883\n",
      "参数已更新\n"
     ]
    },
    {
     "name": "stderr",
     "output_type": "stream",
     "text": [
      "100%|██████████| 200/200 [00:01<00:00, 197.22it/s]\n"
     ]
    },
    {
     "name": "stdout",
     "output_type": "stream",
     "text": [
      "Epoch: 1, Batch: 199, Loss: 0.005814877804368734\n"
     ]
    },
    {
     "name": "stderr",
     "output_type": "stream",
     "text": [
      "100%|██████████| 200/200 [00:00<00:00, 205.26it/s]\n"
     ]
    },
    {
     "name": "stdout",
     "output_type": "stream",
     "text": [
      "Epoch: 1, Batch: 199, Loss: 0.005371573846787214\n"
     ]
    },
    {
     "name": "stderr",
     "output_type": "stream",
     "text": [
      "100%|██████████| 200/200 [00:01<00:00, 194.22it/s]\n"
     ]
    },
    {
     "name": "stdout",
     "output_type": "stream",
     "text": [
      "Epoch: 1, Batch: 199, Loss: 0.005592477507889271\n"
     ]
    },
    {
     "name": "stderr",
     "output_type": "stream",
     "text": [
      "100%|██████████| 200/200 [00:00<00:00, 201.18it/s]\n"
     ]
    },
    {
     "name": "stdout",
     "output_type": "stream",
     "text": [
      "Epoch: 1, Batch: 199, Loss: 0.005359829403460026\n"
     ]
    },
    {
     "name": "stderr",
     "output_type": "stream",
     "text": [
      "100%|██████████| 200/200 [00:01<00:00, 199.60it/s]\n"
     ]
    },
    {
     "name": "stdout",
     "output_type": "stream",
     "text": [
      "Epoch: 1, Batch: 199, Loss: 0.005939070135354996\n"
     ]
    },
    {
     "name": "stderr",
     "output_type": "stream",
     "text": [
      "100%|██████████| 200/200 [00:00<00:00, 205.48it/s]\n"
     ]
    },
    {
     "name": "stdout",
     "output_type": "stream",
     "text": [
      "Epoch: 1, Batch: 199, Loss: 0.005238463170826435\n"
     ]
    },
    {
     "name": "stderr",
     "output_type": "stream",
     "text": [
      "100%|██████████| 200/200 [00:01<00:00, 199.52it/s]\n"
     ]
    },
    {
     "name": "stdout",
     "output_type": "stream",
     "text": [
      "Epoch: 1, Batch: 199, Loss: 0.005569437053054571\n"
     ]
    },
    {
     "name": "stderr",
     "output_type": "stream",
     "text": [
      "100%|██████████| 200/200 [00:00<00:00, 201.34it/s]\n"
     ]
    },
    {
     "name": "stdout",
     "output_type": "stream",
     "text": [
      "Epoch: 1, Batch: 199, Loss: 0.005571415182203054\n"
     ]
    },
    {
     "name": "stderr",
     "output_type": "stream",
     "text": [
      "100%|██████████| 200/200 [00:00<00:00, 203.90it/s]\n"
     ]
    },
    {
     "name": "stdout",
     "output_type": "stream",
     "text": [
      "Epoch: 1, Batch: 199, Loss: 0.005437855608761311\n"
     ]
    },
    {
     "name": "stderr",
     "output_type": "stream",
     "text": [
      "100%|██████████| 43/43 [00:00<00:00, 213.03it/s]\n"
     ]
    },
    {
     "name": "stdout",
     "output_type": "stream",
     "text": [
      "Epoch: 1, Batch: 42, Loss: 0.005544646177440882\n",
      "Valid loss: 0.75528315991761\n"
     ]
    },
    {
     "name": "stderr",
     "output_type": "stream",
     "text": [
      "100%|██████████| 200/200 [00:01<00:00, 194.44it/s]\n"
     ]
    },
    {
     "name": "stdout",
     "output_type": "stream",
     "text": [
      "Epoch: 2, Batch: 199, Loss: 0.005643174052238464\n"
     ]
    },
    {
     "name": "stderr",
     "output_type": "stream",
     "text": [
      "100%|██████████| 200/200 [00:00<00:00, 200.99it/s]\n"
     ]
    },
    {
     "name": "stdout",
     "output_type": "stream",
     "text": [
      "Epoch: 2, Batch: 199, Loss: 0.005248140078037977\n"
     ]
    },
    {
     "name": "stderr",
     "output_type": "stream",
     "text": [
      "100%|██████████| 200/200 [00:01<00:00, 198.35it/s]\n"
     ]
    },
    {
     "name": "stdout",
     "output_type": "stream",
     "text": [
      "Epoch: 2, Batch: 199, Loss: 0.004954725969582796\n"
     ]
    },
    {
     "name": "stderr",
     "output_type": "stream",
     "text": [
      "100%|██████████| 200/200 [00:00<00:00, 216.01it/s]\n"
     ]
    },
    {
     "name": "stdout",
     "output_type": "stream",
     "text": [
      "Epoch: 2, Batch: 199, Loss: 0.005493034143000841\n"
     ]
    },
    {
     "name": "stderr",
     "output_type": "stream",
     "text": [
      "100%|██████████| 200/200 [00:01<00:00, 199.23it/s]\n"
     ]
    },
    {
     "name": "stdout",
     "output_type": "stream",
     "text": [
      "Epoch: 2, Batch: 199, Loss: 0.004799737129360437\n"
     ]
    },
    {
     "name": "stderr",
     "output_type": "stream",
     "text": [
      "100%|██████████| 200/200 [00:01<00:00, 194.73it/s]\n"
     ]
    },
    {
     "name": "stdout",
     "output_type": "stream",
     "text": [
      "Epoch: 2, Batch: 199, Loss: 0.005247363355010748\n"
     ]
    },
    {
     "name": "stderr",
     "output_type": "stream",
     "text": [
      "100%|██████████| 200/200 [00:00<00:00, 204.16it/s]\n"
     ]
    },
    {
     "name": "stdout",
     "output_type": "stream",
     "text": [
      "Epoch: 2, Batch: 199, Loss: 0.004873551893979311\n"
     ]
    },
    {
     "name": "stderr",
     "output_type": "stream",
     "text": [
      "100%|██████████| 200/200 [00:01<00:00, 185.85it/s]\n"
     ]
    },
    {
     "name": "stdout",
     "output_type": "stream",
     "text": [
      "Epoch: 2, Batch: 199, Loss: 0.005334476009011269\n"
     ]
    },
    {
     "name": "stderr",
     "output_type": "stream",
     "text": [
      "100%|██████████| 200/200 [00:00<00:00, 202.98it/s]\n"
     ]
    },
    {
     "name": "stdout",
     "output_type": "stream",
     "text": [
      "Epoch: 2, Batch: 199, Loss: 0.005165142938494682\n"
     ]
    },
    {
     "name": "stderr",
     "output_type": "stream",
     "text": [
      "100%|██████████| 43/43 [00:00<00:00, 186.72it/s]\n"
     ]
    },
    {
     "name": "stdout",
     "output_type": "stream",
     "text": [
      "Epoch: 2, Batch: 42, Loss: 0.005281385965645313\n",
      "Valid loss: 0.4654477748981511\n",
      "参数已更新\n"
     ]
    },
    {
     "name": "stderr",
     "output_type": "stream",
     "text": [
      "100%|██████████| 200/200 [00:01<00:00, 192.93it/s]\n"
     ]
    },
    {
     "name": "stdout",
     "output_type": "stream",
     "text": [
      "Epoch: 3, Batch: 199, Loss: 0.004983683116734028\n"
     ]
    },
    {
     "name": "stderr",
     "output_type": "stream",
     "text": [
      "100%|██████████| 200/200 [00:01<00:00, 198.87it/s]\n"
     ]
    },
    {
     "name": "stdout",
     "output_type": "stream",
     "text": [
      "Epoch: 3, Batch: 199, Loss: 0.004851889796555042\n"
     ]
    },
    {
     "name": "stderr",
     "output_type": "stream",
     "text": [
      "100%|██████████| 200/200 [00:01<00:00, 192.52it/s]\n"
     ]
    },
    {
     "name": "stdout",
     "output_type": "stream",
     "text": [
      "Epoch: 3, Batch: 199, Loss: 0.005163493100553751\n"
     ]
    },
    {
     "name": "stderr",
     "output_type": "stream",
     "text": [
      "100%|██████████| 200/200 [00:00<00:00, 200.28it/s]\n"
     ]
    },
    {
     "name": "stdout",
     "output_type": "stream",
     "text": [
      "Epoch: 3, Batch: 199, Loss: 0.0049022892490029335\n"
     ]
    },
    {
     "name": "stderr",
     "output_type": "stream",
     "text": [
      "100%|██████████| 200/200 [00:00<00:00, 204.15it/s]\n"
     ]
    },
    {
     "name": "stdout",
     "output_type": "stream",
     "text": [
      "Epoch: 3, Batch: 199, Loss: 0.004739087540656328\n"
     ]
    },
    {
     "name": "stderr",
     "output_type": "stream",
     "text": [
      "100%|██████████| 200/200 [00:01<00:00, 198.57it/s]\n"
     ]
    },
    {
     "name": "stdout",
     "output_type": "stream",
     "text": [
      "Epoch: 3, Batch: 199, Loss: 0.004941940773278475\n"
     ]
    },
    {
     "name": "stderr",
     "output_type": "stream",
     "text": [
      "100%|██████████| 200/200 [00:00<00:00, 203.00it/s]\n"
     ]
    },
    {
     "name": "stdout",
     "output_type": "stream",
     "text": [
      "Epoch: 3, Batch: 199, Loss: 0.005368104670196772\n"
     ]
    },
    {
     "name": "stderr",
     "output_type": "stream",
     "text": [
      "100%|██████████| 200/200 [00:00<00:00, 201.14it/s]\n"
     ]
    },
    {
     "name": "stdout",
     "output_type": "stream",
     "text": [
      "Epoch: 3, Batch: 199, Loss: 0.004901255946606398\n"
     ]
    },
    {
     "name": "stderr",
     "output_type": "stream",
     "text": [
      "100%|██████████| 200/200 [00:00<00:00, 203.07it/s]\n"
     ]
    },
    {
     "name": "stdout",
     "output_type": "stream",
     "text": [
      "Epoch: 3, Batch: 199, Loss: 0.005061945412307978\n"
     ]
    },
    {
     "name": "stderr",
     "output_type": "stream",
     "text": [
      "100%|██████████| 43/43 [00:00<00:00, 186.16it/s]\n"
     ]
    },
    {
     "name": "stdout",
     "output_type": "stream",
     "text": [
      "Epoch: 3, Batch: 42, Loss: 0.005587710067629814\n",
      "Valid loss: 0.4270715136431425\n",
      "参数已更新\n"
     ]
    },
    {
     "name": "stderr",
     "output_type": "stream",
     "text": [
      "100%|██████████| 200/200 [00:00<00:00, 200.85it/s]\n"
     ]
    },
    {
     "name": "stdout",
     "output_type": "stream",
     "text": [
      "Epoch: 4, Batch: 199, Loss: 0.005048566963523626\n"
     ]
    },
    {
     "name": "stderr",
     "output_type": "stream",
     "text": [
      "100%|██████████| 200/200 [00:00<00:00, 203.14it/s]\n"
     ]
    },
    {
     "name": "stdout",
     "output_type": "stream",
     "text": [
      "Epoch: 4, Batch: 199, Loss: 0.0054165939800441265\n"
     ]
    },
    {
     "name": "stderr",
     "output_type": "stream",
     "text": [
      "100%|██████████| 200/200 [00:00<00:00, 210.69it/s]\n"
     ]
    },
    {
     "name": "stdout",
     "output_type": "stream",
     "text": [
      "Epoch: 4, Batch: 199, Loss: 0.005001935642212629\n"
     ]
    },
    {
     "name": "stderr",
     "output_type": "stream",
     "text": [
      "100%|██████████| 200/200 [00:00<00:00, 206.52it/s]\n"
     ]
    },
    {
     "name": "stdout",
     "output_type": "stream",
     "text": [
      "Epoch: 4, Batch: 199, Loss: 0.005048829596489668\n"
     ]
    },
    {
     "name": "stderr",
     "output_type": "stream",
     "text": [
      "100%|██████████| 200/200 [00:01<00:00, 198.65it/s]\n"
     ]
    },
    {
     "name": "stdout",
     "output_type": "stream",
     "text": [
      "Epoch: 4, Batch: 199, Loss: 0.0051002888940274715\n"
     ]
    },
    {
     "name": "stderr",
     "output_type": "stream",
     "text": [
      "100%|██████████| 200/200 [00:01<00:00, 194.17it/s]\n"
     ]
    },
    {
     "name": "stdout",
     "output_type": "stream",
     "text": [
      "Epoch: 4, Batch: 199, Loss: 0.004790633451193571\n"
     ]
    },
    {
     "name": "stderr",
     "output_type": "stream",
     "text": [
      "100%|██████████| 200/200 [00:01<00:00, 195.82it/s]\n"
     ]
    },
    {
     "name": "stdout",
     "output_type": "stream",
     "text": [
      "Epoch: 4, Batch: 199, Loss: 0.004778464790433645\n"
     ]
    },
    {
     "name": "stderr",
     "output_type": "stream",
     "text": [
      "100%|██████████| 200/200 [00:01<00:00, 192.67it/s]\n"
     ]
    },
    {
     "name": "stdout",
     "output_type": "stream",
     "text": [
      "Epoch: 4, Batch: 199, Loss: 0.004758964758366346\n"
     ]
    },
    {
     "name": "stderr",
     "output_type": "stream",
     "text": [
      "100%|██████████| 200/200 [00:00<00:00, 200.86it/s]\n"
     ]
    },
    {
     "name": "stdout",
     "output_type": "stream",
     "text": [
      "Epoch: 4, Batch: 199, Loss: 0.004788212012499571\n"
     ]
    },
    {
     "name": "stderr",
     "output_type": "stream",
     "text": [
      "100%|██████████| 43/43 [00:00<00:00, 193.67it/s]\n"
     ]
    },
    {
     "name": "stdout",
     "output_type": "stream",
     "text": [
      "Epoch: 4, Batch: 42, Loss: 0.005661500617861748\n",
      "Valid loss: 0.4375079472753906\n"
     ]
    },
    {
     "name": "stderr",
     "output_type": "stream",
     "text": [
      "100%|██████████| 200/200 [00:00<00:00, 201.13it/s]\n"
     ]
    },
    {
     "name": "stdout",
     "output_type": "stream",
     "text": [
      "Epoch: 5, Batch: 199, Loss: 0.004477154463529587\n"
     ]
    },
    {
     "name": "stderr",
     "output_type": "stream",
     "text": [
      "100%|██████████| 200/200 [00:01<00:00, 195.50it/s]\n"
     ]
    },
    {
     "name": "stdout",
     "output_type": "stream",
     "text": [
      "Epoch: 5, Batch: 199, Loss: 0.004732909612357616\n"
     ]
    },
    {
     "name": "stderr",
     "output_type": "stream",
     "text": [
      "100%|██████████| 200/200 [00:01<00:00, 194.44it/s]\n"
     ]
    },
    {
     "name": "stdout",
     "output_type": "stream",
     "text": [
      "Epoch: 5, Batch: 199, Loss: 0.0045856935903429985\n"
     ]
    },
    {
     "name": "stderr",
     "output_type": "stream",
     "text": [
      "100%|██████████| 200/200 [00:00<00:00, 201.95it/s]\n"
     ]
    },
    {
     "name": "stdout",
     "output_type": "stream",
     "text": [
      "Epoch: 5, Batch: 199, Loss: 0.004979118704795837\n"
     ]
    },
    {
     "name": "stderr",
     "output_type": "stream",
     "text": [
      "100%|██████████| 200/200 [00:01<00:00, 191.56it/s]\n"
     ]
    },
    {
     "name": "stdout",
     "output_type": "stream",
     "text": [
      "Epoch: 5, Batch: 199, Loss: 0.004447133745998144\n"
     ]
    },
    {
     "name": "stderr",
     "output_type": "stream",
     "text": [
      "100%|██████████| 200/200 [00:01<00:00, 192.62it/s]\n"
     ]
    },
    {
     "name": "stdout",
     "output_type": "stream",
     "text": [
      "Epoch: 5, Batch: 199, Loss: 0.004732709843665361\n"
     ]
    },
    {
     "name": "stderr",
     "output_type": "stream",
     "text": [
      "100%|██████████| 200/200 [00:00<00:00, 207.32it/s]\n"
     ]
    },
    {
     "name": "stdout",
     "output_type": "stream",
     "text": [
      "Epoch: 5, Batch: 199, Loss: 0.004663839470595121\n"
     ]
    },
    {
     "name": "stderr",
     "output_type": "stream",
     "text": [
      "100%|██████████| 200/200 [00:00<00:00, 209.79it/s]\n"
     ]
    },
    {
     "name": "stdout",
     "output_type": "stream",
     "text": [
      "Epoch: 5, Batch: 199, Loss: 0.004398093558847904\n"
     ]
    },
    {
     "name": "stderr",
     "output_type": "stream",
     "text": [
      "100%|██████████| 200/200 [00:01<00:00, 199.07it/s]\n"
     ]
    },
    {
     "name": "stdout",
     "output_type": "stream",
     "text": [
      "Epoch: 5, Batch: 199, Loss: 0.004558450076729059\n"
     ]
    },
    {
     "name": "stderr",
     "output_type": "stream",
     "text": [
      "100%|██████████| 43/43 [00:00<00:00, 193.89it/s]\n"
     ]
    },
    {
     "name": "stdout",
     "output_type": "stream",
     "text": [
      "Epoch: 5, Batch: 42, Loss: 0.005144538823515177\n",
      "Valid loss: 0.438696294620284\n"
     ]
    }
   ],
   "source": [
    "\n",
    "batch_size = 200\n",
    "best_loss = float('inf')\n",
    "no_improvement_count = 0\n",
    "for epoch in range(100):\n",
    "    running_loss = 0.0\n",
    "    data_pos_loader = data_pos.iterate_batch(200)\n",
    "    data_neg_loader = data_neg.iterate_batch(200)\n",
    "    \n",
    "    while True:\n",
    "        try:\n",
    "            data_batch_pos, ids_pos = next(data_pos_loader)\n",
    "            data_batch_neg, ids_neg = next(data_neg_loader)\n",
    "        except StopIteration:\n",
    "            break\n",
    "        \n",
    "        if len(ids_neg) < len(ids_pos):\n",
    "            break\n",
    "\n",
    "        running_loss = 0.0\n",
    "        loss = 0.0\n",
    "\n",
    "        for i in tqdm(range(len(data_batch_pos))):\n",
    "            X_dym_pos, X_stc_pos, mask_fea_pos, time_pos, y_pos, mask_pos = data_batch_pos[i]\n",
    "            X_dym_neg, X_stc_neg, mask_fea_neg, time_neg, y_neg, mask_neg = data_batch_neg[i]\n",
    "            \n",
    "            X_pos = torch.cat([X_dym_pos, X_stc_pos], dim=1)\n",
    "            X_neg = torch.cat([X_dym_neg, X_stc_neg], dim=1)\n",
    "\n",
    "            # 如果X_pos或X_neg的行大于12,则取前12行,否则取所有行\n",
    "            # 这里的12表示前48小时\n",
    "            if X_pos.shape[0] > 12:\n",
    "                X_pos = X_pos[:12,:]\n",
    "            if X_neg.shape[0] > 12:\n",
    "                X_neg = X_neg[:12,:]\n",
    "\n",
    "            # X_pos 现在的维度是 time*d , time是行数， d是变量数，我想把它变成 1*time*d，然后输入到model里面\n",
    "            X_pos = X_pos.view(1, -1, X_pos.shape[-1]).to(device)\n",
    "            out_pos = model(X_pos)\n",
    "            \n",
    "            X_neg = X_neg.view(1, -1, X_neg.shape[-1]).to(device)\n",
    "            out_neg = model(X_neg)\n",
    "\n",
    "            # y_pos 和 y_neg 的 shape 都是 time*1\n",
    "            loss += F.binary_cross_entropy(out_pos, y_pos[-1].view(-1,1).to(device)) + F.binary_cross_entropy(out_neg, y_neg[-1].view(-1,1).to(device))\n",
    "        \n",
    "        loss /= (len(data_batch_pos) * batch_size)\n",
    "        running_loss += loss.item()\n",
    "        \n",
    "        optimizer.zero_grad()\n",
    "        loss.backward()\n",
    "        optimizer.step()\n",
    "        \n",
    "        if i == len(data_batch_pos)-1:\n",
    "            print(\"Epoch: {}, Batch: {}, Loss: {}\".format(epoch, i, running_loss))\n",
    "\n",
    "    # 每轮 epoch 完了以后评估测试集表现，若 valid_loss 有改善，则保存模型参数\n",
    "    # 若连续两轮 valid_loss 都没有改善，则终止训练\n",
    "    # 在每轮 epoch 完成后，计算测试集上的 loss\n",
    "    with torch.no_grad():\n",
    "        valid_loss = 0.0\n",
    "        data_valid_loader = data_valid.iterate_batch(200)\n",
    "        while True:\n",
    "            try:\n",
    "                data_batch_valid, ids_valid = next(data_valid_loader)\n",
    "            except StopIteration:\n",
    "                break\n",
    "\n",
    "            for i in range(len(data_batch_valid)):\n",
    "                X_dym_valid, X_stc_valid, mask_fea_valid, time_valid, y_valid, mask_valid = data_batch_valid[i]\n",
    "                X_valid = torch.cat([X_dym_valid, X_stc_valid], dim=1)\n",
    "                if X_valid.shape[0] > 12:\n",
    "                    X_valid = X_valid[:12,:]\n",
    "                X_valid = X_valid.view(1, -1, X_valid.shape[-1]).to(device)\n",
    "                out_valid = model(X_valid)\n",
    "                valid_loss += F.binary_cross_entropy(out_valid, y_valid[-1].view(-1,1).to(device)).item()\n",
    "\n",
    "        valid_loss /= data_valid.len()\n",
    "        # print valid_loss\n",
    "        print(\"Valid loss: {}\".format(valid_loss))\n",
    "        # 如果 valid_loss 有改善，则保存模型参数\n",
    "        if valid_loss < best_loss:\n",
    "            best_loss = valid_loss\n",
    "            torch.save(model.state_dict(), \"/home/luojiawei/mimic3_Miss_project/pred_model_params-1.pth\")\n",
    "            no_improvement_count = 0\n",
    "            print(\"参数已更新\")\n",
    "        else:\n",
    "            no_improvement_count += 1\n",
    "        \n",
    "        # 若连续两轮 valid_loss 都没有改善，则终止训练\n",
    "        if no_improvement_count == 2:\n",
    "            break\n"
   ]
  },
  {
   "cell_type": "code",
   "execution_count": 278,
   "metadata": {},
   "outputs": [],
   "source": [
    "model = PredModel(input_size=21, hidden_size=200, num_layers=2, output_size=1)\n",
    "model.load_state_dict(torch.load(\"/home/luojiawei/mimic3_Miss_project/pred_model_params-1-b.pth\"))\n",
    "model = model.to(device)\n",
    "model = model.eval()"
   ]
  },
  {
   "cell_type": "code",
   "execution_count": 279,
   "metadata": {},
   "outputs": [
    {
     "name": "stdout",
     "output_type": "stream",
     "text": [
      "all_pid 的数量: 16894\n"
     ]
    }
   ],
   "source": [
    "data = CustomData(\"/home/luojiawei/mimic3_Miss_project/all_admissions/\",\n",
    "                      \"/home/luojiawei/mimic3_Miss_project/train.csv\")"
   ]
  },
  {
   "cell_type": "code",
   "execution_count": 280,
   "metadata": {},
   "outputs": [],
   "source": [
    "from sklearn.metrics import roc_auc_score\n",
    "from tqdm import tqdm\n",
    "from sklearn.utils import resample\n",
    "from sklearn.metrics import roc_curve"
   ]
  },
  {
   "cell_type": "code",
   "execution_count": 281,
   "metadata": {},
   "outputs": [
    {
     "name": "stderr",
     "output_type": "stream",
     "text": [
      "  0%|          | 0/16894 [00:00<?, ?it/s]/home/luojiawei/anaconda3/envs/py37/lib/python3.7/site-packages/torch/nn/functional.py:1709: UserWarning: nn.functional.sigmoid is deprecated. Use torch.sigmoid instead.\n",
      "  warnings.warn(\"nn.functional.sigmoid is deprecated. Use torch.sigmoid instead.\")\n",
      "100%|██████████| 16894/16894 [06:03<00:00, 46.47it/s]\n"
     ]
    }
   ],
   "source": [
    "# 初始化两个空列表，用于保存每个样本的真实标签和预测标签\n",
    "y_true_total = []\n",
    "y_pred_total = []\n",
    "\n",
    "# 初始化一个空列表，用于保存 每个样本的 hadm_id\n",
    "hadm_id_list = []\n",
    "\n",
    "#加一个进度条，让我能看见进\n",
    "for i in tqdm(range(data.len())):    \n",
    "    \n",
    "    # 取出 样本i 的数据，用get_item1方法     \n",
    "    X_dym, X_stc, mask_fea, time, y, mask = data.get_item1(i)\n",
    "    hadm_id_list.append(data.all_pid[i])\n",
    "    X = torch.cat([X_dym, X_stc], dim=1)\n",
    "    # 如果X_pos或X_neg的行大于12,则取前12行,否则取所有行\n",
    "    # 这里的12表示前48小时\n",
    "    if X.shape[0] > 12:\n",
    "        X = X[:12,:]\n",
    "    \n",
    "    X = X.view(1, -1, X.shape[-1]).to(device)\n",
    "    out = model(X)\n",
    "\n",
    "    y_true_total.append(y[-1].item())\n",
    "    y_pred_total.append(out.item())\n"
   ]
  },
  {
   "cell_type": "code",
   "execution_count": 282,
   "metadata": {},
   "outputs": [],
   "source": [
    "import pandas as pd"
   ]
  },
  {
   "cell_type": "code",
   "execution_count": 283,
   "metadata": {},
   "outputs": [],
   "source": [
    "base_info_test = pd.read_csv(\"/home/luojiawei/mimic3_Miss_project/train.csv\", header=0)"
   ]
  },
  {
   "cell_type": "code",
   "execution_count": 284,
   "metadata": {
    "scrolled": true
   },
   "outputs": [
    {
     "ename": "KeyError",
     "evalue": "'cluster'",
     "output_type": "error",
     "traceback": [
      "\u001b[0;31m---------------------------------------------------------------------------\u001b[0m",
      "\u001b[0;31mKeyError\u001b[0m                                  Traceback (most recent call last)",
      "\u001b[0;32m~/anaconda3/envs/py37/lib/python3.7/site-packages/pandas/core/indexes/base.py\u001b[0m in \u001b[0;36mget_loc\u001b[0;34m(self, key, method, tolerance)\u001b[0m\n\u001b[1;32m   3079\u001b[0m             \u001b[0;32mtry\u001b[0m\u001b[0;34m:\u001b[0m\u001b[0;34m\u001b[0m\u001b[0;34m\u001b[0m\u001b[0m\n\u001b[0;32m-> 3080\u001b[0;31m                 \u001b[0;32mreturn\u001b[0m \u001b[0mself\u001b[0m\u001b[0;34m.\u001b[0m\u001b[0m_engine\u001b[0m\u001b[0;34m.\u001b[0m\u001b[0mget_loc\u001b[0m\u001b[0;34m(\u001b[0m\u001b[0mcasted_key\u001b[0m\u001b[0;34m)\u001b[0m\u001b[0;34m\u001b[0m\u001b[0;34m\u001b[0m\u001b[0m\n\u001b[0m\u001b[1;32m   3081\u001b[0m             \u001b[0;32mexcept\u001b[0m \u001b[0mKeyError\u001b[0m \u001b[0;32mas\u001b[0m \u001b[0merr\u001b[0m\u001b[0;34m:\u001b[0m\u001b[0;34m\u001b[0m\u001b[0;34m\u001b[0m\u001b[0m\n",
      "\u001b[0;32mpandas/_libs/index.pyx\u001b[0m in \u001b[0;36mpandas._libs.index.IndexEngine.get_loc\u001b[0;34m()\u001b[0m\n",
      "\u001b[0;32mpandas/_libs/index.pyx\u001b[0m in \u001b[0;36mpandas._libs.index.IndexEngine.get_loc\u001b[0;34m()\u001b[0m\n",
      "\u001b[0;32mpandas/_libs/hashtable_class_helper.pxi\u001b[0m in \u001b[0;36mpandas._libs.hashtable.PyObjectHashTable.get_item\u001b[0;34m()\u001b[0m\n",
      "\u001b[0;32mpandas/_libs/hashtable_class_helper.pxi\u001b[0m in \u001b[0;36mpandas._libs.hashtable.PyObjectHashTable.get_item\u001b[0;34m()\u001b[0m\n",
      "\u001b[0;31mKeyError\u001b[0m: 'cluster'",
      "\nThe above exception was the direct cause of the following exception:\n",
      "\u001b[0;31mKeyError\u001b[0m                                  Traceback (most recent call last)",
      "\u001b[0;32m/tmp/ipykernel_2839355/4186814829.py\u001b[0m in \u001b[0;36m<module>\u001b[0;34m\u001b[0m\n\u001b[0;32m----> 1\u001b[0;31m \u001b[0mprint\u001b[0m\u001b[0;34m(\u001b[0m\u001b[0;34m\"类别数量:\"\u001b[0m\u001b[0;34m,\u001b[0m \u001b[0mlen\u001b[0m\u001b[0;34m(\u001b[0m\u001b[0mset\u001b[0m\u001b[0;34m(\u001b[0m\u001b[0mbase_info_test\u001b[0m\u001b[0;34m[\u001b[0m\u001b[0;34m'cluster'\u001b[0m\u001b[0;34m]\u001b[0m\u001b[0;34m)\u001b[0m\u001b[0;34m)\u001b[0m\u001b[0;34m)\u001b[0m\u001b[0;34m\u001b[0m\u001b[0;34m\u001b[0m\u001b[0m\n\u001b[0m",
      "\u001b[0;32m~/anaconda3/envs/py37/lib/python3.7/site-packages/pandas/core/frame.py\u001b[0m in \u001b[0;36m__getitem__\u001b[0;34m(self, key)\u001b[0m\n\u001b[1;32m   3022\u001b[0m             \u001b[0;32mif\u001b[0m \u001b[0mself\u001b[0m\u001b[0;34m.\u001b[0m\u001b[0mcolumns\u001b[0m\u001b[0;34m.\u001b[0m\u001b[0mnlevels\u001b[0m \u001b[0;34m>\u001b[0m \u001b[0;36m1\u001b[0m\u001b[0;34m:\u001b[0m\u001b[0;34m\u001b[0m\u001b[0;34m\u001b[0m\u001b[0m\n\u001b[1;32m   3023\u001b[0m                 \u001b[0;32mreturn\u001b[0m \u001b[0mself\u001b[0m\u001b[0;34m.\u001b[0m\u001b[0m_getitem_multilevel\u001b[0m\u001b[0;34m(\u001b[0m\u001b[0mkey\u001b[0m\u001b[0;34m)\u001b[0m\u001b[0;34m\u001b[0m\u001b[0;34m\u001b[0m\u001b[0m\n\u001b[0;32m-> 3024\u001b[0;31m             \u001b[0mindexer\u001b[0m \u001b[0;34m=\u001b[0m \u001b[0mself\u001b[0m\u001b[0;34m.\u001b[0m\u001b[0mcolumns\u001b[0m\u001b[0;34m.\u001b[0m\u001b[0mget_loc\u001b[0m\u001b[0;34m(\u001b[0m\u001b[0mkey\u001b[0m\u001b[0;34m)\u001b[0m\u001b[0;34m\u001b[0m\u001b[0;34m\u001b[0m\u001b[0m\n\u001b[0m\u001b[1;32m   3025\u001b[0m             \u001b[0;32mif\u001b[0m \u001b[0mis_integer\u001b[0m\u001b[0;34m(\u001b[0m\u001b[0mindexer\u001b[0m\u001b[0;34m)\u001b[0m\u001b[0;34m:\u001b[0m\u001b[0;34m\u001b[0m\u001b[0;34m\u001b[0m\u001b[0m\n\u001b[1;32m   3026\u001b[0m                 \u001b[0mindexer\u001b[0m \u001b[0;34m=\u001b[0m \u001b[0;34m[\u001b[0m\u001b[0mindexer\u001b[0m\u001b[0;34m]\u001b[0m\u001b[0;34m\u001b[0m\u001b[0;34m\u001b[0m\u001b[0m\n",
      "\u001b[0;32m~/anaconda3/envs/py37/lib/python3.7/site-packages/pandas/core/indexes/base.py\u001b[0m in \u001b[0;36mget_loc\u001b[0;34m(self, key, method, tolerance)\u001b[0m\n\u001b[1;32m   3080\u001b[0m                 \u001b[0;32mreturn\u001b[0m \u001b[0mself\u001b[0m\u001b[0;34m.\u001b[0m\u001b[0m_engine\u001b[0m\u001b[0;34m.\u001b[0m\u001b[0mget_loc\u001b[0m\u001b[0;34m(\u001b[0m\u001b[0mcasted_key\u001b[0m\u001b[0;34m)\u001b[0m\u001b[0;34m\u001b[0m\u001b[0;34m\u001b[0m\u001b[0m\n\u001b[1;32m   3081\u001b[0m             \u001b[0;32mexcept\u001b[0m \u001b[0mKeyError\u001b[0m \u001b[0;32mas\u001b[0m \u001b[0merr\u001b[0m\u001b[0;34m:\u001b[0m\u001b[0;34m\u001b[0m\u001b[0;34m\u001b[0m\u001b[0m\n\u001b[0;32m-> 3082\u001b[0;31m                 \u001b[0;32mraise\u001b[0m \u001b[0mKeyError\u001b[0m\u001b[0;34m(\u001b[0m\u001b[0mkey\u001b[0m\u001b[0;34m)\u001b[0m \u001b[0;32mfrom\u001b[0m \u001b[0merr\u001b[0m\u001b[0;34m\u001b[0m\u001b[0;34m\u001b[0m\u001b[0m\n\u001b[0m\u001b[1;32m   3083\u001b[0m \u001b[0;34m\u001b[0m\u001b[0m\n\u001b[1;32m   3084\u001b[0m         \u001b[0;32mif\u001b[0m \u001b[0mtolerance\u001b[0m \u001b[0;32mis\u001b[0m \u001b[0;32mnot\u001b[0m \u001b[0;32mNone\u001b[0m\u001b[0;34m:\u001b[0m\u001b[0;34m\u001b[0m\u001b[0;34m\u001b[0m\u001b[0m\n",
      "\u001b[0;31mKeyError\u001b[0m: 'cluster'"
     ]
    }
   ],
   "source": [
    "print(\"类别数量:\", len(set(base_info_test['cluster'])))"
   ]
  },
  {
   "cell_type": "code",
   "execution_count": 285,
   "metadata": {},
   "outputs": [
    {
     "data": {
      "text/html": [
       "<div>\n",
       "<style scoped>\n",
       "    .dataframe tbody tr th:only-of-type {\n",
       "        vertical-align: middle;\n",
       "    }\n",
       "\n",
       "    .dataframe tbody tr th {\n",
       "        vertical-align: top;\n",
       "    }\n",
       "\n",
       "    .dataframe thead th {\n",
       "        text-align: right;\n",
       "    }\n",
       "</style>\n",
       "<table border=\"1\" class=\"dataframe\">\n",
       "  <thead>\n",
       "    <tr style=\"text-align: right;\">\n",
       "      <th></th>\n",
       "      <th>HADM_ID</th>\n",
       "      <th>HOSPITAL_EXPIRE_FLAG</th>\n",
       "      <th>death_within_28d</th>\n",
       "      <th>death_within_90d</th>\n",
       "    </tr>\n",
       "  </thead>\n",
       "  <tbody>\n",
       "    <tr>\n",
       "      <th>0</th>\n",
       "      <td>142735</td>\n",
       "      <td>1</td>\n",
       "      <td>1</td>\n",
       "      <td>1</td>\n",
       "    </tr>\n",
       "    <tr>\n",
       "      <th>1</th>\n",
       "      <td>145545</td>\n",
       "      <td>0</td>\n",
       "      <td>0</td>\n",
       "      <td>1</td>\n",
       "    </tr>\n",
       "    <tr>\n",
       "      <th>2</th>\n",
       "      <td>122311</td>\n",
       "      <td>0</td>\n",
       "      <td>0</td>\n",
       "      <td>0</td>\n",
       "    </tr>\n",
       "    <tr>\n",
       "      <th>3</th>\n",
       "      <td>132895</td>\n",
       "      <td>0</td>\n",
       "      <td>0</td>\n",
       "      <td>1</td>\n",
       "    </tr>\n",
       "    <tr>\n",
       "      <th>4</th>\n",
       "      <td>120073</td>\n",
       "      <td>1</td>\n",
       "      <td>1</td>\n",
       "      <td>1</td>\n",
       "    </tr>\n",
       "  </tbody>\n",
       "</table>\n",
       "</div>"
      ],
      "text/plain": [
       "   HADM_ID  HOSPITAL_EXPIRE_FLAG  death_within_28d  death_within_90d\n",
       "0   142735                     1                 1                 1\n",
       "1   145545                     0                 0                 1\n",
       "2   122311                     0                 0                 0\n",
       "3   132895                     0                 0                 1\n",
       "4   120073                     1                 1                 1"
      ]
     },
     "execution_count": 285,
     "metadata": {},
     "output_type": "execute_result"
    }
   ],
   "source": [
    "base_info_test.head()"
   ]
  },
  {
   "cell_type": "code",
   "execution_count": 293,
   "metadata": {},
   "outputs": [],
   "source": [
    "# base_info_test 有三列，第一列是 HADM_ID,第二列是 HOSPITAL_EXPIRE_FLAG, 第三列是cluster，\n",
    "# 我想将 y_ture和y_pred 与 base_info_test merge成一个 dataframe\n",
    "result = pd.DataFrame({'HADM_ID': hadm_id_list, 'death_within_90d': y_true_total, 'PREDICTION': y_pred_total})"
   ]
  },
  {
   "cell_type": "code",
   "execution_count": 294,
   "metadata": {},
   "outputs": [],
   "source": [
    "result = pd.merge(result, base_info_test, on='HADM_ID')"
   ]
  },
  {
   "cell_type": "code",
   "execution_count": 295,
   "metadata": {},
   "outputs": [
    {
     "data": {
      "text/html": [
       "<div>\n",
       "<style scoped>\n",
       "    .dataframe tbody tr th:only-of-type {\n",
       "        vertical-align: middle;\n",
       "    }\n",
       "\n",
       "    .dataframe tbody tr th {\n",
       "        vertical-align: top;\n",
       "    }\n",
       "\n",
       "    .dataframe thead th {\n",
       "        text-align: right;\n",
       "    }\n",
       "</style>\n",
       "<table border=\"1\" class=\"dataframe\">\n",
       "  <thead>\n",
       "    <tr style=\"text-align: right;\">\n",
       "      <th></th>\n",
       "      <th>HADM_ID</th>\n",
       "      <th>death_within_90d_x</th>\n",
       "      <th>PREDICTION</th>\n",
       "      <th>HOSPITAL_EXPIRE_FLAG</th>\n",
       "      <th>death_within_28d</th>\n",
       "      <th>death_within_90d_y</th>\n",
       "    </tr>\n",
       "  </thead>\n",
       "  <tbody>\n",
       "    <tr>\n",
       "      <th>0</th>\n",
       "      <td>142735</td>\n",
       "      <td>1.0</td>\n",
       "      <td>0.515595</td>\n",
       "      <td>1</td>\n",
       "      <td>1</td>\n",
       "      <td>1</td>\n",
       "    </tr>\n",
       "    <tr>\n",
       "      <th>1</th>\n",
       "      <td>145545</td>\n",
       "      <td>0.0</td>\n",
       "      <td>0.346989</td>\n",
       "      <td>0</td>\n",
       "      <td>0</td>\n",
       "      <td>1</td>\n",
       "    </tr>\n",
       "    <tr>\n",
       "      <th>2</th>\n",
       "      <td>122311</td>\n",
       "      <td>0.0</td>\n",
       "      <td>0.037119</td>\n",
       "      <td>0</td>\n",
       "      <td>0</td>\n",
       "      <td>0</td>\n",
       "    </tr>\n",
       "    <tr>\n",
       "      <th>3</th>\n",
       "      <td>132895</td>\n",
       "      <td>0.0</td>\n",
       "      <td>0.357587</td>\n",
       "      <td>0</td>\n",
       "      <td>0</td>\n",
       "      <td>1</td>\n",
       "    </tr>\n",
       "    <tr>\n",
       "      <th>4</th>\n",
       "      <td>120073</td>\n",
       "      <td>1.0</td>\n",
       "      <td>0.120299</td>\n",
       "      <td>1</td>\n",
       "      <td>1</td>\n",
       "      <td>1</td>\n",
       "    </tr>\n",
       "  </tbody>\n",
       "</table>\n",
       "</div>"
      ],
      "text/plain": [
       "   HADM_ID  death_within_90d_x  PREDICTION  HOSPITAL_EXPIRE_FLAG  \\\n",
       "0   142735                 1.0    0.515595                     1   \n",
       "1   145545                 0.0    0.346989                     0   \n",
       "2   122311                 0.0    0.037119                     0   \n",
       "3   132895                 0.0    0.357587                     0   \n",
       "4   120073                 1.0    0.120299                     1   \n",
       "\n",
       "   death_within_28d  death_within_90d_y  \n",
       "0                 1                   1  \n",
       "1                 0                   1  \n",
       "2                 0                   0  \n",
       "3                 0                   1  \n",
       "4                 1                   1  "
      ]
     },
     "execution_count": 295,
     "metadata": {},
     "output_type": "execute_result"
    }
   ],
   "source": [
    "result.head()"
   ]
  },
  {
   "cell_type": "code",
   "execution_count": 296,
   "metadata": {},
   "outputs": [],
   "source": [
    "# 把result 输出到csv文件\n",
    "result.to_csv(\"/home/luojiawei/mimic3_Miss_project/result_train-1-b.csv\", index=False)"
   ]
  },
  {
   "cell_type": "code",
   "execution_count": 157,
   "metadata": {},
   "outputs": [
    {
     "name": "stdout",
     "output_type": "stream",
     "text": [
      "类别数量: 5\n"
     ]
    }
   ],
   "source": [
    "# 先查看一共有多少类别\n",
    "print(\"类别数量:\", len(set(result['cluster'])))"
   ]
  },
  {
   "cell_type": "code",
   "execution_count": 242,
   "metadata": {},
   "outputs": [
    {
     "name": "stdout",
     "output_type": "stream",
     "text": [
      "AUROC 95% CI: [0.05730227 0.92495937]\n",
      "AUROC: 0.8180581624141282\n",
      "AUROC std: 0.004743974341256629\n"
     ]
    }
   ],
   "source": [
    "# 对result中的所有样本计算 auroc,利用bootstrap发计算标准差和置信区间\n",
    "auroc_total = roc_auc_score(result['HOSPITAL_EXPIRE_FLAG_y'], result['PREDICTION'])\n",
    "auroc_list = []\n",
    "for i in range(200):\n",
    "    resampled = result.sample(frac=1, replace=True)\n",
    "    auroc_resampled = roc_auc_score(resampled['HOSPITAL_EXPIRE_FLAG_y'], resampled['PREDICTION'])\n",
    "    auroc_list.append(auroc_resampled)\n",
    "auroc_std_total = np.std(auroc_list)\n",
    "auroc_ci_total = np.percentile(y_pred_total, [2.5, 97.5])\n",
    "print(\"AUROC 95% CI:\", auroc_ci_total)\n",
    "print(\"AUROC:\", auroc_total)\n",
    "print(\"AUROC std:\", auroc_std_total)"
   ]
  },
  {
   "cell_type": "code",
   "execution_count": 159,
   "metadata": {},
   "outputs": [
    {
     "name": "stdout",
     "output_type": "stream",
     "text": [
      "Class 1, AUROC 95% CI: [0.821 0.879]\n",
      "Class 1, AUROC: 0.852\n",
      "Class 1, AUROC std: 0.015\n",
      "Class 2, AUROC 95% CI: [0.834 0.889]\n",
      "Class 2, AUROC: 0.864\n",
      "Class 2, AUROC std: 0.014\n",
      "Class 3, AUROC 95% CI: [0.851 0.938]\n",
      "Class 3, AUROC: 0.896\n",
      "Class 3, AUROC std: 0.022\n",
      "Class 4, AUROC 95% CI: [0.837 0.871]\n",
      "Class 4, AUROC: 0.854\n",
      "Class 4, AUROC std: 0.009\n",
      "Class 5, AUROC 95% CI: [0.841 0.913]\n",
      "Class 5, AUROC: 0.878\n",
      "Class 5, AUROC std: 0.019\n"
     ]
    }
   ],
   "source": [
    "# 对每个类别计算 结果的 auroc ，利用bootstrap法计算标准差和置信区间\n",
    "# 将每个类的结果保存起来，方便后面绘制ROC图，和置信区间的森林图\n",
    "auroc_dict = {}\n",
    "for cls in set(result['cluster']):\n",
    "    y_true_cls = result.loc[result['cluster']==cls, 'HOSPITAL_EXPIRE_FLAG_y']\n",
    "    y_pred_cls = result.loc[result['cluster']==cls, 'PREDICTION']\n",
    "    auroc_cls = roc_auc_score(y_true_cls, y_pred_cls)\n",
    "    auroc_list = []\n",
    "    for i in range(1000):\n",
    "        resampled = result.loc[result['cluster']==cls].sample(frac=1, replace=True)\n",
    "        auroc_resampled = roc_auc_score(resampled['HOSPITAL_EXPIRE_FLAG_y'], resampled['PREDICTION'])\n",
    "        auroc_list.append(auroc_resampled)\n",
    "    auroc_std_cls = np.std(auroc_list)\n",
    "#     auroc_ci_cls = np.array([np.mean(auroc_list) - 1.96 * np.std(auroc_list), np.mean(auroc_list) + 1.96 * np.std(auroc_list)])\n",
    "    auroc_ci_cls = np.percentile(auroc_list, [2.5, 97.5])\n",
    "    print(\"Class {}, AUROC 95% CI: {}\".format(cls, np.around(auroc_ci_cls, 3)))\n",
    "    print(\"Class {}, AUROC: {}\".format(cls, np.around(auroc_cls, 3)))\n",
    "    print(\"Class {}, AUROC std: {}\".format(cls, np.around(auroc_std_cls, 3)))\n",
    "    auroc_dict[cls] = [np.around(auroc_cls, 3), np.around(auroc_std_cls, 3), np.around(auroc_ci_cls, 3)]"
   ]
  },
  {
   "cell_type": "code",
   "execution_count": 160,
   "metadata": {},
   "outputs": [
    {
     "name": "stdout",
     "output_type": "stream",
     "text": [
      "          AUROC  AUROC std    AUROC 95% CI\n",
      "Class                                     \n",
      "1      0.852000   0.015000  [0.821, 0.879]\n",
      "2      0.864000   0.014000  [0.834, 0.889]\n",
      "3      0.896000   0.022000  [0.851, 0.938]\n",
      "4      0.854000   0.009000  [0.837, 0.871]\n",
      "5      0.878000   0.019000  [0.841, 0.913]\n",
      "Total  0.874456   0.005528  (0.001, 0.890)\n"
     ]
    }
   ],
   "source": [
    "# 把auroc_dict里面的信息转换成 dataframe，第一列是类别，第二列和第四列分别是auroc,标准差和置信区间，注意，类别要包括total\n",
    "auroc_df = pd.DataFrame.from_dict(auroc_dict, orient='index', columns=['AUROC', 'AUROC std', 'AUROC 95% CI'])\n",
    "auroc_df.index.name = 'Class'\n",
    "auroc_df.loc['Total'] = [auroc_total, auroc_std_total, '({:.3f}, {:.3f})'.format(*auroc_ci_total)]\n",
    "print(auroc_df)"
   ]
  },
  {
   "cell_type": "code",
   "execution_count": 161,
   "metadata": {},
   "outputs": [
    {
     "data": {
      "image/png": "[encoded data removed]",
      "text/plain": [
       "<Figure size 576x432 with 1 Axes>"
      ]
     },
     "metadata": {
      "needs_background": "light"
     },
     "output_type": "display_data"
    }
   ],
   "source": [
    "# 根据上面的结果，将所有样本和各类别的结果绘制AUROC，放在一张图上，相互重叠\n",
    "# 绘制所有样本的ROC曲线\n",
    "plt.figure(figsize=(8, 6))\n",
    "fpr_total, tpr_total, thresholds_total = roc_curve(y_true_total, y_pred_total)\n",
    "plt.plot(fpr_total, tpr_total, label='Total')\n",
    "\n",
    "# 绘制每个类别的ROC曲线\n",
    "for cls in set(result['cluster']):\n",
    "    y_true_cls = result.loc[result['cluster']==cls, 'HOSPITAL_EXPIRE_FLAG_y']\n",
    "    y_pred_cls = result.loc[result['cluster']==cls, 'PREDICTION']\n",
    "    fpr_cls, tpr_cls, thresholds_cls = roc_curve(y_true_cls, y_pred_cls)\n",
    "    plt.plot(fpr_cls, tpr_cls, label='Class {}'.format(cls))\n",
    "\n",
    "plt.plot([0, 1], [0, 1], 'k--')\n",
    "plt.xlim([0.0, 1.0])\n",
    "plt.ylim([0.0, 1.05])\n",
    "plt.title('Receiver Operating Characteristic (ROC) Curve', fontsize=16)\n",
    "plt.legend(loc=\"lower right\", fontsize=12)\n",
    "plt.show()"
   ]
  },
  {
   "cell_type": "code",
   "execution_count": 135,
   "metadata": {},
   "outputs": [
    {
     "data": {
      "image/png": "[encoded data removed]",
      "text/plain": [
       "<Figure size 576x432 with 1 Axes>"
      ]
     },
     "metadata": {
      "needs_background": "light"
     },
     "output_type": "display_data"
    }
   ],
   "source": [
    "# 不用 errorbar，用其他函数来绘制 我已经计算好的 置信区间\n",
    "plt.figure(figsize=(8, 6))\n",
    "plt.plot(['Class 1', 'Class 2', 'Class 3', 'Class 4','Class 5', 'Total'], \n",
    "             [auroc_dict[1][0], auroc_dict[2][0], auroc_dict[3][0], auroc_dict[4][0], auroc_dict[5][0],auroc_total], \n",
    "             'o', linewidth=2, markersize=8); plt.ylim([0.7, 1.0]); plt.title('AUROC and 95% CI', fontsize=16); plt.ylabel('AUROC', fontsize=12); plt.xticks(fontsize=14); plt.yticks(fontsize=14)\n",
    "# 还差纵向的置信区间没有画\n",
    "plt.errorbar(['Class 1', 'Class 2', 'Class 3', 'Class 4','Class 5', 'Total'], \n",
    "             [auroc_dict[1][0], auroc_dict[2][0], auroc_dict[3][0], auroc_dict[4][0], auroc_dict[5][0],auroc_total], \n",
    "              yerr=np.transpose([(auroc_dict[1][2][1]-auroc_dict[1][0], auroc_dict[1][0]-auroc_dict[1][2][0]), \n",
    "                   (auroc_dict[2][2][1]-auroc_dict[2][0], auroc_dict[2][0]-auroc_dict[2][2][0]), \n",
    "                   (auroc_dict[3][2][1]-auroc_dict[3][0], auroc_dict[3][0]-auroc_dict[3][2][0]), \n",
    "                   (auroc_dict[4][2][1]-auroc_dict[4][0], auroc_dict[4][0]-auroc_dict[4][2][0]), \n",
    "                   (auroc_dict[5][2][1]-auroc_dict[5][0], auroc_dict[5][0]-auroc_dict[5][2][0]), \n",
    "                   (auroc_ci_total[1]-auroc_total, auroc_total-auroc_ci_total[0])]), \n",
    "             fmt='o', capsize=5); plt.ylim([0.7, 1.0]); plt.title('AUROC and 95% CI', fontsize=16); plt.ylabel('AUROC', fontsize=12); plt.xticks(fontsize=14); plt.yticks(fontsize=14); plt.grid(color='gray', linestyle='--', linewidth=0.5); plt.show()"
   ]
  },
  {
   "cell_type": "code",
   "execution_count": null,
   "metadata": {},
   "outputs": [],
   "source": []
  },
  {
   "cell_type": "code",
   "execution_count": 288,
   "metadata": {},
   "outputs": [],
   "source": [
    "# 写一下accuracy_score\n",
    "from sklearn.metrics import accuracy_score"
   ]
  },
  {
   "cell_type": "code",
   "execution_count": 290,
   "metadata": {},
   "outputs": [
    {
     "data": {
      "text/html": [
       "<div>\n",
       "<style scoped>\n",
       "    .dataframe tbody tr th:only-of-type {\n",
       "        vertical-align: middle;\n",
       "    }\n",
       "\n",
       "    .dataframe tbody tr th {\n",
       "        vertical-align: top;\n",
       "    }\n",
       "\n",
       "    .dataframe thead th {\n",
       "        text-align: right;\n",
       "    }\n",
       "</style>\n",
       "<table border=\"1\" class=\"dataframe\">\n",
       "  <thead>\n",
       "    <tr style=\"text-align: right;\">\n",
       "      <th></th>\n",
       "      <th>HADM_ID</th>\n",
       "      <th>HOSPITAL_EXPIRE_FLAG_x</th>\n",
       "      <th>PREDICTION</th>\n",
       "      <th>HOSPITAL_EXPIRE_FLAG_y</th>\n",
       "      <th>cluster</th>\n",
       "    </tr>\n",
       "  </thead>\n",
       "  <tbody>\n",
       "    <tr>\n",
       "      <th>0</th>\n",
       "      <td>107064</td>\n",
       "      <td>0.0</td>\n",
       "      <td>0.005809</td>\n",
       "      <td>0</td>\n",
       "      <td>2</td>\n",
       "    </tr>\n",
       "    <tr>\n",
       "      <th>1</th>\n",
       "      <td>150750</td>\n",
       "      <td>1.0</td>\n",
       "      <td>0.741976</td>\n",
       "      <td>1</td>\n",
       "      <td>2</td>\n",
       "    </tr>\n",
       "    <tr>\n",
       "      <th>2</th>\n",
       "      <td>194540</td>\n",
       "      <td>0.0</td>\n",
       "      <td>0.291820</td>\n",
       "      <td>0</td>\n",
       "      <td>4</td>\n",
       "    </tr>\n",
       "    <tr>\n",
       "      <th>3</th>\n",
       "      <td>112213</td>\n",
       "      <td>1.0</td>\n",
       "      <td>0.420741</td>\n",
       "      <td>1</td>\n",
       "      <td>2</td>\n",
       "    </tr>\n",
       "    <tr>\n",
       "      <th>4</th>\n",
       "      <td>157681</td>\n",
       "      <td>0.0</td>\n",
       "      <td>0.015801</td>\n",
       "      <td>0</td>\n",
       "      <td>2</td>\n",
       "    </tr>\n",
       "  </tbody>\n",
       "</table>\n",
       "</div>"
      ],
      "text/plain": [
       "   HADM_ID  HOSPITAL_EXPIRE_FLAG_x  PREDICTION  HOSPITAL_EXPIRE_FLAG_y  \\\n",
       "0   107064                     0.0    0.005809                       0   \n",
       "1   150750                     1.0    0.741976                       1   \n",
       "2   194540                     0.0    0.291820                       0   \n",
       "3   112213                     1.0    0.420741                       1   \n",
       "4   157681                     0.0    0.015801                       0   \n",
       "\n",
       "   cluster  \n",
       "0        2  \n",
       "1        2  \n",
       "2        4  \n",
       "3        2  \n",
       "4        2  "
      ]
     },
     "execution_count": 290,
     "metadata": {},
     "output_type": "execute_result"
    }
   ],
   "source": [
    "result.head()"
   ]
  },
  {
   "cell_type": "code",
   "execution_count": 302,
   "metadata": {},
   "outputs": [
    {
     "name": "stdout",
     "output_type": "stream",
     "text": [
      "Class 1, Accuracy 95% CI: [0.773 0.814]\n",
      "Class 1, Accuracy: 0.793\n",
      "Class 1, Accuracy std: 0.011\n",
      "Class 2, Accuracy 95% CI: [0.719 0.753]\n",
      "Class 2, Accuracy: 0.736\n",
      "Class 2, Accuracy std: 0.009\n",
      "Class 3, Accuracy 95% CI: [0.918 0.946]\n",
      "Class 3, Accuracy: 0.932\n",
      "Class 3, Accuracy std: 0.007\n",
      "Class 4, Accuracy 95% CI: [0.856 0.884]\n",
      "Class 4, Accuracy: 0.87\n",
      "Class 4, Accuracy std: 0.007\n",
      "Class 5, Accuracy 95% CI: [0.801 0.853]\n",
      "Class 5, Accuracy: 0.828\n",
      "Class 5, Accuracy std: 0.013\n",
      "       Accuracy  Accuracy std Accuracy 95% CI\n",
      "Class                                        \n",
      "1      0.793000      0.011000  [0.773, 0.814]\n",
      "2      0.736000      0.009000  [0.719, 0.753]\n",
      "3      0.932000      0.007000  [0.918, 0.946]\n",
      "4      0.870000      0.007000  [0.856, 0.884]\n",
      "5      0.828000      0.013000  [0.801, 0.853]\n",
      "Total  0.818795      0.013118  (0.801, 0.855)\n"
     ]
    }
   ],
   "source": [
    "# 我想计算每个类的准确率\n",
    "# 初始化一个空字典，用于保存每个类别的真实标签和预测标签\n",
    "acc_dict = {}\n",
    "\n",
    "# 对每个类别计算 准确率 ，利用bootstrap法计算标准差和置信区间\n",
    "# 将每个类的结果保存起来，方便后面绘制准确率的森林图\n",
    "# 包括total类\n",
    "for cls in set(result['cluster']):\n",
    "    y_true_cls = result.loc[result['cluster']==cls, 'HOSPITAL_EXPIRE_FLAG_y']\n",
    "    y_pred_cls = result.loc[result['cluster']==cls, 'PREDICTION']\n",
    "    y_pred_cls = np.where(y_pred_cls > 0.5, 1, 0)\n",
    "    acc_cls = accuracy_score(y_true_cls, y_pred_cls)\n",
    "    acc_list = []\n",
    "    for i in range(200):\n",
    "        resampled = result.loc[result['cluster']==cls].sample(frac=1, replace=True)\n",
    "        y_true_resampled = resampled['HOSPITAL_EXPIRE_FLAG_y']\n",
    "        y_pred_resampled = resampled['PREDICTION']\n",
    "        y_pred_resampled = np.where(y_pred_resampled > 0.5, 1, 0)\n",
    "        acc_resampled = accuracy_score(y_true_resampled, y_pred_resampled)\n",
    "        acc_list.append(acc_resampled)\n",
    "    acc_std_cls = np.std(acc_list)\n",
    "    acc_ci_cls = np.array([np.mean(acc_list) - 1.96*np.std(acc_list), np.mean(acc_list) + 1.96*np.std(acc_list)])\n",
    "    print(\"Class {}, Accuracy 95% CI: {}\".format(cls, np.around(acc_ci_cls, 3)))\n",
    "    print(\"Class {}, Accuracy: {}\".format(cls, np.around(acc_cls, 3)))\n",
    "    print(\"Class {}, Accuracy std: {}\".format(cls, np.around(acc_std_cls, 3)))\n",
    "    acc_dict[cls] = [np.around(acc_cls, 3), np.around(acc_std_cls, 3), np.around(acc_ci_cls, 3)]\n",
    "\n",
    "# 把acc_dict里面的信息转换成 dataframe，第一列是类别，第二列和第四列分别是准确率,标准差和置信区间，注意，类别要包括total\n",
    "acc_df = pd.DataFrame.from_dict(acc_dict, orient='index', columns=['Accuracy', 'Accuracy std', 'Accuracy 95% CI'])\n",
    "acc_df.index.name = 'Class'\n",
    "acc_df.loc['Total'] = [accuracy_score(result['HOSPITAL_EXPIRE_FLAG_y'], np.where(result['PREDICTION'] > 0.5, 1, 0)), \n",
    "                       np.std(np.array(acc_list)), \n",
    "                       '({:.3f}, {:.3f})'.format(*np.percentile(np.array(acc_list), [2.5, 97.5]))]\n",
    "print(acc_df)\n"
   ]
  },
  {
   "cell_type": "code",
   "execution_count": 303,
   "metadata": {},
   "outputs": [
    {
     "name": "stdout",
     "output_type": "stream",
     "text": [
      "       Accuracy  Accuracy std Accuracy 95% CI\n",
      "Class                                        \n",
      "1      0.793000      0.011000  [0.773, 0.814]\n",
      "2      0.736000      0.009000  [0.719, 0.753]\n",
      "3      0.932000      0.007000  [0.918, 0.946]\n",
      "4      0.870000      0.007000  [0.856, 0.884]\n",
      "5      0.828000      0.013000  [0.801, 0.853]\n",
      "Total  0.818795      0.013118  (0.801, 0.855)\n"
     ]
    }
   ],
   "source": [
    "# 把acc_dict里面的信息转换成 dataframe，第一列是类别，第二列和第四列分别是准确率,标准差和置信区间，注意，类别要包括total\n",
    "acc_df = pd.DataFrame.from_dict(acc_dict, orient='index', columns=['Accuracy', 'Accuracy std', 'Accuracy 95% CI'])\n",
    "acc_df.index.name = 'Class'\n",
    "acc_df.loc['Total'] = [accuracy_score(result['HOSPITAL_EXPIRE_FLAG_y'], np.where(result['PREDICTION'] > 0.5, 1, 0)), \n",
    "                       np.std(np.array(acc_list)), \n",
    "                       '({:.3f}, {:.3f})'.format(*np.percentile(np.array(acc_list), [2.5, 97.5]))]\n",
    "print(acc_df)"
   ]
  },
  {
   "cell_type": "code",
   "execution_count": 304,
   "metadata": {},
   "outputs": [
    {
     "data": {
      "image/png": "[encoded data removed]",
      "text/plain": [
       "<Figure size 576x432 with 1 Axes>"
      ]
     },
     "metadata": {
      "needs_background": "light"
     },
     "output_type": "display_data"
    }
   ],
   "source": [
    "\n",
    "# 仿照上面 auroc，绘制 acc 各类别的置信区间\n",
    "# 绘制准确率及其置信区间的森林图，用点和线段\n",
    "# 要横向的，纵坐标范围在0.7到1之间\n",
    "# 增加一点 grid 线，要灰色的\n",
    "# 不用 errorbar，用其他函数来绘制 我已经计算好的 置信区间\n",
    "plt.figure(figsize=(8, 6))\n",
    "plt.plot(['Class 1', 'Class 2', 'Class 3', 'Class 4','Class 5', 'Total'], \n",
    "             [acc_dict[1][0], acc_dict[2][0], acc_dict[3][0], acc_dict[4][0], acc_dict[5][0],accuracy_score(result['HOSPITAL_EXPIRE_FLAG_y'], np.where(result['PREDICTION'] > 0.5, 1, 0))], \n",
    "             'o', linewidth=2, markersize=8); plt.ylim([0.7, 1.0]); plt.title('Accuracy and 95% CI', fontsize=16); plt.ylabel('Accuracy', fontsize=12); plt.xticks(fontsize=14); plt.yticks(fontsize=14); \n",
    "# 还差纵向的置信区间没有画\n",
    "plt.errorbar(['Class 1', 'Class 2', 'Class 3', 'Class 4','Class 5', 'Total'], \n",
    "             [acc_dict[1][0], acc_dict[2][0], acc_dict[3][0], acc_dict[4][0], acc_dict[5][0],accuracy_score(result['HOSPITAL_EXPIRE_FLAG_y'], np.where(result['PREDICTION'] > 0.5, 1, 0))], \n",
    "              yerr=np.transpose([(acc_dict[1][2][1]-acc_dict[1][0], acc_dict[1][0]-acc_dict[1][2][0]), \n",
    "                   (acc_dict[2][2][1]-acc_dict[2][0], acc_dict[2][0]-acc_dict[2][2][0]), \n",
    "                   (acc_dict[3][2][1]-acc_dict[3][0], acc_dict[3][0]-acc_dict[3][2][0]), \n",
    "                   (acc_dict[4][2][1]-acc_dict[4][0], acc_dict[4][0]-acc_dict[4][2][0]), \n",
    "                   (acc_dict[5][2][1]-acc_dict[5][0], acc_dict[5][0]-acc_dict[5][2][0]), \n",
    "                   (np.percentile(np.array(acc_list), 97.5)-accuracy_score(result['HOSPITAL_EXPIRE_FLAG_y'], np.where(result['PREDICTION'] > 0.5, 1, 0)), \n",
    "                    accuracy_score(result['HOSPITAL_EXPIRE_FLAG_y'], np.where(result['PREDICTION'] > 0.5, 1, 0))-np.percentile(np.array(acc_list), 2.5))]), \n",
    "\n",
    "             fmt='o', capsize=5); plt.ylim([0.7, 1.0]); plt.title('Accuracy and 95% CI', fontsize=16); plt.ylabel('Accuracy', fontsize=12); plt.xticks(fontsize=14); plt.yticks(fontsize=14); plt.grid(color='gray', linestyle='--', linewidth=0.5); plt.show()\n",
    "                                "
   ]
  },
  {
   "cell_type": "code",
   "execution_count": null,
   "metadata": {},
   "outputs": [],
   "source": []
  },
  {
   "cell_type": "code",
   "execution_count": null,
   "metadata": {},
   "outputs": [],
   "source": []
  },
  {
   "cell_type": "code",
   "execution_count": null,
   "metadata": {},
   "outputs": [],
   "source": []
  },
  {
   "cell_type": "code",
   "execution_count": null,
   "metadata": {},
   "outputs": [],
   "source": []
  },
  {
   "cell_type": "code",
   "execution_count": null,
   "metadata": {},
   "outputs": [],
   "source": []
  },
  {
   "cell_type": "code",
   "execution_count": null,
   "metadata": {},
   "outputs": [],
   "source": []
  },
  {
   "cell_type": "code",
   "execution_count": null,
   "metadata": {},
   "outputs": [],
   "source": []
  },
  {
   "cell_type": "code",
   "execution_count": null,
   "metadata": {},
   "outputs": [],
   "source": []
  },
  {
   "cell_type": "code",
   "execution_count": null,
   "metadata": {},
   "outputs": [],
   "source": []
  },
  {
   "cell_type": "markdown",
   "metadata": {},
   "source": [
    "### 可解释性 Integrated gradients"
   ]
  },
  {
   "cell_type": "code",
   "execution_count": 267,
   "metadata": {},
   "outputs": [
    {
     "name": "stdout",
     "output_type": "stream",
     "text": [
      "all_pid 的数量: 16894\n"
     ]
    }
   ],
   "source": [
    "# 获取测试集数据\n",
    "data_test = CustomData(\"/home/luojiawei/mimic3_Miss_project/all_admissions/\",\n",
    "                      \"/home/luojiawei/mimic3_Miss_project/test.csv\")"
   ]
  },
  {
   "cell_type": "code",
   "execution_count": 148,
   "metadata": {},
   "outputs": [],
   "source": [
    "# 把 data_test 里面每个样本的 X_dym, X_stc, mask_fea 取出来进行dim=1的拼接,得到X\n",
    "# 然后将所有样本的X进行 stack,得到(1,time,d) 的张量.\n",
    "# 注意 每个患者的 X 可能是不同的,如果X.shape[0]大于等于12,那么要 X[:12,],否则对其进行 0 padding\n",
    "from tqdm import tqdm"
   ]
  },
  {
   "cell_type": "code",
   "execution_count": 149,
   "metadata": {},
   "outputs": [
    {
     "name": "stderr",
     "output_type": "stream",
     "text": [
      "100%|██████████| 9373/9373 [02:35<00:00, 60.12it/s]\n"
     ]
    }
   ],
   "source": [
    "X_list = []\n",
    "mask_list = []\n",
    "for i in tqdm(range(len(data_test))):\n",
    "    X_dym, X_stc, mask_fea, time, y, mask = data_test.get_item1(i)\n",
    "    X = torch.cat([X_dym, X_stc],dim=1)\n",
    "    # 如果X的行大于等于12,则取前12行,否则对其进行 0 padding\n",
    "    if X.shape[0] >= 12:\n",
    "        X = X[:12,:]\n",
    "    else:\n",
    "        X = torch.cat([X, torch.zeros((12-X.shape[0], X.shape[1]))], dim=0)\n",
    "    X_list.append(X)\n",
    "    mask = torch.cat([torch.ones((X.shape[0],)), torch.zeros((12-X.shape[0],))], dim=0)\n",
    "    mask_list.append(mask)\n",
    "\n",
    "X = torch.stack(X_list, dim=0)\n",
    "mask = torch.stack(mask_list, dim=0)"
   ]
  },
  {
   "cell_type": "code",
   "execution_count": 153,
   "metadata": {},
   "outputs": [
    {
     "data": {
      "text/plain": [
       "torch.Size([9373, 12, 40])"
      ]
     },
     "execution_count": 153,
     "metadata": {},
     "output_type": "execute_result"
    }
   ],
   "source": [
    "X.shape"
   ]
  },
  {
   "cell_type": "code",
   "execution_count": 154,
   "metadata": {},
   "outputs": [
    {
     "data": {
      "text/plain": [
       "torch.Size([9373, 12])"
      ]
     },
     "execution_count": 154,
     "metadata": {},
     "output_type": "execute_result"
    }
   ],
   "source": [
    "mask.shape"
   ]
  },
  {
   "cell_type": "code",
   "execution_count": 193,
   "metadata": {},
   "outputs": [],
   "source": [
    "# 通过集成梯度来计算变量重要度\n",
    "# 输入是 X\n",
    "# 注意模型是 LSTM\n",
    "# 定义一个函数，用于计算变量重要度\n",
    "def integrated_gradients(inputs, model, baseline=None, steps=50, device=torch.device(\"cpu\")):\n",
    "    \"\"\"\n",
    "    :param inputs: 输入的数据，shape为(batch_size, seq_len, input_size)\n",
    "    :param model: 预测模型\n",
    "    :param baseline: 基准值，shape为(seq_len, input_size)，默认为全0\n",
    "    :param steps: 插值的步数\n",
    "    :param device: 设备类型\n",
    "    :return: 变量重要度，shape为(batch_size, seq_len, input_size)\n",
    "    \"\"\"\n",
    "    if baseline is None:\n",
    "        baseline = torch.zeros_like(inputs[0]).unsqueeze(0)\n",
    "    else:\n",
    "        baseline = baseline.unsqueeze(0)\n",
    "    baseline = baseline.to(device)\n",
    "    # inputs = inputs.unsqueeze(0)\n",
    "    # 计算每个步长的插值\n",
    "    alphas = torch.linspace(0, 1, steps+1).tolist()\n",
    "    # 计算每个插值对应的输入\n",
    "    interpolates = [baseline + alpha * (inputs - baseline) for alpha in alphas]\n",
    "    # 计算每个插值对应的输出\n",
    "    preds = [model(interpolate.to(device)) for interpolate in interpolates]\n",
    "    # 计算每个变量的梯度\n",
    "    grads = []\n",
    "    for i in range(len(preds)-1):\n",
    "        grad, = torch.autograd.grad(preds[i+1], inputs, preds[i]-preds[i+1], retain_graph=True)\n",
    "        grads.append(grad)\n",
    "    grads = torch.stack(grads, dim=0)\n",
    "    # 计算变量重要度\n",
    "    ig = torch.mean(grads, dim=0) * (inputs - baseline)\n",
    "    return ig.squeeze(0)"
   ]
  },
  {
   "cell_type": "code",
   "execution_count": 202,
   "metadata": {},
   "outputs": [],
   "source": [
    "device = torch.device(\"cpu\")"
   ]
  },
  {
   "cell_type": "code",
   "execution_count": 203,
   "metadata": {},
   "outputs": [],
   "source": [
    "model = model.to(device)"
   ]
  },
  {
   "cell_type": "code",
   "execution_count": 204,
   "metadata": {},
   "outputs": [],
   "source": [
    "X = X.to(device)"
   ]
  },
  {
   "cell_type": "code",
   "execution_count": 205,
   "metadata": {},
   "outputs": [
    {
     "data": {
      "text/plain": [
       "True"
      ]
     },
     "execution_count": 205,
     "metadata": {},
     "output_type": "execute_result"
    }
   ],
   "source": [
    "X.requires_grad"
   ]
  },
  {
   "cell_type": "code",
   "execution_count": 206,
   "metadata": {},
   "outputs": [],
   "source": [
    "ig = integrated_gradients(X[0:10].to(device),model,steps=10,device=device)"
   ]
  },
  {
   "cell_type": "code",
   "execution_count": 208,
   "metadata": {
    "scrolled": true
   },
   "outputs": [
    {
     "name": "stdout",
     "output_type": "stream",
     "text": [
      "torch.Size([10, 12, 40])\n"
     ]
    }
   ],
   "source": [
    "print(ig.shape)"
   ]
  },
  {
   "cell_type": "code",
   "execution_count": null,
   "metadata": {},
   "outputs": [],
   "source": []
  },
  {
   "cell_type": "code",
   "execution_count": null,
   "metadata": {},
   "outputs": [],
   "source": [
    "# 可视化变量重要度\n",
    "import matplotlib.pyplot as plt\n",
    "import numpy as np"
   ]
  },
  {
   "cell_type": "code",
   "execution_count": 256,
   "metadata": {},
   "outputs": [],
   "source": [
    "# 定义一个函数，用于可视化变量重要度\n",
    "def plot_ig(ig):\n",
    "    \"\"\"\n",
    "    :param ig: 变量重要度，shape为(seq_len, input_size)\n",
    "    \"\"\"\n",
    "    # 将变量重要度按照绝对值从大到小排序\n",
    "    sorted_idx = np.argsort(np.abs(ig).sum(axis=0))[::-1]\n",
    "    # 取出前10个变量\n",
    "    top_k = 10\n",
    "    sorted_idx = sorted_idx[:top_k]\n",
    "    # 取出前10个变量的重要度\n",
    "    top_k_ig = ig[:, sorted_idx]\n",
    "    # 绘制变量重要度图\n",
    "    fig, ax = plt.subplots(figsize=(10, 6))\n",
    "    # print(top_k_ig.shape)\n",
    "    ax.imshow(top_k_ig, cmap='coolwarm', aspect='auto')\n",
    "    ax.set_xticks(np.arange(len(sorted_idx)))\n",
    "    ax.set_xticklabels(sorted_idx, rotation=45, ha='right')\n",
    "    ax.set_yticks(np.arange(0,top_k_ig.shape[0]))\n",
    "    ax.set_yticklabels(np.arange(top_k_ig.shape[0]))\n",
    "    ax.set_xlabel('Features')\n",
    "    ax.set_ylabel('Time')\n",
    "    ax.set_title('Variable Importance')\n",
    "    fig.tight_layout()\n",
    "    plt.show()"
   ]
  },
  {
   "cell_type": "code",
   "execution_count": 258,
   "metadata": {},
   "outputs": [
    {
     "data": {
      "image/png": "[encoded data removed]",
      "text/plain": [
       "<Figure size 720x432 with 1 Axes>"
      ]
     },
     "metadata": {
      "needs_background": "light"
     },
     "output_type": "display_data"
    }
   ],
   "source": [
    "# 可视化变量重要度\n",
    "plot_ig(ig[8].cpu().detach().data.numpy())"
   ]
  },
  {
   "cell_type": "code",
   "execution_count": null,
   "metadata": {},
   "outputs": [],
   "source": []
  }
 ],
 "metadata": {
  "kernelspec": {
   "display_name": "py37",
   "language": "python",
   "name": "py37"
  },
  "language_info": {
   "codemirror_mode": {
    "name": "ipython",
    "version": 3
   },
   "file_extension": ".py",
   "mimetype": "text/x-python",
   "name": "python",
   "nbconvert_exporter": "python",
   "pygments_lexer": "ipython3",
   "version": "3.7.10"
  }
 },
 "nbformat": 4,
 "nbformat_minor": 2
}
