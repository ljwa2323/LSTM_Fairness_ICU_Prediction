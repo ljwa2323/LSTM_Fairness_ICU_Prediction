{
 "cells": [
  {
   "cell_type": "code",
   "execution_count": 4,
   "metadata": {},
   "outputs": [],
   "source": [
    "# 设置工作路径\n",
    "\n",
    "setwd(\"/home/luojiawei/mimic3_Miss_project/\")"
   ]
  },
  {
   "cell_type": "code",
   "execution_count": 5,
   "metadata": {
    "scrolled": true
   },
   "outputs": [
    {
     "name": "stderr",
     "output_type": "stream",
     "text": [
      "\n",
      "Attaching package: ‘lubridate’\n",
      "\n",
      "\n",
      "The following objects are masked from ‘package:base’:\n",
      "\n",
      "    date, intersect, setdiff, union\n",
      "\n",
      "\n",
      "\n",
      "Attaching package: ‘data.table’\n",
      "\n",
      "\n",
      "The following objects are masked from ‘package:lubridate’:\n",
      "\n",
      "    hour, isoweek, mday, minute, month, quarter, second, wday, week,\n",
      "    yday, year\n",
      "\n",
      "\n",
      "\n",
      "Attaching package: ‘mice’\n",
      "\n",
      "\n",
      "The following object is masked from ‘package:stats’:\n",
      "\n",
      "    filter\n",
      "\n",
      "\n",
      "The following objects are masked from ‘package:base’:\n",
      "\n",
      "    cbind, rbind\n",
      "\n",
      "\n",
      "Type 'citation(\"pROC\")' for a citation.\n",
      "\n",
      "\n",
      "Attaching package: ‘pROC’\n",
      "\n",
      "\n",
      "The following objects are masked from ‘package:stats’:\n",
      "\n",
      "    cov, smooth, var\n",
      "\n",
      "\n",
      "Registered S3 method overwritten by 'quantmod':\n",
      "  method            from\n",
      "  as.zoo.data.frame zoo \n",
      "\n"
     ]
    }
   ],
   "source": [
    "# 加载库\n",
    "\n",
    "library(stringr)\n",
    "library(magrittr)\n",
    "library(lubridate)\n",
    "library(rlist)\n",
    "library(data.table)\n",
    "library(naniar)\n",
    "library(mice)\n",
    "library(pROC)\n",
    "library(imputeTS)\n",
    "library(DMwR2)\n",
    "library(pheatmap)\n",
    "\n",
    "\n",
    "source(\"./util_funcs.R\")"
   ]
  },
  {
   "cell_type": "markdown",
   "metadata": {},
   "source": [
    "### labevents, chartevents, outputevents中选中的 itemid"
   ]
  },
  {
   "cell_type": "code",
   "execution_count": 6,
   "metadata": {},
   "outputs": [],
   "source": [
    "itemid_chartevents<-c(723,454,184,223900,223901,220739,51,442,455,6701,220179,220050,211,220045,678,223761,676,223762,223835,3420,3422,190)\n",
    "itemid_labevents<-c(50821,50816,51006,51300,51301,50882,950824,50983,50822,50971,50885)\n",
    "itemid_outputevents<-c(40055,43175,40069,40094,40715,40473,40085,40057,40056,40405,40428,40086,40096,40651,226559,226560,226561,226584,226563,226564,226565,226567,226557,226558,227488,227489)"
   ]
  },
  {
   "cell_type": "code",
   "execution_count": 4,
   "metadata": {},
   "outputs": [],
   "source": [
    "d_labitems<-fread(\"/home/luojiawei/mimic3/mimic3_data/D_LABITEMS.csv\",header=T,fill=T)"
   ]
  },
  {
   "cell_type": "code",
   "execution_count": 5,
   "metadata": {},
   "outputs": [
    {
     "data": {
      "text/html": [
       "<table class=\"dataframe\">\n",
       "<caption>A data.table: 2 × 6</caption>\n",
       "<thead>\n",
       "\t<tr><th scope=col>ROW_ID</th><th scope=col>ITEMID</th><th scope=col>LABEL</th><th scope=col>FLUID</th><th scope=col>CATEGORY</th><th scope=col>LOINC_CODE</th></tr>\n",
       "\t<tr><th scope=col>&lt;int&gt;</th><th scope=col>&lt;int&gt;</th><th scope=col>&lt;chr&gt;</th><th scope=col>&lt;chr&gt;</th><th scope=col>&lt;chr&gt;</th><th scope=col>&lt;chr&gt;</th></tr>\n",
       "</thead>\n",
       "<tbody>\n",
       "\t<tr><td>546</td><td>51346</td><td>Blasts     </td><td>Cerebrospinal Fluid (CSF)</td><td>Hematology</td><td>26447-3</td></tr>\n",
       "\t<tr><td>547</td><td>51347</td><td>Eosinophils</td><td>Cerebrospinal Fluid (CSF)</td><td>Hematology</td><td>26451-5</td></tr>\n",
       "</tbody>\n",
       "</table>\n"
      ],
      "text/latex": [
       "A data.table: 2 × 6\n",
       "\\begin{tabular}{llllll}\n",
       " ROW\\_ID & ITEMID & LABEL & FLUID & CATEGORY & LOINC\\_CODE\\\\\n",
       " <int> & <int> & <chr> & <chr> & <chr> & <chr>\\\\\n",
       "\\hline\n",
       "\t 546 & 51346 & Blasts      & Cerebrospinal Fluid (CSF) & Hematology & 26447-3\\\\\n",
       "\t 547 & 51347 & Eosinophils & Cerebrospinal Fluid (CSF) & Hematology & 26451-5\\\\\n",
       "\\end{tabular}\n"
      ],
      "text/markdown": [
       "\n",
       "A data.table: 2 × 6\n",
       "\n",
       "| ROW_ID &lt;int&gt; | ITEMID &lt;int&gt; | LABEL &lt;chr&gt; | FLUID &lt;chr&gt; | CATEGORY &lt;chr&gt; | LOINC_CODE &lt;chr&gt; |\n",
       "|---|---|---|---|---|---|\n",
       "| 546 | 51346 | Blasts      | Cerebrospinal Fluid (CSF) | Hematology | 26447-3 |\n",
       "| 547 | 51347 | Eosinophils | Cerebrospinal Fluid (CSF) | Hematology | 26451-5 |\n",
       "\n"
      ],
      "text/plain": [
       "  ROW_ID ITEMID LABEL       FLUID                     CATEGORY   LOINC_CODE\n",
       "1 546    51346  Blasts      Cerebrospinal Fluid (CSF) Hematology 26447-3   \n",
       "2 547    51347  Eosinophils Cerebrospinal Fluid (CSF) Hematology 26451-5   "
      ]
     },
     "metadata": {},
     "output_type": "display_data"
    }
   ],
   "source": [
    "d_labitems[1:2,]"
   ]
  },
  {
   "cell_type": "code",
   "execution_count": 6,
   "metadata": {
    "scrolled": false
   },
   "outputs": [
    {
     "data": {
      "text/html": [
       "<table class=\"dataframe\">\n",
       "<caption>A data.table: 10 × 6</caption>\n",
       "<thead>\n",
       "\t<tr><th scope=col>ROW_ID</th><th scope=col>ITEMID</th><th scope=col>LABEL</th><th scope=col>FLUID</th><th scope=col>CATEGORY</th><th scope=col>LOINC_CODE</th></tr>\n",
       "\t<tr><th scope=col>&lt;int&gt;</th><th scope=col>&lt;int&gt;</th><th scope=col>&lt;chr&gt;</th><th scope=col>&lt;chr&gt;</th><th scope=col>&lt;chr&gt;</th><th scope=col>&lt;chr&gt;</th></tr>\n",
       "</thead>\n",
       "<tbody>\n",
       "\t<tr><td> 17</td><td>50816</td><td>Oxygen                </td><td>Blood</td><td>Blood Gas </td><td>19994-3</td></tr>\n",
       "\t<tr><td> 22</td><td>50821</td><td>pO2                   </td><td>Blood</td><td>Blood Gas </td><td>11556-8</td></tr>\n",
       "\t<tr><td> 23</td><td>50822</td><td>Potassium, Whole Blood</td><td>Blood</td><td>Blood Gas </td><td>6298-4 </td></tr>\n",
       "\t<tr><td> 83</td><td>50882</td><td>Bicarbonate           </td><td>Blood</td><td>Chemistry </td><td>1963-8 </td></tr>\n",
       "\t<tr><td> 86</td><td>50885</td><td>Bilirubin, Total      </td><td>Blood</td><td>Chemistry </td><td>1975-2 </td></tr>\n",
       "\t<tr><td>172</td><td>50971</td><td>Potassium             </td><td>Blood</td><td>Chemistry </td><td>2823-3 </td></tr>\n",
       "\t<tr><td>184</td><td>50983</td><td>Sodium                </td><td>Blood</td><td>Chemistry </td><td>2951-2 </td></tr>\n",
       "\t<tr><td>206</td><td>51006</td><td>Urea Nitrogen         </td><td>Blood</td><td>Chemistry </td><td>3094-0 </td></tr>\n",
       "\t<tr><td>500</td><td>51300</td><td>WBC Count             </td><td>Blood</td><td>Hematology</td><td>26464-8</td></tr>\n",
       "\t<tr><td>501</td><td>51301</td><td>White Blood Cells     </td><td>Blood</td><td>Hematology</td><td>804-5  </td></tr>\n",
       "</tbody>\n",
       "</table>\n"
      ],
      "text/latex": [
       "A data.table: 10 × 6\n",
       "\\begin{tabular}{llllll}\n",
       " ROW\\_ID & ITEMID & LABEL & FLUID & CATEGORY & LOINC\\_CODE\\\\\n",
       " <int> & <int> & <chr> & <chr> & <chr> & <chr>\\\\\n",
       "\\hline\n",
       "\t  17 & 50816 & Oxygen                 & Blood & Blood Gas  & 19994-3\\\\\n",
       "\t  22 & 50821 & pO2                    & Blood & Blood Gas  & 11556-8\\\\\n",
       "\t  23 & 50822 & Potassium, Whole Blood & Blood & Blood Gas  & 6298-4 \\\\\n",
       "\t  83 & 50882 & Bicarbonate            & Blood & Chemistry  & 1963-8 \\\\\n",
       "\t  86 & 50885 & Bilirubin, Total       & Blood & Chemistry  & 1975-2 \\\\\n",
       "\t 172 & 50971 & Potassium              & Blood & Chemistry  & 2823-3 \\\\\n",
       "\t 184 & 50983 & Sodium                 & Blood & Chemistry  & 2951-2 \\\\\n",
       "\t 206 & 51006 & Urea Nitrogen          & Blood & Chemistry  & 3094-0 \\\\\n",
       "\t 500 & 51300 & WBC Count              & Blood & Hematology & 26464-8\\\\\n",
       "\t 501 & 51301 & White Blood Cells      & Blood & Hematology & 804-5  \\\\\n",
       "\\end{tabular}\n"
      ],
      "text/markdown": [
       "\n",
       "A data.table: 10 × 6\n",
       "\n",
       "| ROW_ID &lt;int&gt; | ITEMID &lt;int&gt; | LABEL &lt;chr&gt; | FLUID &lt;chr&gt; | CATEGORY &lt;chr&gt; | LOINC_CODE &lt;chr&gt; |\n",
       "|---|---|---|---|---|---|\n",
       "|  17 | 50816 | Oxygen                 | Blood | Blood Gas  | 19994-3 |\n",
       "|  22 | 50821 | pO2                    | Blood | Blood Gas  | 11556-8 |\n",
       "|  23 | 50822 | Potassium, Whole Blood | Blood | Blood Gas  | 6298-4  |\n",
       "|  83 | 50882 | Bicarbonate            | Blood | Chemistry  | 1963-8  |\n",
       "|  86 | 50885 | Bilirubin, Total       | Blood | Chemistry  | 1975-2  |\n",
       "| 172 | 50971 | Potassium              | Blood | Chemistry  | 2823-3  |\n",
       "| 184 | 50983 | Sodium                 | Blood | Chemistry  | 2951-2  |\n",
       "| 206 | 51006 | Urea Nitrogen          | Blood | Chemistry  | 3094-0  |\n",
       "| 500 | 51300 | WBC Count              | Blood | Hematology | 26464-8 |\n",
       "| 501 | 51301 | White Blood Cells      | Blood | Hematology | 804-5   |\n",
       "\n"
      ],
      "text/plain": [
       "   ROW_ID ITEMID LABEL                  FLUID CATEGORY   LOINC_CODE\n",
       "1   17    50816  Oxygen                 Blood Blood Gas  19994-3   \n",
       "2   22    50821  pO2                    Blood Blood Gas  11556-8   \n",
       "3   23    50822  Potassium, Whole Blood Blood Blood Gas  6298-4    \n",
       "4   83    50882  Bicarbonate            Blood Chemistry  1963-8    \n",
       "5   86    50885  Bilirubin, Total       Blood Chemistry  1975-2    \n",
       "6  172    50971  Potassium              Blood Chemistry  2823-3    \n",
       "7  184    50983  Sodium                 Blood Chemistry  2951-2    \n",
       "8  206    51006  Urea Nitrogen          Blood Chemistry  3094-0    \n",
       "9  500    51300  WBC Count              Blood Hematology 26464-8   \n",
       "10 501    51301  White Blood Cells      Blood Hematology 804-5     "
      ]
     },
     "metadata": {},
     "output_type": "display_data"
    }
   ],
   "source": [
    "d_labitems[d_labitems$ITEMID %in% itemid_labevents,]"
   ]
  },
  {
   "cell_type": "code",
   "execution_count": 7,
   "metadata": {},
   "outputs": [],
   "source": [
    "d_items<-fread(\"/home/luojiawei/mimic3/mimic3_data/D_ITEMS.csv\",header=T,fill=T)"
   ]
  },
  {
   "cell_type": "code",
   "execution_count": 8,
   "metadata": {
    "scrolled": true
   },
   "outputs": [
    {
     "data": {
      "text/html": [
       "<table class=\"dataframe\">\n",
       "<caption>A data.table: 48 × 10</caption>\n",
       "<thead>\n",
       "\t<tr><th scope=col>ROW_ID</th><th scope=col>ITEMID</th><th scope=col>LABEL</th><th scope=col>ABBREVIATION</th><th scope=col>DBSOURCE</th><th scope=col>LINKSTO</th><th scope=col>CATEGORY</th><th scope=col>UNITNAME</th><th scope=col>PARAM_TYPE</th><th scope=col>CONCEPTID</th></tr>\n",
       "\t<tr><th scope=col>&lt;int&gt;</th><th scope=col>&lt;int&gt;</th><th scope=col>&lt;chr&gt;</th><th scope=col>&lt;chr&gt;</th><th scope=col>&lt;chr&gt;</th><th scope=col>&lt;chr&gt;</th><th scope=col>&lt;chr&gt;</th><th scope=col>&lt;chr&gt;</th><th scope=col>&lt;chr&gt;</th><th scope=col>&lt;lgl&gt;</th></tr>\n",
       "</thead>\n",
       "<tbody>\n",
       "\t<tr><td>   57</td><td>    51</td><td>Arterial BP [Systolic]              </td><td>                            </td><td>carevue   </td><td>chartevents </td><td>                   </td><td>    </td><td>       </td><td>NA</td></tr>\n",
       "\t<tr><td>  185</td><td>   184</td><td>Eye Opening                         </td><td>                            </td><td>carevue   </td><td>chartevents </td><td>                   </td><td>    </td><td>       </td><td>NA</td></tr>\n",
       "\t<tr><td>  191</td><td>   190</td><td>FiO2 Set                            </td><td>                            </td><td>carevue   </td><td>chartevents </td><td>                   </td><td>    </td><td>       </td><td>NA</td></tr>\n",
       "\t<tr><td>  212</td><td>   211</td><td>Heart Rate                          </td><td>                            </td><td>carevue   </td><td>chartevents </td><td>                   </td><td>    </td><td>       </td><td>NA</td></tr>\n",
       "\t<tr><td>  408</td><td>   442</td><td>Manual BP [Systolic]                </td><td>                            </td><td>carevue   </td><td>chartevents </td><td>                   </td><td>    </td><td>       </td><td>NA</td></tr>\n",
       "\t<tr><td>  418</td><td>   454</td><td>Motor Response                      </td><td>                            </td><td>carevue   </td><td>chartevents </td><td>                   </td><td>    </td><td>       </td><td>NA</td></tr>\n",
       "\t<tr><td>  419</td><td>   455</td><td>NBP [Systolic]                      </td><td>                            </td><td>carevue   </td><td>chartevents </td><td>                   </td><td>    </td><td>       </td><td>NA</td></tr>\n",
       "\t<tr><td>  627</td><td>   676</td><td>Temperature C                       </td><td>                            </td><td>carevue   </td><td>chartevents </td><td>                   </td><td>    </td><td>       </td><td>NA</td></tr>\n",
       "\t<tr><td>  629</td><td>   678</td><td>Temperature F                       </td><td>                            </td><td>carevue   </td><td>chartevents </td><td>                   </td><td>    </td><td>       </td><td>NA</td></tr>\n",
       "\t<tr><td>  672</td><td>   723</td><td>Verbal Response                     </td><td>                            </td><td>carevue   </td><td>chartevents </td><td>                   </td><td>    </td><td>       </td><td>NA</td></tr>\n",
       "\t<tr><td> 1019</td><td>  3420</td><td>FIO2                                </td><td>                            </td><td>carevue   </td><td>chartevents </td><td>                   </td><td>    </td><td>       </td><td>NA</td></tr>\n",
       "\t<tr><td> 1021</td><td>  3422</td><td>FIO2 [Meas]                         </td><td>                            </td><td>carevue   </td><td>chartevents </td><td>                   </td><td>    </td><td>       </td><td>NA</td></tr>\n",
       "\t<tr><td> 5612</td><td> 40405</td><td>Urine Out Other                     </td><td>                            </td><td>carevue   </td><td>outputevents</td><td>                   </td><td>    </td><td>       </td><td>NA</td></tr>\n",
       "\t<tr><td> 5629</td><td> 40428</td><td>Urine Out Straight Cath             </td><td>                            </td><td>carevue   </td><td>outputevents</td><td>                   </td><td>    </td><td>       </td><td>NA</td></tr>\n",
       "\t<tr><td> 4325</td><td>  6701</td><td>Arterial BP #2 [Systolic]           </td><td>                            </td><td>carevue   </td><td>chartevents </td><td>                   </td><td>    </td><td>       </td><td>NA</td></tr>\n",
       "\t<tr><td> 7159</td><td> 43175</td><td>Urine .                             </td><td>                            </td><td>carevue   </td><td>outputevents</td><td>                   </td><td>    </td><td>       </td><td>NA</td></tr>\n",
       "\t<tr><td> 5854</td><td> 40715</td><td>Urine Out Suprapubic                </td><td>                            </td><td>carevue   </td><td>outputevents</td><td>                   </td><td>    </td><td>       </td><td>NA</td></tr>\n",
       "\t<tr><td> 5990</td><td> 40056</td><td>Urine Out Lt Nephrostomy            </td><td>                            </td><td>carevue   </td><td>outputevents</td><td>                   </td><td>    </td><td>       </td><td>NA</td></tr>\n",
       "\t<tr><td> 6006</td><td> 40085</td><td>Urine Out Incontinent               </td><td>                            </td><td>carevue   </td><td>outputevents</td><td>                   </td><td>    </td><td>       </td><td>NA</td></tr>\n",
       "\t<tr><td> 6011</td><td> 40094</td><td>Urine Out Condom Cath               </td><td>                            </td><td>carevue   </td><td>outputevents</td><td>                   </td><td>    </td><td>       </td><td>NA</td></tr>\n",
       "\t<tr><td> 6012</td><td> 40096</td><td>Urine Out Ureteral Stent #1         </td><td>                            </td><td>carevue   </td><td>outputevents</td><td>                   </td><td>    </td><td>       </td><td>NA</td></tr>\n",
       "\t<tr><td>10538</td><td> 40651</td><td>Urine Out Ureteral Stent #2         </td><td>                            </td><td>carevue   </td><td>outputevents</td><td>                   </td><td>    </td><td>       </td><td>NA</td></tr>\n",
       "\t<tr><td>10580</td><td> 40055</td><td>Urine Out Foley                     </td><td>                            </td><td>carevue   </td><td>outputevents</td><td>                   </td><td>    </td><td>       </td><td>NA</td></tr>\n",
       "\t<tr><td>10581</td><td> 40057</td><td>Urine Out Rt Nephrostomy            </td><td>                            </td><td>carevue   </td><td>outputevents</td><td>                   </td><td>    </td><td>       </td><td>NA</td></tr>\n",
       "\t<tr><td>10586</td><td> 40069</td><td>Urine Out Void                      </td><td>                            </td><td>carevue   </td><td>outputevents</td><td>                   </td><td>    </td><td>       </td><td>NA</td></tr>\n",
       "\t<tr><td>10594</td><td> 40086</td><td>Drain Out #2 Pigtail                </td><td>                            </td><td>carevue   </td><td>outputevents</td><td>                   </td><td>    </td><td>       </td><td>NA</td></tr>\n",
       "\t<tr><td>11003</td><td> 40473</td><td>Urine Out IleoConduit               </td><td>                            </td><td>carevue   </td><td>outputevents</td><td>                   </td><td>    </td><td>       </td><td>NA</td></tr>\n",
       "\t<tr><td>14842</td><td>227488</td><td>GU Irrigant Volume In               </td><td>GU Irrigant Volume In       </td><td>metavision</td><td>outputevents</td><td>Output             </td><td>mL  </td><td>Numeric</td><td>NA</td></tr>\n",
       "\t<tr><td>14843</td><td>227489</td><td>GU Irrigant/Urine Volume Out        </td><td>GU Irrigant/Urine Volume Out</td><td>metavision</td><td>outputevents</td><td>Output             </td><td>mL  </td><td>Numeric</td><td>NA</td></tr>\n",
       "\t<tr><td>12708</td><td>220739</td><td>GCS - Eye Opening                   </td><td>Eye Opening                 </td><td>metavision</td><td>chartevents </td><td>Neurological       </td><td>    </td><td>Text   </td><td>NA</td></tr>\n",
       "\t<tr><td>12712</td><td>220045</td><td>Heart Rate                          </td><td>HR                          </td><td>metavision</td><td>chartevents </td><td>Routine Vital Signs</td><td>bpm </td><td>Numeric</td><td>NA</td></tr>\n",
       "\t<tr><td>12716</td><td>220050</td><td>Arterial Blood Pressure systolic    </td><td>ABPs                        </td><td>metavision</td><td>chartevents </td><td>Routine Vital Signs</td><td>mmHg</td><td>Numeric</td><td>NA</td></tr>\n",
       "\t<tr><td>12734</td><td>220179</td><td>Non Invasive Blood Pressure systolic</td><td>NBPs                        </td><td>metavision</td><td>chartevents </td><td>Routine Vital Signs</td><td>mmHg</td><td>Numeric</td><td>NA</td></tr>\n",
       "\t<tr><td>14412</td><td>226557</td><td>R Ureteral Stent                    </td><td>R Ureteral Stent            </td><td>metavision</td><td>outputevents</td><td>Output             </td><td>mL  </td><td>Numeric</td><td>NA</td></tr>\n",
       "\t<tr><td>14413</td><td>226558</td><td>L Ureteral Stent                    </td><td>L Ureteral Stent            </td><td>metavision</td><td>outputevents</td><td>Output             </td><td>mL  </td><td>Numeric</td><td>NA</td></tr>\n",
       "\t<tr><td>14414</td><td>226559</td><td>Foley                               </td><td>Foley                       </td><td>metavision</td><td>outputevents</td><td>Output             </td><td>mL  </td><td>Numeric</td><td>NA</td></tr>\n",
       "\t<tr><td>14415</td><td>226560</td><td>Void                                </td><td>Void                        </td><td>metavision</td><td>outputevents</td><td>Output             </td><td>mL  </td><td>Numeric</td><td>NA</td></tr>\n",
       "\t<tr><td>14416</td><td>226561</td><td>Condom Cath                         </td><td>Condom Cath                 </td><td>metavision</td><td>outputevents</td><td>Output             </td><td>mL  </td><td>Numeric</td><td>NA</td></tr>\n",
       "\t<tr><td>14417</td><td>226563</td><td>Suprapubic                          </td><td>Suprapubic                  </td><td>metavision</td><td>outputevents</td><td>Output             </td><td>mL  </td><td>Numeric</td><td>NA</td></tr>\n",
       "\t<tr><td>14418</td><td>226564</td><td>R Nephrostomy                       </td><td>R Nephrostomy               </td><td>metavision</td><td>outputevents</td><td>Output             </td><td>mL  </td><td>Numeric</td><td>NA</td></tr>\n",
       "\t<tr><td>14419</td><td>226565</td><td>L Nephrostomy                       </td><td>L Nephrostomy               </td><td>metavision</td><td>outputevents</td><td>Output             </td><td>mL  </td><td>Numeric</td><td>NA</td></tr>\n",
       "\t<tr><td>14421</td><td>226567</td><td>Straight Cath                       </td><td>Straight Cath               </td><td>metavision</td><td>outputevents</td><td>Output             </td><td>mL  </td><td>Numeric</td><td>NA</td></tr>\n",
       "\t<tr><td>14434</td><td>226584</td><td>Ileoconduit                         </td><td>Ileoconduit                 </td><td>metavision</td><td>outputevents</td><td>Output             </td><td>mL  </td><td>Numeric</td><td>NA</td></tr>\n",
       "\t<tr><td>12827</td><td>223900</td><td>GCS - Verbal Response               </td><td>Verbal Response             </td><td>metavision</td><td>chartevents </td><td>Neurological       </td><td>    </td><td>Text   </td><td>NA</td></tr>\n",
       "\t<tr><td>12828</td><td>223901</td><td>GCS - Motor Response                </td><td>Motor Response              </td><td>metavision</td><td>chartevents </td><td>Neurological       </td><td>    </td><td>Text   </td><td>NA</td></tr>\n",
       "\t<tr><td>12757</td><td>223761</td><td>Temperature Fahrenheit              </td><td>Temperature F               </td><td>metavision</td><td>chartevents </td><td>Routine Vital Signs</td><td>?F  </td><td>Numeric</td><td>NA</td></tr>\n",
       "\t<tr><td>12758</td><td>223762</td><td>Temperature Celsius                 </td><td>Temperature C               </td><td>metavision</td><td>chartevents </td><td>Routine Vital Signs</td><td>?C  </td><td>Numeric</td><td>NA</td></tr>\n",
       "\t<tr><td>12804</td><td>223835</td><td>Inspired O2 Fraction                </td><td>FiO2                        </td><td>metavision</td><td>chartevents </td><td>Respiratory        </td><td>None</td><td>Numeric</td><td>NA</td></tr>\n",
       "</tbody>\n",
       "</table>\n"
      ],
      "text/latex": [
       "A data.table: 48 × 10\n",
       "\\begin{tabular}{llllllllll}\n",
       " ROW\\_ID & ITEMID & LABEL & ABBREVIATION & DBSOURCE & LINKSTO & CATEGORY & UNITNAME & PARAM\\_TYPE & CONCEPTID\\\\\n",
       " <int> & <int> & <chr> & <chr> & <chr> & <chr> & <chr> & <chr> & <chr> & <lgl>\\\\\n",
       "\\hline\n",
       "\t    57 &     51 & Arterial BP {[}Systolic{]}               &                              & carevue    & chartevents  &                     &      &         & NA\\\\\n",
       "\t   185 &    184 & Eye Opening                          &                              & carevue    & chartevents  &                     &      &         & NA\\\\\n",
       "\t   191 &    190 & FiO2 Set                             &                              & carevue    & chartevents  &                     &      &         & NA\\\\\n",
       "\t   212 &    211 & Heart Rate                           &                              & carevue    & chartevents  &                     &      &         & NA\\\\\n",
       "\t   408 &    442 & Manual BP {[}Systolic{]}                 &                              & carevue    & chartevents  &                     &      &         & NA\\\\\n",
       "\t   418 &    454 & Motor Response                       &                              & carevue    & chartevents  &                     &      &         & NA\\\\\n",
       "\t   419 &    455 & NBP {[}Systolic{]}                       &                              & carevue    & chartevents  &                     &      &         & NA\\\\\n",
       "\t   627 &    676 & Temperature C                        &                              & carevue    & chartevents  &                     &      &         & NA\\\\\n",
       "\t   629 &    678 & Temperature F                        &                              & carevue    & chartevents  &                     &      &         & NA\\\\\n",
       "\t   672 &    723 & Verbal Response                      &                              & carevue    & chartevents  &                     &      &         & NA\\\\\n",
       "\t  1019 &   3420 & FIO2                                 &                              & carevue    & chartevents  &                     &      &         & NA\\\\\n",
       "\t  1021 &   3422 & FIO2 {[}Meas{]}                          &                              & carevue    & chartevents  &                     &      &         & NA\\\\\n",
       "\t  5612 &  40405 & Urine Out Other                      &                              & carevue    & outputevents &                     &      &         & NA\\\\\n",
       "\t  5629 &  40428 & Urine Out Straight Cath              &                              & carevue    & outputevents &                     &      &         & NA\\\\\n",
       "\t  4325 &   6701 & Arterial BP \\#2 {[}Systolic{]}            &                              & carevue    & chartevents  &                     &      &         & NA\\\\\n",
       "\t  7159 &  43175 & Urine .                              &                              & carevue    & outputevents &                     &      &         & NA\\\\\n",
       "\t  5854 &  40715 & Urine Out Suprapubic                 &                              & carevue    & outputevents &                     &      &         & NA\\\\\n",
       "\t  5990 &  40056 & Urine Out Lt Nephrostomy             &                              & carevue    & outputevents &                     &      &         & NA\\\\\n",
       "\t  6006 &  40085 & Urine Out Incontinent                &                              & carevue    & outputevents &                     &      &         & NA\\\\\n",
       "\t  6011 &  40094 & Urine Out Condom Cath                &                              & carevue    & outputevents &                     &      &         & NA\\\\\n",
       "\t  6012 &  40096 & Urine Out Ureteral Stent \\#1          &                              & carevue    & outputevents &                     &      &         & NA\\\\\n",
       "\t 10538 &  40651 & Urine Out Ureteral Stent \\#2          &                              & carevue    & outputevents &                     &      &         & NA\\\\\n",
       "\t 10580 &  40055 & Urine Out Foley                      &                              & carevue    & outputevents &                     &      &         & NA\\\\\n",
       "\t 10581 &  40057 & Urine Out Rt Nephrostomy             &                              & carevue    & outputevents &                     &      &         & NA\\\\\n",
       "\t 10586 &  40069 & Urine Out Void                       &                              & carevue    & outputevents &                     &      &         & NA\\\\\n",
       "\t 10594 &  40086 & Drain Out \\#2 Pigtail                 &                              & carevue    & outputevents &                     &      &         & NA\\\\\n",
       "\t 11003 &  40473 & Urine Out IleoConduit                &                              & carevue    & outputevents &                     &      &         & NA\\\\\n",
       "\t 14842 & 227488 & GU Irrigant Volume In                & GU Irrigant Volume In        & metavision & outputevents & Output              & mL   & Numeric & NA\\\\\n",
       "\t 14843 & 227489 & GU Irrigant/Urine Volume Out         & GU Irrigant/Urine Volume Out & metavision & outputevents & Output              & mL   & Numeric & NA\\\\\n",
       "\t 12708 & 220739 & GCS - Eye Opening                    & Eye Opening                  & metavision & chartevents  & Neurological        &      & Text    & NA\\\\\n",
       "\t 12712 & 220045 & Heart Rate                           & HR                           & metavision & chartevents  & Routine Vital Signs & bpm  & Numeric & NA\\\\\n",
       "\t 12716 & 220050 & Arterial Blood Pressure systolic     & ABPs                         & metavision & chartevents  & Routine Vital Signs & mmHg & Numeric & NA\\\\\n",
       "\t 12734 & 220179 & Non Invasive Blood Pressure systolic & NBPs                         & metavision & chartevents  & Routine Vital Signs & mmHg & Numeric & NA\\\\\n",
       "\t 14412 & 226557 & R Ureteral Stent                     & R Ureteral Stent             & metavision & outputevents & Output              & mL   & Numeric & NA\\\\\n",
       "\t 14413 & 226558 & L Ureteral Stent                     & L Ureteral Stent             & metavision & outputevents & Output              & mL   & Numeric & NA\\\\\n",
       "\t 14414 & 226559 & Foley                                & Foley                        & metavision & outputevents & Output              & mL   & Numeric & NA\\\\\n",
       "\t 14415 & 226560 & Void                                 & Void                         & metavision & outputevents & Output              & mL   & Numeric & NA\\\\\n",
       "\t 14416 & 226561 & Condom Cath                          & Condom Cath                  & metavision & outputevents & Output              & mL   & Numeric & NA\\\\\n",
       "\t 14417 & 226563 & Suprapubic                           & Suprapubic                   & metavision & outputevents & Output              & mL   & Numeric & NA\\\\\n",
       "\t 14418 & 226564 & R Nephrostomy                        & R Nephrostomy                & metavision & outputevents & Output              & mL   & Numeric & NA\\\\\n",
       "\t 14419 & 226565 & L Nephrostomy                        & L Nephrostomy                & metavision & outputevents & Output              & mL   & Numeric & NA\\\\\n",
       "\t 14421 & 226567 & Straight Cath                        & Straight Cath                & metavision & outputevents & Output              & mL   & Numeric & NA\\\\\n",
       "\t 14434 & 226584 & Ileoconduit                          & Ileoconduit                  & metavision & outputevents & Output              & mL   & Numeric & NA\\\\\n",
       "\t 12827 & 223900 & GCS - Verbal Response                & Verbal Response              & metavision & chartevents  & Neurological        &      & Text    & NA\\\\\n",
       "\t 12828 & 223901 & GCS - Motor Response                 & Motor Response               & metavision & chartevents  & Neurological        &      & Text    & NA\\\\\n",
       "\t 12757 & 223761 & Temperature Fahrenheit               & Temperature F                & metavision & chartevents  & Routine Vital Signs & ?F   & Numeric & NA\\\\\n",
       "\t 12758 & 223762 & Temperature Celsius                  & Temperature C                & metavision & chartevents  & Routine Vital Signs & ?C   & Numeric & NA\\\\\n",
       "\t 12804 & 223835 & Inspired O2 Fraction                 & FiO2                         & metavision & chartevents  & Respiratory         & None & Numeric & NA\\\\\n",
       "\\end{tabular}\n"
      ],
      "text/markdown": [
       "\n",
       "A data.table: 48 × 10\n",
       "\n",
       "| ROW_ID &lt;int&gt; | ITEMID &lt;int&gt; | LABEL &lt;chr&gt; | ABBREVIATION &lt;chr&gt; | DBSOURCE &lt;chr&gt; | LINKSTO &lt;chr&gt; | CATEGORY &lt;chr&gt; | UNITNAME &lt;chr&gt; | PARAM_TYPE &lt;chr&gt; | CONCEPTID &lt;lgl&gt; |\n",
       "|---|---|---|---|---|---|---|---|---|---|\n",
       "|    57 |     51 | Arterial BP [Systolic]               | <!----> | carevue    | chartevents  | <!----> | <!----> | <!----> | NA |\n",
       "|   185 |    184 | Eye Opening                          | <!----> | carevue    | chartevents  | <!----> | <!----> | <!----> | NA |\n",
       "|   191 |    190 | FiO2 Set                             | <!----> | carevue    | chartevents  | <!----> | <!----> | <!----> | NA |\n",
       "|   212 |    211 | Heart Rate                           | <!----> | carevue    | chartevents  | <!----> | <!----> | <!----> | NA |\n",
       "|   408 |    442 | Manual BP [Systolic]                 | <!----> | carevue    | chartevents  | <!----> | <!----> | <!----> | NA |\n",
       "|   418 |    454 | Motor Response                       | <!----> | carevue    | chartevents  | <!----> | <!----> | <!----> | NA |\n",
       "|   419 |    455 | NBP [Systolic]                       | <!----> | carevue    | chartevents  | <!----> | <!----> | <!----> | NA |\n",
       "|   627 |    676 | Temperature C                        | <!----> | carevue    | chartevents  | <!----> | <!----> | <!----> | NA |\n",
       "|   629 |    678 | Temperature F                        | <!----> | carevue    | chartevents  | <!----> | <!----> | <!----> | NA |\n",
       "|   672 |    723 | Verbal Response                      | <!----> | carevue    | chartevents  | <!----> | <!----> | <!----> | NA |\n",
       "|  1019 |   3420 | FIO2                                 | <!----> | carevue    | chartevents  | <!----> | <!----> | <!----> | NA |\n",
       "|  1021 |   3422 | FIO2 [Meas]                          | <!----> | carevue    | chartevents  | <!----> | <!----> | <!----> | NA |\n",
       "|  5612 |  40405 | Urine Out Other                      | <!----> | carevue    | outputevents | <!----> | <!----> | <!----> | NA |\n",
       "|  5629 |  40428 | Urine Out Straight Cath              | <!----> | carevue    | outputevents | <!----> | <!----> | <!----> | NA |\n",
       "|  4325 |   6701 | Arterial BP #2 [Systolic]            | <!----> | carevue    | chartevents  | <!----> | <!----> | <!----> | NA |\n",
       "|  7159 |  43175 | Urine .                              | <!----> | carevue    | outputevents | <!----> | <!----> | <!----> | NA |\n",
       "|  5854 |  40715 | Urine Out Suprapubic                 | <!----> | carevue    | outputevents | <!----> | <!----> | <!----> | NA |\n",
       "|  5990 |  40056 | Urine Out Lt Nephrostomy             | <!----> | carevue    | outputevents | <!----> | <!----> | <!----> | NA |\n",
       "|  6006 |  40085 | Urine Out Incontinent                | <!----> | carevue    | outputevents | <!----> | <!----> | <!----> | NA |\n",
       "|  6011 |  40094 | Urine Out Condom Cath                | <!----> | carevue    | outputevents | <!----> | <!----> | <!----> | NA |\n",
       "|  6012 |  40096 | Urine Out Ureteral Stent #1          | <!----> | carevue    | outputevents | <!----> | <!----> | <!----> | NA |\n",
       "| 10538 |  40651 | Urine Out Ureteral Stent #2          | <!----> | carevue    | outputevents | <!----> | <!----> | <!----> | NA |\n",
       "| 10580 |  40055 | Urine Out Foley                      | <!----> | carevue    | outputevents | <!----> | <!----> | <!----> | NA |\n",
       "| 10581 |  40057 | Urine Out Rt Nephrostomy             | <!----> | carevue    | outputevents | <!----> | <!----> | <!----> | NA |\n",
       "| 10586 |  40069 | Urine Out Void                       | <!----> | carevue    | outputevents | <!----> | <!----> | <!----> | NA |\n",
       "| 10594 |  40086 | Drain Out #2 Pigtail                 | <!----> | carevue    | outputevents | <!----> | <!----> | <!----> | NA |\n",
       "| 11003 |  40473 | Urine Out IleoConduit                | <!----> | carevue    | outputevents | <!----> | <!----> | <!----> | NA |\n",
       "| 14842 | 227488 | GU Irrigant Volume In                | GU Irrigant Volume In        | metavision | outputevents | Output              | mL   | Numeric | NA |\n",
       "| 14843 | 227489 | GU Irrigant/Urine Volume Out         | GU Irrigant/Urine Volume Out | metavision | outputevents | Output              | mL   | Numeric | NA |\n",
       "| 12708 | 220739 | GCS - Eye Opening                    | Eye Opening                  | metavision | chartevents  | Neurological        | <!----> | Text    | NA |\n",
       "| 12712 | 220045 | Heart Rate                           | HR                           | metavision | chartevents  | Routine Vital Signs | bpm  | Numeric | NA |\n",
       "| 12716 | 220050 | Arterial Blood Pressure systolic     | ABPs                         | metavision | chartevents  | Routine Vital Signs | mmHg | Numeric | NA |\n",
       "| 12734 | 220179 | Non Invasive Blood Pressure systolic | NBPs                         | metavision | chartevents  | Routine Vital Signs | mmHg | Numeric | NA |\n",
       "| 14412 | 226557 | R Ureteral Stent                     | R Ureteral Stent             | metavision | outputevents | Output              | mL   | Numeric | NA |\n",
       "| 14413 | 226558 | L Ureteral Stent                     | L Ureteral Stent             | metavision | outputevents | Output              | mL   | Numeric | NA |\n",
       "| 14414 | 226559 | Foley                                | Foley                        | metavision | outputevents | Output              | mL   | Numeric | NA |\n",
       "| 14415 | 226560 | Void                                 | Void                         | metavision | outputevents | Output              | mL   | Numeric | NA |\n",
       "| 14416 | 226561 | Condom Cath                          | Condom Cath                  | metavision | outputevents | Output              | mL   | Numeric | NA |\n",
       "| 14417 | 226563 | Suprapubic                           | Suprapubic                   | metavision | outputevents | Output              | mL   | Numeric | NA |\n",
       "| 14418 | 226564 | R Nephrostomy                        | R Nephrostomy                | metavision | outputevents | Output              | mL   | Numeric | NA |\n",
       "| 14419 | 226565 | L Nephrostomy                        | L Nephrostomy                | metavision | outputevents | Output              | mL   | Numeric | NA |\n",
       "| 14421 | 226567 | Straight Cath                        | Straight Cath                | metavision | outputevents | Output              | mL   | Numeric | NA |\n",
       "| 14434 | 226584 | Ileoconduit                          | Ileoconduit                  | metavision | outputevents | Output              | mL   | Numeric | NA |\n",
       "| 12827 | 223900 | GCS - Verbal Response                | Verbal Response              | metavision | chartevents  | Neurological        | <!----> | Text    | NA |\n",
       "| 12828 | 223901 | GCS - Motor Response                 | Motor Response               | metavision | chartevents  | Neurological        | <!----> | Text    | NA |\n",
       "| 12757 | 223761 | Temperature Fahrenheit               | Temperature F                | metavision | chartevents  | Routine Vital Signs | ?F   | Numeric | NA |\n",
       "| 12758 | 223762 | Temperature Celsius                  | Temperature C                | metavision | chartevents  | Routine Vital Signs | ?C   | Numeric | NA |\n",
       "| 12804 | 223835 | Inspired O2 Fraction                 | FiO2                         | metavision | chartevents  | Respiratory         | None | Numeric | NA |\n",
       "\n"
      ],
      "text/plain": [
       "   ROW_ID ITEMID LABEL                               \n",
       "1     57      51 Arterial BP [Systolic]              \n",
       "2    185     184 Eye Opening                         \n",
       "3    191     190 FiO2 Set                            \n",
       "4    212     211 Heart Rate                          \n",
       "5    408     442 Manual BP [Systolic]                \n",
       "6    418     454 Motor Response                      \n",
       "7    419     455 NBP [Systolic]                      \n",
       "8    627     676 Temperature C                       \n",
       "9    629     678 Temperature F                       \n",
       "10   672     723 Verbal Response                     \n",
       "11  1019    3420 FIO2                                \n",
       "12  1021    3422 FIO2 [Meas]                         \n",
       "13  5612   40405 Urine Out Other                     \n",
       "14  5629   40428 Urine Out Straight Cath             \n",
       "15  4325    6701 Arterial BP #2 [Systolic]           \n",
       "16  7159   43175 Urine .                             \n",
       "17  5854   40715 Urine Out Suprapubic                \n",
       "18  5990   40056 Urine Out Lt Nephrostomy            \n",
       "19  6006   40085 Urine Out Incontinent               \n",
       "20  6011   40094 Urine Out Condom Cath               \n",
       "21  6012   40096 Urine Out Ureteral Stent #1         \n",
       "22 10538   40651 Urine Out Ureteral Stent #2         \n",
       "23 10580   40055 Urine Out Foley                     \n",
       "24 10581   40057 Urine Out Rt Nephrostomy            \n",
       "25 10586   40069 Urine Out Void                      \n",
       "26 10594   40086 Drain Out #2 Pigtail                \n",
       "27 11003   40473 Urine Out IleoConduit               \n",
       "28 14842  227488 GU Irrigant Volume In               \n",
       "29 14843  227489 GU Irrigant/Urine Volume Out        \n",
       "30 12708  220739 GCS - Eye Opening                   \n",
       "31 12712  220045 Heart Rate                          \n",
       "32 12716  220050 Arterial Blood Pressure systolic    \n",
       "33 12734  220179 Non Invasive Blood Pressure systolic\n",
       "34 14412  226557 R Ureteral Stent                    \n",
       "35 14413  226558 L Ureteral Stent                    \n",
       "36 14414  226559 Foley                               \n",
       "37 14415  226560 Void                                \n",
       "38 14416  226561 Condom Cath                         \n",
       "39 14417  226563 Suprapubic                          \n",
       "40 14418  226564 R Nephrostomy                       \n",
       "41 14419  226565 L Nephrostomy                       \n",
       "42 14421  226567 Straight Cath                       \n",
       "43 14434  226584 Ileoconduit                         \n",
       "44 12827  223900 GCS - Verbal Response               \n",
       "45 12828  223901 GCS - Motor Response                \n",
       "46 12757  223761 Temperature Fahrenheit              \n",
       "47 12758  223762 Temperature Celsius                 \n",
       "48 12804  223835 Inspired O2 Fraction                \n",
       "   ABBREVIATION                 DBSOURCE   LINKSTO      CATEGORY           \n",
       "1                               carevue    chartevents                     \n",
       "2                               carevue    chartevents                     \n",
       "3                               carevue    chartevents                     \n",
       "4                               carevue    chartevents                     \n",
       "5                               carevue    chartevents                     \n",
       "6                               carevue    chartevents                     \n",
       "7                               carevue    chartevents                     \n",
       "8                               carevue    chartevents                     \n",
       "9                               carevue    chartevents                     \n",
       "10                              carevue    chartevents                     \n",
       "11                              carevue    chartevents                     \n",
       "12                              carevue    chartevents                     \n",
       "13                              carevue    outputevents                    \n",
       "14                              carevue    outputevents                    \n",
       "15                              carevue    chartevents                     \n",
       "16                              carevue    outputevents                    \n",
       "17                              carevue    outputevents                    \n",
       "18                              carevue    outputevents                    \n",
       "19                              carevue    outputevents                    \n",
       "20                              carevue    outputevents                    \n",
       "21                              carevue    outputevents                    \n",
       "22                              carevue    outputevents                    \n",
       "23                              carevue    outputevents                    \n",
       "24                              carevue    outputevents                    \n",
       "25                              carevue    outputevents                    \n",
       "26                              carevue    outputevents                    \n",
       "27                              carevue    outputevents                    \n",
       "28 GU Irrigant Volume In        metavision outputevents Output             \n",
       "29 GU Irrigant/Urine Volume Out metavision outputevents Output             \n",
       "30 Eye Opening                  metavision chartevents  Neurological       \n",
       "31 HR                           metavision chartevents  Routine Vital Signs\n",
       "32 ABPs                         metavision chartevents  Routine Vital Signs\n",
       "33 NBPs                         metavision chartevents  Routine Vital Signs\n",
       "34 R Ureteral Stent             metavision outputevents Output             \n",
       "35 L Ureteral Stent             metavision outputevents Output             \n",
       "36 Foley                        metavision outputevents Output             \n",
       "37 Void                         metavision outputevents Output             \n",
       "38 Condom Cath                  metavision outputevents Output             \n",
       "39 Suprapubic                   metavision outputevents Output             \n",
       "40 R Nephrostomy                metavision outputevents Output             \n",
       "41 L Nephrostomy                metavision outputevents Output             \n",
       "42 Straight Cath                metavision outputevents Output             \n",
       "43 Ileoconduit                  metavision outputevents Output             \n",
       "44 Verbal Response              metavision chartevents  Neurological       \n",
       "45 Motor Response               metavision chartevents  Neurological       \n",
       "46 Temperature F                metavision chartevents  Routine Vital Signs\n",
       "47 Temperature C                metavision chartevents  Routine Vital Signs\n",
       "48 FiO2                         metavision chartevents  Respiratory        \n",
       "   UNITNAME PARAM_TYPE CONCEPTID\n",
       "1                      NA       \n",
       "2                      NA       \n",
       "3                      NA       \n",
       "4                      NA       \n",
       "5                      NA       \n",
       "6                      NA       \n",
       "7                      NA       \n",
       "8                      NA       \n",
       "9                      NA       \n",
       "10                     NA       \n",
       "11                     NA       \n",
       "12                     NA       \n",
       "13                     NA       \n",
       "14                     NA       \n",
       "15                     NA       \n",
       "16                     NA       \n",
       "17                     NA       \n",
       "18                     NA       \n",
       "19                     NA       \n",
       "20                     NA       \n",
       "21                     NA       \n",
       "22                     NA       \n",
       "23                     NA       \n",
       "24                     NA       \n",
       "25                     NA       \n",
       "26                     NA       \n",
       "27                     NA       \n",
       "28 mL       Numeric    NA       \n",
       "29 mL       Numeric    NA       \n",
       "30          Text       NA       \n",
       "31 bpm      Numeric    NA       \n",
       "32 mmHg     Numeric    NA       \n",
       "33 mmHg     Numeric    NA       \n",
       "34 mL       Numeric    NA       \n",
       "35 mL       Numeric    NA       \n",
       "36 mL       Numeric    NA       \n",
       "37 mL       Numeric    NA       \n",
       "38 mL       Numeric    NA       \n",
       "39 mL       Numeric    NA       \n",
       "40 mL       Numeric    NA       \n",
       "41 mL       Numeric    NA       \n",
       "42 mL       Numeric    NA       \n",
       "43 mL       Numeric    NA       \n",
       "44          Text       NA       \n",
       "45          Text       NA       \n",
       "46 ?F       Numeric    NA       \n",
       "47 ?C       Numeric    NA       \n",
       "48 None     Numeric    NA       "
      ]
     },
     "metadata": {},
     "output_type": "display_data"
    }
   ],
   "source": [
    "d_items[d_items$ITEMID %in% c(itemid_chartevents,itemid_outputevents),]"
   ]
  },
  {
   "cell_type": "code",
   "execution_count": 9,
   "metadata": {},
   "outputs": [],
   "source": [
    "chartevents<-fread(\"/home/luojiawei/mimic3/mimic3_data/CHARTEVENTS.csv\",header=T,fill=T)"
   ]
  },
  {
   "cell_type": "code",
   "execution_count": 274,
   "metadata": {},
   "outputs": [
    {
     "data": {
      "text/html": [
       "<table class=\"dataframe\">\n",
       "<caption>A data.table: 4 × 15</caption>\n",
       "<thead>\n",
       "\t<tr><th scope=col>ROW_ID</th><th scope=col>SUBJECT_ID</th><th scope=col>HADM_ID</th><th scope=col>ICUSTAY_ID</th><th scope=col>ITEMID</th><th scope=col>CHARTTIME</th><th scope=col>STORETIME</th><th scope=col>CGID</th><th scope=col>VALUE</th><th scope=col>VALUENUM</th><th scope=col>VALUEUOM</th><th scope=col>WARNING</th><th scope=col>ERROR</th><th scope=col>RESULTSTATUS</th><th scope=col>STOPPED</th></tr>\n",
       "\t<tr><th scope=col>&lt;int&gt;</th><th scope=col>&lt;int&gt;</th><th scope=col>&lt;int&gt;</th><th scope=col>&lt;int&gt;</th><th scope=col>&lt;int&gt;</th><th scope=col>&lt;dttm&gt;</th><th scope=col>&lt;dttm&gt;</th><th scope=col>&lt;int&gt;</th><th scope=col>&lt;chr&gt;</th><th scope=col>&lt;dbl&gt;</th><th scope=col>&lt;chr&gt;</th><th scope=col>&lt;int&gt;</th><th scope=col>&lt;int&gt;</th><th scope=col>&lt;chr&gt;</th><th scope=col>&lt;chr&gt;</th></tr>\n",
       "</thead>\n",
       "<tbody>\n",
       "\t<tr><td>788</td><td>36</td><td>165660</td><td>241249</td><td>223834</td><td>2134-05-12 12:00:00</td><td>2134-05-12 13:56:00</td><td>17525</td><td>15 </td><td> 15.00</td><td>L/min</td><td>0</td><td>0</td><td></td><td></td></tr>\n",
       "\t<tr><td>789</td><td>36</td><td>165660</td><td>241249</td><td>223835</td><td>2134-05-12 12:00:00</td><td>2134-05-12 13:56:00</td><td>17525</td><td>100</td><td>100.00</td><td>     </td><td>0</td><td>0</td><td></td><td></td></tr>\n",
       "\t<tr><td>790</td><td>36</td><td>165660</td><td>241249</td><td>224328</td><td>2134-05-12 12:00:00</td><td>2134-05-12 12:18:00</td><td>20823</td><td>.37</td><td>  0.37</td><td>     </td><td>0</td><td>0</td><td></td><td></td></tr>\n",
       "\t<tr><td>791</td><td>36</td><td>165660</td><td>241249</td><td>224329</td><td>2134-05-12 12:00:00</td><td>2134-05-12 12:19:00</td><td>20823</td><td>6  </td><td>  6.00</td><td>min  </td><td>0</td><td>0</td><td></td><td></td></tr>\n",
       "</tbody>\n",
       "</table>\n"
      ],
      "text/latex": [
       "A data.table: 4 × 15\n",
       "\\begin{tabular}{lllllllllllllll}\n",
       " ROW\\_ID & SUBJECT\\_ID & HADM\\_ID & ICUSTAY\\_ID & ITEMID & CHARTTIME & STORETIME & CGID & VALUE & VALUENUM & VALUEUOM & WARNING & ERROR & RESULTSTATUS & STOPPED\\\\\n",
       " <int> & <int> & <int> & <int> & <int> & <dttm> & <dttm> & <int> & <chr> & <dbl> & <chr> & <int> & <int> & <chr> & <chr>\\\\\n",
       "\\hline\n",
       "\t 788 & 36 & 165660 & 241249 & 223834 & 2134-05-12 12:00:00 & 2134-05-12 13:56:00 & 17525 & 15  &  15.00 & L/min & 0 & 0 &  & \\\\\n",
       "\t 789 & 36 & 165660 & 241249 & 223835 & 2134-05-12 12:00:00 & 2134-05-12 13:56:00 & 17525 & 100 & 100.00 &       & 0 & 0 &  & \\\\\n",
       "\t 790 & 36 & 165660 & 241249 & 224328 & 2134-05-12 12:00:00 & 2134-05-12 12:18:00 & 20823 & .37 &   0.37 &       & 0 & 0 &  & \\\\\n",
       "\t 791 & 36 & 165660 & 241249 & 224329 & 2134-05-12 12:00:00 & 2134-05-12 12:19:00 & 20823 & 6   &   6.00 & min   & 0 & 0 &  & \\\\\n",
       "\\end{tabular}\n"
      ],
      "text/markdown": [
       "\n",
       "A data.table: 4 × 15\n",
       "\n",
       "| ROW_ID &lt;int&gt; | SUBJECT_ID &lt;int&gt; | HADM_ID &lt;int&gt; | ICUSTAY_ID &lt;int&gt; | ITEMID &lt;int&gt; | CHARTTIME &lt;dttm&gt; | STORETIME &lt;dttm&gt; | CGID &lt;int&gt; | VALUE &lt;chr&gt; | VALUENUM &lt;dbl&gt; | VALUEUOM &lt;chr&gt; | WARNING &lt;int&gt; | ERROR &lt;int&gt; | RESULTSTATUS &lt;chr&gt; | STOPPED &lt;chr&gt; |\n",
       "|---|---|---|---|---|---|---|---|---|---|---|---|---|---|---|\n",
       "| 788 | 36 | 165660 | 241249 | 223834 | 2134-05-12 12:00:00 | 2134-05-12 13:56:00 | 17525 | 15  |  15.00 | L/min | 0 | 0 | <!----> | <!----> |\n",
       "| 789 | 36 | 165660 | 241249 | 223835 | 2134-05-12 12:00:00 | 2134-05-12 13:56:00 | 17525 | 100 | 100.00 | <!----> | 0 | 0 | <!----> | <!----> |\n",
       "| 790 | 36 | 165660 | 241249 | 224328 | 2134-05-12 12:00:00 | 2134-05-12 12:18:00 | 20823 | .37 |   0.37 | <!----> | 0 | 0 | <!----> | <!----> |\n",
       "| 791 | 36 | 165660 | 241249 | 224329 | 2134-05-12 12:00:00 | 2134-05-12 12:19:00 | 20823 | 6   |   6.00 | min   | 0 | 0 | <!----> | <!----> |\n",
       "\n"
      ],
      "text/plain": [
       "  ROW_ID SUBJECT_ID HADM_ID ICUSTAY_ID ITEMID CHARTTIME          \n",
       "1 788    36         165660  241249     223834 2134-05-12 12:00:00\n",
       "2 789    36         165660  241249     223835 2134-05-12 12:00:00\n",
       "3 790    36         165660  241249     224328 2134-05-12 12:00:00\n",
       "4 791    36         165660  241249     224329 2134-05-12 12:00:00\n",
       "  STORETIME           CGID  VALUE VALUENUM VALUEUOM WARNING ERROR RESULTSTATUS\n",
       "1 2134-05-12 13:56:00 17525 15     15.00   L/min    0       0                 \n",
       "2 2134-05-12 13:56:00 17525 100   100.00            0       0                 \n",
       "3 2134-05-12 12:18:00 20823 .37     0.37            0       0                 \n",
       "4 2134-05-12 12:19:00 20823 6       6.00   min      0       0                 \n",
       "  STOPPED\n",
       "1        \n",
       "2        \n",
       "3        \n",
       "4        "
      ]
     },
     "metadata": {},
     "output_type": "display_data"
    }
   ],
   "source": [
    "chartevents[1:4,]"
   ]
  },
  {
   "cell_type": "code",
   "execution_count": 275,
   "metadata": {},
   "outputs": [],
   "source": [
    "chartevents<-chartevents[which(chartevents$ITEMID %in% itemid_chartevents),]"
   ]
  },
  {
   "cell_type": "code",
   "execution_count": 276,
   "metadata": {},
   "outputs": [
    {
     "data": {
      "text/html": [
       "<style>\n",
       ".list-inline {list-style: none; margin:0; padding: 0}\n",
       ".list-inline>li {display: inline-block}\n",
       ".list-inline>li:not(:last-child)::after {content: \"\\00b7\"; padding: 0 .5ex}\n",
       "</style>\n",
       "<ol class=list-inline><li>22432261</li><li>15</li></ol>\n"
      ],
      "text/latex": [
       "\\begin{enumerate*}\n",
       "\\item 22432261\n",
       "\\item 15\n",
       "\\end{enumerate*}\n"
      ],
      "text/markdown": [
       "1. 22432261\n",
       "2. 15\n",
       "\n",
       "\n"
      ],
      "text/plain": [
       "[1] 22432261       15"
      ]
     },
     "metadata": {},
     "output_type": "display_data"
    }
   ],
   "source": [
    "dim(chartevents)"
   ]
  },
  {
   "cell_type": "markdown",
   "metadata": {},
   "source": [
    "- 去除 hadm_id 或 subject_id 缺失的"
   ]
  },
  {
   "cell_type": "code",
   "execution_count": 277,
   "metadata": {},
   "outputs": [],
   "source": [
    "chartevents<-chartevents[which(!is.na(chartevents$SUBJECT_ID) & !is.na(chartevents$HADM_ID)),]"
   ]
  },
  {
   "cell_type": "code",
   "execution_count": 278,
   "metadata": {},
   "outputs": [
    {
     "data": {
      "text/html": [
       "<style>\n",
       ".list-inline {list-style: none; margin:0; padding: 0}\n",
       ".list-inline>li {display: inline-block}\n",
       ".list-inline>li:not(:last-child)::after {content: \"\\00b7\"; padding: 0 .5ex}\n",
       "</style>\n",
       "<ol class=list-inline><li>22432261</li><li>15</li></ol>\n"
      ],
      "text/latex": [
       "\\begin{enumerate*}\n",
       "\\item 22432261\n",
       "\\item 15\n",
       "\\end{enumerate*}\n"
      ],
      "text/markdown": [
       "1. 22432261\n",
       "2. 15\n",
       "\n",
       "\n"
      ],
      "text/plain": [
       "[1] 22432261       15"
      ]
     },
     "metadata": {},
     "output_type": "display_data"
    }
   ],
   "source": [
    "dim(chartevents)"
   ]
  },
  {
   "cell_type": "code",
   "execution_count": 279,
   "metadata": {},
   "outputs": [],
   "source": [
    "fwrite(chartevents,file=\"./chartevents.csv\",row.names=F)"
   ]
  },
  {
   "cell_type": "code",
   "execution_count": 2271,
   "metadata": {},
   "outputs": [],
   "source": [
    "# chartevents<-fread(\"./chartevents.csv\",header=T,fill=T)"
   ]
  },
  {
   "cell_type": "code",
   "execution_count": 2272,
   "metadata": {},
   "outputs": [
    {
     "data": {
      "text/html": [
       "<table class=\"dataframe\">\n",
       "<caption>A data.table: 4 × 17</caption>\n",
       "<thead>\n",
       "\t<tr><th scope=col>HADM_ID</th><th scope=col>ROW_ID</th><th scope=col>SUBJECT_ID</th><th scope=col>ICUSTAY_ID</th><th scope=col>ITEMID</th><th scope=col>CHARTTIME</th><th scope=col>STORETIME</th><th scope=col>CGID</th><th scope=col>VALUE</th><th scope=col>VALUENUM</th><th scope=col>VALUEUOM</th><th scope=col>WARNING</th><th scope=col>ERROR</th><th scope=col>RESULTSTATUS</th><th scope=col>STOPPED</th><th scope=col>ADMITTIME</th><th scope=col>TIME</th></tr>\n",
       "\t<tr><th scope=col>&lt;int&gt;</th><th scope=col>&lt;int&gt;</th><th scope=col>&lt;int&gt;</th><th scope=col>&lt;int&gt;</th><th scope=col>&lt;int&gt;</th><th scope=col>&lt;dttm&gt;</th><th scope=col>&lt;dttm&gt;</th><th scope=col>&lt;int&gt;</th><th scope=col>&lt;chr&gt;</th><th scope=col>&lt;dbl&gt;</th><th scope=col>&lt;chr&gt;</th><th scope=col>&lt;int&gt;</th><th scope=col>&lt;int&gt;</th><th scope=col>&lt;lgl&gt;</th><th scope=col>&lt;chr&gt;</th><th scope=col>&lt;dttm&gt;</th><th scope=col>&lt;int&gt;</th></tr>\n",
       "</thead>\n",
       "<tbody>\n",
       "\t<tr><td>100009</td><td>261426625</td><td>533</td><td>253656</td><td>223900</td><td>2162-05-17 18:30:00</td><td>2162-05-17 18:56:00</td><td>17130</td><td>No Response-ETT</td><td>1</td><td></td><td>0</td><td>0</td><td>NA</td><td></td><td>2162-05-16 15:56:00</td><td>27</td></tr>\n",
       "\t<tr><td>100009</td><td>261426771</td><td>533</td><td>253656</td><td>223900</td><td>2162-05-17 20:04:00</td><td>2162-05-17 20:05:00</td><td>14228</td><td>No Response-ETT</td><td>1</td><td></td><td>0</td><td>0</td><td>NA</td><td></td><td>2162-05-16 15:56:00</td><td>28</td></tr>\n",
       "\t<tr><td>100009</td><td>261426919</td><td>533</td><td>253656</td><td>223900</td><td>2162-05-17 23:17:00</td><td>2162-05-17 23:18:00</td><td>14228</td><td>Oriented       </td><td>5</td><td></td><td>0</td><td>0</td><td>NA</td><td></td><td>2162-05-16 15:56:00</td><td>31</td></tr>\n",
       "\t<tr><td>100009</td><td>261427915</td><td>533</td><td>253656</td><td>223900</td><td>2162-05-19 08:16:00</td><td>2162-05-19 15:17:00</td><td>17582</td><td>Oriented       </td><td>5</td><td></td><td>0</td><td>0</td><td>NA</td><td></td><td>2162-05-16 15:56:00</td><td>64</td></tr>\n",
       "</tbody>\n",
       "</table>\n"
      ],
      "text/latex": [
       "A data.table: 4 × 17\n",
       "\\begin{tabular}{lllllllllllllllll}\n",
       " HADM\\_ID & ROW\\_ID & SUBJECT\\_ID & ICUSTAY\\_ID & ITEMID & CHARTTIME & STORETIME & CGID & VALUE & VALUENUM & VALUEUOM & WARNING & ERROR & RESULTSTATUS & STOPPED & ADMITTIME & TIME\\\\\n",
       " <int> & <int> & <int> & <int> & <int> & <dttm> & <dttm> & <int> & <chr> & <dbl> & <chr> & <int> & <int> & <lgl> & <chr> & <dttm> & <int>\\\\\n",
       "\\hline\n",
       "\t 100009 & 261426625 & 533 & 253656 & 223900 & 2162-05-17 18:30:00 & 2162-05-17 18:56:00 & 17130 & No Response-ETT & 1 &  & 0 & 0 & NA &  & 2162-05-16 15:56:00 & 27\\\\\n",
       "\t 100009 & 261426771 & 533 & 253656 & 223900 & 2162-05-17 20:04:00 & 2162-05-17 20:05:00 & 14228 & No Response-ETT & 1 &  & 0 & 0 & NA &  & 2162-05-16 15:56:00 & 28\\\\\n",
       "\t 100009 & 261426919 & 533 & 253656 & 223900 & 2162-05-17 23:17:00 & 2162-05-17 23:18:00 & 14228 & Oriented        & 5 &  & 0 & 0 & NA &  & 2162-05-16 15:56:00 & 31\\\\\n",
       "\t 100009 & 261427915 & 533 & 253656 & 223900 & 2162-05-19 08:16:00 & 2162-05-19 15:17:00 & 17582 & Oriented        & 5 &  & 0 & 0 & NA &  & 2162-05-16 15:56:00 & 64\\\\\n",
       "\\end{tabular}\n"
      ],
      "text/markdown": [
       "\n",
       "A data.table: 4 × 17\n",
       "\n",
       "| HADM_ID &lt;int&gt; | ROW_ID &lt;int&gt; | SUBJECT_ID &lt;int&gt; | ICUSTAY_ID &lt;int&gt; | ITEMID &lt;int&gt; | CHARTTIME &lt;dttm&gt; | STORETIME &lt;dttm&gt; | CGID &lt;int&gt; | VALUE &lt;chr&gt; | VALUENUM &lt;dbl&gt; | VALUEUOM &lt;chr&gt; | WARNING &lt;int&gt; | ERROR &lt;int&gt; | RESULTSTATUS &lt;lgl&gt; | STOPPED &lt;chr&gt; | ADMITTIME &lt;dttm&gt; | TIME &lt;int&gt; |\n",
       "|---|---|---|---|---|---|---|---|---|---|---|---|---|---|---|---|---|\n",
       "| 100009 | 261426625 | 533 | 253656 | 223900 | 2162-05-17 18:30:00 | 2162-05-17 18:56:00 | 17130 | No Response-ETT | 1 | <!----> | 0 | 0 | NA | <!----> | 2162-05-16 15:56:00 | 27 |\n",
       "| 100009 | 261426771 | 533 | 253656 | 223900 | 2162-05-17 20:04:00 | 2162-05-17 20:05:00 | 14228 | No Response-ETT | 1 | <!----> | 0 | 0 | NA | <!----> | 2162-05-16 15:56:00 | 28 |\n",
       "| 100009 | 261426919 | 533 | 253656 | 223900 | 2162-05-17 23:17:00 | 2162-05-17 23:18:00 | 14228 | Oriented        | 5 | <!----> | 0 | 0 | NA | <!----> | 2162-05-16 15:56:00 | 31 |\n",
       "| 100009 | 261427915 | 533 | 253656 | 223900 | 2162-05-19 08:16:00 | 2162-05-19 15:17:00 | 17582 | Oriented        | 5 | <!----> | 0 | 0 | NA | <!----> | 2162-05-16 15:56:00 | 64 |\n",
       "\n"
      ],
      "text/plain": [
       "  HADM_ID ROW_ID    SUBJECT_ID ICUSTAY_ID ITEMID CHARTTIME          \n",
       "1 100009  261426625 533        253656     223900 2162-05-17 18:30:00\n",
       "2 100009  261426771 533        253656     223900 2162-05-17 20:04:00\n",
       "3 100009  261426919 533        253656     223900 2162-05-17 23:17:00\n",
       "4 100009  261427915 533        253656     223900 2162-05-19 08:16:00\n",
       "  STORETIME           CGID  VALUE           VALUENUM VALUEUOM WARNING ERROR\n",
       "1 2162-05-17 18:56:00 17130 No Response-ETT 1                 0       0    \n",
       "2 2162-05-17 20:05:00 14228 No Response-ETT 1                 0       0    \n",
       "3 2162-05-17 23:18:00 14228 Oriented        5                 0       0    \n",
       "4 2162-05-19 15:17:00 17582 Oriented        5                 0       0    \n",
       "  RESULTSTATUS STOPPED ADMITTIME           TIME\n",
       "1 NA                   2162-05-16 15:56:00 27  \n",
       "2 NA                   2162-05-16 15:56:00 28  \n",
       "3 NA                   2162-05-16 15:56:00 31  \n",
       "4 NA                   2162-05-16 15:56:00 64  "
      ]
     },
     "metadata": {},
     "output_type": "display_data"
    }
   ],
   "source": [
    "chartevents[which(chartevents$ITEMID==223900)[1:4],]"
   ]
  },
  {
   "cell_type": "code",
   "execution_count": 281,
   "metadata": {},
   "outputs": [],
   "source": [
    "labevents<-fread(\"/home/luojiawei/mimic3/mimic3_data/LABEVENTS.csv\",header=T,fill=T)"
   ]
  },
  {
   "cell_type": "code",
   "execution_count": 282,
   "metadata": {},
   "outputs": [
    {
     "data": {
      "text/html": [
       "<table class=\"dataframe\">\n",
       "<caption>A data.table: 4 × 9</caption>\n",
       "<thead>\n",
       "\t<tr><th scope=col>ROW_ID</th><th scope=col>SUBJECT_ID</th><th scope=col>HADM_ID</th><th scope=col>ITEMID</th><th scope=col>CHARTTIME</th><th scope=col>VALUE</th><th scope=col>VALUENUM</th><th scope=col>VALUEUOM</th><th scope=col>FLAG</th></tr>\n",
       "\t<tr><th scope=col>&lt;int&gt;</th><th scope=col>&lt;int&gt;</th><th scope=col>&lt;int&gt;</th><th scope=col>&lt;int&gt;</th><th scope=col>&lt;dttm&gt;</th><th scope=col>&lt;chr&gt;</th><th scope=col>&lt;dbl&gt;</th><th scope=col>&lt;chr&gt;</th><th scope=col>&lt;chr&gt;</th></tr>\n",
       "</thead>\n",
       "<tbody>\n",
       "\t<tr><td>281</td><td>3</td><td>NA</td><td>50820</td><td>2101-10-12 16:07:00</td><td>7.39</td><td> 7.39</td><td>units</td><td></td></tr>\n",
       "\t<tr><td>282</td><td>3</td><td>NA</td><td>50800</td><td>2101-10-12 18:17:00</td><td>ART </td><td>   NA</td><td>     </td><td></td></tr>\n",
       "\t<tr><td>283</td><td>3</td><td>NA</td><td>50802</td><td>2101-10-12 18:17:00</td><td>-1  </td><td>-1.00</td><td>mEq/L</td><td></td></tr>\n",
       "\t<tr><td>284</td><td>3</td><td>NA</td><td>50804</td><td>2101-10-12 18:17:00</td><td>22  </td><td>22.00</td><td>mEq/L</td><td></td></tr>\n",
       "</tbody>\n",
       "</table>\n"
      ],
      "text/latex": [
       "A data.table: 4 × 9\n",
       "\\begin{tabular}{lllllllll}\n",
       " ROW\\_ID & SUBJECT\\_ID & HADM\\_ID & ITEMID & CHARTTIME & VALUE & VALUENUM & VALUEUOM & FLAG\\\\\n",
       " <int> & <int> & <int> & <int> & <dttm> & <chr> & <dbl> & <chr> & <chr>\\\\\n",
       "\\hline\n",
       "\t 281 & 3 & NA & 50820 & 2101-10-12 16:07:00 & 7.39 &  7.39 & units & \\\\\n",
       "\t 282 & 3 & NA & 50800 & 2101-10-12 18:17:00 & ART  &    NA &       & \\\\\n",
       "\t 283 & 3 & NA & 50802 & 2101-10-12 18:17:00 & -1   & -1.00 & mEq/L & \\\\\n",
       "\t 284 & 3 & NA & 50804 & 2101-10-12 18:17:00 & 22   & 22.00 & mEq/L & \\\\\n",
       "\\end{tabular}\n"
      ],
      "text/markdown": [
       "\n",
       "A data.table: 4 × 9\n",
       "\n",
       "| ROW_ID &lt;int&gt; | SUBJECT_ID &lt;int&gt; | HADM_ID &lt;int&gt; | ITEMID &lt;int&gt; | CHARTTIME &lt;dttm&gt; | VALUE &lt;chr&gt; | VALUENUM &lt;dbl&gt; | VALUEUOM &lt;chr&gt; | FLAG &lt;chr&gt; |\n",
       "|---|---|---|---|---|---|---|---|---|\n",
       "| 281 | 3 | NA | 50820 | 2101-10-12 16:07:00 | 7.39 |  7.39 | units | <!----> |\n",
       "| 282 | 3 | NA | 50800 | 2101-10-12 18:17:00 | ART  |    NA | <!----> | <!----> |\n",
       "| 283 | 3 | NA | 50802 | 2101-10-12 18:17:00 | -1   | -1.00 | mEq/L | <!----> |\n",
       "| 284 | 3 | NA | 50804 | 2101-10-12 18:17:00 | 22   | 22.00 | mEq/L | <!----> |\n",
       "\n"
      ],
      "text/plain": [
       "  ROW_ID SUBJECT_ID HADM_ID ITEMID CHARTTIME           VALUE VALUENUM VALUEUOM\n",
       "1 281    3          NA      50820  2101-10-12 16:07:00 7.39   7.39    units   \n",
       "2 282    3          NA      50800  2101-10-12 18:17:00 ART      NA            \n",
       "3 283    3          NA      50802  2101-10-12 18:17:00 -1    -1.00    mEq/L   \n",
       "4 284    3          NA      50804  2101-10-12 18:17:00 22    22.00    mEq/L   \n",
       "  FLAG\n",
       "1     \n",
       "2     \n",
       "3     \n",
       "4     "
      ]
     },
     "metadata": {},
     "output_type": "display_data"
    }
   ],
   "source": [
    "labevents[1:4,]"
   ]
  },
  {
   "cell_type": "code",
   "execution_count": 283,
   "metadata": {},
   "outputs": [],
   "source": [
    "labevents<-labevents[which(labevents$ITEMID %in% itemid_labevents),]"
   ]
  },
  {
   "cell_type": "code",
   "execution_count": 284,
   "metadata": {},
   "outputs": [
    {
     "data": {
      "text/html": [
       "<style>\n",
       ".list-inline {list-style: none; margin:0; padding: 0}\n",
       ".list-inline>li {display: inline-block}\n",
       ".list-inline>li:not(:last-child)::after {content: \"\\00b7\"; padding: 0 .5ex}\n",
       "</style>\n",
       "<ol class=list-inline><li>5032016</li><li>9</li></ol>\n"
      ],
      "text/latex": [
       "\\begin{enumerate*}\n",
       "\\item 5032016\n",
       "\\item 9\n",
       "\\end{enumerate*}\n"
      ],
      "text/markdown": [
       "1. 5032016\n",
       "2. 9\n",
       "\n",
       "\n"
      ],
      "text/plain": [
       "[1] 5032016       9"
      ]
     },
     "metadata": {},
     "output_type": "display_data"
    }
   ],
   "source": [
    "dim(labevents)"
   ]
  },
  {
   "cell_type": "markdown",
   "metadata": {},
   "source": [
    "- 去除 hadm_id 或 subject_id 缺失的"
   ]
  },
  {
   "cell_type": "code",
   "execution_count": 285,
   "metadata": {},
   "outputs": [],
   "source": [
    "labevents<-labevents[which(!is.na(labevents$SUBJECT_ID) & !is.na(labevents$HADM_ID)),]"
   ]
  },
  {
   "cell_type": "code",
   "execution_count": 286,
   "metadata": {},
   "outputs": [
    {
     "data": {
      "text/html": [
       "<style>\n",
       ".list-inline {list-style: none; margin:0; padding: 0}\n",
       ".list-inline>li {display: inline-block}\n",
       ".list-inline>li:not(:last-child)::after {content: \"\\00b7\"; padding: 0 .5ex}\n",
       "</style>\n",
       "<ol class=list-inline><li>4099472</li><li>9</li></ol>\n"
      ],
      "text/latex": [
       "\\begin{enumerate*}\n",
       "\\item 4099472\n",
       "\\item 9\n",
       "\\end{enumerate*}\n"
      ],
      "text/markdown": [
       "1. 4099472\n",
       "2. 9\n",
       "\n",
       "\n"
      ],
      "text/plain": [
       "[1] 4099472       9"
      ]
     },
     "metadata": {},
     "output_type": "display_data"
    }
   ],
   "source": [
    "dim(labevents)"
   ]
  },
  {
   "cell_type": "code",
   "execution_count": 287,
   "metadata": {},
   "outputs": [],
   "source": [
    "fwrite(labevents,file=\"./labevents.csv\",row.names=F)"
   ]
  },
  {
   "cell_type": "code",
   "execution_count": 2270,
   "metadata": {},
   "outputs": [],
   "source": [
    "# labevents<-fread(\"./labevents.csv\",header=T,fill=T)"
   ]
  },
  {
   "cell_type": "code",
   "execution_count": 288,
   "metadata": {},
   "outputs": [],
   "source": [
    "outputevents<-fread(\"/home/luojiawei/mimic3/mimic3_data/OUTPUTEVENTS.csv\",header=T,fill=T)"
   ]
  },
  {
   "cell_type": "code",
   "execution_count": 289,
   "metadata": {},
   "outputs": [
    {
     "data": {
      "text/html": [
       "<table class=\"dataframe\">\n",
       "<caption>A data.table: 4 × 13</caption>\n",
       "<thead>\n",
       "\t<tr><th scope=col>ROW_ID</th><th scope=col>SUBJECT_ID</th><th scope=col>HADM_ID</th><th scope=col>ICUSTAY_ID</th><th scope=col>CHARTTIME</th><th scope=col>ITEMID</th><th scope=col>VALUE</th><th scope=col>VALUEUOM</th><th scope=col>STORETIME</th><th scope=col>CGID</th><th scope=col>STOPPED</th><th scope=col>NEWBOTTLE</th><th scope=col>ISERROR</th></tr>\n",
       "\t<tr><th scope=col>&lt;int&gt;</th><th scope=col>&lt;int&gt;</th><th scope=col>&lt;int&gt;</th><th scope=col>&lt;int&gt;</th><th scope=col>&lt;dttm&gt;</th><th scope=col>&lt;int&gt;</th><th scope=col>&lt;dbl&gt;</th><th scope=col>&lt;chr&gt;</th><th scope=col>&lt;dttm&gt;</th><th scope=col>&lt;int&gt;</th><th scope=col>&lt;lgl&gt;</th><th scope=col>&lt;lgl&gt;</th><th scope=col>&lt;lgl&gt;</th></tr>\n",
       "</thead>\n",
       "<tbody>\n",
       "\t<tr><td>344</td><td>21219</td><td>177991</td><td>225765</td><td>2142-09-08 10:00:00</td><td>40055</td><td>200</td><td>ml</td><td>2142-09-08 12:08:00</td><td>17269</td><td>NA</td><td>NA</td><td>NA</td></tr>\n",
       "\t<tr><td>345</td><td>21219</td><td>177991</td><td>225765</td><td>2142-09-08 12:00:00</td><td>40055</td><td>200</td><td>ml</td><td>2142-09-08 12:08:00</td><td>17269</td><td>NA</td><td>NA</td><td>NA</td></tr>\n",
       "\t<tr><td>346</td><td>21219</td><td>177991</td><td>225765</td><td>2142-09-08 13:00:00</td><td>40055</td><td>120</td><td>ml</td><td>2142-09-08 13:39:00</td><td>17269</td><td>NA</td><td>NA</td><td>NA</td></tr>\n",
       "\t<tr><td>347</td><td>21219</td><td>177991</td><td>225765</td><td>2142-09-08 14:00:00</td><td>40055</td><td>100</td><td>ml</td><td>2142-09-08 16:17:00</td><td>17269</td><td>NA</td><td>NA</td><td>NA</td></tr>\n",
       "</tbody>\n",
       "</table>\n"
      ],
      "text/latex": [
       "A data.table: 4 × 13\n",
       "\\begin{tabular}{lllllllllllll}\n",
       " ROW\\_ID & SUBJECT\\_ID & HADM\\_ID & ICUSTAY\\_ID & CHARTTIME & ITEMID & VALUE & VALUEUOM & STORETIME & CGID & STOPPED & NEWBOTTLE & ISERROR\\\\\n",
       " <int> & <int> & <int> & <int> & <dttm> & <int> & <dbl> & <chr> & <dttm> & <int> & <lgl> & <lgl> & <lgl>\\\\\n",
       "\\hline\n",
       "\t 344 & 21219 & 177991 & 225765 & 2142-09-08 10:00:00 & 40055 & 200 & ml & 2142-09-08 12:08:00 & 17269 & NA & NA & NA\\\\\n",
       "\t 345 & 21219 & 177991 & 225765 & 2142-09-08 12:00:00 & 40055 & 200 & ml & 2142-09-08 12:08:00 & 17269 & NA & NA & NA\\\\\n",
       "\t 346 & 21219 & 177991 & 225765 & 2142-09-08 13:00:00 & 40055 & 120 & ml & 2142-09-08 13:39:00 & 17269 & NA & NA & NA\\\\\n",
       "\t 347 & 21219 & 177991 & 225765 & 2142-09-08 14:00:00 & 40055 & 100 & ml & 2142-09-08 16:17:00 & 17269 & NA & NA & NA\\\\\n",
       "\\end{tabular}\n"
      ],
      "text/markdown": [
       "\n",
       "A data.table: 4 × 13\n",
       "\n",
       "| ROW_ID &lt;int&gt; | SUBJECT_ID &lt;int&gt; | HADM_ID &lt;int&gt; | ICUSTAY_ID &lt;int&gt; | CHARTTIME &lt;dttm&gt; | ITEMID &lt;int&gt; | VALUE &lt;dbl&gt; | VALUEUOM &lt;chr&gt; | STORETIME &lt;dttm&gt; | CGID &lt;int&gt; | STOPPED &lt;lgl&gt; | NEWBOTTLE &lt;lgl&gt; | ISERROR &lt;lgl&gt; |\n",
       "|---|---|---|---|---|---|---|---|---|---|---|---|---|\n",
       "| 344 | 21219 | 177991 | 225765 | 2142-09-08 10:00:00 | 40055 | 200 | ml | 2142-09-08 12:08:00 | 17269 | NA | NA | NA |\n",
       "| 345 | 21219 | 177991 | 225765 | 2142-09-08 12:00:00 | 40055 | 200 | ml | 2142-09-08 12:08:00 | 17269 | NA | NA | NA |\n",
       "| 346 | 21219 | 177991 | 225765 | 2142-09-08 13:00:00 | 40055 | 120 | ml | 2142-09-08 13:39:00 | 17269 | NA | NA | NA |\n",
       "| 347 | 21219 | 177991 | 225765 | 2142-09-08 14:00:00 | 40055 | 100 | ml | 2142-09-08 16:17:00 | 17269 | NA | NA | NA |\n",
       "\n"
      ],
      "text/plain": [
       "  ROW_ID SUBJECT_ID HADM_ID ICUSTAY_ID CHARTTIME           ITEMID VALUE\n",
       "1 344    21219      177991  225765     2142-09-08 10:00:00 40055  200  \n",
       "2 345    21219      177991  225765     2142-09-08 12:00:00 40055  200  \n",
       "3 346    21219      177991  225765     2142-09-08 13:00:00 40055  120  \n",
       "4 347    21219      177991  225765     2142-09-08 14:00:00 40055  100  \n",
       "  VALUEUOM STORETIME           CGID  STOPPED NEWBOTTLE ISERROR\n",
       "1 ml       2142-09-08 12:08:00 17269 NA      NA        NA     \n",
       "2 ml       2142-09-08 12:08:00 17269 NA      NA        NA     \n",
       "3 ml       2142-09-08 13:39:00 17269 NA      NA        NA     \n",
       "4 ml       2142-09-08 16:17:00 17269 NA      NA        NA     "
      ]
     },
     "metadata": {},
     "output_type": "display_data"
    }
   ],
   "source": [
    "outputevents[1:4,]"
   ]
  },
  {
   "cell_type": "code",
   "execution_count": 290,
   "metadata": {},
   "outputs": [],
   "source": [
    "outputevents<-outputevents[which(outputevents$ITEMID %in% itemid_outputevents),]"
   ]
  },
  {
   "cell_type": "markdown",
   "metadata": {},
   "source": [
    "- 去除 hadm_id 或 subject_id 缺失的"
   ]
  },
  {
   "cell_type": "code",
   "execution_count": 291,
   "metadata": {},
   "outputs": [],
   "source": [
    "outputevents<-outputevents[which(!is.na(outputevents$SUBJECT_ID) & !is.na(outputevents$HADM_ID)),]"
   ]
  },
  {
   "cell_type": "code",
   "execution_count": 292,
   "metadata": {},
   "outputs": [
    {
     "data": {
      "text/html": [
       "<style>\n",
       ".list-inline {list-style: none; margin:0; padding: 0}\n",
       ".list-inline>li {display: inline-block}\n",
       ".list-inline>li:not(:last-child)::after {content: \"\\00b7\"; padding: 0 .5ex}\n",
       "</style>\n",
       "<ol class=list-inline><li>3396821</li><li>13</li></ol>\n"
      ],
      "text/latex": [
       "\\begin{enumerate*}\n",
       "\\item 3396821\n",
       "\\item 13\n",
       "\\end{enumerate*}\n"
      ],
      "text/markdown": [
       "1. 3396821\n",
       "2. 13\n",
       "\n",
       "\n"
      ],
      "text/plain": [
       "[1] 3396821      13"
      ]
     },
     "metadata": {},
     "output_type": "display_data"
    }
   ],
   "source": [
    "dim(outputevents)"
   ]
  },
  {
   "cell_type": "code",
   "execution_count": 293,
   "metadata": {},
   "outputs": [],
   "source": [
    "fwrite(outputevents,file=\"./outputevents.csv\",row.names=F)"
   ]
  },
  {
   "cell_type": "code",
   "execution_count": 2269,
   "metadata": {},
   "outputs": [],
   "source": [
    "# outputevents<-fread(\"./outputevents.csv\",header=T,fill=T)"
   ]
  },
  {
   "cell_type": "markdown",
   "metadata": {},
   "source": [
    "### 样本筛选"
   ]
  },
  {
   "cell_type": "markdown",
   "metadata": {},
   "source": [
    "- 去除有多次入院的患者\n",
    "- 去除18岁以下的患者"
   ]
  },
  {
   "cell_type": "code",
   "execution_count": 10,
   "metadata": {},
   "outputs": [
    {
     "name": "stderr",
     "output_type": "stream",
     "text": [
      "Warning message in fread(\"/home/luojiawei/mimic3/mimic3_data/ADMISSIONS.csv\", header = T, :\n",
      "“Previous fread() session was not cleaned up properly. Cleaned up ok at the beginning of this fread() call.”\n"
     ]
    }
   ],
   "source": [
    "admissions<-fread(\"/home/luojiawei/mimic3/mimic3_data/ADMISSIONS.csv\",header=T,fill=T)"
   ]
  },
  {
   "cell_type": "code",
   "execution_count": 11,
   "metadata": {},
   "outputs": [
    {
     "name": "stdout",
     "output_type": "stream",
     "text": [
      "[1] \"总的admission数量:\"\n",
      "[1] 58976\n",
      "[1] \"admissions表中总的患者数量:\"\n",
      "[1] 46520\n"
     ]
    }
   ],
   "source": [
    "print(\"总的admission数量:\")\n",
    "print(nrow(admissions))\n",
    "print(\"admissions表中总的患者数量:\")\n",
    "print(length(unique(admissions$SUBJECT_ID)))"
   ]
  },
  {
   "cell_type": "code",
   "execution_count": 12,
   "metadata": {},
   "outputs": [
    {
     "data": {
      "text/html": [
       "<table class=\"dataframe\">\n",
       "<caption>A data.table: 4 × 19</caption>\n",
       "<thead>\n",
       "\t<tr><th scope=col>ROW_ID</th><th scope=col>SUBJECT_ID</th><th scope=col>HADM_ID</th><th scope=col>ADMITTIME</th><th scope=col>DISCHTIME</th><th scope=col>DEATHTIME</th><th scope=col>ADMISSION_TYPE</th><th scope=col>ADMISSION_LOCATION</th><th scope=col>DISCHARGE_LOCATION</th><th scope=col>INSURANCE</th><th scope=col>LANGUAGE</th><th scope=col>RELIGION</th><th scope=col>MARITAL_STATUS</th><th scope=col>ETHNICITY</th><th scope=col>EDREGTIME</th><th scope=col>EDOUTTIME</th><th scope=col>DIAGNOSIS</th><th scope=col>HOSPITAL_EXPIRE_FLAG</th><th scope=col>HAS_CHARTEVENTS_DATA</th></tr>\n",
       "\t<tr><th scope=col>&lt;int&gt;</th><th scope=col>&lt;int&gt;</th><th scope=col>&lt;int&gt;</th><th scope=col>&lt;dttm&gt;</th><th scope=col>&lt;dttm&gt;</th><th scope=col>&lt;dttm&gt;</th><th scope=col>&lt;chr&gt;</th><th scope=col>&lt;chr&gt;</th><th scope=col>&lt;chr&gt;</th><th scope=col>&lt;chr&gt;</th><th scope=col>&lt;chr&gt;</th><th scope=col>&lt;chr&gt;</th><th scope=col>&lt;chr&gt;</th><th scope=col>&lt;chr&gt;</th><th scope=col>&lt;dttm&gt;</th><th scope=col>&lt;dttm&gt;</th><th scope=col>&lt;chr&gt;</th><th scope=col>&lt;int&gt;</th><th scope=col>&lt;int&gt;</th></tr>\n",
       "</thead>\n",
       "<tbody>\n",
       "\t<tr><td>21</td><td>22</td><td>165315</td><td>2196-04-09 12:26:00</td><td>2196-04-10 15:54:00</td><td>NA</td><td>EMERGENCY</td><td>EMERGENCY ROOM ADMIT     </td><td>DISC-TRAN CANCER/CHLDRN H</td><td>Private </td><td>    </td><td>UNOBTAINABLE     </td><td>MARRIED</td><td>WHITE</td><td>2196-04-09 10:06:00</td><td>2196-04-09 13:24:00</td><td>BENZODIAZEPINE OVERDOSE                                  </td><td>0</td><td>1</td></tr>\n",
       "\t<tr><td>22</td><td>23</td><td>152223</td><td>2153-09-03 07:15:00</td><td>2153-09-08 19:10:00</td><td>NA</td><td>ELECTIVE </td><td>PHYS REFERRAL/NORMAL DELI</td><td>HOME HEALTH CARE         </td><td>Medicare</td><td>    </td><td>CATHOLIC         </td><td>MARRIED</td><td>WHITE</td><td>NA</td><td>NA</td><td>CORONARY ARTERY DISEASE\\CORONARY ARTERY BYPASS GRAFT/SDA</td><td>0</td><td>1</td></tr>\n",
       "\t<tr><td>23</td><td>23</td><td>124321</td><td>2157-10-18 19:34:00</td><td>2157-10-25 14:00:00</td><td>NA</td><td>EMERGENCY</td><td>TRANSFER FROM HOSP/EXTRAM</td><td>HOME HEALTH CARE         </td><td>Medicare</td><td>ENGL</td><td>CATHOLIC         </td><td>MARRIED</td><td>WHITE</td><td>NA</td><td>NA</td><td>BRAIN MASS                                               </td><td>0</td><td>1</td></tr>\n",
       "\t<tr><td>24</td><td>24</td><td>161859</td><td>2139-06-06 16:14:00</td><td>2139-06-09 12:48:00</td><td>NA</td><td>EMERGENCY</td><td>TRANSFER FROM HOSP/EXTRAM</td><td>HOME                     </td><td>Private </td><td>    </td><td>PROTESTANT QUAKER</td><td>SINGLE </td><td>WHITE</td><td>NA</td><td>NA</td><td>INTERIOR MYOCARDIAL INFARCTION                           </td><td>0</td><td>1</td></tr>\n",
       "</tbody>\n",
       "</table>\n"
      ],
      "text/latex": [
       "A data.table: 4 × 19\n",
       "\\begin{tabular}{lllllllllllllllllll}\n",
       " ROW\\_ID & SUBJECT\\_ID & HADM\\_ID & ADMITTIME & DISCHTIME & DEATHTIME & ADMISSION\\_TYPE & ADMISSION\\_LOCATION & DISCHARGE\\_LOCATION & INSURANCE & LANGUAGE & RELIGION & MARITAL\\_STATUS & ETHNICITY & EDREGTIME & EDOUTTIME & DIAGNOSIS & HOSPITAL\\_EXPIRE\\_FLAG & HAS\\_CHARTEVENTS\\_DATA\\\\\n",
       " <int> & <int> & <int> & <dttm> & <dttm> & <dttm> & <chr> & <chr> & <chr> & <chr> & <chr> & <chr> & <chr> & <chr> & <dttm> & <dttm> & <chr> & <int> & <int>\\\\\n",
       "\\hline\n",
       "\t 21 & 22 & 165315 & 2196-04-09 12:26:00 & 2196-04-10 15:54:00 & NA & EMERGENCY & EMERGENCY ROOM ADMIT      & DISC-TRAN CANCER/CHLDRN H & Private  &      & UNOBTAINABLE      & MARRIED & WHITE & 2196-04-09 10:06:00 & 2196-04-09 13:24:00 & BENZODIAZEPINE OVERDOSE                                   & 0 & 1\\\\\n",
       "\t 22 & 23 & 152223 & 2153-09-03 07:15:00 & 2153-09-08 19:10:00 & NA & ELECTIVE  & PHYS REFERRAL/NORMAL DELI & HOME HEALTH CARE          & Medicare &      & CATHOLIC          & MARRIED & WHITE & NA & NA & CORONARY ARTERY DISEASE\\textbackslash{}CORONARY ARTERY BYPASS GRAFT/SDA & 0 & 1\\\\\n",
       "\t 23 & 23 & 124321 & 2157-10-18 19:34:00 & 2157-10-25 14:00:00 & NA & EMERGENCY & TRANSFER FROM HOSP/EXTRAM & HOME HEALTH CARE          & Medicare & ENGL & CATHOLIC          & MARRIED & WHITE & NA & NA & BRAIN MASS                                                & 0 & 1\\\\\n",
       "\t 24 & 24 & 161859 & 2139-06-06 16:14:00 & 2139-06-09 12:48:00 & NA & EMERGENCY & TRANSFER FROM HOSP/EXTRAM & HOME                      & Private  &      & PROTESTANT QUAKER & SINGLE  & WHITE & NA & NA & INTERIOR MYOCARDIAL INFARCTION                            & 0 & 1\\\\\n",
       "\\end{tabular}\n"
      ],
      "text/markdown": [
       "\n",
       "A data.table: 4 × 19\n",
       "\n",
       "| ROW_ID &lt;int&gt; | SUBJECT_ID &lt;int&gt; | HADM_ID &lt;int&gt; | ADMITTIME &lt;dttm&gt; | DISCHTIME &lt;dttm&gt; | DEATHTIME &lt;dttm&gt; | ADMISSION_TYPE &lt;chr&gt; | ADMISSION_LOCATION &lt;chr&gt; | DISCHARGE_LOCATION &lt;chr&gt; | INSURANCE &lt;chr&gt; | LANGUAGE &lt;chr&gt; | RELIGION &lt;chr&gt; | MARITAL_STATUS &lt;chr&gt; | ETHNICITY &lt;chr&gt; | EDREGTIME &lt;dttm&gt; | EDOUTTIME &lt;dttm&gt; | DIAGNOSIS &lt;chr&gt; | HOSPITAL_EXPIRE_FLAG &lt;int&gt; | HAS_CHARTEVENTS_DATA &lt;int&gt; |\n",
       "|---|---|---|---|---|---|---|---|---|---|---|---|---|---|---|---|---|---|---|\n",
       "| 21 | 22 | 165315 | 2196-04-09 12:26:00 | 2196-04-10 15:54:00 | NA | EMERGENCY | EMERGENCY ROOM ADMIT      | DISC-TRAN CANCER/CHLDRN H | Private  | <!----> | UNOBTAINABLE      | MARRIED | WHITE | 2196-04-09 10:06:00 | 2196-04-09 13:24:00 | BENZODIAZEPINE OVERDOSE                                   | 0 | 1 |\n",
       "| 22 | 23 | 152223 | 2153-09-03 07:15:00 | 2153-09-08 19:10:00 | NA | ELECTIVE  | PHYS REFERRAL/NORMAL DELI | HOME HEALTH CARE          | Medicare | <!----> | CATHOLIC          | MARRIED | WHITE | NA | NA | CORONARY ARTERY DISEASE\\CORONARY ARTERY BYPASS GRAFT/SDA | 0 | 1 |\n",
       "| 23 | 23 | 124321 | 2157-10-18 19:34:00 | 2157-10-25 14:00:00 | NA | EMERGENCY | TRANSFER FROM HOSP/EXTRAM | HOME HEALTH CARE          | Medicare | ENGL | CATHOLIC          | MARRIED | WHITE | NA | NA | BRAIN MASS                                                | 0 | 1 |\n",
       "| 24 | 24 | 161859 | 2139-06-06 16:14:00 | 2139-06-09 12:48:00 | NA | EMERGENCY | TRANSFER FROM HOSP/EXTRAM | HOME                      | Private  | <!----> | PROTESTANT QUAKER | SINGLE  | WHITE | NA | NA | INTERIOR MYOCARDIAL INFARCTION                            | 0 | 1 |\n",
       "\n"
      ],
      "text/plain": [
       "  ROW_ID SUBJECT_ID HADM_ID ADMITTIME           DISCHTIME           DEATHTIME\n",
       "1 21     22         165315  2196-04-09 12:26:00 2196-04-10 15:54:00 <NA>     \n",
       "2 22     23         152223  2153-09-03 07:15:00 2153-09-08 19:10:00 <NA>     \n",
       "3 23     23         124321  2157-10-18 19:34:00 2157-10-25 14:00:00 <NA>     \n",
       "4 24     24         161859  2139-06-06 16:14:00 2139-06-09 12:48:00 <NA>     \n",
       "  ADMISSION_TYPE ADMISSION_LOCATION        DISCHARGE_LOCATION        INSURANCE\n",
       "1 EMERGENCY      EMERGENCY ROOM ADMIT      DISC-TRAN CANCER/CHLDRN H Private  \n",
       "2 ELECTIVE       PHYS REFERRAL/NORMAL DELI HOME HEALTH CARE          Medicare \n",
       "3 EMERGENCY      TRANSFER FROM HOSP/EXTRAM HOME HEALTH CARE          Medicare \n",
       "4 EMERGENCY      TRANSFER FROM HOSP/EXTRAM HOME                      Private  \n",
       "  LANGUAGE RELIGION          MARITAL_STATUS ETHNICITY EDREGTIME          \n",
       "1          UNOBTAINABLE      MARRIED        WHITE     2196-04-09 10:06:00\n",
       "2          CATHOLIC          MARRIED        WHITE     <NA>               \n",
       "3 ENGL     CATHOLIC          MARRIED        WHITE     <NA>               \n",
       "4          PROTESTANT QUAKER SINGLE         WHITE     <NA>               \n",
       "  EDOUTTIME           DIAGNOSIS                                                \n",
       "1 2196-04-09 13:24:00 BENZODIAZEPINE OVERDOSE                                  \n",
       "2 <NA>                CORONARY ARTERY DISEASE\\\\CORONARY ARTERY BYPASS GRAFT/SDA\n",
       "3 <NA>                BRAIN MASS                                               \n",
       "4 <NA>                INTERIOR MYOCARDIAL INFARCTION                           \n",
       "  HOSPITAL_EXPIRE_FLAG HAS_CHARTEVENTS_DATA\n",
       "1 0                    1                   \n",
       "2 0                    1                   \n",
       "3 0                    1                   \n",
       "4 0                    1                   "
      ]
     },
     "metadata": {},
     "output_type": "display_data"
    }
   ],
   "source": [
    "admissions[1:4,]"
   ]
  },
  {
   "cell_type": "code",
   "execution_count": 13,
   "metadata": {},
   "outputs": [],
   "source": [
    "ad_tab<-table(admissions$SUBJECT_ID)"
   ]
  },
  {
   "cell_type": "code",
   "execution_count": 14,
   "metadata": {},
   "outputs": [],
   "source": [
    "admissions<-admissions[which(admissions$SUBJECT_ID %in% names(ad_tab[ad_tab==1])),]"
   ]
  },
  {
   "cell_type": "code",
   "execution_count": 15,
   "metadata": {},
   "outputs": [
    {
     "name": "stdout",
     "output_type": "stream",
     "text": [
      "[1] \"去除超过1次入院后的总的admission数量:\"\n",
      "[1] 38983\n",
      "[1] \"去除超过1次入院后的admissions表中总的患者数量:\"\n",
      "[1] 38983\n"
     ]
    }
   ],
   "source": [
    "print(\"去除超过1次入院后的总的admission数量:\")\n",
    "print(nrow(admissions))\n",
    "print(\"去除超过1次入院后的admissions表中总的患者数量:\")\n",
    "print(length(unique(admissions$SUBJECT_ID)))"
   ]
  },
  {
   "cell_type": "code",
   "execution_count": 16,
   "metadata": {},
   "outputs": [],
   "source": [
    "patients<-fread(\"/home/luojiawei/mimic3/mimic3_data/PATIENTS.csv\",header=T,fill=T)"
   ]
  },
  {
   "cell_type": "code",
   "execution_count": 17,
   "metadata": {},
   "outputs": [
    {
     "data": {
      "text/html": [
       "<table class=\"dataframe\">\n",
       "<caption>A data.table: 4 × 8</caption>\n",
       "<thead>\n",
       "\t<tr><th scope=col>ROW_ID</th><th scope=col>SUBJECT_ID</th><th scope=col>GENDER</th><th scope=col>DOB</th><th scope=col>DOD</th><th scope=col>DOD_HOSP</th><th scope=col>DOD_SSN</th><th scope=col>EXPIRE_FLAG</th></tr>\n",
       "\t<tr><th scope=col>&lt;int&gt;</th><th scope=col>&lt;int&gt;</th><th scope=col>&lt;chr&gt;</th><th scope=col>&lt;dttm&gt;</th><th scope=col>&lt;dttm&gt;</th><th scope=col>&lt;dttm&gt;</th><th scope=col>&lt;dttm&gt;</th><th scope=col>&lt;int&gt;</th></tr>\n",
       "</thead>\n",
       "<tbody>\n",
       "\t<tr><td>234</td><td>249</td><td>F</td><td>2075-03-13</td><td>NA</td><td>NA</td><td>NA</td><td>0</td></tr>\n",
       "\t<tr><td>235</td><td>250</td><td>F</td><td>2164-12-27</td><td>2188-11-22</td><td>2188-11-22</td><td>NA</td><td>1</td></tr>\n",
       "\t<tr><td>236</td><td>251</td><td>M</td><td>2090-03-15</td><td>NA</td><td>NA</td><td>NA</td><td>0</td></tr>\n",
       "\t<tr><td>237</td><td>252</td><td>M</td><td>2078-03-06</td><td>NA</td><td>NA</td><td>NA</td><td>0</td></tr>\n",
       "</tbody>\n",
       "</table>\n"
      ],
      "text/latex": [
       "A data.table: 4 × 8\n",
       "\\begin{tabular}{llllllll}\n",
       " ROW\\_ID & SUBJECT\\_ID & GENDER & DOB & DOD & DOD\\_HOSP & DOD\\_SSN & EXPIRE\\_FLAG\\\\\n",
       " <int> & <int> & <chr> & <dttm> & <dttm> & <dttm> & <dttm> & <int>\\\\\n",
       "\\hline\n",
       "\t 234 & 249 & F & 2075-03-13 & NA & NA & NA & 0\\\\\n",
       "\t 235 & 250 & F & 2164-12-27 & 2188-11-22 & 2188-11-22 & NA & 1\\\\\n",
       "\t 236 & 251 & M & 2090-03-15 & NA & NA & NA & 0\\\\\n",
       "\t 237 & 252 & M & 2078-03-06 & NA & NA & NA & 0\\\\\n",
       "\\end{tabular}\n"
      ],
      "text/markdown": [
       "\n",
       "A data.table: 4 × 8\n",
       "\n",
       "| ROW_ID &lt;int&gt; | SUBJECT_ID &lt;int&gt; | GENDER &lt;chr&gt; | DOB &lt;dttm&gt; | DOD &lt;dttm&gt; | DOD_HOSP &lt;dttm&gt; | DOD_SSN &lt;dttm&gt; | EXPIRE_FLAG &lt;int&gt; |\n",
       "|---|---|---|---|---|---|---|---|\n",
       "| 234 | 249 | F | 2075-03-13 | NA | NA | NA | 0 |\n",
       "| 235 | 250 | F | 2164-12-27 | 2188-11-22 | 2188-11-22 | NA | 1 |\n",
       "| 236 | 251 | M | 2090-03-15 | NA | NA | NA | 0 |\n",
       "| 237 | 252 | M | 2078-03-06 | NA | NA | NA | 0 |\n",
       "\n"
      ],
      "text/plain": [
       "  ROW_ID SUBJECT_ID GENDER DOB        DOD        DOD_HOSP   DOD_SSN EXPIRE_FLAG\n",
       "1 234    249        F      2075-03-13 <NA>       <NA>       <NA>    0          \n",
       "2 235    250        F      2164-12-27 2188-11-22 2188-11-22 <NA>    1          \n",
       "3 236    251        M      2090-03-15 <NA>       <NA>       <NA>    0          \n",
       "4 237    252        M      2078-03-06 <NA>       <NA>       <NA>    0          "
      ]
     },
     "metadata": {},
     "output_type": "display_data"
    }
   ],
   "source": [
    "patients[1:4,]"
   ]
  },
  {
   "cell_type": "code",
   "execution_count": 18,
   "metadata": {},
   "outputs": [],
   "source": [
    "patients<-patients[which(patients$SUBJECT_ID %in% admissions$SUBJECT_ID),]"
   ]
  },
  {
   "cell_type": "code",
   "execution_count": 19,
   "metadata": {},
   "outputs": [
    {
     "name": "stdout",
     "output_type": "stream",
     "text": [
      "[1] \"patients表中的患者数量:\"\n",
      "[1] 38983\n"
     ]
    }
   ],
   "source": [
    "print(\"patients表中的患者数量:\")\n",
    "print(nrow(patients))"
   ]
  },
  {
   "cell_type": "code",
   "execution_count": 20,
   "metadata": {},
   "outputs": [],
   "source": [
    "base_info<-merge(patients,admissions,by=\"SUBJECT_ID\", all.x=T)"
   ]
  },
  {
   "cell_type": "code",
   "execution_count": 2298,
   "metadata": {},
   "outputs": [
    {
     "name": "stdout",
     "output_type": "stream",
     "text": [
      "[1] \"base_info表中的患者数量:\"\n",
      "[1] 38983\n"
     ]
    }
   ],
   "source": [
    "print(\"base_info表中的患者数量:\")\n",
    "print(nrow(base_info))"
   ]
  },
  {
   "cell_type": "code",
   "execution_count": 2299,
   "metadata": {},
   "outputs": [
    {
     "data": {
      "text/html": [
       "<table class=\"dataframe\">\n",
       "<caption>A data.table: 4 × 26</caption>\n",
       "<thead>\n",
       "\t<tr><th scope=col>SUBJECT_ID</th><th scope=col>ROW_ID.x</th><th scope=col>GENDER</th><th scope=col>DOB</th><th scope=col>DOD</th><th scope=col>DOD_HOSP</th><th scope=col>DOD_SSN</th><th scope=col>EXPIRE_FLAG</th><th scope=col>ROW_ID.y</th><th scope=col>HADM_ID</th><th scope=col>⋯</th><th scope=col>INSURANCE</th><th scope=col>LANGUAGE</th><th scope=col>RELIGION</th><th scope=col>MARITAL_STATUS</th><th scope=col>ETHNICITY</th><th scope=col>EDREGTIME</th><th scope=col>EDOUTTIME</th><th scope=col>DIAGNOSIS</th><th scope=col>HOSPITAL_EXPIRE_FLAG</th><th scope=col>HAS_CHARTEVENTS_DATA</th></tr>\n",
       "\t<tr><th scope=col>&lt;int&gt;</th><th scope=col>&lt;int&gt;</th><th scope=col>&lt;chr&gt;</th><th scope=col>&lt;dttm&gt;</th><th scope=col>&lt;dttm&gt;</th><th scope=col>&lt;dttm&gt;</th><th scope=col>&lt;dttm&gt;</th><th scope=col>&lt;int&gt;</th><th scope=col>&lt;int&gt;</th><th scope=col>&lt;int&gt;</th><th scope=col>⋯</th><th scope=col>&lt;chr&gt;</th><th scope=col>&lt;chr&gt;</th><th scope=col>&lt;chr&gt;</th><th scope=col>&lt;chr&gt;</th><th scope=col>&lt;chr&gt;</th><th scope=col>&lt;dttm&gt;</th><th scope=col>&lt;dttm&gt;</th><th scope=col>&lt;chr&gt;</th><th scope=col>&lt;int&gt;</th><th scope=col>&lt;int&gt;</th></tr>\n",
       "</thead>\n",
       "<tbody>\n",
       "\t<tr><td>2</td><td>1</td><td>M</td><td>2138-07-17</td><td>NA</td><td>NA</td><td>NA</td><td>0</td><td>1</td><td>163353</td><td>⋯</td><td>Private </td><td></td><td>NOT SPECIFIED    </td><td>       </td><td>ASIAN</td><td>NA</td><td>NA</td><td>NEWBORN                            </td><td>0</td><td>1</td></tr>\n",
       "\t<tr><td>3</td><td>2</td><td>M</td><td>2025-04-11</td><td>2102-06-14</td><td>NA</td><td>2102-06-14</td><td>1</td><td>2</td><td>145834</td><td>⋯</td><td>Medicare</td><td></td><td>CATHOLIC         </td><td>MARRIED</td><td>WHITE</td><td>2101-10-20 17:09:00</td><td>2101-10-20 19:24:00</td><td>HYPOTENSION                        </td><td>0</td><td>1</td></tr>\n",
       "\t<tr><td>4</td><td>3</td><td>F</td><td>2143-05-12</td><td>NA</td><td>NA</td><td>NA</td><td>0</td><td>3</td><td>185777</td><td>⋯</td><td>Private </td><td></td><td>PROTESTANT QUAKER</td><td>SINGLE </td><td>WHITE</td><td>2191-03-15 13:10:00</td><td>2191-03-16 01:10:00</td><td>FEVER,DEHYDRATION,FAILURE TO THRIVE</td><td>0</td><td>1</td></tr>\n",
       "\t<tr><td>5</td><td>4</td><td>M</td><td>2103-02-02</td><td>NA</td><td>NA</td><td>NA</td><td>0</td><td>4</td><td>178980</td><td>⋯</td><td>Private </td><td></td><td>BUDDHIST         </td><td>       </td><td>ASIAN</td><td>NA</td><td>NA</td><td>NEWBORN                            </td><td>0</td><td>1</td></tr>\n",
       "</tbody>\n",
       "</table>\n"
      ],
      "text/latex": [
       "A data.table: 4 × 26\n",
       "\\begin{tabular}{lllllllllllllllllllll}\n",
       " SUBJECT\\_ID & ROW\\_ID.x & GENDER & DOB & DOD & DOD\\_HOSP & DOD\\_SSN & EXPIRE\\_FLAG & ROW\\_ID.y & HADM\\_ID & ⋯ & INSURANCE & LANGUAGE & RELIGION & MARITAL\\_STATUS & ETHNICITY & EDREGTIME & EDOUTTIME & DIAGNOSIS & HOSPITAL\\_EXPIRE\\_FLAG & HAS\\_CHARTEVENTS\\_DATA\\\\\n",
       " <int> & <int> & <chr> & <dttm> & <dttm> & <dttm> & <dttm> & <int> & <int> & <int> & ⋯ & <chr> & <chr> & <chr> & <chr> & <chr> & <dttm> & <dttm> & <chr> & <int> & <int>\\\\\n",
       "\\hline\n",
       "\t 2 & 1 & M & 2138-07-17 & NA & NA & NA & 0 & 1 & 163353 & ⋯ & Private  &  & NOT SPECIFIED     &         & ASIAN & NA & NA & NEWBORN                             & 0 & 1\\\\\n",
       "\t 3 & 2 & M & 2025-04-11 & 2102-06-14 & NA & 2102-06-14 & 1 & 2 & 145834 & ⋯ & Medicare &  & CATHOLIC          & MARRIED & WHITE & 2101-10-20 17:09:00 & 2101-10-20 19:24:00 & HYPOTENSION                         & 0 & 1\\\\\n",
       "\t 4 & 3 & F & 2143-05-12 & NA & NA & NA & 0 & 3 & 185777 & ⋯ & Private  &  & PROTESTANT QUAKER & SINGLE  & WHITE & 2191-03-15 13:10:00 & 2191-03-16 01:10:00 & FEVER,DEHYDRATION,FAILURE TO THRIVE & 0 & 1\\\\\n",
       "\t 5 & 4 & M & 2103-02-02 & NA & NA & NA & 0 & 4 & 178980 & ⋯ & Private  &  & BUDDHIST          &         & ASIAN & NA & NA & NEWBORN                             & 0 & 1\\\\\n",
       "\\end{tabular}\n"
      ],
      "text/markdown": [
       "\n",
       "A data.table: 4 × 26\n",
       "\n",
       "| SUBJECT_ID &lt;int&gt; | ROW_ID.x &lt;int&gt; | GENDER &lt;chr&gt; | DOB &lt;dttm&gt; | DOD &lt;dttm&gt; | DOD_HOSP &lt;dttm&gt; | DOD_SSN &lt;dttm&gt; | EXPIRE_FLAG &lt;int&gt; | ROW_ID.y &lt;int&gt; | HADM_ID &lt;int&gt; | ⋯ ⋯ | INSURANCE &lt;chr&gt; | LANGUAGE &lt;chr&gt; | RELIGION &lt;chr&gt; | MARITAL_STATUS &lt;chr&gt; | ETHNICITY &lt;chr&gt; | EDREGTIME &lt;dttm&gt; | EDOUTTIME &lt;dttm&gt; | DIAGNOSIS &lt;chr&gt; | HOSPITAL_EXPIRE_FLAG &lt;int&gt; | HAS_CHARTEVENTS_DATA &lt;int&gt; |\n",
       "|---|---|---|---|---|---|---|---|---|---|---|---|---|---|---|---|---|---|---|---|---|\n",
       "| 2 | 1 | M | 2138-07-17 | NA | NA | NA | 0 | 1 | 163353 | ⋯ | Private  | <!----> | NOT SPECIFIED     | <!----> | ASIAN | NA | NA | NEWBORN                             | 0 | 1 |\n",
       "| 3 | 2 | M | 2025-04-11 | 2102-06-14 | NA | 2102-06-14 | 1 | 2 | 145834 | ⋯ | Medicare | <!----> | CATHOLIC          | MARRIED | WHITE | 2101-10-20 17:09:00 | 2101-10-20 19:24:00 | HYPOTENSION                         | 0 | 1 |\n",
       "| 4 | 3 | F | 2143-05-12 | NA | NA | NA | 0 | 3 | 185777 | ⋯ | Private  | <!----> | PROTESTANT QUAKER | SINGLE  | WHITE | 2191-03-15 13:10:00 | 2191-03-16 01:10:00 | FEVER,DEHYDRATION,FAILURE TO THRIVE | 0 | 1 |\n",
       "| 5 | 4 | M | 2103-02-02 | NA | NA | NA | 0 | 4 | 178980 | ⋯ | Private  | <!----> | BUDDHIST          | <!----> | ASIAN | NA | NA | NEWBORN                             | 0 | 1 |\n",
       "\n"
      ],
      "text/plain": [
       "  SUBJECT_ID ROW_ID.x GENDER DOB        DOD        DOD_HOSP DOD_SSN   \n",
       "1 2          1        M      2138-07-17 <NA>       <NA>     <NA>      \n",
       "2 3          2        M      2025-04-11 2102-06-14 <NA>     2102-06-14\n",
       "3 4          3        F      2143-05-12 <NA>       <NA>     <NA>      \n",
       "4 5          4        M      2103-02-02 <NA>       <NA>     <NA>      \n",
       "  EXPIRE_FLAG ROW_ID.y HADM_ID ⋯ INSURANCE LANGUAGE RELIGION         \n",
       "1 0           1        163353  ⋯ Private            NOT SPECIFIED    \n",
       "2 1           2        145834  ⋯ Medicare           CATHOLIC         \n",
       "3 0           3        185777  ⋯ Private            PROTESTANT QUAKER\n",
       "4 0           4        178980  ⋯ Private            BUDDHIST         \n",
       "  MARITAL_STATUS ETHNICITY EDREGTIME           EDOUTTIME          \n",
       "1                ASIAN     <NA>                <NA>               \n",
       "2 MARRIED        WHITE     2101-10-20 17:09:00 2101-10-20 19:24:00\n",
       "3 SINGLE         WHITE     2191-03-15 13:10:00 2191-03-16 01:10:00\n",
       "4                ASIAN     <NA>                <NA>               \n",
       "  DIAGNOSIS                           HOSPITAL_EXPIRE_FLAG HAS_CHARTEVENTS_DATA\n",
       "1 NEWBORN                             0                    1                   \n",
       "2 HYPOTENSION                         0                    1                   \n",
       "3 FEVER,DEHYDRATION,FAILURE TO THRIVE 0                    1                   \n",
       "4 NEWBORN                             0                    1                   "
      ]
     },
     "metadata": {},
     "output_type": "display_data"
    }
   ],
   "source": [
    "base_info[1:4,]"
   ]
  },
  {
   "cell_type": "code",
   "execution_count": 2300,
   "metadata": {
    "scrolled": true
   },
   "outputs": [
    {
     "name": "stdout",
     "output_type": "stream",
     "text": [
      "Classes ‘data.table’ and 'data.frame':\t38983 obs. of  26 variables:\n",
      " $ SUBJECT_ID          : int  2 3 4 5 6 7 8 9 10 11 ...\n",
      " $ ROW_ID.x            : int  1 2 3 4 5 6 7 8 9 10 ...\n",
      " $ GENDER              : chr  \"M\" \"M\" \"F\" \"M\" ...\n",
      " $ DOB                 : POSIXct, format: \"2138-07-17\" \"2025-04-11\" ...\n",
      " $ DOD                 : POSIXct, format: NA \"2102-06-14\" ...\n",
      " $ DOD_HOSP            : POSIXct, format: NA NA ...\n",
      " $ DOD_SSN             : POSIXct, format: NA \"2102-06-14\" ...\n",
      " $ EXPIRE_FLAG         : int  0 1 0 0 0 0 0 1 0 1 ...\n",
      " $ ROW_ID.y            : int  1 2 3 4 5 6 7 8 9 10 ...\n",
      " $ HADM_ID             : int  163353 145834 185777 178980 107064 118037 159514 150750 184167 194540 ...\n",
      " $ ADMITTIME           : POSIXct, format: \"2138-07-17 19:04:00\" \"2101-10-20 19:08:00\" ...\n",
      " $ DISCHTIME           : POSIXct, format: \"2138-07-21 15:48:00\" \"2101-10-31 13:58:00\" ...\n",
      " $ DEATHTIME           : POSIXct, format: NA NA ...\n",
      " $ ADMISSION_TYPE      : chr  \"NEWBORN\" \"EMERGENCY\" \"EMERGENCY\" \"NEWBORN\" ...\n",
      " $ ADMISSION_LOCATION  : chr  \"PHYS REFERRAL/NORMAL DELI\" \"EMERGENCY ROOM ADMIT\" \"EMERGENCY ROOM ADMIT\" \"PHYS REFERRAL/NORMAL DELI\" ...\n",
      " $ DISCHARGE_LOCATION  : chr  \"HOME\" \"SNF\" \"HOME WITH HOME IV PROVIDR\" \"HOME\" ...\n",
      " $ INSURANCE           : chr  \"Private\" \"Medicare\" \"Private\" \"Private\" ...\n",
      " $ LANGUAGE            : chr  \"\" \"\" \"\" \"\" ...\n",
      " $ RELIGION            : chr  \"NOT SPECIFIED\" \"CATHOLIC\" \"PROTESTANT QUAKER\" \"BUDDHIST\" ...\n",
      " $ MARITAL_STATUS      : chr  \"\" \"MARRIED\" \"SINGLE\" \"\" ...\n",
      " $ ETHNICITY           : chr  \"ASIAN\" \"WHITE\" \"WHITE\" \"ASIAN\" ...\n",
      " $ EDREGTIME           : POSIXct, format: NA \"2101-10-20 17:09:00\" ...\n",
      " $ EDOUTTIME           : POSIXct, format: NA \"2101-10-20 19:24:00\" ...\n",
      " $ DIAGNOSIS           : chr  \"NEWBORN\" \"HYPOTENSION\" \"FEVER,DEHYDRATION,FAILURE TO THRIVE\" \"NEWBORN\" ...\n",
      " $ HOSPITAL_EXPIRE_FLAG: int  0 0 0 0 0 0 0 1 0 0 ...\n",
      " $ HAS_CHARTEVENTS_DATA: int  1 1 1 1 1 1 1 1 1 1 ...\n",
      " - attr(*, \".internal.selfref\")=<externalptr> \n",
      " - attr(*, \"sorted\")= chr \"SUBJECT_ID\"\n"
     ]
    }
   ],
   "source": [
    "str(base_info)"
   ]
  },
  {
   "cell_type": "code",
   "execution_count": 2301,
   "metadata": {},
   "outputs": [],
   "source": [
    "base_info$AGE<-round(interval(base_info$DOB,base_info$ADMITTIME)/years(1),0)+1"
   ]
  },
  {
   "cell_type": "code",
   "execution_count": 2302,
   "metadata": {},
   "outputs": [],
   "source": [
    "base_info$TOTAL_LOS<-floor(interval(base_info$ADMITTIME,base_info$DISCHTIME)/hours(1))"
   ]
  },
  {
   "cell_type": "markdown",
   "metadata": {},
   "source": [
    "- 去除在院时间小于等于48小时的"
   ]
  },
  {
   "cell_type": "code",
   "execution_count": 2303,
   "metadata": {},
   "outputs": [],
   "source": [
    "base_info<-base_info[base_info$TOTAL_LOS>48,]"
   ]
  },
  {
   "cell_type": "code",
   "execution_count": 2304,
   "metadata": {},
   "outputs": [
    {
     "name": "stdout",
     "output_type": "stream",
     "text": [
      "[1] \"去除在院时间小于等于48小时的患者后的总患者人数:\"\n",
      "[1] 34754\n"
     ]
    }
   ],
   "source": [
    "print(\"去除在院时间小于等于48小时的患者后的总患者人数:\")\n",
    "print(length(unique(base_info$SUBJECT_ID)))"
   ]
  },
  {
   "cell_type": "markdown",
   "metadata": {},
   "source": [
    "- 去除入院时间或出院时间缺失的"
   ]
  },
  {
   "cell_type": "code",
   "execution_count": 2305,
   "metadata": {},
   "outputs": [],
   "source": [
    "base_info<-base_info[which(!is.na(base_info$ADMITTIME) & !is.na(base_info$DISCHTIME)),]"
   ]
  },
  {
   "cell_type": "code",
   "execution_count": 2306,
   "metadata": {},
   "outputs": [
    {
     "name": "stdout",
     "output_type": "stream",
     "text": [
      "[1] \"去除入院时间或出院时间缺失的患者后的总患者人数:\"\n",
      "[1] 34754\n"
     ]
    }
   ],
   "source": [
    "print(\"去除入院时间或出院时间缺失的患者后的总患者人数:\")\n",
    "print(length(unique(base_info$SUBJECT_ID)))"
   ]
  },
  {
   "cell_type": "markdown",
   "metadata": {},
   "source": [
    "- 去除年龄小于18岁的"
   ]
  },
  {
   "cell_type": "code",
   "execution_count": 2307,
   "metadata": {},
   "outputs": [],
   "source": [
    "base_info<-base_info[which(base_info$AGE>=18),]"
   ]
  },
  {
   "cell_type": "code",
   "execution_count": 2308,
   "metadata": {},
   "outputs": [
    {
     "name": "stdout",
     "output_type": "stream",
     "text": [
      "[1] \"去除年龄小于18岁的患者后的总患者人数:\"\n",
      "[1] 28158\n"
     ]
    }
   ],
   "source": [
    "print(\"去除年龄小于18岁的患者后的总患者人数:\")\n",
    "print(length(unique(base_info$SUBJECT_ID)))"
   ]
  },
  {
   "cell_type": "code",
   "execution_count": 2284,
   "metadata": {},
   "outputs": [],
   "source": [
    "fwrite(base_info, file=\"./base_info.csv\",row.names=F)"
   ]
  },
  {
   "cell_type": "code",
   "execution_count": 2285,
   "metadata": {},
   "outputs": [
    {
     "data": {
      "text/html": [
       "28158"
      ],
      "text/latex": [
       "28158"
      ],
      "text/markdown": [
       "28158"
      ],
      "text/plain": [
       "[1] 28158"
      ]
     },
     "metadata": {},
     "output_type": "display_data"
    }
   ],
   "source": [
    "nrow(base_info)"
   ]
  },
  {
   "cell_type": "code",
   "execution_count": 21,
   "metadata": {},
   "outputs": [],
   "source": [
    "# base_info<-fread(\"./base_info.csv\",header=T,fill=T)"
   ]
  },
  {
   "cell_type": "markdown",
   "metadata": {},
   "source": [
    "### 为 labevents, chartevents, outputevents 匹配入院时间"
   ]
  },
  {
   "cell_type": "code",
   "execution_count": 2273,
   "metadata": {},
   "outputs": [],
   "source": [
    "labevents<-labevents[which(labevents$HADM_ID %in% base_info$HADM_ID),]"
   ]
  },
  {
   "cell_type": "code",
   "execution_count": 2266,
   "metadata": {},
   "outputs": [],
   "source": [
    "labevents<-merge(labevents,base_info[,c(\"HADM_ID\",\"ADMITTIME\")],by=\"HADM_ID\",all.x=T)"
   ]
  },
  {
   "cell_type": "code",
   "execution_count": 2274,
   "metadata": {},
   "outputs": [],
   "source": [
    "labevents$TIME<-round(interval(labevents$ADMITTIME,labevents$CHARTTIME)/hours(1),0)"
   ]
  },
  {
   "cell_type": "code",
   "execution_count": 2268,
   "metadata": {},
   "outputs": [
    {
     "data": {
      "text/html": [
       "<table class=\"dataframe\">\n",
       "<caption>A data.table: 2 × 12</caption>\n",
       "<thead>\n",
       "\t<tr><th scope=col>HADM_ID</th><th scope=col>ROW_ID</th><th scope=col>SUBJECT_ID</th><th scope=col>ITEMID</th><th scope=col>CHARTTIME</th><th scope=col>VALUE</th><th scope=col>VALUENUM</th><th scope=col>VALUEUOM</th><th scope=col>FLAG</th><th scope=col>ADMITTIME.x</th><th scope=col>TIME</th><th scope=col>ADMITTIME.y</th></tr>\n",
       "\t<tr><th scope=col>&lt;int&gt;</th><th scope=col>&lt;int&gt;</th><th scope=col>&lt;int&gt;</th><th scope=col>&lt;int&gt;</th><th scope=col>&lt;dttm&gt;</th><th scope=col>&lt;chr&gt;</th><th scope=col>&lt;dbl&gt;</th><th scope=col>&lt;chr&gt;</th><th scope=col>&lt;chr&gt;</th><th scope=col>&lt;dttm&gt;</th><th scope=col>&lt;dbl&gt;</th><th scope=col>&lt;dttm&gt;</th></tr>\n",
       "</thead>\n",
       "<tbody>\n",
       "\t<tr><td>100007</td><td>14255175</td><td>23018</td><td>50882</td><td>2145-03-30 21:15:00</td><td>25 </td><td>25.0</td><td>mEq/L</td><td></td><td>2145-03-31 05:33:00</td><td>-8</td><td>2145-03-31 05:33:00</td></tr>\n",
       "\t<tr><td>100007</td><td>14255176</td><td>23018</td><td>50885</td><td>2145-03-30 21:15:00</td><td>0.3</td><td> 0.3</td><td>mg/dL</td><td></td><td>2145-03-31 05:33:00</td><td>-8</td><td>2145-03-31 05:33:00</td></tr>\n",
       "</tbody>\n",
       "</table>\n"
      ],
      "text/latex": [
       "A data.table: 2 × 12\n",
       "\\begin{tabular}{llllllllllll}\n",
       " HADM\\_ID & ROW\\_ID & SUBJECT\\_ID & ITEMID & CHARTTIME & VALUE & VALUENUM & VALUEUOM & FLAG & ADMITTIME.x & TIME & ADMITTIME.y\\\\\n",
       " <int> & <int> & <int> & <int> & <dttm> & <chr> & <dbl> & <chr> & <chr> & <dttm> & <dbl> & <dttm>\\\\\n",
       "\\hline\n",
       "\t 100007 & 14255175 & 23018 & 50882 & 2145-03-30 21:15:00 & 25  & 25.0 & mEq/L &  & 2145-03-31 05:33:00 & -8 & 2145-03-31 05:33:00\\\\\n",
       "\t 100007 & 14255176 & 23018 & 50885 & 2145-03-30 21:15:00 & 0.3 &  0.3 & mg/dL &  & 2145-03-31 05:33:00 & -8 & 2145-03-31 05:33:00\\\\\n",
       "\\end{tabular}\n"
      ],
      "text/markdown": [
       "\n",
       "A data.table: 2 × 12\n",
       "\n",
       "| HADM_ID &lt;int&gt; | ROW_ID &lt;int&gt; | SUBJECT_ID &lt;int&gt; | ITEMID &lt;int&gt; | CHARTTIME &lt;dttm&gt; | VALUE &lt;chr&gt; | VALUENUM &lt;dbl&gt; | VALUEUOM &lt;chr&gt; | FLAG &lt;chr&gt; | ADMITTIME.x &lt;dttm&gt; | TIME &lt;dbl&gt; | ADMITTIME.y &lt;dttm&gt; |\n",
       "|---|---|---|---|---|---|---|---|---|---|---|---|\n",
       "| 100007 | 14255175 | 23018 | 50882 | 2145-03-30 21:15:00 | 25  | 25.0 | mEq/L | <!----> | 2145-03-31 05:33:00 | -8 | 2145-03-31 05:33:00 |\n",
       "| 100007 | 14255176 | 23018 | 50885 | 2145-03-30 21:15:00 | 0.3 |  0.3 | mg/dL | <!----> | 2145-03-31 05:33:00 | -8 | 2145-03-31 05:33:00 |\n",
       "\n"
      ],
      "text/plain": [
       "  HADM_ID ROW_ID   SUBJECT_ID ITEMID CHARTTIME           VALUE VALUENUM\n",
       "1 100007  14255175 23018      50882  2145-03-30 21:15:00 25    25.0    \n",
       "2 100007  14255176 23018      50885  2145-03-30 21:15:00 0.3    0.3    \n",
       "  VALUEUOM FLAG ADMITTIME.x         TIME ADMITTIME.y        \n",
       "1 mEq/L         2145-03-31 05:33:00 -8   2145-03-31 05:33:00\n",
       "2 mg/dL         2145-03-31 05:33:00 -8   2145-03-31 05:33:00"
      ]
     },
     "metadata": {},
     "output_type": "display_data"
    }
   ],
   "source": []
  },
  {
   "cell_type": "code",
   "execution_count": 2275,
   "metadata": {},
   "outputs": [
    {
     "data": {
      "text/html": [
       "<table class=\"dataframe\">\n",
       "<caption>A data.table: 2 × 11</caption>\n",
       "<thead>\n",
       "\t<tr><th scope=col>HADM_ID</th><th scope=col>ROW_ID</th><th scope=col>SUBJECT_ID</th><th scope=col>ITEMID</th><th scope=col>CHARTTIME</th><th scope=col>VALUE</th><th scope=col>VALUENUM</th><th scope=col>VALUEUOM</th><th scope=col>FLAG</th><th scope=col>ADMITTIME</th><th scope=col>TIME</th></tr>\n",
       "\t<tr><th scope=col>&lt;int&gt;</th><th scope=col>&lt;int&gt;</th><th scope=col>&lt;int&gt;</th><th scope=col>&lt;int&gt;</th><th scope=col>&lt;dttm&gt;</th><th scope=col>&lt;chr&gt;</th><th scope=col>&lt;dbl&gt;</th><th scope=col>&lt;chr&gt;</th><th scope=col>&lt;chr&gt;</th><th scope=col>&lt;dttm&gt;</th><th scope=col>&lt;dbl&gt;</th></tr>\n",
       "</thead>\n",
       "<tbody>\n",
       "\t<tr><td>100007</td><td>14255175</td><td>23018</td><td>50882</td><td>2145-03-30 21:15:00</td><td>25 </td><td>25.0</td><td>mEq/L</td><td></td><td>2145-03-31 05:33:00</td><td>-8</td></tr>\n",
       "\t<tr><td>100007</td><td>14255176</td><td>23018</td><td>50885</td><td>2145-03-30 21:15:00</td><td>0.3</td><td> 0.3</td><td>mg/dL</td><td></td><td>2145-03-31 05:33:00</td><td>-8</td></tr>\n",
       "</tbody>\n",
       "</table>\n"
      ],
      "text/latex": [
       "A data.table: 2 × 11\n",
       "\\begin{tabular}{lllllllllll}\n",
       " HADM\\_ID & ROW\\_ID & SUBJECT\\_ID & ITEMID & CHARTTIME & VALUE & VALUENUM & VALUEUOM & FLAG & ADMITTIME & TIME\\\\\n",
       " <int> & <int> & <int> & <int> & <dttm> & <chr> & <dbl> & <chr> & <chr> & <dttm> & <dbl>\\\\\n",
       "\\hline\n",
       "\t 100007 & 14255175 & 23018 & 50882 & 2145-03-30 21:15:00 & 25  & 25.0 & mEq/L &  & 2145-03-31 05:33:00 & -8\\\\\n",
       "\t 100007 & 14255176 & 23018 & 50885 & 2145-03-30 21:15:00 & 0.3 &  0.3 & mg/dL &  & 2145-03-31 05:33:00 & -8\\\\\n",
       "\\end{tabular}\n"
      ],
      "text/markdown": [
       "\n",
       "A data.table: 2 × 11\n",
       "\n",
       "| HADM_ID &lt;int&gt; | ROW_ID &lt;int&gt; | SUBJECT_ID &lt;int&gt; | ITEMID &lt;int&gt; | CHARTTIME &lt;dttm&gt; | VALUE &lt;chr&gt; | VALUENUM &lt;dbl&gt; | VALUEUOM &lt;chr&gt; | FLAG &lt;chr&gt; | ADMITTIME &lt;dttm&gt; | TIME &lt;dbl&gt; |\n",
       "|---|---|---|---|---|---|---|---|---|---|---|\n",
       "| 100007 | 14255175 | 23018 | 50882 | 2145-03-30 21:15:00 | 25  | 25.0 | mEq/L | <!----> | 2145-03-31 05:33:00 | -8 |\n",
       "| 100007 | 14255176 | 23018 | 50885 | 2145-03-30 21:15:00 | 0.3 |  0.3 | mg/dL | <!----> | 2145-03-31 05:33:00 | -8 |\n",
       "\n"
      ],
      "text/plain": [
       "  HADM_ID ROW_ID   SUBJECT_ID ITEMID CHARTTIME           VALUE VALUENUM\n",
       "1 100007  14255175 23018      50882  2145-03-30 21:15:00 25    25.0    \n",
       "2 100007  14255176 23018      50885  2145-03-30 21:15:00 0.3    0.3    \n",
       "  VALUEUOM FLAG ADMITTIME           TIME\n",
       "1 mEq/L         2145-03-31 05:33:00 -8  \n",
       "2 mg/dL         2145-03-31 05:33:00 -8  "
      ]
     },
     "metadata": {},
     "output_type": "display_data"
    }
   ],
   "source": [
    "labevents[1:2,]"
   ]
  },
  {
   "cell_type": "code",
   "execution_count": 2276,
   "metadata": {},
   "outputs": [
    {
     "data": {
      "text/html": [
       "<style>\n",
       ".list-inline {list-style: none; margin:0; padding: 0}\n",
       ".list-inline>li {display: inline-block}\n",
       ".list-inline>li:not(:last-child)::after {content: \"\\00b7\"; padding: 0 .5ex}\n",
       "</style>\n",
       "<ol class=list-inline><li>2300357</li><li>11</li></ol>\n"
      ],
      "text/latex": [
       "\\begin{enumerate*}\n",
       "\\item 2300357\n",
       "\\item 11\n",
       "\\end{enumerate*}\n"
      ],
      "text/markdown": [
       "1. 2300357\n",
       "2. 11\n",
       "\n",
       "\n"
      ],
      "text/plain": [
       "[1] 2300357      11"
      ]
     },
     "metadata": {},
     "output_type": "display_data"
    }
   ],
   "source": [
    "dim(labevents)"
   ]
  },
  {
   "cell_type": "code",
   "execution_count": 2277,
   "metadata": {},
   "outputs": [],
   "source": [
    "fwrite(labevents,file=\"./labevents.csv\",row.names=F)"
   ]
  },
  {
   "cell_type": "code",
   "execution_count": 22,
   "metadata": {},
   "outputs": [],
   "source": [
    "labevents<-fread(\"./labevents.csv\",header=T, fill=T)"
   ]
  },
  {
   "cell_type": "code",
   "execution_count": 2278,
   "metadata": {},
   "outputs": [],
   "source": [
    "chartevents<-chartevents[which(chartevents$HADM_ID %in% base_info$HADM_ID),]"
   ]
  },
  {
   "cell_type": "code",
   "execution_count": 302,
   "metadata": {},
   "outputs": [],
   "source": [
    "chartevents<-merge(chartevents,base_info[,c(\"HADM_ID\",\"ADMITTIME\")],by=\"HADM_ID\",all.x=T)"
   ]
  },
  {
   "cell_type": "code",
   "execution_count": 303,
   "metadata": {},
   "outputs": [],
   "source": [
    "chartevents$TIME<-round(interval(chartevents$ADMITTIME,chartevents$CHARTTIME)/hours(1),0)"
   ]
  },
  {
   "cell_type": "code",
   "execution_count": 2279,
   "metadata": {},
   "outputs": [
    {
     "data": {
      "text/html": [
       "<table class=\"dataframe\">\n",
       "<caption>A data.table: 3 × 17</caption>\n",
       "<thead>\n",
       "\t<tr><th scope=col>HADM_ID</th><th scope=col>ROW_ID</th><th scope=col>SUBJECT_ID</th><th scope=col>ICUSTAY_ID</th><th scope=col>ITEMID</th><th scope=col>CHARTTIME</th><th scope=col>STORETIME</th><th scope=col>CGID</th><th scope=col>VALUE</th><th scope=col>VALUENUM</th><th scope=col>VALUEUOM</th><th scope=col>WARNING</th><th scope=col>ERROR</th><th scope=col>RESULTSTATUS</th><th scope=col>STOPPED</th><th scope=col>ADMITTIME</th><th scope=col>TIME</th></tr>\n",
       "\t<tr><th scope=col>&lt;int&gt;</th><th scope=col>&lt;int&gt;</th><th scope=col>&lt;int&gt;</th><th scope=col>&lt;int&gt;</th><th scope=col>&lt;int&gt;</th><th scope=col>&lt;dttm&gt;</th><th scope=col>&lt;dttm&gt;</th><th scope=col>&lt;int&gt;</th><th scope=col>&lt;chr&gt;</th><th scope=col>&lt;dbl&gt;</th><th scope=col>&lt;chr&gt;</th><th scope=col>&lt;int&gt;</th><th scope=col>&lt;int&gt;</th><th scope=col>&lt;lgl&gt;</th><th scope=col>&lt;chr&gt;</th><th scope=col>&lt;dttm&gt;</th><th scope=col>&lt;int&gt;</th></tr>\n",
       "</thead>\n",
       "<tbody>\n",
       "\t<tr><td>100007</td><td>150452482</td><td>23018</td><td>217937</td><td>211</td><td>2145-04-01 07:00:00</td><td>2145-04-01 07:06:00</td><td>14418</td><td>77             </td><td>77</td><td>BPM</td><td>NA</td><td>NA</td><td>NA</td><td>NotStopd</td><td>2145-03-31 05:33:00</td><td>25</td></tr>\n",
       "\t<tr><td>100007</td><td>150452523</td><td>23018</td><td>217937</td><td>184</td><td>2145-04-01 08:00:00</td><td>2145-04-01 09:14:00</td><td>14418</td><td>4 Spontaneously</td><td> 4</td><td>   </td><td>NA</td><td>NA</td><td>NA</td><td>NotStopd</td><td>2145-03-31 05:33:00</td><td>26</td></tr>\n",
       "\t<tr><td>100007</td><td>150452527</td><td>23018</td><td>217937</td><td>211</td><td>2145-04-01 08:00:00</td><td>2145-04-01 09:08:00</td><td>14418</td><td>80             </td><td>80</td><td>BPM</td><td>NA</td><td>NA</td><td>NA</td><td>NotStopd</td><td>2145-03-31 05:33:00</td><td>26</td></tr>\n",
       "</tbody>\n",
       "</table>\n"
      ],
      "text/latex": [
       "A data.table: 3 × 17\n",
       "\\begin{tabular}{lllllllllllllllll}\n",
       " HADM\\_ID & ROW\\_ID & SUBJECT\\_ID & ICUSTAY\\_ID & ITEMID & CHARTTIME & STORETIME & CGID & VALUE & VALUENUM & VALUEUOM & WARNING & ERROR & RESULTSTATUS & STOPPED & ADMITTIME & TIME\\\\\n",
       " <int> & <int> & <int> & <int> & <int> & <dttm> & <dttm> & <int> & <chr> & <dbl> & <chr> & <int> & <int> & <lgl> & <chr> & <dttm> & <int>\\\\\n",
       "\\hline\n",
       "\t 100007 & 150452482 & 23018 & 217937 & 211 & 2145-04-01 07:00:00 & 2145-04-01 07:06:00 & 14418 & 77              & 77 & BPM & NA & NA & NA & NotStopd & 2145-03-31 05:33:00 & 25\\\\\n",
       "\t 100007 & 150452523 & 23018 & 217937 & 184 & 2145-04-01 08:00:00 & 2145-04-01 09:14:00 & 14418 & 4 Spontaneously &  4 &     & NA & NA & NA & NotStopd & 2145-03-31 05:33:00 & 26\\\\\n",
       "\t 100007 & 150452527 & 23018 & 217937 & 211 & 2145-04-01 08:00:00 & 2145-04-01 09:08:00 & 14418 & 80              & 80 & BPM & NA & NA & NA & NotStopd & 2145-03-31 05:33:00 & 26\\\\\n",
       "\\end{tabular}\n"
      ],
      "text/markdown": [
       "\n",
       "A data.table: 3 × 17\n",
       "\n",
       "| HADM_ID &lt;int&gt; | ROW_ID &lt;int&gt; | SUBJECT_ID &lt;int&gt; | ICUSTAY_ID &lt;int&gt; | ITEMID &lt;int&gt; | CHARTTIME &lt;dttm&gt; | STORETIME &lt;dttm&gt; | CGID &lt;int&gt; | VALUE &lt;chr&gt; | VALUENUM &lt;dbl&gt; | VALUEUOM &lt;chr&gt; | WARNING &lt;int&gt; | ERROR &lt;int&gt; | RESULTSTATUS &lt;lgl&gt; | STOPPED &lt;chr&gt; | ADMITTIME &lt;dttm&gt; | TIME &lt;int&gt; |\n",
       "|---|---|---|---|---|---|---|---|---|---|---|---|---|---|---|---|---|\n",
       "| 100007 | 150452482 | 23018 | 217937 | 211 | 2145-04-01 07:00:00 | 2145-04-01 07:06:00 | 14418 | 77              | 77 | BPM | NA | NA | NA | NotStopd | 2145-03-31 05:33:00 | 25 |\n",
       "| 100007 | 150452523 | 23018 | 217937 | 184 | 2145-04-01 08:00:00 | 2145-04-01 09:14:00 | 14418 | 4 Spontaneously |  4 | <!----> | NA | NA | NA | NotStopd | 2145-03-31 05:33:00 | 26 |\n",
       "| 100007 | 150452527 | 23018 | 217937 | 211 | 2145-04-01 08:00:00 | 2145-04-01 09:08:00 | 14418 | 80              | 80 | BPM | NA | NA | NA | NotStopd | 2145-03-31 05:33:00 | 26 |\n",
       "\n"
      ],
      "text/plain": [
       "  HADM_ID ROW_ID    SUBJECT_ID ICUSTAY_ID ITEMID CHARTTIME          \n",
       "1 100007  150452482 23018      217937     211    2145-04-01 07:00:00\n",
       "2 100007  150452523 23018      217937     184    2145-04-01 08:00:00\n",
       "3 100007  150452527 23018      217937     211    2145-04-01 08:00:00\n",
       "  STORETIME           CGID  VALUE           VALUENUM VALUEUOM WARNING ERROR\n",
       "1 2145-04-01 07:06:00 14418 77              77       BPM      NA      NA   \n",
       "2 2145-04-01 09:14:00 14418 4 Spontaneously  4                NA      NA   \n",
       "3 2145-04-01 09:08:00 14418 80              80       BPM      NA      NA   \n",
       "  RESULTSTATUS STOPPED  ADMITTIME           TIME\n",
       "1 NA           NotStopd 2145-03-31 05:33:00 25  \n",
       "2 NA           NotStopd 2145-03-31 05:33:00 26  \n",
       "3 NA           NotStopd 2145-03-31 05:33:00 26  "
      ]
     },
     "metadata": {},
     "output_type": "display_data"
    }
   ],
   "source": [
    "chartevents[1:3,]"
   ]
  },
  {
   "cell_type": "code",
   "execution_count": 588,
   "metadata": {},
   "outputs": [
    {
     "data": {
      "text/html": [
       "<table class=\"dataframe\">\n",
       "<caption>A data.table: 2 × 1</caption>\n",
       "<thead>\n",
       "\t<tr><th scope=col>VALUEUOM</th></tr>\n",
       "\t<tr><th scope=col>&lt;chr&gt;</th></tr>\n",
       "</thead>\n",
       "<tbody>\n",
       "\t<tr><td>mmHg</td></tr>\n",
       "\t<tr><td>    </td></tr>\n",
       "</tbody>\n",
       "</table>\n"
      ],
      "text/latex": [
       "A data.table: 2 × 1\n",
       "\\begin{tabular}{l}\n",
       " VALUEUOM\\\\\n",
       " <chr>\\\\\n",
       "\\hline\n",
       "\t mmHg\\\\\n",
       "\t     \\\\\n",
       "\\end{tabular}\n"
      ],
      "text/markdown": [
       "\n",
       "A data.table: 2 × 1\n",
       "\n",
       "| VALUEUOM &lt;chr&gt; |\n",
       "|---|\n",
       "| mmHg |\n",
       "| <!----> |\n",
       "\n"
      ],
      "text/plain": [
       "  VALUEUOM\n",
       "1 mmHg    \n",
       "2         "
      ]
     },
     "metadata": {},
     "output_type": "display_data"
    }
   ],
   "source": [
    "# unique(outputevents[which(outputevents$ITEMID %in% c(\"40055\",\"43175\",\"40069\",\"40094\",\"40715\",\"40473\",\"40085\",\"40057\",\"40056\",\"40405\",\"40428\",\"40086\",\"40096\",\"40651\",\"226559\",\"226560\",\"226561\",\"226584\",\"226563\",\"226564\",\"226565\",\"226567\",\"226557\",\"226558\",\"227488\",\"227489\")),\"VALUEUOM\"])\n",
    "# chartevents[which(chartevents$ITEMID %in% c(\"50821\",\"50816\",\"223835\",\"3420\",\"3422\",\"190\") & chartevents$VALUEUOM==\"torr\")[1:100],]\n",
    "\n",
    "# range(chartevents[which(chartevents$ITEMID %in% c(\"50821\",\"50816\",\"223835\",\"3420\",\"3422\",\"190\") & chartevents$VALUEUOM==\"torr\"),\"VALUENUM\"], na.rm=T)\n",
    "\n",
    "# unique(labevents[which(labevents$ITEMID %in% c(\"50822\",\"50971\")),\"VALUEUOM\"])\n",
    "\n",
    "\n",
    "unique(chartevents[which(chartevents$ITEMID %in% c(\"51\",\"442\",\"455\",\"6701\",\"220179\",\"220050\")),\"VALUEUOM\"])\n"
   ]
  },
  {
   "cell_type": "code",
   "execution_count": 2280,
   "metadata": {},
   "outputs": [],
   "source": [
    "fwrite(chartevents,file=\"./chartevents.csv\",row.names=F)"
   ]
  },
  {
   "cell_type": "code",
   "execution_count": 24,
   "metadata": {},
   "outputs": [],
   "source": [
    "chartevents<-fread(\"./chartevents.csv\",header=T,fill=T)"
   ]
  },
  {
   "cell_type": "code",
   "execution_count": 2281,
   "metadata": {},
   "outputs": [],
   "source": [
    "outputevents<-outputevents[which(outputevents$HADM_ID %in% base_info$HADM_ID),]"
   ]
  },
  {
   "cell_type": "code",
   "execution_count": 308,
   "metadata": {},
   "outputs": [],
   "source": [
    "outputevents<-merge(outputevents,base_info[,c(\"HADM_ID\",\"ADMITTIME\")],by=\"HADM_ID\",all.x=T)"
   ]
  },
  {
   "cell_type": "code",
   "execution_count": 309,
   "metadata": {},
   "outputs": [],
   "source": [
    "outputevents$TIME<-round(interval(outputevents$ADMITTIME,outputevents$CHARTTIME)/hours(1),0)"
   ]
  },
  {
   "cell_type": "code",
   "execution_count": 2282,
   "metadata": {},
   "outputs": [
    {
     "data": {
      "text/html": [
       "<table class=\"dataframe\">\n",
       "<caption>A data.table: 2 × 15</caption>\n",
       "<thead>\n",
       "\t<tr><th scope=col>HADM_ID</th><th scope=col>ROW_ID</th><th scope=col>SUBJECT_ID</th><th scope=col>ICUSTAY_ID</th><th scope=col>CHARTTIME</th><th scope=col>ITEMID</th><th scope=col>VALUE</th><th scope=col>VALUEUOM</th><th scope=col>STORETIME</th><th scope=col>CGID</th><th scope=col>STOPPED</th><th scope=col>NEWBOTTLE</th><th scope=col>ISERROR</th><th scope=col>ADMITTIME</th><th scope=col>TIME</th></tr>\n",
       "\t<tr><th scope=col>&lt;int&gt;</th><th scope=col>&lt;int&gt;</th><th scope=col>&lt;int&gt;</th><th scope=col>&lt;int&gt;</th><th scope=col>&lt;dttm&gt;</th><th scope=col>&lt;int&gt;</th><th scope=col>&lt;dbl&gt;</th><th scope=col>&lt;chr&gt;</th><th scope=col>&lt;dttm&gt;</th><th scope=col>&lt;int&gt;</th><th scope=col>&lt;lgl&gt;</th><th scope=col>&lt;lgl&gt;</th><th scope=col>&lt;lgl&gt;</th><th scope=col>&lt;dttm&gt;</th><th scope=col>&lt;int&gt;</th></tr>\n",
       "</thead>\n",
       "<tbody>\n",
       "\t<tr><td>100007</td><td>2089751</td><td>23018</td><td>217937</td><td>2145-03-31 12:00:00</td><td>40055</td><td>80</td><td>ml</td><td>2145-03-31 12:46:00</td><td>18320</td><td>NA</td><td>NA</td><td>NA</td><td>2145-03-31 05:33:00</td><td> 6</td></tr>\n",
       "\t<tr><td>100007</td><td>2089630</td><td>23018</td><td>217937</td><td>2145-04-03 20:00:00</td><td>40069</td><td>50</td><td>ml</td><td>2145-04-03 21:00:00</td><td>19087</td><td>NA</td><td>NA</td><td>NA</td><td>2145-03-31 05:33:00</td><td>86</td></tr>\n",
       "</tbody>\n",
       "</table>\n"
      ],
      "text/latex": [
       "A data.table: 2 × 15\n",
       "\\begin{tabular}{lllllllllllllll}\n",
       " HADM\\_ID & ROW\\_ID & SUBJECT\\_ID & ICUSTAY\\_ID & CHARTTIME & ITEMID & VALUE & VALUEUOM & STORETIME & CGID & STOPPED & NEWBOTTLE & ISERROR & ADMITTIME & TIME\\\\\n",
       " <int> & <int> & <int> & <int> & <dttm> & <int> & <dbl> & <chr> & <dttm> & <int> & <lgl> & <lgl> & <lgl> & <dttm> & <int>\\\\\n",
       "\\hline\n",
       "\t 100007 & 2089751 & 23018 & 217937 & 2145-03-31 12:00:00 & 40055 & 80 & ml & 2145-03-31 12:46:00 & 18320 & NA & NA & NA & 2145-03-31 05:33:00 &  6\\\\\n",
       "\t 100007 & 2089630 & 23018 & 217937 & 2145-04-03 20:00:00 & 40069 & 50 & ml & 2145-04-03 21:00:00 & 19087 & NA & NA & NA & 2145-03-31 05:33:00 & 86\\\\\n",
       "\\end{tabular}\n"
      ],
      "text/markdown": [
       "\n",
       "A data.table: 2 × 15\n",
       "\n",
       "| HADM_ID &lt;int&gt; | ROW_ID &lt;int&gt; | SUBJECT_ID &lt;int&gt; | ICUSTAY_ID &lt;int&gt; | CHARTTIME &lt;dttm&gt; | ITEMID &lt;int&gt; | VALUE &lt;dbl&gt; | VALUEUOM &lt;chr&gt; | STORETIME &lt;dttm&gt; | CGID &lt;int&gt; | STOPPED &lt;lgl&gt; | NEWBOTTLE &lt;lgl&gt; | ISERROR &lt;lgl&gt; | ADMITTIME &lt;dttm&gt; | TIME &lt;int&gt; |\n",
       "|---|---|---|---|---|---|---|---|---|---|---|---|---|---|---|\n",
       "| 100007 | 2089751 | 23018 | 217937 | 2145-03-31 12:00:00 | 40055 | 80 | ml | 2145-03-31 12:46:00 | 18320 | NA | NA | NA | 2145-03-31 05:33:00 |  6 |\n",
       "| 100007 | 2089630 | 23018 | 217937 | 2145-04-03 20:00:00 | 40069 | 50 | ml | 2145-04-03 21:00:00 | 19087 | NA | NA | NA | 2145-03-31 05:33:00 | 86 |\n",
       "\n"
      ],
      "text/plain": [
       "  HADM_ID ROW_ID  SUBJECT_ID ICUSTAY_ID CHARTTIME           ITEMID VALUE\n",
       "1 100007  2089751 23018      217937     2145-03-31 12:00:00 40055  80   \n",
       "2 100007  2089630 23018      217937     2145-04-03 20:00:00 40069  50   \n",
       "  VALUEUOM STORETIME           CGID  STOPPED NEWBOTTLE ISERROR\n",
       "1 ml       2145-03-31 12:46:00 18320 NA      NA        NA     \n",
       "2 ml       2145-04-03 21:00:00 19087 NA      NA        NA     \n",
       "  ADMITTIME           TIME\n",
       "1 2145-03-31 05:33:00  6  \n",
       "2 2145-03-31 05:33:00 86  "
      ]
     },
     "metadata": {},
     "output_type": "display_data"
    }
   ],
   "source": [
    "outputevents[1:2,]"
   ]
  },
  {
   "cell_type": "code",
   "execution_count": 2283,
   "metadata": {},
   "outputs": [],
   "source": [
    "fwrite(outputevents,file=\"./outputevents.csv\",row.names=F)"
   ]
  },
  {
   "cell_type": "code",
   "execution_count": 25,
   "metadata": {},
   "outputs": [],
   "source": [
    "outputevents<-fread(\"./outputevents.csv\", header=T,fill=T)"
   ]
  },
  {
   "cell_type": "markdown",
   "metadata": {},
   "source": [
    "### 为每个患者生成用于建模的文件\n",
    "\n",
    "SPAS II 的所有动态变量和静态变量\n",
    "\n",
    "以小时为采样单位，从患者入院开始，到出院结束\n",
    "\n",
    "- 动态数据\n",
    "- 静态数据"
   ]
  },
  {
   "cell_type": "markdown",
   "metadata": {},
   "source": [
    "### 动态数据"
   ]
  },
  {
   "cell_type": "code",
   "execution_count": 715,
   "metadata": {
    "scrolled": true
   },
   "outputs": [],
   "source": [
    "dym_X_list<-list()\n",
    "n_vec<-c()\n",
    "time_vec<-c()\n",
    "set.seed(400)\n",
    "inds<-sample(1:20000,size=500,replace=F)\n",
    "for(k in inds){\n",
    "\n",
    "    cur_hadmid<-base_info$HADM_ID[k]\n",
    "    cur_labevents<-labevents[which(labevents$HADM_ID==cur_hadmid),]\n",
    "    cur_chartevents<-chartevents[which(chartevents$HADM_ID==cur_hadmid),]\n",
    "    cur_outputevents<-outputevents[which(outputevents$HADM_ID==cur_hadmid),]\n",
    "\n",
    "    cur_time_list<-seq(0,base_info$TOTAL_LOS[base_info$HADM_ID==cur_hadmid],4)\n",
    "    \n",
    "    n_vec<-c(n_vec,length(cur_time_list))\n",
    "    time_vec<-c(time_vec,cur_time_list)\n",
    "    \n",
    "    X_lab<-rbind(NULL);X_chart<-rbind(NULL);X_output<-rbind(NULL)\n",
    "    \n",
    "    for(i in 1:length(cur_time_list)){\n",
    "\n",
    "       # 读取当前时间前后2小时的 labevents\n",
    "\n",
    "       ds_lab <- cur_labevents[cur_labevents$TIME >= (cur_time_list[i] - 2) & cur_labevents$TIME <= (cur_time_list[i] + 2),]\n",
    "       x_lab<-lapply(itemid_labevents, function(itemid){\n",
    "\n",
    "              x<-ds_lab$VALUENUM[ds_lab$ITEMID==itemid]\n",
    "              m<-median(x,na.rm=T)\n",
    "                if(is.na(m)){\n",
    "                        return(NA)\n",
    "                } else{\n",
    "                        return(m)\n",
    "                    }\n",
    "        }) %>% unlist\n",
    "        X_lab<-rbind(X_lab,x_lab)\n",
    "\n",
    "        ds_chart<-cur_chartevents[cur_chartevents$TIME >= (cur_time_list[i] - 2) & cur_chartevents$TIME <= (cur_time_list[i] + 2),]\n",
    "        x_chart<-lapply(itemid_chartevents, function(itemid){\n",
    "\n",
    "              x<-ds_chart$VALUENUM[ds_chart$ITEMID==itemid]\n",
    "              m<-median(x,na.rm=T)\n",
    "                if(is.na(m)){\n",
    "                        return(NA)\n",
    "                } else{\n",
    "                        return(m)\n",
    "                    }\n",
    "        }) %>% unlist\n",
    "        X_chart<-rbind(X_chart,x_chart)\n",
    "\n",
    "        ds_output<-cur_outputevents[cur_outputevents$TIME >= (cur_time_list[i] - 2) & cur_outputevents$TIME <= (cur_time_list[i] + 2),]\n",
    "        x_output<-lapply(itemid_outputevents, function(itemid){\n",
    "\n",
    "              x<-ds_output$VALUE[ds_output$ITEMID==itemid]\n",
    "              m<-median(x,na.rm=T)\n",
    "                if(is.na(m)){\n",
    "                        return(NA)\n",
    "                } else{\n",
    "                        return(m)\n",
    "                    }\n",
    "        }) %>% unlist\n",
    "        X_output<-rbind(X_output,x_output)\n",
    "\n",
    "    }\n",
    "    \n",
    "    colnames(X_lab)<-itemid_labevents\n",
    "    colnames(X_chart)<-itemid_chartevents\n",
    "    colnames(X_output)<-itemid_outputevents\n",
    "    row.names(X_lab)<-NULL\n",
    "    row.names(X_chart)<-NULL\n",
    "    row.names(X_output)<-NULL\n",
    "    \n",
    "    dym_X<-cbind(X_lab,X_chart,X_output)\n",
    "    colnames(dym_X)<-paste0(\"v\",colnames(dym_X))\n",
    "    dym_X_list[[k]]<-dym_X\n",
    "    \n",
    "    if(k % 100 == 0) print(k)\n",
    "}\n"
   ]
  },
  {
   "cell_type": "code",
   "execution_count": 2257,
   "metadata": {},
   "outputs": [
    {
     "data": {
      "text/html": [
       "<style>\n",
       ".list-inline {list-style: none; margin:0; padding: 0}\n",
       ".list-inline>li {display: inline-block}\n",
       ".list-inline>li:not(:last-child)::after {content: \"\\00b7\"; padding: 0 .5ex}\n",
       "</style>\n",
       "<ol class=list-inline><li>2051319</li><li>15</li></ol>\n"
      ],
      "text/latex": [
       "\\begin{enumerate*}\n",
       "\\item 2051319\n",
       "\\item 15\n",
       "\\end{enumerate*}\n"
      ],
      "text/markdown": [
       "1. 2051319\n",
       "2. 15\n",
       "\n",
       "\n"
      ],
      "text/plain": [
       "[1] 2051319      15"
      ]
     },
     "metadata": {},
     "output_type": "display_data"
    }
   ],
   "source": [
    "dim(outputevents)"
   ]
  },
  {
   "cell_type": "code",
   "execution_count": 716,
   "metadata": {
    "scrolled": true
   },
   "outputs": [],
   "source": [
    "dym_X<-as.data.frame(list.rbind(dym_X_list))"
   ]
  },
  {
   "cell_type": "code",
   "execution_count": 717,
   "metadata": {},
   "outputs": [],
   "source": [
    "dym_X$hadm_id<-rep(base_info$HADM_ID[inds], times=n_vec)\n",
    "dym_X$time<-time_vec"
   ]
  },
  {
   "cell_type": "code",
   "execution_count": 718,
   "metadata": {
    "scrolled": true
   },
   "outputs": [
    {
     "name": "stdout",
     "output_type": "stream",
     "text": [
      "'data.frame':\t30390 obs. of  61 variables:\n",
      " $ v50821 : num  NA NA NA NA 384 454 465 178 208 NA ...\n",
      " $ v50816 : num  NA NA NA NA NA NA NA NA NA NA ...\n",
      " $ v51006 : num  19 NA NA NA NA NA 20 21 21 24 ...\n",
      " $ v51300 : num  NA NA NA NA NA NA NA NA NA NA ...\n",
      " $ v51301 : num  3.7 NA NA NA NA 4.65 3.9 3.85 4 4.9 ...\n",
      " $ v50882 : num  26 NA NA NA NA NA 23 28 28 30 ...\n",
      " $ v950824: num  NA NA NA NA NA NA NA NA NA NA ...\n",
      " $ v50983 : num  139 NA NA NA NA NA 140 142 142 143 ...\n",
      " $ v50822 : num  NA NA NA NA 4.2 4.5 4.8 NA NA NA ...\n",
      " $ v50971 : num  3.9 NA NA NA NA NA 4.4 3.4 3.4 3.8 ...\n",
      " $ v50885 : num  1.4 NA NA NA NA NA 2.8 3.9 3.9 2.1 ...\n",
      " $ v723   : num  NA NA NA NA NA 1 1 1 1 1 ...\n",
      " $ v454   : num  NA NA NA NA NA 4 4 4 4 5 ...\n",
      " $ v184   : num  NA NA NA NA NA 2 2 3 3 3 ...\n",
      " $ v223900: num  NA NA NA NA NA NA NA NA NA NA ...\n",
      " $ v223901: num  NA NA NA NA NA NA NA NA NA NA ...\n",
      " $ v220739: num  NA NA NA NA NA NA NA NA NA NA ...\n",
      " $ v51    : num  NA NA NA NA NA ...\n",
      " $ v442   : num  NA NA NA NA NA NA NA NA NA NA ...\n",
      " $ v455   : num  NA NA NA NA NA NA NA NA NA NA ...\n",
      " $ v6701  : num  NA NA NA NA NA NA NA NA NA NA ...\n",
      " $ v220179: num  NA NA NA NA NA NA NA NA NA NA ...\n",
      " $ v220050: num  NA NA NA NA NA NA NA NA NA NA ...\n",
      " $ v211   : num  NA NA NA NA NA 88.5 87 86.5 75 75 ...\n",
      " $ v220045: num  NA NA NA NA NA NA NA NA NA NA ...\n",
      " $ v678   : num  NA NA NA NA NA NA NA NA NA NA ...\n",
      " $ v223761: num  NA NA NA NA NA NA NA NA NA NA ...\n",
      " $ v676   : num  NA NA NA NA NA ...\n",
      " $ v223762: num  NA NA NA NA NA NA NA NA NA NA ...\n",
      " $ v223835: num  NA NA NA NA NA NA NA NA NA NA ...\n",
      " $ v3420  : num  NA NA NA NA NA NA NA NA NA NA ...\n",
      " $ v3422  : num  NA NA NA NA NA NA NA NA NA NA ...\n",
      " $ v190   : num  NA NA NA NA NA ...\n",
      " $ v40055 : num  NA NA NA NA NA 230 100 100 55 50 ...\n",
      " $ v43175 : num  NA NA NA NA NA NA NA NA NA NA ...\n",
      " $ v40069 : num  NA NA NA NA NA NA NA NA NA NA ...\n",
      " $ v40094 : num  NA NA NA NA NA NA NA NA NA NA ...\n",
      " $ v40715 : num  NA NA NA NA NA NA NA NA NA NA ...\n",
      " $ v40473 : num  NA NA NA NA NA NA NA NA NA NA ...\n",
      " $ v40085 : num  NA NA NA NA NA NA NA NA NA NA ...\n",
      " $ v40057 : num  NA NA NA NA NA NA NA NA NA NA ...\n",
      " $ v40056 : num  NA NA NA NA NA NA NA NA NA NA ...\n",
      " $ v40405 : num  NA NA NA NA NA NA NA NA NA NA ...\n",
      " $ v40428 : num  NA NA NA NA NA NA NA NA NA NA ...\n",
      " $ v40086 : num  NA NA NA NA NA NA NA NA NA NA ...\n",
      " $ v40096 : num  NA NA NA NA NA NA NA NA NA NA ...\n",
      " $ v40651 : num  NA NA NA NA NA NA NA NA NA NA ...\n",
      " $ v226559: num  NA NA NA NA NA NA NA NA NA NA ...\n",
      " $ v226560: num  NA NA NA NA NA NA NA NA NA NA ...\n",
      " $ v226561: num  NA NA NA NA NA NA NA NA NA NA ...\n",
      " $ v226584: num  NA NA NA NA NA NA NA NA NA NA ...\n",
      " $ v226563: num  NA NA NA NA NA NA NA NA NA NA ...\n",
      " $ v226564: num  NA NA NA NA NA NA NA NA NA NA ...\n",
      " $ v226565: num  NA NA NA NA NA NA NA NA NA NA ...\n",
      " $ v226567: num  NA NA NA NA NA NA NA NA NA NA ...\n",
      " $ v226557: num  NA NA NA NA NA NA NA NA NA NA ...\n",
      " $ v226558: num  NA NA NA NA NA NA NA NA NA NA ...\n",
      " $ v227488: num  NA NA NA NA NA NA NA NA NA NA ...\n",
      " $ v227489: num  NA NA NA NA NA NA NA NA NA NA ...\n",
      " $ hadm_id: int  165458 165458 165458 165458 165458 165458 165458 165458 165458 165458 ...\n",
      " $ time   : num  0 4 8 12 16 20 24 28 32 36 ...\n"
     ]
    }
   ],
   "source": [
    "str(dym_X)"
   ]
  },
  {
   "cell_type": "code",
   "execution_count": 719,
   "metadata": {
    "scrolled": true
   },
   "outputs": [],
   "source": [
    "# dym_X[,c(\"v723\",\"v454\",\"v184\",\"v223900\",\"v223901\",\"v220739\")]\n",
    "# dym_X[,c(\"v51\",\"v442\",\"v455\",\"v6701\",\"v220179\",\"v220050\")]\n",
    "# dym_X[,c(\"v211\",\"v220045\")]\n",
    "# dym_X[,c(\"v678\",\"v223761\",\"v676\",\"v223762\")]\n",
    "# dym_X[,c(\"v50821\",\"v50816\",\"v223835\",\"v3420\",\"v3422\",\"v190\")]\n",
    "# dym_X[,c(\"v40055\",\"v43175\",\"v40069\",\"v40094\",\"v40715\",\"v40473\",\"v40085\",\"v40057\",\"v40056\",\"v40405\",\"v40428\",\"v40086\",\"v40096\",\"v40651\",\"v226559\",\"v226560\",\"v226561\",\"v226584\",\"v226563\",\"v226564\",\"v226565\",\"v226567\",\"v226557\",\"v226558\",\"v227488\",\"v227489\")]\n",
    "# dym_X[,c(\"v51006\"),drop=F]\n",
    "# dym_X[,c(\"v51300\",\"v51301\"),drop=F]\n",
    "# dym_X[,c(\"v50882\"),drop=F]\n",
    "# dym_X[,c(\"v950824\",\"v50983\"),drop=F]\n",
    "# dym_X[,c(\"v50822\",\"v50971\"),drop=F]\n",
    "# dym_X[,c(\"v50885\"),drop=F]"
   ]
  },
  {
   "cell_type": "code",
   "execution_count": 720,
   "metadata": {},
   "outputs": [],
   "source": [
    "# GCSVerbal\n",
    "\n",
    "index<-is.na(dym_X[[\"v723\"]]) & !is.na(dym_X[[\"v223900\"]])\n",
    "dym_X[[\"v723\"]][index]<-dym_X[[\"v223900\"]][index]\n",
    "\n",
    "dym_X$GCSVerbal<-dym_X[[\"v723\"]]\n",
    "\n",
    "#GCSMotor\n",
    "\n",
    "index<-is.na(dym_X[[\"v454\"]]) & !is.na(dym_X[[\"v223901\"]])\n",
    "dym_X[[\"v454\"]][index]<-dym_X[[\"v223901\"]][index]\n",
    "\n",
    "dym_X$GCSMotor<-dym_X[[\"v454\"]]\n",
    "\n",
    "\n",
    "# GCSEyes\n",
    "\n",
    "index<-is.na(dym_X[[\"v184\"]]) & !is.na(dym_X[[\"v220739\"]])\n",
    "dym_X[[\"v184\"]][index]<-dym_X[[\"v220739\"]][index]\n",
    "\n",
    "dym_X$GCSEyes<-dym_X[[\"v184\"]]\n",
    "\n",
    "\n",
    "# Systolic blood pressure\n",
    "\n",
    "for(ind in c(\"v442\",\"v455\",\"v6701\",\"v220179\",\"v220050\")){\n",
    "\tindex<-is.na(dym_X[[\"v51\"]]) & !is.na(dym_X[[ind]])\n",
    "\tdym_X[[\"v51\"]][index]<-dym_X[[ind]][index]\n",
    "}\n",
    "\n",
    "dym_X$SBP<-dym_X[[\"v51\"]]\n",
    "\n",
    "# Heart rate\n",
    "\n",
    "index<-is.na(dym_X[[\"v211\"]]) & !is.na(dym_X[[\"v220045\"]])\n",
    "dym_X[[\"v211\"]][index]<-dym_X[[\"v220045\"]][index]\n",
    "\n",
    "dym_X$HR<-dym_X[[\"v211\"]]\n",
    "\n",
    "# Body temperature (F)\n",
    "\n",
    "index<-is.na(dym_X[[\"v678\"]]) & !is.na(dym_X[[\"v223761\"]])\n",
    "dym_X[[\"v678\"]][index]<-dym_X[[\"v223761\"]][index]\n",
    "\n",
    "# Body temperature (C)\n",
    "\n",
    "index<-is.na(dym_X[[\"v676\"]]) & !is.na(dym_X[[\"v223762\"]])\n",
    "dym_X[[\"v676\"]][index]<-dym_X[[\"v223762\"]][index]\n",
    "\n",
    "# F --> C\n",
    "\n",
    "dym_X[[\"v676\"]]<-(dym_X[[\"v678\"]]-32) * (5/9)\n",
    "\n",
    "dym_X$BT<-dym_X[[\"v676\"]]\n",
    "\n",
    "\n",
    "# pao2/fio2 ratio\n",
    "\n",
    "for(ind in c(\"v50816\",\"v223835\",\"v3420\",\"v3422\",\"v190\")){\n",
    "\tindex<-is.na(dym_X[[\"v51\"]]) & !is.na(dym_X[[ind]])\n",
    "\tdym_X[[\"v50821\"]][index]<-dym_X[[ind]][index]\n",
    "}\n",
    "\n",
    "dym_X$PFR<-dym_X[[\"v50821\"]]\n",
    "\n",
    "\n",
    "# Urine output\n",
    "\n",
    "for(ind in c(\"v43175\",\"v40069\",\"v40094\",\"v40715\",\"v40473\",\"v40085\",\"v40057\",\"v40056\",\"v40405\",\"v40428\",\"v40086\",\"v40096\",\"v40651\",\"v226559\",\"v226560\",\"v226561\",\"v226584\",\"v226563\",\"v226564\",\"v226565\",\"v226567\",\"v226557\",\"v226558\",\"v227488\",\"v227489\")){\n",
    "\tindex<-is.na(dym_X[[\"v51\"]]) & !is.na(dym_X[[ind]])\n",
    "\tdym_X[[\"v40055\"]][index]<-dym_X[[ind]][index]\n",
    "}\n",
    "\n",
    "dym_X$UrO<-dym_X[[\"v40055\"]]\n",
    "\n",
    "# White blood cells count\n",
    "\n",
    "index<-is.na(dym_X[[\"v51300\"]]) & !is.na(dym_X[[\"v51301\"]])\n",
    "dym_X[[\"v51300\"]][index]<-dym_X[[\"v51301\"]][index]\n",
    "\n",
    "dym_X$WBC<-dym_X[[\"v51300\"]]\n",
    "\n",
    "\n",
    "# Sodium level\n",
    "\n",
    "index<-is.na(dym_X[[\"v950824\"]]) & !is.na(dym_X[[\"v50983\"]])\n",
    "dym_X[[\"v950824\"]][index]<-dym_X[[\"v50983\"]][index]\n",
    "\n",
    "dym_X$Sod<-dym_X[[\"v950824\"]]\n",
    "\n",
    "\n",
    "# Potassium level\n",
    "\n",
    "index<-is.na(dym_X[[\"v50822\"]]) & !is.na(dym_X[[\"v50971\"]])\n",
    "dym_X[[\"v50822\"]][index]<-dym_X[[\"v50971\"]][index]\n",
    "\n",
    "dym_X$Pot<-dym_X[[\"v50822\"]]"
   ]
  },
  {
   "cell_type": "code",
   "execution_count": 721,
   "metadata": {
    "scrolled": true
   },
   "outputs": [],
   "source": [
    "# cbind(1:ncol(dym_X),names(dym_X))"
   ]
  },
  {
   "cell_type": "markdown",
   "metadata": {},
   "source": [
    "### 静态数据"
   ]
  },
  {
   "cell_type": "code",
   "execution_count": 1767,
   "metadata": {},
   "outputs": [
    {
     "data": {
      "text/html": [
       "<style>\n",
       ".list-inline {list-style: none; margin:0; padding: 0}\n",
       ".list-inline>li {display: inline-block}\n",
       ".list-inline>li:not(:last-child)::after {content: \"\\00b7\"; padding: 0 .5ex}\n",
       "</style>\n",
       "<ol class=list-inline><li>'subject_id'</li><li>'row_id.x'</li><li>'gender'</li><li>'dob'</li><li>'dod'</li><li>'dod_hosp'</li><li>'dod_ssn'</li><li>'expire_flag'</li><li>'row_id.y'</li><li>'hadm_id'</li><li>'admittime'</li><li>'dischtime'</li><li>'deathtime'</li><li>'admission_type'</li><li>'admission_location'</li><li>'discharge_location'</li><li>'insurance'</li><li>'language'</li><li>'religion'</li><li>'marital_status'</li><li>'ethnicity'</li><li>'edregtime'</li><li>'edouttime'</li><li>'diagnosis'</li><li>'hospital_expire_flag'</li><li>'has_chartevents_data'</li><li>'age'</li><li>'total_los'</li></ol>\n"
      ],
      "text/latex": [
       "\\begin{enumerate*}\n",
       "\\item 'subject\\_id'\n",
       "\\item 'row\\_id.x'\n",
       "\\item 'gender'\n",
       "\\item 'dob'\n",
       "\\item 'dod'\n",
       "\\item 'dod\\_hosp'\n",
       "\\item 'dod\\_ssn'\n",
       "\\item 'expire\\_flag'\n",
       "\\item 'row\\_id.y'\n",
       "\\item 'hadm\\_id'\n",
       "\\item 'admittime'\n",
       "\\item 'dischtime'\n",
       "\\item 'deathtime'\n",
       "\\item 'admission\\_type'\n",
       "\\item 'admission\\_location'\n",
       "\\item 'discharge\\_location'\n",
       "\\item 'insurance'\n",
       "\\item 'language'\n",
       "\\item 'religion'\n",
       "\\item 'marital\\_status'\n",
       "\\item 'ethnicity'\n",
       "\\item 'edregtime'\n",
       "\\item 'edouttime'\n",
       "\\item 'diagnosis'\n",
       "\\item 'hospital\\_expire\\_flag'\n",
       "\\item 'has\\_chartevents\\_data'\n",
       "\\item 'age'\n",
       "\\item 'total\\_los'\n",
       "\\end{enumerate*}\n"
      ],
      "text/markdown": [
       "1. 'subject_id'\n",
       "2. 'row_id.x'\n",
       "3. 'gender'\n",
       "4. 'dob'\n",
       "5. 'dod'\n",
       "6. 'dod_hosp'\n",
       "7. 'dod_ssn'\n",
       "8. 'expire_flag'\n",
       "9. 'row_id.y'\n",
       "10. 'hadm_id'\n",
       "11. 'admittime'\n",
       "12. 'dischtime'\n",
       "13. 'deathtime'\n",
       "14. 'admission_type'\n",
       "15. 'admission_location'\n",
       "16. 'discharge_location'\n",
       "17. 'insurance'\n",
       "18. 'language'\n",
       "19. 'religion'\n",
       "20. 'marital_status'\n",
       "21. 'ethnicity'\n",
       "22. 'edregtime'\n",
       "23. 'edouttime'\n",
       "24. 'diagnosis'\n",
       "25. 'hospital_expire_flag'\n",
       "26. 'has_chartevents_data'\n",
       "27. 'age'\n",
       "28. 'total_los'\n",
       "\n",
       "\n"
      ],
      "text/plain": [
       " [1] \"subject_id\"           \"row_id.x\"             \"gender\"              \n",
       " [4] \"dob\"                  \"dod\"                  \"dod_hosp\"            \n",
       " [7] \"dod_ssn\"              \"expire_flag\"          \"row_id.y\"            \n",
       "[10] \"hadm_id\"              \"admittime\"            \"dischtime\"           \n",
       "[13] \"deathtime\"            \"admission_type\"       \"admission_location\"  \n",
       "[16] \"discharge_location\"   \"insurance\"            \"language\"            \n",
       "[19] \"religion\"             \"marital_status\"       \"ethnicity\"           \n",
       "[22] \"edregtime\"            \"edouttime\"            \"diagnosis\"           \n",
       "[25] \"hospital_expire_flag\" \"has_chartevents_data\" \"age\"                 \n",
       "[28] \"total_los\"           "
      ]
     },
     "metadata": {},
     "output_type": "display_data"
    }
   ],
   "source": [
    "tolower(names(base_info))"
   ]
  },
  {
   "cell_type": "code",
   "execution_count": 1822,
   "metadata": {},
   "outputs": [
    {
     "data": {
      "text/html": [
       "<style>\n",
       ".list-inline {list-style: none; margin:0; padding: 0}\n",
       ".list-inline>li {display: inline-block}\n",
       ".list-inline>li:not(:last-child)::after {content: \"\\00b7\"; padding: 0 .5ex}\n",
       "</style>\n",
       "<ol class=list-inline><li>'EMERGENCY'</li><li>'ELECTIVE'</li><li>'URGENT'</li></ol>\n"
      ],
      "text/latex": [
       "\\begin{enumerate*}\n",
       "\\item 'EMERGENCY'\n",
       "\\item 'ELECTIVE'\n",
       "\\item 'URGENT'\n",
       "\\end{enumerate*}\n"
      ],
      "text/markdown": [
       "1. 'EMERGENCY'\n",
       "2. 'ELECTIVE'\n",
       "3. 'URGENT'\n",
       "\n",
       "\n"
      ],
      "text/plain": [
       "[1] \"EMERGENCY\" \"ELECTIVE\"  \"URGENT\"   "
      ]
     },
     "metadata": {},
     "output_type": "display_data"
    }
   ],
   "source": [
    "unique(base_info$ADMISSION_TYPE)"
   ]
  },
  {
   "cell_type": "code",
   "execution_count": 1793,
   "metadata": {},
   "outputs": [],
   "source": [
    "diagnosis<-fread(\"/home/luojiawei/mimic3/mimic3_data/DIAGNOSES_ICD.csv\",header=T,fill=T)"
   ]
  },
  {
   "cell_type": "code",
   "execution_count": 1794,
   "metadata": {},
   "outputs": [
    {
     "data": {
      "text/html": [
       "<table class=\"dataframe\">\n",
       "<caption>A data.table: 2 × 5</caption>\n",
       "<thead>\n",
       "\t<tr><th scope=col>ROW_ID</th><th scope=col>SUBJECT_ID</th><th scope=col>HADM_ID</th><th scope=col>SEQ_NUM</th><th scope=col>ICD9_CODE</th></tr>\n",
       "\t<tr><th scope=col>&lt;int&gt;</th><th scope=col>&lt;int&gt;</th><th scope=col>&lt;int&gt;</th><th scope=col>&lt;int&gt;</th><th scope=col>&lt;chr&gt;</th></tr>\n",
       "</thead>\n",
       "<tbody>\n",
       "\t<tr><td>1297</td><td>109</td><td>172335</td><td>1</td><td>40301</td></tr>\n",
       "\t<tr><td>1298</td><td>109</td><td>172335</td><td>2</td><td>486  </td></tr>\n",
       "</tbody>\n",
       "</table>\n"
      ],
      "text/latex": [
       "A data.table: 2 × 5\n",
       "\\begin{tabular}{lllll}\n",
       " ROW\\_ID & SUBJECT\\_ID & HADM\\_ID & SEQ\\_NUM & ICD9\\_CODE\\\\\n",
       " <int> & <int> & <int> & <int> & <chr>\\\\\n",
       "\\hline\n",
       "\t 1297 & 109 & 172335 & 1 & 40301\\\\\n",
       "\t 1298 & 109 & 172335 & 2 & 486  \\\\\n",
       "\\end{tabular}\n"
      ],
      "text/markdown": [
       "\n",
       "A data.table: 2 × 5\n",
       "\n",
       "| ROW_ID &lt;int&gt; | SUBJECT_ID &lt;int&gt; | HADM_ID &lt;int&gt; | SEQ_NUM &lt;int&gt; | ICD9_CODE &lt;chr&gt; |\n",
       "|---|---|---|---|---|\n",
       "| 1297 | 109 | 172335 | 1 | 40301 |\n",
       "| 1298 | 109 | 172335 | 2 | 486   |\n",
       "\n"
      ],
      "text/plain": [
       "  ROW_ID SUBJECT_ID HADM_ID SEQ_NUM ICD9_CODE\n",
       "1 1297   109        172335  1       40301    \n",
       "2 1298   109        172335  2       486      "
      ]
     },
     "metadata": {},
     "output_type": "display_data"
    }
   ],
   "source": [
    "diagnosis[1:2,]"
   ]
  },
  {
   "cell_type": "code",
   "execution_count": 1785,
   "metadata": {},
   "outputs": [
    {
     "name": "stdout",
     "output_type": "stream",
     "text": [
      "Classes ‘data.table’ and 'data.frame':\t651047 obs. of  5 variables:\n",
      " $ ROW_ID    : int  1297 1298 1299 1300 1301 1302 1303 1304 1305 1306 ...\n",
      " $ SUBJECT_ID: int  109 109 109 109 109 109 109 109 109 109 ...\n",
      " $ HADM_ID   : int  172335 172335 172335 172335 172335 172335 172335 172335 172335 172335 ...\n",
      " $ SEQ_NUM   : int  1 2 3 4 5 6 7 8 9 10 ...\n",
      " $ ICD9_CODE : chr  \"40301\" \"486\" \"58281\" \"5855\" ...\n",
      " - attr(*, \".internal.selfref\")=<externalptr> \n"
     ]
    }
   ],
   "source": [
    "str(diagnosis)"
   ]
  },
  {
   "cell_type": "code",
   "execution_count": 1795,
   "metadata": {},
   "outputs": [],
   "source": [
    "diagnosis<-diagnosis[grep(\"(^042)|(^20[0-8])|(^19[6-9])|(^V1051)\",diagnosis$ICD9_CODE),]"
   ]
  },
  {
   "cell_type": "code",
   "execution_count": 1796,
   "metadata": {},
   "outputs": [
    {
     "data": {
      "text/html": [
       "<style>\n",
       ".list-inline {list-style: none; margin:0; padding: 0}\n",
       ".list-inline>li {display: inline-block}\n",
       ".list-inline>li:not(:last-child)::after {content: \"\\00b7\"; padding: 0 .5ex}\n",
       "</style>\n",
       "<ol class=list-inline><li>3</li><li>4</li><li>6</li><li>9</li><li>11</li><li>12</li><li>13</li><li>18</li><li>19</li><li>20</li></ol>\n"
      ],
      "text/latex": [
       "\\begin{enumerate*}\n",
       "\\item 3\n",
       "\\item 4\n",
       "\\item 6\n",
       "\\item 9\n",
       "\\item 11\n",
       "\\item 12\n",
       "\\item 13\n",
       "\\item 18\n",
       "\\item 19\n",
       "\\item 20\n",
       "\\end{enumerate*}\n"
      ],
      "text/markdown": [
       "1. 3\n",
       "2. 4\n",
       "3. 6\n",
       "4. 9\n",
       "5. 11\n",
       "6. 12\n",
       "7. 13\n",
       "8. 18\n",
       "9. 19\n",
       "10. 20\n",
       "\n",
       "\n"
      ],
      "text/plain": [
       " [1]  3  4  6  9 11 12 13 18 19 20"
      ]
     },
     "metadata": {},
     "output_type": "display_data"
    }
   ],
   "source": [
    "base_info$SUBJECT_ID[1:10]"
   ]
  },
  {
   "cell_type": "code",
   "execution_count": 1797,
   "metadata": {},
   "outputs": [
    {
     "data": {
      "text/html": [
       "<table class=\"dataframe\">\n",
       "<caption>A data.table: 2 × 5</caption>\n",
       "<thead>\n",
       "\t<tr><th scope=col>ROW_ID</th><th scope=col>SUBJECT_ID</th><th scope=col>HADM_ID</th><th scope=col>SEQ_NUM</th><th scope=col>ICD9_CODE</th></tr>\n",
       "\t<tr><th scope=col>&lt;int&gt;</th><th scope=col>&lt;int&gt;</th><th scope=col>&lt;int&gt;</th><th scope=col>&lt;int&gt;</th><th scope=col>&lt;chr&gt;</th></tr>\n",
       "</thead>\n",
       "<tbody>\n",
       "\t<tr><td>1503</td><td>115</td><td>114585</td><td>2</td><td>1977 </td></tr>\n",
       "\t<tr><td>1648</td><td>127</td><td>141647</td><td>1</td><td>19889</td></tr>\n",
       "</tbody>\n",
       "</table>\n"
      ],
      "text/latex": [
       "A data.table: 2 × 5\n",
       "\\begin{tabular}{lllll}\n",
       " ROW\\_ID & SUBJECT\\_ID & HADM\\_ID & SEQ\\_NUM & ICD9\\_CODE\\\\\n",
       " <int> & <int> & <int> & <int> & <chr>\\\\\n",
       "\\hline\n",
       "\t 1503 & 115 & 114585 & 2 & 1977 \\\\\n",
       "\t 1648 & 127 & 141647 & 1 & 19889\\\\\n",
       "\\end{tabular}\n"
      ],
      "text/markdown": [
       "\n",
       "A data.table: 2 × 5\n",
       "\n",
       "| ROW_ID &lt;int&gt; | SUBJECT_ID &lt;int&gt; | HADM_ID &lt;int&gt; | SEQ_NUM &lt;int&gt; | ICD9_CODE &lt;chr&gt; |\n",
       "|---|---|---|---|---|\n",
       "| 1503 | 115 | 114585 | 2 | 1977  |\n",
       "| 1648 | 127 | 141647 | 1 | 19889 |\n",
       "\n"
      ],
      "text/plain": [
       "  ROW_ID SUBJECT_ID HADM_ID SEQ_NUM ICD9_CODE\n",
       "1 1503   115        114585  2       1977     \n",
       "2 1648   127        141647  1       19889    "
      ]
     },
     "metadata": {},
     "output_type": "display_data"
    }
   ],
   "source": [
    "diagnosis[1:2,]"
   ]
  },
  {
   "cell_type": "code",
   "execution_count": 1805,
   "metadata": {},
   "outputs": [],
   "source": [
    "CD_ds<-sapply(base_info$SUBJECT_ID, function(id) {\n",
    "\n",
    "    tmp<-diagnosis[which(diagnosis$SUBJECT_ID == id),]\n",
    "    x<-c()\n",
    "    if(length(grep(\"^042\",tmp$ICD9_CODE))>=1) x<-c(x,1) else x<-c(x,0)\n",
    "    if(length(grep(\"^20[0-8]\",tmp$ICD9_CODE))>=1) x<-c(x,1) else x<-c(x,0)\n",
    "    if(length(grep(\"(^19[6-9])|(^V1051)\",tmp$ICD9_CODE))>=1) x<-c(x,1) else x<-c(x,0)\n",
    "    \n",
    "    return(cbind(x))\n",
    "\n",
    "}) %>% t()"
   ]
  },
  {
   "cell_type": "code",
   "execution_count": 1807,
   "metadata": {},
   "outputs": [],
   "source": [
    "CD_ds<-as.data.frame(CD_ds)"
   ]
  },
  {
   "cell_type": "code",
   "execution_count": 1818,
   "metadata": {},
   "outputs": [],
   "source": [
    "names(CD_ds)<-c(\"Aids\",\"Hm\",\"Mc\")"
   ]
  },
  {
   "cell_type": "code",
   "execution_count": 1819,
   "metadata": {},
   "outputs": [
    {
     "data": {
      "text/html": [
       "<style>\n",
       ".list-inline {list-style: none; margin:0; padding: 0}\n",
       ".list-inline>li {display: inline-block}\n",
       ".list-inline>li:not(:last-child)::after {content: \"\\00b7\"; padding: 0 .5ex}\n",
       "</style>\n",
       "<ol class=list-inline><li>'SUBJECT_ID'</li><li>'ROW_ID.x'</li><li>'GENDER'</li><li>'DOB'</li><li>'DOD'</li><li>'DOD_HOSP'</li><li>'DOD_SSN'</li><li>'EXPIRE_FLAG'</li><li>'ROW_ID.y'</li><li>'HADM_ID'</li><li>'ADMITTIME'</li><li>'DISCHTIME'</li><li>'DEATHTIME'</li><li>'ADMISSION_TYPE'</li><li>'ADMISSION_LOCATION'</li><li>'DISCHARGE_LOCATION'</li><li>'INSURANCE'</li><li>'LANGUAGE'</li><li>'RELIGION'</li><li>'MARITAL_STATUS'</li><li>'ETHNICITY'</li><li>'EDREGTIME'</li><li>'EDOUTTIME'</li><li>'DIAGNOSIS'</li><li>'HOSPITAL_EXPIRE_FLAG'</li><li>'HAS_CHARTEVENTS_DATA'</li><li>'AGE'</li><li>'TOTAL_LOS'</li></ol>\n"
      ],
      "text/latex": [
       "\\begin{enumerate*}\n",
       "\\item 'SUBJECT\\_ID'\n",
       "\\item 'ROW\\_ID.x'\n",
       "\\item 'GENDER'\n",
       "\\item 'DOB'\n",
       "\\item 'DOD'\n",
       "\\item 'DOD\\_HOSP'\n",
       "\\item 'DOD\\_SSN'\n",
       "\\item 'EXPIRE\\_FLAG'\n",
       "\\item 'ROW\\_ID.y'\n",
       "\\item 'HADM\\_ID'\n",
       "\\item 'ADMITTIME'\n",
       "\\item 'DISCHTIME'\n",
       "\\item 'DEATHTIME'\n",
       "\\item 'ADMISSION\\_TYPE'\n",
       "\\item 'ADMISSION\\_LOCATION'\n",
       "\\item 'DISCHARGE\\_LOCATION'\n",
       "\\item 'INSURANCE'\n",
       "\\item 'LANGUAGE'\n",
       "\\item 'RELIGION'\n",
       "\\item 'MARITAL\\_STATUS'\n",
       "\\item 'ETHNICITY'\n",
       "\\item 'EDREGTIME'\n",
       "\\item 'EDOUTTIME'\n",
       "\\item 'DIAGNOSIS'\n",
       "\\item 'HOSPITAL\\_EXPIRE\\_FLAG'\n",
       "\\item 'HAS\\_CHARTEVENTS\\_DATA'\n",
       "\\item 'AGE'\n",
       "\\item 'TOTAL\\_LOS'\n",
       "\\end{enumerate*}\n"
      ],
      "text/markdown": [
       "1. 'SUBJECT_ID'\n",
       "2. 'ROW_ID.x'\n",
       "3. 'GENDER'\n",
       "4. 'DOB'\n",
       "5. 'DOD'\n",
       "6. 'DOD_HOSP'\n",
       "7. 'DOD_SSN'\n",
       "8. 'EXPIRE_FLAG'\n",
       "9. 'ROW_ID.y'\n",
       "10. 'HADM_ID'\n",
       "11. 'ADMITTIME'\n",
       "12. 'DISCHTIME'\n",
       "13. 'DEATHTIME'\n",
       "14. 'ADMISSION_TYPE'\n",
       "15. 'ADMISSION_LOCATION'\n",
       "16. 'DISCHARGE_LOCATION'\n",
       "17. 'INSURANCE'\n",
       "18. 'LANGUAGE'\n",
       "19. 'RELIGION'\n",
       "20. 'MARITAL_STATUS'\n",
       "21. 'ETHNICITY'\n",
       "22. 'EDREGTIME'\n",
       "23. 'EDOUTTIME'\n",
       "24. 'DIAGNOSIS'\n",
       "25. 'HOSPITAL_EXPIRE_FLAG'\n",
       "26. 'HAS_CHARTEVENTS_DATA'\n",
       "27. 'AGE'\n",
       "28. 'TOTAL_LOS'\n",
       "\n",
       "\n"
      ],
      "text/plain": [
       " [1] \"SUBJECT_ID\"           \"ROW_ID.x\"             \"GENDER\"              \n",
       " [4] \"DOB\"                  \"DOD\"                  \"DOD_HOSP\"            \n",
       " [7] \"DOD_SSN\"              \"EXPIRE_FLAG\"          \"ROW_ID.y\"            \n",
       "[10] \"HADM_ID\"              \"ADMITTIME\"            \"DISCHTIME\"           \n",
       "[13] \"DEATHTIME\"            \"ADMISSION_TYPE\"       \"ADMISSION_LOCATION\"  \n",
       "[16] \"DISCHARGE_LOCATION\"   \"INSURANCE\"            \"LANGUAGE\"            \n",
       "[19] \"RELIGION\"             \"MARITAL_STATUS\"       \"ETHNICITY\"           \n",
       "[22] \"EDREGTIME\"            \"EDOUTTIME\"            \"DIAGNOSIS\"           \n",
       "[25] \"HOSPITAL_EXPIRE_FLAG\" \"HAS_CHARTEVENTS_DATA\" \"AGE\"                 \n",
       "[28] \"TOTAL_LOS\"           "
      ]
     },
     "metadata": {},
     "output_type": "display_data"
    }
   ],
   "source": [
    "names(base_info)"
   ]
  },
  {
   "cell_type": "code",
   "execution_count": 1820,
   "metadata": {},
   "outputs": [],
   "source": [
    "CD_ds<-cbind(base_info[,c(\"SUBJECT_ID\",\"HADM_ID\")],CD_ds)"
   ]
  },
  {
   "cell_type": "code",
   "execution_count": 1821,
   "metadata": {},
   "outputs": [
    {
     "data": {
      "text/html": [
       "<table class=\"dataframe\">\n",
       "<caption>A data.table: 4 × 5</caption>\n",
       "<thead>\n",
       "\t<tr><th scope=col>SUBJECT_ID</th><th scope=col>HADM_ID</th><th scope=col>Aids</th><th scope=col>Hm</th><th scope=col>Mc</th></tr>\n",
       "\t<tr><th scope=col>&lt;int&gt;</th><th scope=col>&lt;int&gt;</th><th scope=col>&lt;dbl&gt;</th><th scope=col>&lt;dbl&gt;</th><th scope=col>&lt;dbl&gt;</th></tr>\n",
       "</thead>\n",
       "<tbody>\n",
       "\t<tr><td>3</td><td>145834</td><td>0</td><td>0</td><td>0</td></tr>\n",
       "\t<tr><td>4</td><td>185777</td><td>1</td><td>0</td><td>0</td></tr>\n",
       "\t<tr><td>6</td><td>107064</td><td>0</td><td>0</td><td>0</td></tr>\n",
       "\t<tr><td>9</td><td>150750</td><td>0</td><td>0</td><td>0</td></tr>\n",
       "</tbody>\n",
       "</table>\n"
      ],
      "text/latex": [
       "A data.table: 4 × 5\n",
       "\\begin{tabular}{lllll}\n",
       " SUBJECT\\_ID & HADM\\_ID & Aids & Hm & Mc\\\\\n",
       " <int> & <int> & <dbl> & <dbl> & <dbl>\\\\\n",
       "\\hline\n",
       "\t 3 & 145834 & 0 & 0 & 0\\\\\n",
       "\t 4 & 185777 & 1 & 0 & 0\\\\\n",
       "\t 6 & 107064 & 0 & 0 & 0\\\\\n",
       "\t 9 & 150750 & 0 & 0 & 0\\\\\n",
       "\\end{tabular}\n"
      ],
      "text/markdown": [
       "\n",
       "A data.table: 4 × 5\n",
       "\n",
       "| SUBJECT_ID &lt;int&gt; | HADM_ID &lt;int&gt; | Aids &lt;dbl&gt; | Hm &lt;dbl&gt; | Mc &lt;dbl&gt; |\n",
       "|---|---|---|---|---|\n",
       "| 3 | 145834 | 0 | 0 | 0 |\n",
       "| 4 | 185777 | 1 | 0 | 0 |\n",
       "| 6 | 107064 | 0 | 0 | 0 |\n",
       "| 9 | 150750 | 0 | 0 | 0 |\n",
       "\n"
      ],
      "text/plain": [
       "  SUBJECT_ID HADM_ID Aids Hm Mc\n",
       "1 3          145834  0    0  0 \n",
       "2 4          185777  1    0  0 \n",
       "3 6          107064  0    0  0 \n",
       "4 9          150750  0    0  0 "
      ]
     },
     "metadata": {},
     "output_type": "display_data"
    }
   ],
   "source": [
    "CD_ds[1:4,]"
   ]
  },
  {
   "cell_type": "code",
   "execution_count": 1823,
   "metadata": {},
   "outputs": [],
   "source": [
    "base_info$ADMISSION_TYPE<-factor(base_info$ADMISSION_TYPE,levels=c('ELECTIVE','URGENT','EMERGENCY'))"
   ]
  },
  {
   "cell_type": "code",
   "execution_count": 1824,
   "metadata": {},
   "outputs": [],
   "source": [
    "base_info<-merge(base_info,CD_ds[,c(\"SUBJECT_ID\",\"Aids\",\"Hm\",\"Mc\")],by=\"SUBJECT_ID\",all.x=T)"
   ]
  },
  {
   "cell_type": "code",
   "execution_count": 1825,
   "metadata": {},
   "outputs": [
    {
     "data": {
      "text/html": [
       "<style>\n",
       ".list-inline {list-style: none; margin:0; padding: 0}\n",
       ".list-inline>li {display: inline-block}\n",
       ".list-inline>li:not(:last-child)::after {content: \"\\00b7\"; padding: 0 .5ex}\n",
       "</style>\n",
       "<ol class=list-inline><li>31239</li><li>31</li></ol>\n"
      ],
      "text/latex": [
       "\\begin{enumerate*}\n",
       "\\item 31239\n",
       "\\item 31\n",
       "\\end{enumerate*}\n"
      ],
      "text/markdown": [
       "1. 31239\n",
       "2. 31\n",
       "\n",
       "\n"
      ],
      "text/plain": [
       "[1] 31239    31"
      ]
     },
     "metadata": {},
     "output_type": "display_data"
    }
   ],
   "source": [
    "dim(base_info)"
   ]
  },
  {
   "cell_type": "code",
   "execution_count": 1827,
   "metadata": {},
   "outputs": [],
   "source": [
    "fwrite(base_info, file=\"./base_info.csv\", row.names=F)"
   ]
  },
  {
   "cell_type": "code",
   "execution_count": 26,
   "metadata": {},
   "outputs": [],
   "source": [
    "base_info<-fread(\"./base_info.csv\",header=T,fill=T)"
   ]
  },
  {
   "cell_type": "markdown",
   "metadata": {},
   "source": [
    "### LOCF 填补 + mask"
   ]
  },
  {
   "cell_type": "code",
   "execution_count": 1909,
   "metadata": {},
   "outputs": [],
   "source": [
    "dym_X_locf<-dym_X[,c(1,61:ncol(dym_X))]"
   ]
  },
  {
   "cell_type": "code",
   "execution_count": 1910,
   "metadata": {},
   "outputs": [],
   "source": [
    "dym_X_locf_m<-as.data.frame(lapply(dym_X_locf[,3:13],FUN=function(x) ifelse(is.na(x),1,0)))\n",
    "names(dym_X_locf_m)<-paste0(names(dym_X_locf_m),\"_m\")\n",
    "dym_X_locf_m1<-dym_X_locf_m\n",
    "names(dym_X_locf_m1)<-paste0(names(dym_X_locf_m1),\"_m1\")"
   ]
  },
  {
   "cell_type": "code",
   "execution_count": 1911,
   "metadata": {},
   "outputs": [],
   "source": [
    "for(k in inds){\n",
    "    tmp<-dym_X_locf[which(dym_X_locf$hadm_id == base_info$HADM_ID[k]),3:13]\n",
    "    time<-dym_X_locf$time[which(dym_X_locf$hadm_id == base_info$HADM_ID[k])]\n",
    "    m<-apply(tmp,2,median,na.rm=T)\n",
    "    tmp[1,][is.na(tmp[1,])]<-m[is.na(tmp[1,])]\n",
    "    tmp<-lapply(tmp,FUN=fill_NA,time=time)\n",
    "    dym_X_locf[which(dym_X_locf$hadm_id == base_info$HADM_ID[k]),3:13]<-tmp\n",
    "    \n",
    "    tmp1<-dym_X_locf_m[which(dym_X_locf$hadm_id == base_info$HADM_ID[k]),]\n",
    "    # tmp1<-lapply(tmp1, function(x) cumsum(x/length(x)))\n",
    "    tws<-1:nrow(tmp1)\n",
    "    tw<-100\n",
    "    tmp1<-lapply(tmp1, function(x){sapply(tws, function(u) {\n",
    "\n",
    "        if(u>tw-1) return(sum(x[(u-tw+1):u])/tw) else return(sum(x[1:u])/u)\n",
    "\n",
    "    })})\n",
    "    \n",
    "    dym_X_locf_m[which(dym_X_locf$hadm_id == base_info$HADM_ID[k]),]<-tmp1\n",
    "    \n",
    "    #tw1<-30\n",
    "    #tmp2<-lapply(tmp2, function(x){sapply(tws, function(u) {\n",
    "\n",
    "    #    if(u>1) {\n",
    "        \n",
    "    #        l<-which(x[1:u]==0)\n",
    "    #        if(length(l)==0){\n",
    "                \n",
    "    #            if(u>tw1) return(tw1) else return(u)\n",
    "            \n",
    "    #        } else{\n",
    "                \n",
    "    #            u1<-u-l[length(l)]\n",
    "                \n",
    "    #            if(u1>tw1) return(tw1) else return(u1)\n",
    "            \n",
    "    #        }\n",
    "        \n",
    "    #    } else return(0)\n",
    "\n",
    "    #})})\n",
    "    \n",
    "    #dym_X_locf_m[which(dym_X_locf$hadm_id == base_info$HADM_ID[k]),]<-tmp2\n",
    "}"
   ]
  },
  {
   "cell_type": "code",
   "execution_count": 1912,
   "metadata": {},
   "outputs": [],
   "source": [
    "for(i in 3:13){\n",
    "    \n",
    "    dym_X_locf[[i]][is.na(dym_X_locf[[i]])]<-median(dym_X_locf[[i]],na.rm=T)\n",
    "\n",
    "}"
   ]
  },
  {
   "cell_type": "code",
   "execution_count": 1913,
   "metadata": {},
   "outputs": [],
   "source": [
    "dym_X_locf<-cbind(dym_X_locf,dym_X_locf_m)"
   ]
  },
  {
   "cell_type": "code",
   "execution_count": 1914,
   "metadata": {},
   "outputs": [],
   "source": [
    "dym_X_locf<-merge(dym_X_locf, base_info[,c(\"HADM_ID\",\"ADMISSION_TYPE\",\"Aids\",\"Hm\",\"Mc\")],\n",
    "                  by.x=\"hadm_id\",by.y=\"HADM_ID\",all.x=T)"
   ]
  },
  {
   "cell_type": "code",
   "execution_count": 1915,
   "metadata": {},
   "outputs": [
    {
     "data": {
      "text/html": [
       "<table class=\"dataframe\">\n",
       "<caption>A data.frame: 2 × 31</caption>\n",
       "<thead>\n",
       "\t<tr><th></th><th scope=col>hadm_id</th><th scope=col>time</th><th scope=col>GCSVerbal</th><th scope=col>GCSMotor</th><th scope=col>GCSEyes</th><th scope=col>SBP</th><th scope=col>HR</th><th scope=col>BT</th><th scope=col>PFR</th><th scope=col>UrO</th><th scope=col>⋯</th><th scope=col>BT_m</th><th scope=col>PFR_m</th><th scope=col>UrO_m</th><th scope=col>WBC_m</th><th scope=col>Sod_m</th><th scope=col>Pot_m</th><th scope=col>ADMISSION_TYPE.y</th><th scope=col>Aids</th><th scope=col>Hm</th><th scope=col>Mc</th></tr>\n",
       "\t<tr><th></th><th scope=col>&lt;int&gt;</th><th scope=col>&lt;dbl&gt;</th><th scope=col>&lt;dbl&gt;</th><th scope=col>&lt;dbl&gt;</th><th scope=col>&lt;dbl&gt;</th><th scope=col>&lt;dbl&gt;</th><th scope=col>&lt;dbl&gt;</th><th scope=col>&lt;dbl&gt;</th><th scope=col>&lt;dbl&gt;</th><th scope=col>&lt;dbl&gt;</th><th scope=col>⋯</th><th scope=col>&lt;dbl&gt;</th><th scope=col>&lt;dbl&gt;</th><th scope=col>&lt;dbl&gt;</th><th scope=col>&lt;dbl&gt;</th><th scope=col>&lt;dbl&gt;</th><th scope=col>&lt;dbl&gt;</th><th scope=col>&lt;fct&gt;</th><th scope=col>&lt;dbl&gt;</th><th scope=col>&lt;dbl&gt;</th><th scope=col>&lt;dbl&gt;</th></tr>\n",
       "</thead>\n",
       "<tbody>\n",
       "\t<tr><th scope=row>1</th><td>100071</td><td>0</td><td>5</td><td>6</td><td>4</td><td>120.0</td><td>89</td><td>37.38889</td><td>113</td><td>100</td><td>⋯</td><td>0</td><td>1</td><td>0</td><td>0.0</td><td>0.0</td><td>0.0</td><td>EMERGENCY</td><td>0</td><td>0</td><td>0</td></tr>\n",
       "\t<tr><th scope=row>2</th><td>100071</td><td>4</td><td>5</td><td>6</td><td>4</td><td>113.5</td><td>89</td><td>37.66667</td><td>113</td><td>120</td><td>⋯</td><td>0</td><td>1</td><td>0</td><td>0.5</td><td>0.5</td><td>0.5</td><td>EMERGENCY</td><td>0</td><td>0</td><td>0</td></tr>\n",
       "</tbody>\n",
       "</table>\n"
      ],
      "text/latex": [
       "A data.frame: 2 × 31\n",
       "\\begin{tabular}{r|lllllllllllllllllllll}\n",
       "  & hadm\\_id & time & GCSVerbal & GCSMotor & GCSEyes & SBP & HR & BT & PFR & UrO & ⋯ & BT\\_m & PFR\\_m & UrO\\_m & WBC\\_m & Sod\\_m & Pot\\_m & ADMISSION\\_TYPE.y & Aids & Hm & Mc\\\\\n",
       "  & <int> & <dbl> & <dbl> & <dbl> & <dbl> & <dbl> & <dbl> & <dbl> & <dbl> & <dbl> & ⋯ & <dbl> & <dbl> & <dbl> & <dbl> & <dbl> & <dbl> & <fct> & <dbl> & <dbl> & <dbl>\\\\\n",
       "\\hline\n",
       "\t1 & 100071 & 0 & 5 & 6 & 4 & 120.0 & 89 & 37.38889 & 113 & 100 & ⋯ & 0 & 1 & 0 & 0.0 & 0.0 & 0.0 & EMERGENCY & 0 & 0 & 0\\\\\n",
       "\t2 & 100071 & 4 & 5 & 6 & 4 & 113.5 & 89 & 37.66667 & 113 & 120 & ⋯ & 0 & 1 & 0 & 0.5 & 0.5 & 0.5 & EMERGENCY & 0 & 0 & 0\\\\\n",
       "\\end{tabular}\n"
      ],
      "text/markdown": [
       "\n",
       "A data.frame: 2 × 31\n",
       "\n",
       "| <!--/--> | hadm_id &lt;int&gt; | time &lt;dbl&gt; | GCSVerbal &lt;dbl&gt; | GCSMotor &lt;dbl&gt; | GCSEyes &lt;dbl&gt; | SBP &lt;dbl&gt; | HR &lt;dbl&gt; | BT &lt;dbl&gt; | PFR &lt;dbl&gt; | UrO &lt;dbl&gt; | ⋯ ⋯ | BT_m &lt;dbl&gt; | PFR_m &lt;dbl&gt; | UrO_m &lt;dbl&gt; | WBC_m &lt;dbl&gt; | Sod_m &lt;dbl&gt; | Pot_m &lt;dbl&gt; | ADMISSION_TYPE.y &lt;fct&gt; | Aids &lt;dbl&gt; | Hm &lt;dbl&gt; | Mc &lt;dbl&gt; |\n",
       "|---|---|---|---|---|---|---|---|---|---|---|---|---|---|---|---|---|---|---|---|---|---|\n",
       "| 1 | 100071 | 0 | 5 | 6 | 4 | 120.0 | 89 | 37.38889 | 113 | 100 | ⋯ | 0 | 1 | 0 | 0.0 | 0.0 | 0.0 | EMERGENCY | 0 | 0 | 0 |\n",
       "| 2 | 100071 | 4 | 5 | 6 | 4 | 113.5 | 89 | 37.66667 | 113 | 120 | ⋯ | 0 | 1 | 0 | 0.5 | 0.5 | 0.5 | EMERGENCY | 0 | 0 | 0 |\n",
       "\n"
      ],
      "text/plain": [
       "  hadm_id time GCSVerbal GCSMotor GCSEyes SBP   HR BT       PFR UrO ⋯ BT_m\n",
       "1 100071  0    5         6        4       120.0 89 37.38889 113 100 ⋯ 0   \n",
       "2 100071  4    5         6        4       113.5 89 37.66667 113 120 ⋯ 0   \n",
       "  PFR_m UrO_m WBC_m Sod_m Pot_m ADMISSION_TYPE.y Aids Hm Mc\n",
       "1 1     0     0.0   0.0   0.0   EMERGENCY        0    0  0 \n",
       "2 1     0     0.5   0.5   0.5   EMERGENCY        0    0  0 "
      ]
     },
     "metadata": {},
     "output_type": "display_data"
    }
   ],
   "source": [
    "dym_X_locf[1:2,]"
   ]
  },
  {
   "cell_type": "code",
   "execution_count": 1916,
   "metadata": {
    "scrolled": true
   },
   "outputs": [
    {
     "data": {
      "text/html": [
       "<table class=\"dataframe\">\n",
       "<caption>A matrix: 31 × 2 of type chr</caption>\n",
       "<tbody>\n",
       "\t<tr><td>1 </td><td>hadm_id             </td></tr>\n",
       "\t<tr><td>2 </td><td>time                </td></tr>\n",
       "\t<tr><td>3 </td><td>GCSVerbal           </td></tr>\n",
       "\t<tr><td>4 </td><td>GCSMotor            </td></tr>\n",
       "\t<tr><td>5 </td><td>GCSEyes             </td></tr>\n",
       "\t<tr><td>6 </td><td>SBP                 </td></tr>\n",
       "\t<tr><td>7 </td><td>HR                  </td></tr>\n",
       "\t<tr><td>8 </td><td>BT                  </td></tr>\n",
       "\t<tr><td>9 </td><td>PFR                 </td></tr>\n",
       "\t<tr><td>10</td><td>UrO                 </td></tr>\n",
       "\t<tr><td>11</td><td>WBC                 </td></tr>\n",
       "\t<tr><td>12</td><td>Sod                 </td></tr>\n",
       "\t<tr><td>13</td><td>Pot                 </td></tr>\n",
       "\t<tr><td>14</td><td>AGE                 </td></tr>\n",
       "\t<tr><td>15</td><td>HOSPITAL_EXPIRE_FLAG</td></tr>\n",
       "\t<tr><td>16</td><td>ADMISSION_TYPE.x    </td></tr>\n",
       "\t<tr><td>17</td><td>GCSVerbal_m         </td></tr>\n",
       "\t<tr><td>18</td><td>GCSMotor_m          </td></tr>\n",
       "\t<tr><td>19</td><td>GCSEyes_m           </td></tr>\n",
       "\t<tr><td>20</td><td>SBP_m               </td></tr>\n",
       "\t<tr><td>21</td><td>HR_m                </td></tr>\n",
       "\t<tr><td>22</td><td>BT_m                </td></tr>\n",
       "\t<tr><td>23</td><td>PFR_m               </td></tr>\n",
       "\t<tr><td>24</td><td>UrO_m               </td></tr>\n",
       "\t<tr><td>25</td><td>WBC_m               </td></tr>\n",
       "\t<tr><td>26</td><td>Sod_m               </td></tr>\n",
       "\t<tr><td>27</td><td>Pot_m               </td></tr>\n",
       "\t<tr><td>28</td><td>ADMISSION_TYPE.y    </td></tr>\n",
       "\t<tr><td>29</td><td>Aids                </td></tr>\n",
       "\t<tr><td>30</td><td>Hm                  </td></tr>\n",
       "\t<tr><td>31</td><td>Mc                  </td></tr>\n",
       "</tbody>\n",
       "</table>\n"
      ],
      "text/latex": [
       "A matrix: 31 × 2 of type chr\n",
       "\\begin{tabular}{ll}\n",
       "\t 1  & hadm\\_id             \\\\\n",
       "\t 2  & time                \\\\\n",
       "\t 3  & GCSVerbal           \\\\\n",
       "\t 4  & GCSMotor            \\\\\n",
       "\t 5  & GCSEyes             \\\\\n",
       "\t 6  & SBP                 \\\\\n",
       "\t 7  & HR                  \\\\\n",
       "\t 8  & BT                  \\\\\n",
       "\t 9  & PFR                 \\\\\n",
       "\t 10 & UrO                 \\\\\n",
       "\t 11 & WBC                 \\\\\n",
       "\t 12 & Sod                 \\\\\n",
       "\t 13 & Pot                 \\\\\n",
       "\t 14 & AGE                 \\\\\n",
       "\t 15 & HOSPITAL\\_EXPIRE\\_FLAG\\\\\n",
       "\t 16 & ADMISSION\\_TYPE.x    \\\\\n",
       "\t 17 & GCSVerbal\\_m         \\\\\n",
       "\t 18 & GCSMotor\\_m          \\\\\n",
       "\t 19 & GCSEyes\\_m           \\\\\n",
       "\t 20 & SBP\\_m               \\\\\n",
       "\t 21 & HR\\_m                \\\\\n",
       "\t 22 & BT\\_m                \\\\\n",
       "\t 23 & PFR\\_m               \\\\\n",
       "\t 24 & UrO\\_m               \\\\\n",
       "\t 25 & WBC\\_m               \\\\\n",
       "\t 26 & Sod\\_m               \\\\\n",
       "\t 27 & Pot\\_m               \\\\\n",
       "\t 28 & ADMISSION\\_TYPE.y    \\\\\n",
       "\t 29 & Aids                \\\\\n",
       "\t 30 & Hm                  \\\\\n",
       "\t 31 & Mc                  \\\\\n",
       "\\end{tabular}\n"
      ],
      "text/markdown": [
       "\n",
       "A matrix: 31 × 2 of type chr\n",
       "\n",
       "| 1  | hadm_id              |\n",
       "| 2  | time                 |\n",
       "| 3  | GCSVerbal            |\n",
       "| 4  | GCSMotor             |\n",
       "| 5  | GCSEyes              |\n",
       "| 6  | SBP                  |\n",
       "| 7  | HR                   |\n",
       "| 8  | BT                   |\n",
       "| 9  | PFR                  |\n",
       "| 10 | UrO                  |\n",
       "| 11 | WBC                  |\n",
       "| 12 | Sod                  |\n",
       "| 13 | Pot                  |\n",
       "| 14 | AGE                  |\n",
       "| 15 | HOSPITAL_EXPIRE_FLAG |\n",
       "| 16 | ADMISSION_TYPE.x     |\n",
       "| 17 | GCSVerbal_m          |\n",
       "| 18 | GCSMotor_m           |\n",
       "| 19 | GCSEyes_m            |\n",
       "| 20 | SBP_m                |\n",
       "| 21 | HR_m                 |\n",
       "| 22 | BT_m                 |\n",
       "| 23 | PFR_m                |\n",
       "| 24 | UrO_m                |\n",
       "| 25 | WBC_m                |\n",
       "| 26 | Sod_m                |\n",
       "| 27 | Pot_m                |\n",
       "| 28 | ADMISSION_TYPE.y     |\n",
       "| 29 | Aids                 |\n",
       "| 30 | Hm                   |\n",
       "| 31 | Mc                   |\n",
       "\n"
      ],
      "text/plain": [
       "      [,1] [,2]                \n",
       " [1,] 1    hadm_id             \n",
       " [2,] 2    time                \n",
       " [3,] 3    GCSVerbal           \n",
       " [4,] 4    GCSMotor            \n",
       " [5,] 5    GCSEyes             \n",
       " [6,] 6    SBP                 \n",
       " [7,] 7    HR                  \n",
       " [8,] 8    BT                  \n",
       " [9,] 9    PFR                 \n",
       "[10,] 10   UrO                 \n",
       "[11,] 11   WBC                 \n",
       "[12,] 12   Sod                 \n",
       "[13,] 13   Pot                 \n",
       "[14,] 14   AGE                 \n",
       "[15,] 15   HOSPITAL_EXPIRE_FLAG\n",
       "[16,] 16   ADMISSION_TYPE.x    \n",
       "[17,] 17   GCSVerbal_m         \n",
       "[18,] 18   GCSMotor_m          \n",
       "[19,] 19   GCSEyes_m           \n",
       "[20,] 20   SBP_m               \n",
       "[21,] 21   HR_m                \n",
       "[22,] 22   BT_m                \n",
       "[23,] 23   PFR_m               \n",
       "[24,] 24   UrO_m               \n",
       "[25,] 25   WBC_m               \n",
       "[26,] 26   Sod_m               \n",
       "[27,] 27   Pot_m               \n",
       "[28,] 28   ADMISSION_TYPE.y    \n",
       "[29,] 29   Aids                \n",
       "[30,] 30   Hm                  \n",
       "[31,] 31   Mc                  "
      ]
     },
     "metadata": {},
     "output_type": "display_data"
    }
   ],
   "source": [
    "cbind(1:ncol(dym_X_locf),names(dym_X_locf))"
   ]
  },
  {
   "cell_type": "code",
   "execution_count": 1917,
   "metadata": {},
   "outputs": [],
   "source": [
    "fit2<-glm(factor(HOSPITAL_EXPIRE_FLAG)~.,data=dym_X_locf[dym_X_locf$time<=48,c(3:15,17:31)],family=binomial())"
   ]
  },
  {
   "cell_type": "code",
   "execution_count": 1918,
   "metadata": {},
   "outputs": [],
   "source": [
    "pred2<-predict(fit2, type=\"response\")"
   ]
  },
  {
   "cell_type": "code",
   "execution_count": 1921,
   "metadata": {},
   "outputs": [
    {
     "name": "stderr",
     "output_type": "stream",
     "text": [
      "Setting levels: control = 0, case = 1\n",
      "\n",
      "Setting direction: controls < cases\n",
      "\n"
     ]
    },
    {
     "name": "stdout",
     "output_type": "stream",
     "text": [
      "Area under the curve: 0.7461\n"
     ]
    },
    {
     "data": {
      "image/png": "[encoded data removed]",
      "text/plain": [
       "plot without title"
      ]
     },
     "metadata": {
      "image/png": {
       "height": 360,
       "width": 360
      }
     },
     "output_type": "display_data"
    }
   ],
   "source": [
    "options(repr.plot.width=6, repr.plot.height=6)\n",
    "roc_fit2<-roc(factor(dym_X_locf$HOSPITAL_EXPIRE_FLAG)[dym_X_locf$time<=48]~pred2)\n",
    "print(auc(roc_fit2))\n",
    "plot(roc_fit2)"
   ]
  },
  {
   "cell_type": "code",
   "execution_count": 1872,
   "metadata": {
    "scrolled": true
   },
   "outputs": [
    {
     "data": {
      "text/plain": [
       "\n",
       "Call:\n",
       "glm(formula = factor(HOSPITAL_EXPIRE_FLAG) ~ ., family = binomial(), \n",
       "    data = dym_X_locf[dym_X_locf$time <= 48, c(3:15, 17:31)])\n",
       "\n",
       "Deviance Residuals: \n",
       "    Min       1Q   Median       3Q      Max  \n",
       "-1.7741  -0.5475  -0.4211  -0.2106   2.8126  \n",
       "\n",
       "Coefficients:\n",
       "                            Estimate Std. Error z value Pr(>|z|)    \n",
       "(Intercept)               -1.300e+01  2.593e+00  -5.016 5.28e-07 ***\n",
       "GCSVerbal                  1.848e-01  4.075e-02   4.535 5.77e-06 ***\n",
       "GCSMotor                  -2.229e-01  5.123e-02  -4.351 1.36e-05 ***\n",
       "GCSEyes                   -3.379e-01  8.094e-02  -4.174 2.99e-05 ***\n",
       "SBP                       -2.177e-03  2.367e-03  -0.920 0.357638    \n",
       "HR                         1.228e-03  3.231e-03   0.380 0.703982    \n",
       "BT                         5.266e-02  5.677e-02   0.928 0.353633    \n",
       "PFR                       -7.431e-04  6.427e-04  -1.156 0.247552    \n",
       "UrO                       -1.419e-03  5.365e-04  -2.646 0.008152 ** \n",
       "WBC                       -3.079e-02  9.193e-03  -3.349 0.000811 ***\n",
       "Sod                        4.769e-02  1.027e-02   4.644 3.42e-06 ***\n",
       "Pot                        5.849e-01  7.724e-02   7.573 3.66e-14 ***\n",
       "AGE                        4.371e-03  6.784e-04   6.442 1.18e-10 ***\n",
       "GCSVerbal_m               -9.894e+01  2.635e+03  -0.038 0.970042    \n",
       "GCSMotor_m                -1.711e+02  1.148e+04  -0.015 0.988105    \n",
       "GCSEyes_m                  2.723e+02  1.177e+04   0.023 0.981551    \n",
       "SBP_m                      1.186e+01  2.504e+00   4.735 2.19e-06 ***\n",
       "HR_m                      -1.263e+01  2.550e+00  -4.954 7.28e-07 ***\n",
       "BT_m                      -4.340e-01  3.222e-01  -1.347 0.177959    \n",
       "PFR_m                      3.209e-01  2.258e-01   1.421 0.155214    \n",
       "UrO_m                     -9.794e-01  1.875e-01  -5.224 1.75e-07 ***\n",
       "WBC_m                      8.049e-01  3.112e-01   2.587 0.009690 ** \n",
       "Sod_m                      3.290e-01  3.387e-01   0.971 0.331335    \n",
       "Pot_m                     -1.196e+00  3.025e-01  -3.954 7.67e-05 ***\n",
       "ADMISSION_TYPE.yURGENT     1.737e+00  2.937e-01   5.913 3.36e-09 ***\n",
       "ADMISSION_TYPE.yEMERGENCY  2.056e+00  2.096e-01   9.806  < 2e-16 ***\n",
       "Aids                       8.180e-01  3.347e-01   2.444 0.014534 *  \n",
       "Hm                        -6.314e-01  3.122e-01  -2.022 0.043165 *  \n",
       "Mc                         8.287e-01  1.450e-01   5.716 1.09e-08 ***\n",
       "---\n",
       "Signif. codes:  0 ‘***’ 0.001 ‘**’ 0.01 ‘*’ 0.05 ‘.’ 0.1 ‘ ’ 1\n",
       "\n",
       "(Dispersion parameter for binomial family taken to be 1)\n",
       "\n",
       "    Null deviance: 4774.1  on 6276  degrees of freedom\n",
       "Residual deviance: 4178.5  on 6248  degrees of freedom\n",
       "AIC: 4236.5\n",
       "\n",
       "Number of Fisher Scoring iterations: 13\n"
      ]
     },
     "metadata": {},
     "output_type": "display_data"
    }
   ],
   "source": [
    "summary(fit2)"
   ]
  },
  {
   "cell_type": "markdown",
   "metadata": {},
   "source": [
    "### LOCF 填补, 不加入 mask"
   ]
  },
  {
   "cell_type": "code",
   "execution_count": 1922,
   "metadata": {},
   "outputs": [],
   "source": [
    "dym_X_locf<-dym_X[,c(1,61:ncol(dym_X))]"
   ]
  },
  {
   "cell_type": "code",
   "execution_count": 1923,
   "metadata": {},
   "outputs": [],
   "source": [
    "for(k in inds){\n",
    "    tmp<-dym_X_locf[which(dym_X_locf$hadm_id == base_info$HADM_ID[k]),3:13]\n",
    "    m<-apply(tmp,2,median,na.rm=T)\n",
    "    tmp[1,][is.na(tmp[1,])]<-m[is.na(tmp[1,])]\n",
    "    tmp<-lapply(tmp,FUN=fill_NA1)\n",
    "    dym_X_locf[which(dym_X_locf$hadm_id == base_info$HADM_ID[k]),3:13]<-tmp\n",
    "}"
   ]
  },
  {
   "cell_type": "code",
   "execution_count": 1924,
   "metadata": {},
   "outputs": [],
   "source": [
    "for(i in 3:13){\n",
    "    \n",
    "    dym_X_locf[[i]][is.na(dym_X_locf[[i]])]<-median(dym_X_locf[[i]],na.rm=T)\n",
    "\n",
    "}"
   ]
  },
  {
   "cell_type": "code",
   "execution_count": 1925,
   "metadata": {},
   "outputs": [],
   "source": [
    "dym_X_locf<-merge(dym_X_locf, base_info[,c(\"HADM_ID\",\"ADMISSION_TYPE\",\"Aids\",\"Hm\",\"Mc\")],\n",
    "                  by.x=\"hadm_id\",by.y=\"HADM_ID\",all.x=T)"
   ]
  },
  {
   "cell_type": "code",
   "execution_count": 1926,
   "metadata": {},
   "outputs": [
    {
     "data": {
      "text/html": [
       "<table class=\"dataframe\">\n",
       "<caption>A data.frame: 2 × 20</caption>\n",
       "<thead>\n",
       "\t<tr><th></th><th scope=col>hadm_id</th><th scope=col>time</th><th scope=col>GCSVerbal</th><th scope=col>GCSMotor</th><th scope=col>GCSEyes</th><th scope=col>SBP</th><th scope=col>HR</th><th scope=col>BT</th><th scope=col>PFR</th><th scope=col>UrO</th><th scope=col>WBC</th><th scope=col>Sod</th><th scope=col>Pot</th><th scope=col>AGE</th><th scope=col>HOSPITAL_EXPIRE_FLAG</th><th scope=col>ADMISSION_TYPE.x</th><th scope=col>ADMISSION_TYPE.y</th><th scope=col>Aids</th><th scope=col>Hm</th><th scope=col>Mc</th></tr>\n",
       "\t<tr><th></th><th scope=col>&lt;int&gt;</th><th scope=col>&lt;dbl&gt;</th><th scope=col>&lt;dbl&gt;</th><th scope=col>&lt;dbl&gt;</th><th scope=col>&lt;dbl&gt;</th><th scope=col>&lt;dbl&gt;</th><th scope=col>&lt;dbl&gt;</th><th scope=col>&lt;dbl&gt;</th><th scope=col>&lt;dbl&gt;</th><th scope=col>&lt;dbl&gt;</th><th scope=col>&lt;dbl&gt;</th><th scope=col>&lt;dbl&gt;</th><th scope=col>&lt;dbl&gt;</th><th scope=col>&lt;int&gt;</th><th scope=col>&lt;int&gt;</th><th scope=col>&lt;chr&gt;</th><th scope=col>&lt;fct&gt;</th><th scope=col>&lt;dbl&gt;</th><th scope=col>&lt;dbl&gt;</th><th scope=col>&lt;dbl&gt;</th></tr>\n",
       "</thead>\n",
       "<tbody>\n",
       "\t<tr><th scope=row>1</th><td>100071</td><td>0</td><td>5</td><td>6</td><td>4</td><td>120.0</td><td>89</td><td>37.38889</td><td>0</td><td>100</td><td>13.3</td><td>138</td><td>3.8</td><td>58</td><td>0</td><td>EMERGENCY</td><td>EMERGENCY</td><td>0</td><td>0</td><td>0</td></tr>\n",
       "\t<tr><th scope=row>2</th><td>100071</td><td>4</td><td>5</td><td>6</td><td>4</td><td>113.5</td><td>89</td><td>37.66667</td><td>0</td><td>120</td><td>13.3</td><td>138</td><td>3.8</td><td>58</td><td>0</td><td>EMERGENCY</td><td>EMERGENCY</td><td>0</td><td>0</td><td>0</td></tr>\n",
       "</tbody>\n",
       "</table>\n"
      ],
      "text/latex": [
       "A data.frame: 2 × 20\n",
       "\\begin{tabular}{r|llllllllllllllllllll}\n",
       "  & hadm\\_id & time & GCSVerbal & GCSMotor & GCSEyes & SBP & HR & BT & PFR & UrO & WBC & Sod & Pot & AGE & HOSPITAL\\_EXPIRE\\_FLAG & ADMISSION\\_TYPE.x & ADMISSION\\_TYPE.y & Aids & Hm & Mc\\\\\n",
       "  & <int> & <dbl> & <dbl> & <dbl> & <dbl> & <dbl> & <dbl> & <dbl> & <dbl> & <dbl> & <dbl> & <dbl> & <dbl> & <int> & <int> & <chr> & <fct> & <dbl> & <dbl> & <dbl>\\\\\n",
       "\\hline\n",
       "\t1 & 100071 & 0 & 5 & 6 & 4 & 120.0 & 89 & 37.38889 & 0 & 100 & 13.3 & 138 & 3.8 & 58 & 0 & EMERGENCY & EMERGENCY & 0 & 0 & 0\\\\\n",
       "\t2 & 100071 & 4 & 5 & 6 & 4 & 113.5 & 89 & 37.66667 & 0 & 120 & 13.3 & 138 & 3.8 & 58 & 0 & EMERGENCY & EMERGENCY & 0 & 0 & 0\\\\\n",
       "\\end{tabular}\n"
      ],
      "text/markdown": [
       "\n",
       "A data.frame: 2 × 20\n",
       "\n",
       "| <!--/--> | hadm_id &lt;int&gt; | time &lt;dbl&gt; | GCSVerbal &lt;dbl&gt; | GCSMotor &lt;dbl&gt; | GCSEyes &lt;dbl&gt; | SBP &lt;dbl&gt; | HR &lt;dbl&gt; | BT &lt;dbl&gt; | PFR &lt;dbl&gt; | UrO &lt;dbl&gt; | WBC &lt;dbl&gt; | Sod &lt;dbl&gt; | Pot &lt;dbl&gt; | AGE &lt;int&gt; | HOSPITAL_EXPIRE_FLAG &lt;int&gt; | ADMISSION_TYPE.x &lt;chr&gt; | ADMISSION_TYPE.y &lt;fct&gt; | Aids &lt;dbl&gt; | Hm &lt;dbl&gt; | Mc &lt;dbl&gt; |\n",
       "|---|---|---|---|---|---|---|---|---|---|---|---|---|---|---|---|---|---|---|---|---|\n",
       "| 1 | 100071 | 0 | 5 | 6 | 4 | 120.0 | 89 | 37.38889 | 0 | 100 | 13.3 | 138 | 3.8 | 58 | 0 | EMERGENCY | EMERGENCY | 0 | 0 | 0 |\n",
       "| 2 | 100071 | 4 | 5 | 6 | 4 | 113.5 | 89 | 37.66667 | 0 | 120 | 13.3 | 138 | 3.8 | 58 | 0 | EMERGENCY | EMERGENCY | 0 | 0 | 0 |\n",
       "\n"
      ],
      "text/plain": [
       "  hadm_id time GCSVerbal GCSMotor GCSEyes SBP   HR BT       PFR UrO WBC  Sod\n",
       "1 100071  0    5         6        4       120.0 89 37.38889 0   100 13.3 138\n",
       "2 100071  4    5         6        4       113.5 89 37.66667 0   120 13.3 138\n",
       "  Pot AGE HOSPITAL_EXPIRE_FLAG ADMISSION_TYPE.x ADMISSION_TYPE.y Aids Hm Mc\n",
       "1 3.8 58  0                    EMERGENCY        EMERGENCY        0    0  0 \n",
       "2 3.8 58  0                    EMERGENCY        EMERGENCY        0    0  0 "
      ]
     },
     "metadata": {},
     "output_type": "display_data"
    }
   ],
   "source": [
    "dym_X_locf[1:2,]"
   ]
  },
  {
   "cell_type": "code",
   "execution_count": 1927,
   "metadata": {
    "scrolled": true
   },
   "outputs": [
    {
     "data": {
      "text/html": [
       "<table class=\"dataframe\">\n",
       "<caption>A matrix: 20 × 2 of type chr</caption>\n",
       "<tbody>\n",
       "\t<tr><td>1 </td><td>hadm_id             </td></tr>\n",
       "\t<tr><td>2 </td><td>time                </td></tr>\n",
       "\t<tr><td>3 </td><td>GCSVerbal           </td></tr>\n",
       "\t<tr><td>4 </td><td>GCSMotor            </td></tr>\n",
       "\t<tr><td>5 </td><td>GCSEyes             </td></tr>\n",
       "\t<tr><td>6 </td><td>SBP                 </td></tr>\n",
       "\t<tr><td>7 </td><td>HR                  </td></tr>\n",
       "\t<tr><td>8 </td><td>BT                  </td></tr>\n",
       "\t<tr><td>9 </td><td>PFR                 </td></tr>\n",
       "\t<tr><td>10</td><td>UrO                 </td></tr>\n",
       "\t<tr><td>11</td><td>WBC                 </td></tr>\n",
       "\t<tr><td>12</td><td>Sod                 </td></tr>\n",
       "\t<tr><td>13</td><td>Pot                 </td></tr>\n",
       "\t<tr><td>14</td><td>AGE                 </td></tr>\n",
       "\t<tr><td>15</td><td>HOSPITAL_EXPIRE_FLAG</td></tr>\n",
       "\t<tr><td>16</td><td>ADMISSION_TYPE.x    </td></tr>\n",
       "\t<tr><td>17</td><td>ADMISSION_TYPE.y    </td></tr>\n",
       "\t<tr><td>18</td><td>Aids                </td></tr>\n",
       "\t<tr><td>19</td><td>Hm                  </td></tr>\n",
       "\t<tr><td>20</td><td>Mc                  </td></tr>\n",
       "</tbody>\n",
       "</table>\n"
      ],
      "text/latex": [
       "A matrix: 20 × 2 of type chr\n",
       "\\begin{tabular}{ll}\n",
       "\t 1  & hadm\\_id             \\\\\n",
       "\t 2  & time                \\\\\n",
       "\t 3  & GCSVerbal           \\\\\n",
       "\t 4  & GCSMotor            \\\\\n",
       "\t 5  & GCSEyes             \\\\\n",
       "\t 6  & SBP                 \\\\\n",
       "\t 7  & HR                  \\\\\n",
       "\t 8  & BT                  \\\\\n",
       "\t 9  & PFR                 \\\\\n",
       "\t 10 & UrO                 \\\\\n",
       "\t 11 & WBC                 \\\\\n",
       "\t 12 & Sod                 \\\\\n",
       "\t 13 & Pot                 \\\\\n",
       "\t 14 & AGE                 \\\\\n",
       "\t 15 & HOSPITAL\\_EXPIRE\\_FLAG\\\\\n",
       "\t 16 & ADMISSION\\_TYPE.x    \\\\\n",
       "\t 17 & ADMISSION\\_TYPE.y    \\\\\n",
       "\t 18 & Aids                \\\\\n",
       "\t 19 & Hm                  \\\\\n",
       "\t 20 & Mc                  \\\\\n",
       "\\end{tabular}\n"
      ],
      "text/markdown": [
       "\n",
       "A matrix: 20 × 2 of type chr\n",
       "\n",
       "| 1  | hadm_id              |\n",
       "| 2  | time                 |\n",
       "| 3  | GCSVerbal            |\n",
       "| 4  | GCSMotor             |\n",
       "| 5  | GCSEyes              |\n",
       "| 6  | SBP                  |\n",
       "| 7  | HR                   |\n",
       "| 8  | BT                   |\n",
       "| 9  | PFR                  |\n",
       "| 10 | UrO                  |\n",
       "| 11 | WBC                  |\n",
       "| 12 | Sod                  |\n",
       "| 13 | Pot                  |\n",
       "| 14 | AGE                  |\n",
       "| 15 | HOSPITAL_EXPIRE_FLAG |\n",
       "| 16 | ADMISSION_TYPE.x     |\n",
       "| 17 | ADMISSION_TYPE.y     |\n",
       "| 18 | Aids                 |\n",
       "| 19 | Hm                   |\n",
       "| 20 | Mc                   |\n",
       "\n"
      ],
      "text/plain": [
       "      [,1] [,2]                \n",
       " [1,] 1    hadm_id             \n",
       " [2,] 2    time                \n",
       " [3,] 3    GCSVerbal           \n",
       " [4,] 4    GCSMotor            \n",
       " [5,] 5    GCSEyes             \n",
       " [6,] 6    SBP                 \n",
       " [7,] 7    HR                  \n",
       " [8,] 8    BT                  \n",
       " [9,] 9    PFR                 \n",
       "[10,] 10   UrO                 \n",
       "[11,] 11   WBC                 \n",
       "[12,] 12   Sod                 \n",
       "[13,] 13   Pot                 \n",
       "[14,] 14   AGE                 \n",
       "[15,] 15   HOSPITAL_EXPIRE_FLAG\n",
       "[16,] 16   ADMISSION_TYPE.x    \n",
       "[17,] 17   ADMISSION_TYPE.y    \n",
       "[18,] 18   Aids                \n",
       "[19,] 19   Hm                  \n",
       "[20,] 20   Mc                  "
      ]
     },
     "metadata": {},
     "output_type": "display_data"
    }
   ],
   "source": [
    "cbind(1:ncol(dym_X_locf),names(dym_X_locf))"
   ]
  },
  {
   "cell_type": "code",
   "execution_count": 1928,
   "metadata": {},
   "outputs": [],
   "source": [
    "fit2<-glm(factor(HOSPITAL_EXPIRE_FLAG)~.,data=dym_X_locf[,c(3:15,17:20)],family=binomial())"
   ]
  },
  {
   "cell_type": "code",
   "execution_count": 1929,
   "metadata": {},
   "outputs": [],
   "source": [
    "pred2<-predict(fit2, type=\"response\")"
   ]
  },
  {
   "cell_type": "code",
   "execution_count": 1931,
   "metadata": {},
   "outputs": [
    {
     "name": "stderr",
     "output_type": "stream",
     "text": [
      "Setting levels: control = 0, case = 1\n",
      "\n",
      "Setting direction: controls < cases\n",
      "\n"
     ]
    },
    {
     "name": "stdout",
     "output_type": "stream",
     "text": [
      "Area under the curve: 0.7238\n"
     ]
    },
    {
     "data": {
      "image/png": "[encoded data removed]",
      "text/plain": [
       "plot without title"
      ]
     },
     "metadata": {
      "image/png": {
       "height": 360,
       "width": 360
      }
     },
     "output_type": "display_data"
    }
   ],
   "source": [
    "options(repr.plot.width=6, repr.plot.height=6)\n",
    "roc_fit2<-roc(factor(dym_X_locf$HOSPITAL_EXPIRE_FLAG)~pred2)\n",
    "print(auc(roc_fit2))\n",
    "plot(roc_fit2)"
   ]
  },
  {
   "cell_type": "markdown",
   "metadata": {},
   "source": [
    "### 只用mask来预测"
   ]
  },
  {
   "cell_type": "code",
   "execution_count": 1932,
   "metadata": {},
   "outputs": [],
   "source": [
    "dym_X_mask<-dym_X[,c(1,61:ncol(dym_X))]"
   ]
  },
  {
   "cell_type": "code",
   "execution_count": 1933,
   "metadata": {},
   "outputs": [],
   "source": [
    "dym_X_mask[,3:13]<-lapply(dym_X_mask[,3:13],FUN=function(x) ifelse(is.na(x),1,0))"
   ]
  },
  {
   "cell_type": "code",
   "execution_count": 1935,
   "metadata": {},
   "outputs": [],
   "source": [
    "names(dym_X_mask)[3:13]<-paste0(names(dym_X_mask)[3:13],\"_m\")"
   ]
  },
  {
   "cell_type": "code",
   "execution_count": 1936,
   "metadata": {},
   "outputs": [],
   "source": [
    "dym_X_mask1<-dym_X_mask[,3:13]\n",
    "names(dym_X_mask1)<-paste0(names(dym_X_mask1),\"1\")"
   ]
  },
  {
   "cell_type": "code",
   "execution_count": 1937,
   "metadata": {},
   "outputs": [],
   "source": [
    "for(k in inds){\n",
    "\n",
    "    tmp1<-dym_X_mask[which(dym_X_mask$hadm_id == base_info$HADM_ID[k]),3:13]\n",
    "    tmp2<-dym_X_mask[which(dym_X_mask$hadm_id == base_info$HADM_ID[k]),3:13]\n",
    "    # tmp1<-lapply(tmp1, function(x) cumsum(x/length(x)))\n",
    "    tws<-1:nrow(tmp1)\n",
    "    tw<-100\n",
    "    tw1<-30\n",
    "    tmp1<-lapply(tmp1, function(x){sapply(tws, function(u) {\n",
    "\n",
    "        if(u>tw-1) return(sum(x[(u-tw+1):u])/tw) else return(sum(x[1:u])/u)\n",
    "\n",
    "    })})\n",
    "    \n",
    "    tmp2<-lapply(tmp2, function(x){sapply(tws, function(u) {\n",
    "\n",
    "        if(u>1) {\n",
    "        \n",
    "            l<-which(x[1:u]==0)\n",
    "            if(length(l)==0){\n",
    "                \n",
    "                if(u>tw1) return(tw1) else return(u)\n",
    "            \n",
    "            } else{\n",
    "                \n",
    "                u1<-u-l[length(l)]\n",
    "                \n",
    "                if(u1>tw1) return(tw1) else return(u1)\n",
    "            \n",
    "            }\n",
    "        \n",
    "        } else return(0)\n",
    "\n",
    "    })})\n",
    "    \n",
    "    dym_X_mask[which(dym_X_mask$hadm_id == base_info$HADM_ID[k]),3:13]<-tmp1\n",
    "    dym_X_mask1[which(dym_X_mask$hadm_id == base_info$HADM_ID[k]),]<-tmp2\n",
    "}"
   ]
  },
  {
   "cell_type": "code",
   "execution_count": 1938,
   "metadata": {},
   "outputs": [],
   "source": [
    "dym_X_mask<-cbind(dym_X_mask,dym_X_mask1)"
   ]
  },
  {
   "cell_type": "code",
   "execution_count": 1939,
   "metadata": {},
   "outputs": [],
   "source": [
    "dym_X_mask<-merge(dym_X_mask, base_info[,c(\"HADM_ID\",\"ADMISSION_TYPE\",\"Aids\",\"Hm\",\"Mc\")],\n",
    "                  by.x=\"hadm_id\",by.y=\"HADM_ID\",all.x=T)"
   ]
  },
  {
   "cell_type": "code",
   "execution_count": 1944,
   "metadata": {},
   "outputs": [
    {
     "data": {
      "text/html": [
       "<table class=\"dataframe\">\n",
       "<caption>A data.frame: 4 × 31</caption>\n",
       "<thead>\n",
       "\t<tr><th></th><th scope=col>hadm_id</th><th scope=col>time</th><th scope=col>GCSVerbal_m</th><th scope=col>GCSMotor_m</th><th scope=col>GCSEyes_m</th><th scope=col>SBP_m</th><th scope=col>HR_m</th><th scope=col>BT_m</th><th scope=col>PFR_m</th><th scope=col>UrO_m</th><th scope=col>⋯</th><th scope=col>BT_m1</th><th scope=col>PFR_m1</th><th scope=col>UrO_m1</th><th scope=col>WBC_m1</th><th scope=col>Sod_m1</th><th scope=col>Pot_m1</th><th scope=col>ADMISSION_TYPE.y</th><th scope=col>Aids</th><th scope=col>Hm</th><th scope=col>Mc</th></tr>\n",
       "\t<tr><th></th><th scope=col>&lt;int&gt;</th><th scope=col>&lt;dbl&gt;</th><th scope=col>&lt;dbl&gt;</th><th scope=col>&lt;dbl&gt;</th><th scope=col>&lt;dbl&gt;</th><th scope=col>&lt;dbl&gt;</th><th scope=col>&lt;dbl&gt;</th><th scope=col>&lt;dbl&gt;</th><th scope=col>&lt;dbl&gt;</th><th scope=col>&lt;dbl&gt;</th><th scope=col>⋯</th><th scope=col>&lt;dbl&gt;</th><th scope=col>&lt;dbl&gt;</th><th scope=col>&lt;dbl&gt;</th><th scope=col>&lt;dbl&gt;</th><th scope=col>&lt;dbl&gt;</th><th scope=col>&lt;dbl&gt;</th><th scope=col>&lt;fct&gt;</th><th scope=col>&lt;dbl&gt;</th><th scope=col>&lt;dbl&gt;</th><th scope=col>&lt;dbl&gt;</th></tr>\n",
       "</thead>\n",
       "<tbody>\n",
       "\t<tr><th scope=row>1</th><td>100071</td><td> 0</td><td>0.0000000</td><td>0.0000000</td><td>0.0000000</td><td>0</td><td>0</td><td>0</td><td>1</td><td>0</td><td>⋯</td><td>0</td><td>0</td><td>0</td><td>0</td><td>0</td><td>0</td><td>EMERGENCY</td><td>0</td><td>0</td><td>0</td></tr>\n",
       "\t<tr><th scope=row>2</th><td>100071</td><td> 4</td><td>0.0000000</td><td>0.0000000</td><td>0.0000000</td><td>0</td><td>0</td><td>0</td><td>1</td><td>0</td><td>⋯</td><td>0</td><td>2</td><td>0</td><td>1</td><td>1</td><td>1</td><td>EMERGENCY</td><td>0</td><td>0</td><td>0</td></tr>\n",
       "\t<tr><th scope=row>3</th><td>100071</td><td> 8</td><td>0.3333333</td><td>0.3333333</td><td>0.3333333</td><td>0</td><td>0</td><td>0</td><td>1</td><td>0</td><td>⋯</td><td>0</td><td>3</td><td>0</td><td>2</td><td>2</td><td>2</td><td>EMERGENCY</td><td>0</td><td>0</td><td>0</td></tr>\n",
       "\t<tr><th scope=row>4</th><td>100071</td><td>12</td><td>0.2500000</td><td>0.2500000</td><td>0.2500000</td><td>0</td><td>0</td><td>0</td><td>1</td><td>0</td><td>⋯</td><td>0</td><td>4</td><td>0</td><td>3</td><td>3</td><td>3</td><td>EMERGENCY</td><td>0</td><td>0</td><td>0</td></tr>\n",
       "</tbody>\n",
       "</table>\n"
      ],
      "text/latex": [
       "A data.frame: 4 × 31\n",
       "\\begin{tabular}{r|lllllllllllllllllllll}\n",
       "  & hadm\\_id & time & GCSVerbal\\_m & GCSMotor\\_m & GCSEyes\\_m & SBP\\_m & HR\\_m & BT\\_m & PFR\\_m & UrO\\_m & ⋯ & BT\\_m1 & PFR\\_m1 & UrO\\_m1 & WBC\\_m1 & Sod\\_m1 & Pot\\_m1 & ADMISSION\\_TYPE.y & Aids & Hm & Mc\\\\\n",
       "  & <int> & <dbl> & <dbl> & <dbl> & <dbl> & <dbl> & <dbl> & <dbl> & <dbl> & <dbl> & ⋯ & <dbl> & <dbl> & <dbl> & <dbl> & <dbl> & <dbl> & <fct> & <dbl> & <dbl> & <dbl>\\\\\n",
       "\\hline\n",
       "\t1 & 100071 &  0 & 0.0000000 & 0.0000000 & 0.0000000 & 0 & 0 & 0 & 1 & 0 & ⋯ & 0 & 0 & 0 & 0 & 0 & 0 & EMERGENCY & 0 & 0 & 0\\\\\n",
       "\t2 & 100071 &  4 & 0.0000000 & 0.0000000 & 0.0000000 & 0 & 0 & 0 & 1 & 0 & ⋯ & 0 & 2 & 0 & 1 & 1 & 1 & EMERGENCY & 0 & 0 & 0\\\\\n",
       "\t3 & 100071 &  8 & 0.3333333 & 0.3333333 & 0.3333333 & 0 & 0 & 0 & 1 & 0 & ⋯ & 0 & 3 & 0 & 2 & 2 & 2 & EMERGENCY & 0 & 0 & 0\\\\\n",
       "\t4 & 100071 & 12 & 0.2500000 & 0.2500000 & 0.2500000 & 0 & 0 & 0 & 1 & 0 & ⋯ & 0 & 4 & 0 & 3 & 3 & 3 & EMERGENCY & 0 & 0 & 0\\\\\n",
       "\\end{tabular}\n"
      ],
      "text/markdown": [
       "\n",
       "A data.frame: 4 × 31\n",
       "\n",
       "| <!--/--> | hadm_id &lt;int&gt; | time &lt;dbl&gt; | GCSVerbal_m &lt;dbl&gt; | GCSMotor_m &lt;dbl&gt; | GCSEyes_m &lt;dbl&gt; | SBP_m &lt;dbl&gt; | HR_m &lt;dbl&gt; | BT_m &lt;dbl&gt; | PFR_m &lt;dbl&gt; | UrO_m &lt;dbl&gt; | ⋯ ⋯ | BT_m1 &lt;dbl&gt; | PFR_m1 &lt;dbl&gt; | UrO_m1 &lt;dbl&gt; | WBC_m1 &lt;dbl&gt; | Sod_m1 &lt;dbl&gt; | Pot_m1 &lt;dbl&gt; | ADMISSION_TYPE.y &lt;fct&gt; | Aids &lt;dbl&gt; | Hm &lt;dbl&gt; | Mc &lt;dbl&gt; |\n",
       "|---|---|---|---|---|---|---|---|---|---|---|---|---|---|---|---|---|---|---|---|---|---|\n",
       "| 1 | 100071 |  0 | 0.0000000 | 0.0000000 | 0.0000000 | 0 | 0 | 0 | 1 | 0 | ⋯ | 0 | 0 | 0 | 0 | 0 | 0 | EMERGENCY | 0 | 0 | 0 |\n",
       "| 2 | 100071 |  4 | 0.0000000 | 0.0000000 | 0.0000000 | 0 | 0 | 0 | 1 | 0 | ⋯ | 0 | 2 | 0 | 1 | 1 | 1 | EMERGENCY | 0 | 0 | 0 |\n",
       "| 3 | 100071 |  8 | 0.3333333 | 0.3333333 | 0.3333333 | 0 | 0 | 0 | 1 | 0 | ⋯ | 0 | 3 | 0 | 2 | 2 | 2 | EMERGENCY | 0 | 0 | 0 |\n",
       "| 4 | 100071 | 12 | 0.2500000 | 0.2500000 | 0.2500000 | 0 | 0 | 0 | 1 | 0 | ⋯ | 0 | 4 | 0 | 3 | 3 | 3 | EMERGENCY | 0 | 0 | 0 |\n",
       "\n"
      ],
      "text/plain": [
       "  hadm_id time GCSVerbal_m GCSMotor_m GCSEyes_m SBP_m HR_m BT_m PFR_m UrO_m ⋯\n",
       "1 100071   0   0.0000000   0.0000000  0.0000000 0     0    0    1     0     ⋯\n",
       "2 100071   4   0.0000000   0.0000000  0.0000000 0     0    0    1     0     ⋯\n",
       "3 100071   8   0.3333333   0.3333333  0.3333333 0     0    0    1     0     ⋯\n",
       "4 100071  12   0.2500000   0.2500000  0.2500000 0     0    0    1     0     ⋯\n",
       "  BT_m1 PFR_m1 UrO_m1 WBC_m1 Sod_m1 Pot_m1 ADMISSION_TYPE.y Aids Hm Mc\n",
       "1 0     0      0      0      0      0      EMERGENCY        0    0  0 \n",
       "2 0     2      0      1      1      1      EMERGENCY        0    0  0 \n",
       "3 0     3      0      2      2      2      EMERGENCY        0    0  0 \n",
       "4 0     4      0      3      3      3      EMERGENCY        0    0  0 "
      ]
     },
     "metadata": {},
     "output_type": "display_data"
    }
   ],
   "source": [
    "dym_X_mask[1:4,]"
   ]
  },
  {
   "cell_type": "code",
   "execution_count": 1940,
   "metadata": {
    "scrolled": true
   },
   "outputs": [
    {
     "data": {
      "text/html": [
       "<table class=\"dataframe\">\n",
       "<caption>A matrix: 31 × 2 of type chr</caption>\n",
       "<tbody>\n",
       "\t<tr><td>1 </td><td>hadm_id             </td></tr>\n",
       "\t<tr><td>2 </td><td>time                </td></tr>\n",
       "\t<tr><td>3 </td><td>GCSVerbal_m         </td></tr>\n",
       "\t<tr><td>4 </td><td>GCSMotor_m          </td></tr>\n",
       "\t<tr><td>5 </td><td>GCSEyes_m           </td></tr>\n",
       "\t<tr><td>6 </td><td>SBP_m               </td></tr>\n",
       "\t<tr><td>7 </td><td>HR_m                </td></tr>\n",
       "\t<tr><td>8 </td><td>BT_m                </td></tr>\n",
       "\t<tr><td>9 </td><td>PFR_m               </td></tr>\n",
       "\t<tr><td>10</td><td>UrO_m               </td></tr>\n",
       "\t<tr><td>11</td><td>WBC_m               </td></tr>\n",
       "\t<tr><td>12</td><td>Sod_m               </td></tr>\n",
       "\t<tr><td>13</td><td>Pot_m               </td></tr>\n",
       "\t<tr><td>14</td><td>AGE                 </td></tr>\n",
       "\t<tr><td>15</td><td>HOSPITAL_EXPIRE_FLAG</td></tr>\n",
       "\t<tr><td>16</td><td>ADMISSION_TYPE.x    </td></tr>\n",
       "\t<tr><td>17</td><td>GCSVerbal_m1        </td></tr>\n",
       "\t<tr><td>18</td><td>GCSMotor_m1         </td></tr>\n",
       "\t<tr><td>19</td><td>GCSEyes_m1          </td></tr>\n",
       "\t<tr><td>20</td><td>SBP_m1              </td></tr>\n",
       "\t<tr><td>21</td><td>HR_m1               </td></tr>\n",
       "\t<tr><td>22</td><td>BT_m1               </td></tr>\n",
       "\t<tr><td>23</td><td>PFR_m1              </td></tr>\n",
       "\t<tr><td>24</td><td>UrO_m1              </td></tr>\n",
       "\t<tr><td>25</td><td>WBC_m1              </td></tr>\n",
       "\t<tr><td>26</td><td>Sod_m1              </td></tr>\n",
       "\t<tr><td>27</td><td>Pot_m1              </td></tr>\n",
       "\t<tr><td>28</td><td>ADMISSION_TYPE.y    </td></tr>\n",
       "\t<tr><td>29</td><td>Aids                </td></tr>\n",
       "\t<tr><td>30</td><td>Hm                  </td></tr>\n",
       "\t<tr><td>31</td><td>Mc                  </td></tr>\n",
       "</tbody>\n",
       "</table>\n"
      ],
      "text/latex": [
       "A matrix: 31 × 2 of type chr\n",
       "\\begin{tabular}{ll}\n",
       "\t 1  & hadm\\_id             \\\\\n",
       "\t 2  & time                \\\\\n",
       "\t 3  & GCSVerbal\\_m         \\\\\n",
       "\t 4  & GCSMotor\\_m          \\\\\n",
       "\t 5  & GCSEyes\\_m           \\\\\n",
       "\t 6  & SBP\\_m               \\\\\n",
       "\t 7  & HR\\_m                \\\\\n",
       "\t 8  & BT\\_m                \\\\\n",
       "\t 9  & PFR\\_m               \\\\\n",
       "\t 10 & UrO\\_m               \\\\\n",
       "\t 11 & WBC\\_m               \\\\\n",
       "\t 12 & Sod\\_m               \\\\\n",
       "\t 13 & Pot\\_m               \\\\\n",
       "\t 14 & AGE                 \\\\\n",
       "\t 15 & HOSPITAL\\_EXPIRE\\_FLAG\\\\\n",
       "\t 16 & ADMISSION\\_TYPE.x    \\\\\n",
       "\t 17 & GCSVerbal\\_m1        \\\\\n",
       "\t 18 & GCSMotor\\_m1         \\\\\n",
       "\t 19 & GCSEyes\\_m1          \\\\\n",
       "\t 20 & SBP\\_m1              \\\\\n",
       "\t 21 & HR\\_m1               \\\\\n",
       "\t 22 & BT\\_m1               \\\\\n",
       "\t 23 & PFR\\_m1              \\\\\n",
       "\t 24 & UrO\\_m1              \\\\\n",
       "\t 25 & WBC\\_m1              \\\\\n",
       "\t 26 & Sod\\_m1              \\\\\n",
       "\t 27 & Pot\\_m1              \\\\\n",
       "\t 28 & ADMISSION\\_TYPE.y    \\\\\n",
       "\t 29 & Aids                \\\\\n",
       "\t 30 & Hm                  \\\\\n",
       "\t 31 & Mc                  \\\\\n",
       "\\end{tabular}\n"
      ],
      "text/markdown": [
       "\n",
       "A matrix: 31 × 2 of type chr\n",
       "\n",
       "| 1  | hadm_id              |\n",
       "| 2  | time                 |\n",
       "| 3  | GCSVerbal_m          |\n",
       "| 4  | GCSMotor_m           |\n",
       "| 5  | GCSEyes_m            |\n",
       "| 6  | SBP_m                |\n",
       "| 7  | HR_m                 |\n",
       "| 8  | BT_m                 |\n",
       "| 9  | PFR_m                |\n",
       "| 10 | UrO_m                |\n",
       "| 11 | WBC_m                |\n",
       "| 12 | Sod_m                |\n",
       "| 13 | Pot_m                |\n",
       "| 14 | AGE                  |\n",
       "| 15 | HOSPITAL_EXPIRE_FLAG |\n",
       "| 16 | ADMISSION_TYPE.x     |\n",
       "| 17 | GCSVerbal_m1         |\n",
       "| 18 | GCSMotor_m1          |\n",
       "| 19 | GCSEyes_m1           |\n",
       "| 20 | SBP_m1               |\n",
       "| 21 | HR_m1                |\n",
       "| 22 | BT_m1                |\n",
       "| 23 | PFR_m1               |\n",
       "| 24 | UrO_m1               |\n",
       "| 25 | WBC_m1               |\n",
       "| 26 | Sod_m1               |\n",
       "| 27 | Pot_m1               |\n",
       "| 28 | ADMISSION_TYPE.y     |\n",
       "| 29 | Aids                 |\n",
       "| 30 | Hm                   |\n",
       "| 31 | Mc                   |\n",
       "\n"
      ],
      "text/plain": [
       "      [,1] [,2]                \n",
       " [1,] 1    hadm_id             \n",
       " [2,] 2    time                \n",
       " [3,] 3    GCSVerbal_m         \n",
       " [4,] 4    GCSMotor_m          \n",
       " [5,] 5    GCSEyes_m           \n",
       " [6,] 6    SBP_m               \n",
       " [7,] 7    HR_m                \n",
       " [8,] 8    BT_m                \n",
       " [9,] 9    PFR_m               \n",
       "[10,] 10   UrO_m               \n",
       "[11,] 11   WBC_m               \n",
       "[12,] 12   Sod_m               \n",
       "[13,] 13   Pot_m               \n",
       "[14,] 14   AGE                 \n",
       "[15,] 15   HOSPITAL_EXPIRE_FLAG\n",
       "[16,] 16   ADMISSION_TYPE.x    \n",
       "[17,] 17   GCSVerbal_m1        \n",
       "[18,] 18   GCSMotor_m1         \n",
       "[19,] 19   GCSEyes_m1          \n",
       "[20,] 20   SBP_m1              \n",
       "[21,] 21   HR_m1               \n",
       "[22,] 22   BT_m1               \n",
       "[23,] 23   PFR_m1              \n",
       "[24,] 24   UrO_m1              \n",
       "[25,] 25   WBC_m1              \n",
       "[26,] 26   Sod_m1              \n",
       "[27,] 27   Pot_m1              \n",
       "[28,] 28   ADMISSION_TYPE.y    \n",
       "[29,] 29   Aids                \n",
       "[30,] 30   Hm                  \n",
       "[31,] 31   Mc                  "
      ]
     },
     "metadata": {},
     "output_type": "display_data"
    }
   ],
   "source": [
    "cbind(1:ncol(dym_X_mask),names(dym_X_mask))"
   ]
  },
  {
   "cell_type": "code",
   "execution_count": 1941,
   "metadata": {},
   "outputs": [],
   "source": [
    "fit3<-glm(factor(HOSPITAL_EXPIRE_FLAG)~.,data=dym_X_mask[,c(3:15,17:27,28:31)],family=binomial())"
   ]
  },
  {
   "cell_type": "code",
   "execution_count": 1942,
   "metadata": {},
   "outputs": [],
   "source": [
    "pred3<-predict(fit3, type=\"response\")"
   ]
  },
  {
   "cell_type": "code",
   "execution_count": 1943,
   "metadata": {},
   "outputs": [
    {
     "name": "stderr",
     "output_type": "stream",
     "text": [
      "Setting levels: control = 0, case = 1\n",
      "\n",
      "Setting direction: controls < cases\n",
      "\n"
     ]
    },
    {
     "name": "stdout",
     "output_type": "stream",
     "text": [
      "Area under the curve: 0.7354\n"
     ]
    },
    {
     "data": {
      "image/png": "[encoded data removed]",
      "text/plain": [
       "plot without title"
      ]
     },
     "metadata": {
      "image/png": {
       "height": 360,
       "width": 360
      }
     },
     "output_type": "display_data"
    }
   ],
   "source": [
    "options(repr.plot.width=6, repr.plot.height=6)\n",
    "roc_fit3<-roc(factor(dym_X_mask$HOSPITAL_EXPIRE_FLAG)~pred3)\n",
    "print(auc(roc_fit3))\n",
    "plot(roc_fit3)"
   ]
  },
  {
   "cell_type": "code",
   "execution_count": 1945,
   "metadata": {
    "scrolled": true
   },
   "outputs": [
    {
     "data": {
      "text/plain": [
       "\n",
       "Call:\n",
       "glm(formula = factor(HOSPITAL_EXPIRE_FLAG) ~ ., family = binomial(), \n",
       "    data = dym_X_mask[, c(3:15, 17:27, 28:31)])\n",
       "\n",
       "Deviance Residuals: \n",
       "    Min       1Q   Median       3Q      Max  \n",
       "-2.5213  -0.6490  -0.4882  -0.2529   2.9718  \n",
       "\n",
       "Coefficients:\n",
       "                            Estimate Std. Error z value Pr(>|z|)    \n",
       "(Intercept)               -2.767e+00  1.507e-01 -18.365  < 2e-16 ***\n",
       "GCSVerbal_m                1.480e+01  1.158e+00  12.781  < 2e-16 ***\n",
       "GCSMotor_m                -2.610e+01  3.592e+00  -7.268 3.66e-13 ***\n",
       "GCSEyes_m                  1.341e+01  3.398e+00   3.946 7.96e-05 ***\n",
       "SBP_m                      7.904e+00  1.264e+00   6.253 4.03e-10 ***\n",
       "HR_m                      -9.466e+00  1.354e+00  -6.990 2.74e-12 ***\n",
       "BT_m                       5.492e-01  1.728e-01   3.178 0.001484 ** \n",
       "PFR_m                     -4.119e-01  1.301e-01  -3.166 0.001544 ** \n",
       "UrO_m                     -1.052e+00  1.193e-01  -8.816  < 2e-16 ***\n",
       "WBC_m                      8.994e-01  2.159e-01   4.165 3.11e-05 ***\n",
       "Sod_m                     -1.238e+00  2.369e-01  -5.227 1.72e-07 ***\n",
       "Pot_m                      7.584e-02  2.150e-01   0.353 0.724246    \n",
       "AGE                        7.542e-03  2.569e-04  29.355  < 2e-16 ***\n",
       "GCSVerbal_m1               1.145e-01  3.463e-02   3.306 0.000945 ***\n",
       "GCSMotor_m1               -1.203e-02  3.463e-02  -0.347 0.728406    \n",
       "GCSEyes_m1                -5.813e-02  4.572e-02  -1.272 0.203529    \n",
       "SBP_m1                    -1.030e-01  5.395e-02  -1.908 0.056330 .  \n",
       "HR_m1                      5.481e-02  5.612e-02   0.977 0.328749    \n",
       "BT_m1                      2.008e-02  3.936e-03   5.101 3.38e-07 ***\n",
       "PFR_m1                     3.455e-03  2.260e-03   1.529 0.126219    \n",
       "UrO_m1                    -1.327e-02  3.372e-03  -3.935 8.32e-05 ***\n",
       "WBC_m1                    -1.279e-02  6.178e-03  -2.070 0.038426 *  \n",
       "Sod_m1                    -4.566e-03  9.002e-03  -0.507 0.612001    \n",
       "Pot_m1                    -1.012e-02  9.342e-03  -1.084 0.278482    \n",
       "ADMISSION_TYPE.yURGENT    -8.876e-01  1.993e-01  -4.453 8.46e-06 ***\n",
       "ADMISSION_TYPE.yEMERGENCY  1.387e+00  7.139e-02  19.428  < 2e-16 ***\n",
       "Aids                      -7.481e-01  1.203e-01  -6.220 4.98e-10 ***\n",
       "Hm                        -1.793e+00  1.788e-01 -10.028  < 2e-16 ***\n",
       "Mc                        -7.214e-01  7.615e-02  -9.473  < 2e-16 ***\n",
       "---\n",
       "Signif. codes:  0 ‘***’ 0.001 ‘**’ 0.01 ‘*’ 0.05 ‘.’ 0.1 ‘ ’ 1\n",
       "\n",
       "(Dispersion parameter for binomial family taken to be 1)\n",
       "\n",
       "    Null deviance: 27321  on 30389  degrees of freedom\n",
       "Residual deviance: 24147  on 30361  degrees of freedom\n",
       "AIC: 24205\n",
       "\n",
       "Number of Fisher Scoring iterations: 6\n"
      ]
     },
     "metadata": {},
     "output_type": "display_data"
    }
   ],
   "source": [
    "summary(fit3)"
   ]
  },
  {
   "cell_type": "markdown",
   "metadata": {},
   "source": [
    "### 画图查看填补情况"
   ]
  },
  {
   "cell_type": "code",
   "execution_count": 1904,
   "metadata": {},
   "outputs": [
    {
     "data": {
      "text/html": [
       "<table class=\"dataframe\">\n",
       "<caption>A data.frame: 3 × 20</caption>\n",
       "<thead>\n",
       "\t<tr><th></th><th scope=col>hadm_id</th><th scope=col>time</th><th scope=col>GCSVerbal</th><th scope=col>GCSMotor</th><th scope=col>GCSEyes</th><th scope=col>SBP</th><th scope=col>HR</th><th scope=col>BT</th><th scope=col>PFR</th><th scope=col>UrO</th><th scope=col>WBC</th><th scope=col>Sod</th><th scope=col>Pot</th><th scope=col>AGE</th><th scope=col>HOSPITAL_EXPIRE_FLAG</th><th scope=col>ADMISSION_TYPE.x</th><th scope=col>ADMISSION_TYPE.y</th><th scope=col>Aids</th><th scope=col>Hm</th><th scope=col>Mc</th></tr>\n",
       "\t<tr><th></th><th scope=col>&lt;int&gt;</th><th scope=col>&lt;dbl&gt;</th><th scope=col>&lt;dbl&gt;</th><th scope=col>&lt;dbl&gt;</th><th scope=col>&lt;dbl&gt;</th><th scope=col>&lt;dbl&gt;</th><th scope=col>&lt;dbl&gt;</th><th scope=col>&lt;dbl&gt;</th><th scope=col>&lt;dbl&gt;</th><th scope=col>&lt;dbl&gt;</th><th scope=col>&lt;dbl&gt;</th><th scope=col>&lt;dbl&gt;</th><th scope=col>&lt;dbl&gt;</th><th scope=col>&lt;int&gt;</th><th scope=col>&lt;int&gt;</th><th scope=col>&lt;chr&gt;</th><th scope=col>&lt;fct&gt;</th><th scope=col>&lt;dbl&gt;</th><th scope=col>&lt;dbl&gt;</th><th scope=col>&lt;dbl&gt;</th></tr>\n",
       "</thead>\n",
       "<tbody>\n",
       "\t<tr><th scope=row>1</th><td>100071</td><td>0</td><td>5</td><td>6</td><td>4</td><td>120.0</td><td>89</td><td>37.38889</td><td>0</td><td>100</td><td>13.3</td><td>138</td><td>3.8</td><td>58</td><td>0</td><td>EMERGENCY</td><td>EMERGENCY</td><td>0</td><td>0</td><td>0</td></tr>\n",
       "\t<tr><th scope=row>2</th><td>100071</td><td>4</td><td>5</td><td>6</td><td>4</td><td>113.5</td><td>89</td><td>37.66667</td><td>0</td><td>120</td><td>13.3</td><td>138</td><td>3.8</td><td>58</td><td>0</td><td>EMERGENCY</td><td>EMERGENCY</td><td>0</td><td>0</td><td>0</td></tr>\n",
       "\t<tr><th scope=row>3</th><td>100071</td><td>8</td><td>5</td><td>6</td><td>4</td><td>117.5</td><td>92</td><td>37.66667</td><td>0</td><td>145</td><td>13.3</td><td>138</td><td>3.8</td><td>58</td><td>0</td><td>EMERGENCY</td><td>EMERGENCY</td><td>0</td><td>0</td><td>0</td></tr>\n",
       "</tbody>\n",
       "</table>\n"
      ],
      "text/latex": [
       "A data.frame: 3 × 20\n",
       "\\begin{tabular}{r|llllllllllllllllllll}\n",
       "  & hadm\\_id & time & GCSVerbal & GCSMotor & GCSEyes & SBP & HR & BT & PFR & UrO & WBC & Sod & Pot & AGE & HOSPITAL\\_EXPIRE\\_FLAG & ADMISSION\\_TYPE.x & ADMISSION\\_TYPE.y & Aids & Hm & Mc\\\\\n",
       "  & <int> & <dbl> & <dbl> & <dbl> & <dbl> & <dbl> & <dbl> & <dbl> & <dbl> & <dbl> & <dbl> & <dbl> & <dbl> & <int> & <int> & <chr> & <fct> & <dbl> & <dbl> & <dbl>\\\\\n",
       "\\hline\n",
       "\t1 & 100071 & 0 & 5 & 6 & 4 & 120.0 & 89 & 37.38889 & 0 & 100 & 13.3 & 138 & 3.8 & 58 & 0 & EMERGENCY & EMERGENCY & 0 & 0 & 0\\\\\n",
       "\t2 & 100071 & 4 & 5 & 6 & 4 & 113.5 & 89 & 37.66667 & 0 & 120 & 13.3 & 138 & 3.8 & 58 & 0 & EMERGENCY & EMERGENCY & 0 & 0 & 0\\\\\n",
       "\t3 & 100071 & 8 & 5 & 6 & 4 & 117.5 & 92 & 37.66667 & 0 & 145 & 13.3 & 138 & 3.8 & 58 & 0 & EMERGENCY & EMERGENCY & 0 & 0 & 0\\\\\n",
       "\\end{tabular}\n"
      ],
      "text/markdown": [
       "\n",
       "A data.frame: 3 × 20\n",
       "\n",
       "| <!--/--> | hadm_id &lt;int&gt; | time &lt;dbl&gt; | GCSVerbal &lt;dbl&gt; | GCSMotor &lt;dbl&gt; | GCSEyes &lt;dbl&gt; | SBP &lt;dbl&gt; | HR &lt;dbl&gt; | BT &lt;dbl&gt; | PFR &lt;dbl&gt; | UrO &lt;dbl&gt; | WBC &lt;dbl&gt; | Sod &lt;dbl&gt; | Pot &lt;dbl&gt; | AGE &lt;int&gt; | HOSPITAL_EXPIRE_FLAG &lt;int&gt; | ADMISSION_TYPE.x &lt;chr&gt; | ADMISSION_TYPE.y &lt;fct&gt; | Aids &lt;dbl&gt; | Hm &lt;dbl&gt; | Mc &lt;dbl&gt; |\n",
       "|---|---|---|---|---|---|---|---|---|---|---|---|---|---|---|---|---|---|---|---|---|\n",
       "| 1 | 100071 | 0 | 5 | 6 | 4 | 120.0 | 89 | 37.38889 | 0 | 100 | 13.3 | 138 | 3.8 | 58 | 0 | EMERGENCY | EMERGENCY | 0 | 0 | 0 |\n",
       "| 2 | 100071 | 4 | 5 | 6 | 4 | 113.5 | 89 | 37.66667 | 0 | 120 | 13.3 | 138 | 3.8 | 58 | 0 | EMERGENCY | EMERGENCY | 0 | 0 | 0 |\n",
       "| 3 | 100071 | 8 | 5 | 6 | 4 | 117.5 | 92 | 37.66667 | 0 | 145 | 13.3 | 138 | 3.8 | 58 | 0 | EMERGENCY | EMERGENCY | 0 | 0 | 0 |\n",
       "\n"
      ],
      "text/plain": [
       "  hadm_id time GCSVerbal GCSMotor GCSEyes SBP   HR BT       PFR UrO WBC  Sod\n",
       "1 100071  0    5         6        4       120.0 89 37.38889 0   100 13.3 138\n",
       "2 100071  4    5         6        4       113.5 89 37.66667 0   120 13.3 138\n",
       "3 100071  8    5         6        4       117.5 92 37.66667 0   145 13.3 138\n",
       "  Pot AGE HOSPITAL_EXPIRE_FLAG ADMISSION_TYPE.x ADMISSION_TYPE.y Aids Hm Mc\n",
       "1 3.8 58  0                    EMERGENCY        EMERGENCY        0    0  0 \n",
       "2 3.8 58  0                    EMERGENCY        EMERGENCY        0    0  0 \n",
       "3 3.8 58  0                    EMERGENCY        EMERGENCY        0    0  0 "
      ]
     },
     "metadata": {},
     "output_type": "display_data"
    }
   ],
   "source": [
    "dym_X_locf[1:3,]"
   ]
  },
  {
   "cell_type": "code",
   "execution_count": 1908,
   "metadata": {
    "scrolled": false
   },
   "outputs": [
    {
     "data": {
      "image/png": "[encoded data removed]",
      "text/plain": [
       "plot without title"
      ]
     },
     "metadata": {
      "image/png": {
       "height": 360,
       "width": 960
      }
     },
     "output_type": "display_data"
    }
   ],
   "source": [
    "options(repr.plot.width=16, repr.plot.height=6)\n",
    "\n",
    "par(mfrow=c(2,6))\n",
    "\n",
    "for(i in 3:13){\n",
    "    \n",
    "     plot(x=dym_X_locf[which(dym_X_locf$hadm_id == base_info$HADM_ID[inds[20]]),2],\n",
    "          y=dym_X_locf[which(dym_X_locf$hadm_id == base_info$HADM_ID[inds[20]]),i],type=\"b\",\n",
    "          ylab=names(dym_X_locf)[i],xlab=\"time\")\n",
    "\n",
    "}\n",
    "\n"
   ]
  },
  {
   "cell_type": "markdown",
   "metadata": {},
   "source": [
    "### 栅格图"
   ]
  },
  {
   "cell_type": "code",
   "execution_count": null,
   "metadata": {},
   "outputs": [],
   "source": []
  },
  {
   "cell_type": "code",
   "execution_count": 2003,
   "metadata": {},
   "outputs": [],
   "source": [
    "dym_X_mask<-dym_X[,c(1,61:ncol(dym_X))]"
   ]
  },
  {
   "cell_type": "code",
   "execution_count": 2004,
   "metadata": {},
   "outputs": [
    {
     "data": {
      "text/html": [
       "<table class=\"dataframe\">\n",
       "<caption>A data.frame: 2 × 16</caption>\n",
       "<thead>\n",
       "\t<tr><th></th><th scope=col>hadm_id</th><th scope=col>time</th><th scope=col>GCSVerbal</th><th scope=col>GCSMotor</th><th scope=col>GCSEyes</th><th scope=col>SBP</th><th scope=col>HR</th><th scope=col>BT</th><th scope=col>PFR</th><th scope=col>UrO</th><th scope=col>WBC</th><th scope=col>Sod</th><th scope=col>Pot</th><th scope=col>AGE</th><th scope=col>HOSPITAL_EXPIRE_FLAG</th><th scope=col>ADMISSION_TYPE</th></tr>\n",
       "\t<tr><th></th><th scope=col>&lt;int&gt;</th><th scope=col>&lt;dbl&gt;</th><th scope=col>&lt;dbl&gt;</th><th scope=col>&lt;dbl&gt;</th><th scope=col>&lt;dbl&gt;</th><th scope=col>&lt;dbl&gt;</th><th scope=col>&lt;dbl&gt;</th><th scope=col>&lt;dbl&gt;</th><th scope=col>&lt;dbl&gt;</th><th scope=col>&lt;dbl&gt;</th><th scope=col>&lt;dbl&gt;</th><th scope=col>&lt;dbl&gt;</th><th scope=col>&lt;dbl&gt;</th><th scope=col>&lt;int&gt;</th><th scope=col>&lt;int&gt;</th><th scope=col>&lt;chr&gt;</th></tr>\n",
       "</thead>\n",
       "<tbody>\n",
       "\t<tr><th scope=row>1</th><td>100071</td><td>0</td><td>5</td><td>6</td><td>4</td><td>120.0</td><td>89</td><td>37.38889</td><td>NA</td><td>100</td><td>13.3</td><td>138</td><td>3.8</td><td>58</td><td>0</td><td>EMERGENCY</td></tr>\n",
       "\t<tr><th scope=row>2</th><td>100071</td><td>4</td><td>5</td><td>6</td><td>4</td><td>113.5</td><td>89</td><td>37.66667</td><td>NA</td><td>120</td><td>  NA</td><td> NA</td><td> NA</td><td>58</td><td>0</td><td>EMERGENCY</td></tr>\n",
       "</tbody>\n",
       "</table>\n"
      ],
      "text/latex": [
       "A data.frame: 2 × 16\n",
       "\\begin{tabular}{r|llllllllllllllll}\n",
       "  & hadm\\_id & time & GCSVerbal & GCSMotor & GCSEyes & SBP & HR & BT & PFR & UrO & WBC & Sod & Pot & AGE & HOSPITAL\\_EXPIRE\\_FLAG & ADMISSION\\_TYPE\\\\\n",
       "  & <int> & <dbl> & <dbl> & <dbl> & <dbl> & <dbl> & <dbl> & <dbl> & <dbl> & <dbl> & <dbl> & <dbl> & <dbl> & <int> & <int> & <chr>\\\\\n",
       "\\hline\n",
       "\t1 & 100071 & 0 & 5 & 6 & 4 & 120.0 & 89 & 37.38889 & NA & 100 & 13.3 & 138 & 3.8 & 58 & 0 & EMERGENCY\\\\\n",
       "\t2 & 100071 & 4 & 5 & 6 & 4 & 113.5 & 89 & 37.66667 & NA & 120 &   NA &  NA &  NA & 58 & 0 & EMERGENCY\\\\\n",
       "\\end{tabular}\n"
      ],
      "text/markdown": [
       "\n",
       "A data.frame: 2 × 16\n",
       "\n",
       "| <!--/--> | hadm_id &lt;int&gt; | time &lt;dbl&gt; | GCSVerbal &lt;dbl&gt; | GCSMotor &lt;dbl&gt; | GCSEyes &lt;dbl&gt; | SBP &lt;dbl&gt; | HR &lt;dbl&gt; | BT &lt;dbl&gt; | PFR &lt;dbl&gt; | UrO &lt;dbl&gt; | WBC &lt;dbl&gt; | Sod &lt;dbl&gt; | Pot &lt;dbl&gt; | AGE &lt;int&gt; | HOSPITAL_EXPIRE_FLAG &lt;int&gt; | ADMISSION_TYPE &lt;chr&gt; |\n",
       "|---|---|---|---|---|---|---|---|---|---|---|---|---|---|---|---|---|\n",
       "| 1 | 100071 | 0 | 5 | 6 | 4 | 120.0 | 89 | 37.38889 | NA | 100 | 13.3 | 138 | 3.8 | 58 | 0 | EMERGENCY |\n",
       "| 2 | 100071 | 4 | 5 | 6 | 4 | 113.5 | 89 | 37.66667 | NA | 120 |   NA |  NA |  NA | 58 | 0 | EMERGENCY |\n",
       "\n"
      ],
      "text/plain": [
       "  hadm_id time GCSVerbal GCSMotor GCSEyes SBP   HR BT       PFR UrO WBC  Sod\n",
       "1 100071  0    5         6        4       120.0 89 37.38889 NA  100 13.3 138\n",
       "2 100071  4    5         6        4       113.5 89 37.66667 NA  120   NA  NA\n",
       "  Pot AGE HOSPITAL_EXPIRE_FLAG ADMISSION_TYPE\n",
       "1 3.8 58  0                    EMERGENCY     \n",
       "2  NA 58  0                    EMERGENCY     "
      ]
     },
     "metadata": {},
     "output_type": "display_data"
    }
   ],
   "source": [
    "dym_X_mask[1:2,]"
   ]
  },
  {
   "cell_type": "code",
   "execution_count": 2019,
   "metadata": {},
   "outputs": [],
   "source": [
    "k<-60\n",
    "\n",
    "tmp<-dym_X_mask[dym_X_mask$hadm_id==base_info$HADM_ID[inds[k]],3:13]\n",
    "tmp<-as.data.frame(lapply(tmp, function(x) ifelse(is.na(x),1,0)))\n",
    "tmp<-as.matrix(tmp)"
   ]
  },
  {
   "cell_type": "code",
   "execution_count": 2020,
   "metadata": {},
   "outputs": [],
   "source": [
    "row.names(tmp)<-dym_X_mask[dym_X_mask$hadm_id==base_info$HADM_ID[inds[k]],\"time\"]"
   ]
  },
  {
   "cell_type": "code",
   "execution_count": 2021,
   "metadata": {},
   "outputs": [
    {
     "data": {
      "image/png": "[encoded data removed]",
      "text/plain": [
       "plot without title"
      ]
     },
     "metadata": {
      "image/png": {
       "height": 360,
       "width": 960
      }
     },
     "output_type": "display_data"
    }
   ],
   "source": [
    "options(repr.plot.width=16, repr.plot.height=6)\n",
    "pheatmap(t(tmp), cluster_rows = F,cluster_cols = F,\n",
    "border_color = \"grey\",\n",
    "cellwidth=15, cellheight=15,\n",
    "color = colorRampPalette(c(\"white\", \"black\"))(2))"
   ]
  },
  {
   "cell_type": "markdown",
   "metadata": {},
   "source": [
    "### 不同类别的mask图"
   ]
  },
  {
   "cell_type": "code",
   "execution_count": 394,
   "metadata": {},
   "outputs": [],
   "source": [
    "base_info<-fread(\"./base_info.csv\",header=T,fill=T)"
   ]
  },
  {
   "cell_type": "code",
   "execution_count": 395,
   "metadata": {},
   "outputs": [
    {
     "data": {
      "text/html": [
       "<table class=\"dataframe\">\n",
       "<caption>A data.table: 4 × 32</caption>\n",
       "<thead>\n",
       "\t<tr><th scope=col>SUBJECT_ID</th><th scope=col>ROW_ID.x</th><th scope=col>GENDER</th><th scope=col>DOB</th><th scope=col>DOD</th><th scope=col>DOD_HOSP</th><th scope=col>DOD_SSN</th><th scope=col>EXPIRE_FLAG</th><th scope=col>ROW_ID.y</th><th scope=col>HADM_ID</th><th scope=col>⋯</th><th scope=col>EDOUTTIME</th><th scope=col>DIAGNOSIS</th><th scope=col>HOSPITAL_EXPIRE_FLAG</th><th scope=col>HAS_CHARTEVENTS_DATA</th><th scope=col>AGE</th><th scope=col>TOTAL_LOS</th><th scope=col>Aids</th><th scope=col>Hm</th><th scope=col>Mc</th><th scope=col>cluster</th></tr>\n",
       "\t<tr><th scope=col>&lt;int&gt;</th><th scope=col>&lt;int&gt;</th><th scope=col>&lt;chr&gt;</th><th scope=col>&lt;dttm&gt;</th><th scope=col>&lt;dttm&gt;</th><th scope=col>&lt;dttm&gt;</th><th scope=col>&lt;dttm&gt;</th><th scope=col>&lt;int&gt;</th><th scope=col>&lt;int&gt;</th><th scope=col>&lt;int&gt;</th><th scope=col>⋯</th><th scope=col>&lt;dttm&gt;</th><th scope=col>&lt;chr&gt;</th><th scope=col>&lt;int&gt;</th><th scope=col>&lt;int&gt;</th><th scope=col>&lt;int&gt;</th><th scope=col>&lt;int&gt;</th><th scope=col>&lt;int&gt;</th><th scope=col>&lt;int&gt;</th><th scope=col>&lt;int&gt;</th><th scope=col>&lt;int&gt;</th></tr>\n",
       "</thead>\n",
       "<tbody>\n",
       "\t<tr><td>3</td><td>2</td><td>M</td><td>2025-04-11</td><td>2102-06-14</td><td>NA</td><td>2102-06-14</td><td>1</td><td>2</td><td>145834</td><td>⋯</td><td>2101-10-20 19:24:00</td><td>HYPOTENSION                        </td><td>0</td><td>1</td><td>78</td><td>258</td><td>0</td><td>0</td><td>0</td><td>1</td></tr>\n",
       "\t<tr><td>4</td><td>3</td><td>F</td><td>2143-05-12</td><td>NA</td><td>NA</td><td>NA</td><td>0</td><td>3</td><td>185777</td><td>⋯</td><td>2191-03-16 01:10:00</td><td>FEVER,DEHYDRATION,FAILURE TO THRIVE</td><td>0</td><td>1</td><td>49</td><td>186</td><td>1</td><td>0</td><td>0</td><td>4</td></tr>\n",
       "\t<tr><td>6</td><td>5</td><td>F</td><td>2109-06-21</td><td>NA</td><td>NA</td><td>NA</td><td>0</td><td>5</td><td>107064</td><td>⋯</td><td>NA</td><td>CHRONIC RENAL FAILURE/SDA          </td><td>0</td><td>1</td><td>67</td><td>392</td><td>0</td><td>0</td><td>0</td><td>3</td></tr>\n",
       "\t<tr><td>9</td><td>8</td><td>M</td><td>2108-01-26</td><td>2149-11-14</td><td>2149-11-14</td><td>2149-11-14</td><td>1</td><td>8</td><td>150750</td><td>⋯</td><td>2149-11-09 13:18:00</td><td>HEMORRHAGIC CVA                    </td><td>1</td><td>1</td><td>43</td><td>117</td><td>0</td><td>0</td><td>0</td><td>2</td></tr>\n",
       "</tbody>\n",
       "</table>\n"
      ],
      "text/latex": [
       "A data.table: 4 × 32\n",
       "\\begin{tabular}{lllllllllllllllllllll}\n",
       " SUBJECT\\_ID & ROW\\_ID.x & GENDER & DOB & DOD & DOD\\_HOSP & DOD\\_SSN & EXPIRE\\_FLAG & ROW\\_ID.y & HADM\\_ID & ⋯ & EDOUTTIME & DIAGNOSIS & HOSPITAL\\_EXPIRE\\_FLAG & HAS\\_CHARTEVENTS\\_DATA & AGE & TOTAL\\_LOS & Aids & Hm & Mc & cluster\\\\\n",
       " <int> & <int> & <chr> & <dttm> & <dttm> & <dttm> & <dttm> & <int> & <int> & <int> & ⋯ & <dttm> & <chr> & <int> & <int> & <int> & <int> & <int> & <int> & <int> & <int>\\\\\n",
       "\\hline\n",
       "\t 3 & 2 & M & 2025-04-11 & 2102-06-14 & NA & 2102-06-14 & 1 & 2 & 145834 & ⋯ & 2101-10-20 19:24:00 & HYPOTENSION                         & 0 & 1 & 78 & 258 & 0 & 0 & 0 & 1\\\\\n",
       "\t 4 & 3 & F & 2143-05-12 & NA & NA & NA & 0 & 3 & 185777 & ⋯ & 2191-03-16 01:10:00 & FEVER,DEHYDRATION,FAILURE TO THRIVE & 0 & 1 & 49 & 186 & 1 & 0 & 0 & 4\\\\\n",
       "\t 6 & 5 & F & 2109-06-21 & NA & NA & NA & 0 & 5 & 107064 & ⋯ & NA & CHRONIC RENAL FAILURE/SDA           & 0 & 1 & 67 & 392 & 0 & 0 & 0 & 3\\\\\n",
       "\t 9 & 8 & M & 2108-01-26 & 2149-11-14 & 2149-11-14 & 2149-11-14 & 1 & 8 & 150750 & ⋯ & 2149-11-09 13:18:00 & HEMORRHAGIC CVA                     & 1 & 1 & 43 & 117 & 0 & 0 & 0 & 2\\\\\n",
       "\\end{tabular}\n"
      ],
      "text/markdown": [
       "\n",
       "A data.table: 4 × 32\n",
       "\n",
       "| SUBJECT_ID &lt;int&gt; | ROW_ID.x &lt;int&gt; | GENDER &lt;chr&gt; | DOB &lt;dttm&gt; | DOD &lt;dttm&gt; | DOD_HOSP &lt;dttm&gt; | DOD_SSN &lt;dttm&gt; | EXPIRE_FLAG &lt;int&gt; | ROW_ID.y &lt;int&gt; | HADM_ID &lt;int&gt; | ⋯ ⋯ | EDOUTTIME &lt;dttm&gt; | DIAGNOSIS &lt;chr&gt; | HOSPITAL_EXPIRE_FLAG &lt;int&gt; | HAS_CHARTEVENTS_DATA &lt;int&gt; | AGE &lt;int&gt; | TOTAL_LOS &lt;int&gt; | Aids &lt;int&gt; | Hm &lt;int&gt; | Mc &lt;int&gt; | cluster &lt;int&gt; |\n",
       "|---|---|---|---|---|---|---|---|---|---|---|---|---|---|---|---|---|---|---|---|---|\n",
       "| 3 | 2 | M | 2025-04-11 | 2102-06-14 | NA | 2102-06-14 | 1 | 2 | 145834 | ⋯ | 2101-10-20 19:24:00 | HYPOTENSION                         | 0 | 1 | 78 | 258 | 0 | 0 | 0 | 1 |\n",
       "| 4 | 3 | F | 2143-05-12 | NA | NA | NA | 0 | 3 | 185777 | ⋯ | 2191-03-16 01:10:00 | FEVER,DEHYDRATION,FAILURE TO THRIVE | 0 | 1 | 49 | 186 | 1 | 0 | 0 | 4 |\n",
       "| 6 | 5 | F | 2109-06-21 | NA | NA | NA | 0 | 5 | 107064 | ⋯ | NA | CHRONIC RENAL FAILURE/SDA           | 0 | 1 | 67 | 392 | 0 | 0 | 0 | 3 |\n",
       "| 9 | 8 | M | 2108-01-26 | 2149-11-14 | 2149-11-14 | 2149-11-14 | 1 | 8 | 150750 | ⋯ | 2149-11-09 13:18:00 | HEMORRHAGIC CVA                     | 1 | 1 | 43 | 117 | 0 | 0 | 0 | 2 |\n",
       "\n"
      ],
      "text/plain": [
       "  SUBJECT_ID ROW_ID.x GENDER DOB        DOD        DOD_HOSP   DOD_SSN   \n",
       "1 3          2        M      2025-04-11 2102-06-14 <NA>       2102-06-14\n",
       "2 4          3        F      2143-05-12 <NA>       <NA>       <NA>      \n",
       "3 6          5        F      2109-06-21 <NA>       <NA>       <NA>      \n",
       "4 9          8        M      2108-01-26 2149-11-14 2149-11-14 2149-11-14\n",
       "  EXPIRE_FLAG ROW_ID.y HADM_ID ⋯ EDOUTTIME          \n",
       "1 1           2        145834  ⋯ 2101-10-20 19:24:00\n",
       "2 0           3        185777  ⋯ 2191-03-16 01:10:00\n",
       "3 0           5        107064  ⋯ <NA>               \n",
       "4 1           8        150750  ⋯ 2149-11-09 13:18:00\n",
       "  DIAGNOSIS                           HOSPITAL_EXPIRE_FLAG HAS_CHARTEVENTS_DATA\n",
       "1 HYPOTENSION                         0                    1                   \n",
       "2 FEVER,DEHYDRATION,FAILURE TO THRIVE 0                    1                   \n",
       "3 CHRONIC RENAL FAILURE/SDA           0                    1                   \n",
       "4 HEMORRHAGIC CVA                     1                    1                   \n",
       "  AGE TOTAL_LOS Aids Hm Mc cluster\n",
       "1 78  258       0    0  0  1      \n",
       "2 49  186       1    0  0  4      \n",
       "3 67  392       0    0  0  3      \n",
       "4 43  117       0    0  0  2      "
      ]
     },
     "metadata": {},
     "output_type": "display_data"
    }
   ],
   "source": [
    "base_info[1:4,]"
   ]
  },
  {
   "cell_type": "code",
   "execution_count": 396,
   "metadata": {
    "scrolled": true
   },
   "outputs": [],
   "source": [
    "#cbind(seq(4,200,4),\n",
    "#sapply(seq(4,200,4), function(x) sum(base_info$TOTAL_LOS>=x)/nrow(base_info)))"
   ]
  },
  {
   "cell_type": "code",
   "execution_count": 397,
   "metadata": {},
   "outputs": [],
   "source": [
    "cluster<-fread(\"/home/luojiawei/mimic3_Miss_project/labels_cnn_autoencoder.csv\",header=T)"
   ]
  },
  {
   "cell_type": "code",
   "execution_count": 398,
   "metadata": {},
   "outputs": [],
   "source": [
    "base_info$cluster<-cluster$cluster+1"
   ]
  },
  {
   "cell_type": "code",
   "execution_count": 399,
   "metadata": {},
   "outputs": [
    {
     "data": {
      "text/html": [
       "<style>\n",
       ".list-inline {list-style: none; margin:0; padding: 0}\n",
       ".list-inline>li {display: inline-block}\n",
       ".list-inline>li:not(:last-child)::after {content: \"\\00b7\"; padding: 0 .5ex}\n",
       "</style>\n",
       "<ol class=list-inline><li>1</li><li>5</li></ol>\n"
      ],
      "text/latex": [
       "\\begin{enumerate*}\n",
       "\\item 1\n",
       "\\item 5\n",
       "\\end{enumerate*}\n"
      ],
      "text/markdown": [
       "1. 1\n",
       "2. 5\n",
       "\n",
       "\n"
      ],
      "text/plain": [
       "[1] 1 5"
      ]
     },
     "metadata": {},
     "output_type": "display_data"
    }
   ],
   "source": [
    "range(base_info$cluster)"
   ]
  },
  {
   "cell_type": "code",
   "execution_count": 18,
   "metadata": {},
   "outputs": [
    {
     "data": {
      "text/html": [
       "<style>\n",
       ".dl-inline {width: auto; margin:0; padding: 0}\n",
       ".dl-inline>dt, .dl-inline>dd {float: none; width: auto; display: inline-block}\n",
       ".dl-inline>dt::after {content: \":\\0020\"; padding-right: .5ex}\n",
       ".dl-inline>dt:not(:first-of-type) {padding-left: .5ex}\n",
       "</style><dl class=dl-inline><dt>0%</dt><dd>49</dd><dt>10%</dt><dd>89</dd><dt>20%</dt><dd>114.6</dd><dt>30%</dt><dd>138</dd><dt>40%</dt><dd>162</dd><dt>50%</dt><dd>193</dd><dt>60%</dt><dd>234</dd><dt>70%</dt><dd>290</dd><dt>80%</dt><dd>381</dd><dt>90%</dt><dd>545.2</dd><dt>100%</dt><dd>4954</dd></dl>\n"
      ],
      "text/latex": [
       "\\begin{description*}\n",
       "\\item[0\\textbackslash{}\\%] 49\n",
       "\\item[10\\textbackslash{}\\%] 89\n",
       "\\item[20\\textbackslash{}\\%] 114.6\n",
       "\\item[30\\textbackslash{}\\%] 138\n",
       "\\item[40\\textbackslash{}\\%] 162\n",
       "\\item[50\\textbackslash{}\\%] 193\n",
       "\\item[60\\textbackslash{}\\%] 234\n",
       "\\item[70\\textbackslash{}\\%] 290\n",
       "\\item[80\\textbackslash{}\\%] 381\n",
       "\\item[90\\textbackslash{}\\%] 545.2\n",
       "\\item[100\\textbackslash{}\\%] 4954\n",
       "\\end{description*}\n"
      ],
      "text/markdown": [
       "0%\n",
       ":   4910%\n",
       ":   8920%\n",
       ":   114.630%\n",
       ":   13840%\n",
       ":   16250%\n",
       ":   19360%\n",
       ":   23470%\n",
       ":   29080%\n",
       ":   38190%\n",
       ":   545.2100%\n",
       ":   4954\n",
       "\n"
      ],
      "text/plain": [
       "    0%    10%    20%    30%    40%    50%    60%    70%    80%    90%   100% \n",
       "  49.0   89.0  114.6  138.0  162.0  193.0  234.0  290.0  381.0  545.2 4954.0 "
      ]
     },
     "metadata": {},
     "output_type": "display_data"
    }
   ],
   "source": [
    "quantile(base_info$TOTAL_LOS[which(base_info$cluster==2)], seq(0,1,0.1))"
   ]
  },
  {
   "cell_type": "code",
   "execution_count": 19,
   "metadata": {},
   "outputs": [
    {
     "data": {
      "text/plain": [
       "\n",
       "   1    2    3    4    5 \n",
       "4941 9049 4280 7156 2732 "
      ]
     },
     "metadata": {},
     "output_type": "display_data"
    }
   ],
   "source": [
    "table(base_info$cluster)"
   ]
  },
  {
   "cell_type": "code",
   "execution_count": 20,
   "metadata": {},
   "outputs": [
    {
     "data": {
      "text/html": [
       "<table class=\"dataframe\">\n",
       "<caption>A data.frame: 5 × 3</caption>\n",
       "<thead>\n",
       "\t<tr><th scope=col>cluster</th><th scope=col>HOSPITAL_EXPIRE_FLAG</th><th scope=col>TOTAL_LOS</th></tr>\n",
       "\t<tr><th scope=col>&lt;dbl&gt;</th><th scope=col>&lt;dbl[,3]&gt;</th><th scope=col>&lt;dbl[,3]&gt;</th></tr>\n",
       "</thead>\n",
       "<tbody>\n",
       "\t<tr><td>1</td><td>0.158, 0, 0.365</td><td>373.705, 280, 309.424</td></tr>\n",
       "\t<tr><td>2</td><td>0.159, 0, 0.366</td><td>274.237, 193, 267.771</td></tr>\n",
       "\t<tr><td>3</td><td>0.027, 0, 0.162</td><td>137.126, 102, 113.748</td></tr>\n",
       "\t<tr><td>4</td><td>0.076, 0, 0.266</td><td>198.283, 144, 181.369</td></tr>\n",
       "\t<tr><td>5</td><td>0.083, 0, 0.276</td><td>233.543, 172, 202.992</td></tr>\n",
       "</tbody>\n",
       "</table>\n"
      ],
      "text/latex": [
       "A data.frame: 5 × 3\n",
       "\\begin{tabular}{lll}\n",
       " cluster & HOSPITAL\\_EXPIRE\\_FLAG & TOTAL\\_LOS\\\\\n",
       " <dbl> & <dbl{[},3{]}> & <dbl{[},3{]}>\\\\\n",
       "\\hline\n",
       "\t 1 & 0.158, 0, 0.365 & 373.705, 280, 309.424\\\\\n",
       "\t 2 & 0.159, 0, 0.366 & 274.237, 193, 267.771\\\\\n",
       "\t 3 & 0.027, 0, 0.162 & 137.126, 102, 113.748\\\\\n",
       "\t 4 & 0.076, 0, 0.266 & 198.283, 144, 181.369\\\\\n",
       "\t 5 & 0.083, 0, 0.276 & 233.543, 172, 202.992\\\\\n",
       "\\end{tabular}\n"
      ],
      "text/markdown": [
       "\n",
       "A data.frame: 5 × 3\n",
       "\n",
       "| cluster &lt;dbl&gt; | HOSPITAL_EXPIRE_FLAG &lt;dbl[,3]&gt; | TOTAL_LOS &lt;dbl[,3]&gt; |\n",
       "|---|---|---|\n",
       "| 1 | 0.158, 0, 0.365 | 373.705, 280, 309.424 |\n",
       "| 2 | 0.159, 0, 0.366 | 274.237, 193, 267.771 |\n",
       "| 3 | 0.027, 0, 0.162 | 137.126, 102, 113.748 |\n",
       "| 4 | 0.076, 0, 0.266 | 198.283, 144, 181.369 |\n",
       "| 5 | 0.083, 0, 0.276 | 233.543, 172, 202.992 |\n",
       "\n"
      ],
      "text/plain": [
       "  cluster HOSPITAL_EXPIRE_FLAG TOTAL_LOS            \n",
       "1 1       0.158, 0, 0.365      373.705, 280, 309.424\n",
       "2 2       0.159, 0, 0.366      274.237, 193, 267.771\n",
       "3 3       0.027, 0, 0.162      137.126, 102, 113.748\n",
       "4 4       0.076, 0, 0.266      198.283, 144, 181.369\n",
       "5 5       0.083, 0, 0.276      233.543, 172, 202.992"
      ]
     },
     "metadata": {},
     "output_type": "display_data"
    }
   ],
   "source": [
    "aggregate(base_info[,c(\"HOSPITAL_EXPIRE_FLAG\",\"TOTAL_LOS\")],\n",
    "          by=base_info[,c(\"cluster\"),drop=F],\n",
    "          function(x) return(round(c(mean(x),median(x),sd(x)),3)))"
   ]
  },
  {
   "cell_type": "code",
   "execution_count": 21,
   "metadata": {},
   "outputs": [
    {
     "ename": "ERROR",
     "evalue": "Error in eval(expr, envir, enclos): object 'mask1' not found\n",
     "output_type": "error",
     "traceback": [
      "Error in eval(expr, envir, enclos): object 'mask1' not found\nTraceback:\n"
     ]
    }
   ],
   "source": [
    "dim(mask1)"
   ]
  },
  {
   "cell_type": "code",
   "execution_count": 23,
   "metadata": {
    "scrolled": false
   },
   "outputs": [
    {
     "data": {
      "image/png": "[encoded data removed]",
      "text/plain": [
       "plot without title"
      ]
     },
     "metadata": {
      "image/png": {
       "height": 180,
       "width": 960
      }
     },
     "output_type": "display_data"
    },
    {
     "data": {
      "image/png": "[encoded data removed]",
      "text/plain": [
       "plot without title"
      ]
     },
     "metadata": {
      "image/png": {
       "height": 180,
       "width": 960
      }
     },
     "output_type": "display_data"
    },
    {
     "data": {
      "image/png": "[encoded data removed]",
      "text/plain": [
       "plot without title"
      ]
     },
     "metadata": {
      "image/png": {
       "height": 180,
       "width": 960
      }
     },
     "output_type": "display_data"
    },
    {
     "data": {
      "image/png": "[encoded data removed]",
      "text/plain": [
       "plot without title"
      ]
     },
     "metadata": {
      "image/png": {
       "height": 180,
       "width": 960
      }
     },
     "output_type": "display_data"
    },
    {
     "data": {
      "image/png": "[encoded data removed]",
      "text/plain": [
       "plot without title"
      ]
     },
     "metadata": {
      "image/png": {
       "height": 180,
       "width": 960
      }
     },
     "output_type": "display_data"
    }
   ],
   "source": [
    "options(repr.plot.width=16, repr.plot.height=3)\n",
    "\n",
    "for(i in 1:5){\n",
    "\n",
    "    index<-sample(which(base_info$cluster==i),size=1)\n",
    "    cur_hadm_id<-base_info$HADM_ID[index]\n",
    "    folder_path<-paste0(\"./all_admissions/\", cur_hadm_id)\n",
    "    mask<-fread(paste0(folder_path,\"/\",\"mask.csv\"),header=T)\n",
    "    mask1<-as.matrix(mask)\n",
    "    \n",
    "    if(nrow(mask1)>=12) mask1<-mask1[1:12,] else mask1<-rbind(mask1,matrix(1,nrow=18-nrow(mask1), ncol=11))\n",
    "    \n",
    "    pheatmap(t(1-mask1), cluster_rows = F,cluster_cols = F,\n",
    "            border_color = \"grey\",\n",
    "            cellwidth=15, cellheight=15,\n",
    "            color = colorRampPalette(c(\"white\", \"black\"))(2))\n",
    "}"
   ]
  },
  {
   "cell_type": "code",
   "execution_count": null,
   "metadata": {},
   "outputs": [],
   "source": []
  },
  {
   "cell_type": "code",
   "execution_count": null,
   "metadata": {},
   "outputs": [],
   "source": []
  },
  {
   "cell_type": "code",
   "execution_count": 349,
   "metadata": {},
   "outputs": [],
   "source": [
    "# 划分训练集和测试集\n",
    "set.seed(1234)\n",
    "train_index <- list()\n",
    "test_index <- list()\n",
    "for (i in 1:max(base_info$cluster)) {\n",
    "  cur_cluster <- base_info$HADM_ID[which(base_info$cluster == i)]\n",
    "  train_index[[i]] <- sample(cur_cluster, floor(0.7 * length(cur_cluster)))\n",
    "  test_index[[i]] <- setdiff(cur_cluster, train_index[[i]])\n",
    "}"
   ]
  },
  {
   "cell_type": "code",
   "execution_count": 2378,
   "metadata": {},
   "outputs": [
    {
     "data": {
      "text/html": [
       "5"
      ],
      "text/latex": [
       "5"
      ],
      "text/markdown": [
       "5"
      ],
      "text/plain": [
       "[1] 5"
      ]
     },
     "metadata": {},
     "output_type": "display_data"
    }
   ],
   "source": [
    "max(base_info$cluster)"
   ]
  },
  {
   "cell_type": "code",
   "execution_count": 2379,
   "metadata": {},
   "outputs": [],
   "source": [
    "for (i in 1:max(base_info$cluster)) {\n",
    "    fwrite(base_info[which(base_info$HADM_ID %in% train_index[[i]]),c(\"HADM_ID\", \"HOSPITAL_EXPIRE_FLAG\", \"cluster\"),drop=F],file=paste0(\"./train_cls\",i,\".csv\"),row.names=F)\n",
    "    fwrite(base_info[which(base_info$HADM_ID %in% test_index[[i]]),c(\"HADM_ID\", \"HOSPITAL_EXPIRE_FLAG\", \"cluster\"),drop=F],file=paste0(\"./test_cls\",i,\".csv\"),row.names=F)\n",
    "}"
   ]
  },
  {
   "cell_type": "code",
   "execution_count": 2380,
   "metadata": {},
   "outputs": [],
   "source": [
    "fwrite(base_info[which(base_info$HADM_ID %in% unlist(train_index)), c(\"HADM_ID\", \"HOSPITAL_EXPIRE_FLAG\", \"cluster\"),drop=F], file=\"./train.csv\",row.names=F)\n",
    "fwrite(base_info[which(base_info$HADM_ID %in% unlist(test_index)), c(\"HADM_ID\", \"HOSPITAL_EXPIRE_FLAG\", \"cluster\"),drop=F], file=\"./test.csv\",row.names=F)"
   ]
  },
  {
   "cell_type": "code",
   "execution_count": null,
   "metadata": {},
   "outputs": [],
   "source": []
  },
  {
   "cell_type": "code",
   "execution_count": null,
   "metadata": {},
   "outputs": [],
   "source": []
  },
  {
   "cell_type": "code",
   "execution_count": null,
   "metadata": {},
   "outputs": [],
   "source": []
  },
  {
   "cell_type": "code",
   "execution_count": null,
   "metadata": {},
   "outputs": [],
   "source": []
  },
  {
   "cell_type": "markdown",
   "metadata": {},
   "source": [
    "### 数据集描述"
   ]
  },
  {
   "cell_type": "code",
   "execution_count": 568,
   "metadata": {},
   "outputs": [],
   "source": [
    "train <- fread(\"./train.csv\", header = TRUE, fill = TRUE)\n",
    "test <- fread(\"./test.csv\", header = TRUE, fill = TRUE)\n",
    "valid<- fread(\"./valid.csv\", header = TRUE, fill = TRUE)"
   ]
  },
  {
   "cell_type": "code",
   "execution_count": 569,
   "metadata": {},
   "outputs": [],
   "source": [
    "train_index<-which(base_info$HADM_ID %in% c(train$HADM_ID,valid$HADM_ID))\n",
    "test_index<-which(base_info$HADM_ID %in% test$HADM_ID)"
   ]
  },
  {
   "cell_type": "code",
   "execution_count": 589,
   "metadata": {},
   "outputs": [],
   "source": [
    "base_info$group<-rep(\"1\",nrow(base_info))\n",
    "base_info$group[test_index]<-\"2\"\n",
    "# base_info$group<-factor(base_info$group)\n",
    "base_info$death_within_90d<-as.integer(!is.na(base_info$DOD) & (base_info$TOTAL_LOS<=90*24))"
   ]
  },
  {
   "cell_type": "code",
   "execution_count": 571,
   "metadata": {},
   "outputs": [
    {
     "data": {
      "text/plain": [
       "\n",
       "    1     2 \n",
       "19711  8447 "
      ]
     },
     "metadata": {},
     "output_type": "display_data"
    }
   ],
   "source": [
    "table(base_info$group)"
   ]
  },
  {
   "cell_type": "code",
   "execution_count": 590,
   "metadata": {},
   "outputs": [],
   "source": [
    "base_info$TOTAL_LOS_cls<-cut(base_info$TOTAL_LOS, breaks = c(seq(48,24*7*4,24*7),Inf),right=F)"
   ]
  },
  {
   "cell_type": "code",
   "execution_count": 591,
   "metadata": {},
   "outputs": [
    {
     "data": {
      "text/html": [
       "<style>\n",
       ".list-inline {list-style: none; margin:0; padding: 0}\n",
       ".list-inline>li {display: inline-block}\n",
       ".list-inline>li:not(:last-child)::after {content: \"\\00b7\"; padding: 0 .5ex}\n",
       "</style>\n",
       "<ol class=list-inline><li>'SUBJECT_ID'</li><li>'ROW_ID.x'</li><li>'GENDER'</li><li>'DOB'</li><li>'DOD'</li><li>'DOD_HOSP'</li><li>'DOD_SSN'</li><li>'EXPIRE_FLAG'</li><li>'ROW_ID.y'</li><li>'HADM_ID'</li><li>'ADMITTIME'</li><li>'DISCHTIME'</li><li>'DEATHTIME'</li><li>'ADMISSION_TYPE'</li><li>'ADMISSION_LOCATION'</li><li>'DISCHARGE_LOCATION'</li><li>'INSURANCE'</li><li>'LANGUAGE'</li><li>'RELIGION'</li><li>'MARITAL_STATUS'</li><li>'ETHNICITY'</li><li>'EDREGTIME'</li><li>'EDOUTTIME'</li><li>'DIAGNOSIS'</li><li>'HOSPITAL_EXPIRE_FLAG'</li><li>'HAS_CHARTEVENTS_DATA'</li><li>'AGE'</li><li>'TOTAL_LOS'</li><li>'Aids'</li><li>'Hm'</li><li>'Mc'</li><li>'cluster'</li><li>'group'</li><li>'TOTAL_LOS_cls'</li><li>'death_within_90d'</li></ol>\n"
      ],
      "text/latex": [
       "\\begin{enumerate*}\n",
       "\\item 'SUBJECT\\_ID'\n",
       "\\item 'ROW\\_ID.x'\n",
       "\\item 'GENDER'\n",
       "\\item 'DOB'\n",
       "\\item 'DOD'\n",
       "\\item 'DOD\\_HOSP'\n",
       "\\item 'DOD\\_SSN'\n",
       "\\item 'EXPIRE\\_FLAG'\n",
       "\\item 'ROW\\_ID.y'\n",
       "\\item 'HADM\\_ID'\n",
       "\\item 'ADMITTIME'\n",
       "\\item 'DISCHTIME'\n",
       "\\item 'DEATHTIME'\n",
       "\\item 'ADMISSION\\_TYPE'\n",
       "\\item 'ADMISSION\\_LOCATION'\n",
       "\\item 'DISCHARGE\\_LOCATION'\n",
       "\\item 'INSURANCE'\n",
       "\\item 'LANGUAGE'\n",
       "\\item 'RELIGION'\n",
       "\\item 'MARITAL\\_STATUS'\n",
       "\\item 'ETHNICITY'\n",
       "\\item 'EDREGTIME'\n",
       "\\item 'EDOUTTIME'\n",
       "\\item 'DIAGNOSIS'\n",
       "\\item 'HOSPITAL\\_EXPIRE\\_FLAG'\n",
       "\\item 'HAS\\_CHARTEVENTS\\_DATA'\n",
       "\\item 'AGE'\n",
       "\\item 'TOTAL\\_LOS'\n",
       "\\item 'Aids'\n",
       "\\item 'Hm'\n",
       "\\item 'Mc'\n",
       "\\item 'cluster'\n",
       "\\item 'group'\n",
       "\\item 'TOTAL\\_LOS\\_cls'\n",
       "\\item 'death\\_within\\_90d'\n",
       "\\end{enumerate*}\n"
      ],
      "text/markdown": [
       "1. 'SUBJECT_ID'\n",
       "2. 'ROW_ID.x'\n",
       "3. 'GENDER'\n",
       "4. 'DOB'\n",
       "5. 'DOD'\n",
       "6. 'DOD_HOSP'\n",
       "7. 'DOD_SSN'\n",
       "8. 'EXPIRE_FLAG'\n",
       "9. 'ROW_ID.y'\n",
       "10. 'HADM_ID'\n",
       "11. 'ADMITTIME'\n",
       "12. 'DISCHTIME'\n",
       "13. 'DEATHTIME'\n",
       "14. 'ADMISSION_TYPE'\n",
       "15. 'ADMISSION_LOCATION'\n",
       "16. 'DISCHARGE_LOCATION'\n",
       "17. 'INSURANCE'\n",
       "18. 'LANGUAGE'\n",
       "19. 'RELIGION'\n",
       "20. 'MARITAL_STATUS'\n",
       "21. 'ETHNICITY'\n",
       "22. 'EDREGTIME'\n",
       "23. 'EDOUTTIME'\n",
       "24. 'DIAGNOSIS'\n",
       "25. 'HOSPITAL_EXPIRE_FLAG'\n",
       "26. 'HAS_CHARTEVENTS_DATA'\n",
       "27. 'AGE'\n",
       "28. 'TOTAL_LOS'\n",
       "29. 'Aids'\n",
       "30. 'Hm'\n",
       "31. 'Mc'\n",
       "32. 'cluster'\n",
       "33. 'group'\n",
       "34. 'TOTAL_LOS_cls'\n",
       "35. 'death_within_90d'\n",
       "\n",
       "\n"
      ],
      "text/plain": [
       " [1] \"SUBJECT_ID\"           \"ROW_ID.x\"             \"GENDER\"              \n",
       " [4] \"DOB\"                  \"DOD\"                  \"DOD_HOSP\"            \n",
       " [7] \"DOD_SSN\"              \"EXPIRE_FLAG\"          \"ROW_ID.y\"            \n",
       "[10] \"HADM_ID\"              \"ADMITTIME\"            \"DISCHTIME\"           \n",
       "[13] \"DEATHTIME\"            \"ADMISSION_TYPE\"       \"ADMISSION_LOCATION\"  \n",
       "[16] \"DISCHARGE_LOCATION\"   \"INSURANCE\"            \"LANGUAGE\"            \n",
       "[19] \"RELIGION\"             \"MARITAL_STATUS\"       \"ETHNICITY\"           \n",
       "[22] \"EDREGTIME\"            \"EDOUTTIME\"            \"DIAGNOSIS\"           \n",
       "[25] \"HOSPITAL_EXPIRE_FLAG\" \"HAS_CHARTEVENTS_DATA\" \"AGE\"                 \n",
       "[28] \"TOTAL_LOS\"            \"Aids\"                 \"Hm\"                  \n",
       "[31] \"Mc\"                   \"cluster\"              \"group\"               \n",
       "[34] \"TOTAL_LOS_cls\"        \"death_within_90d\"    "
      ]
     },
     "metadata": {},
     "output_type": "display_data"
    }
   ],
   "source": [
    "names(base_info)"
   ]
  },
  {
   "cell_type": "code",
   "execution_count": 594,
   "metadata": {
    "scrolled": true
   },
   "outputs": [
    {
     "name": "stdout",
     "output_type": "stream",
     "text": [
      "                              Stratified by group\n",
      "                               1                    2                    p     \n",
      "  n                            19711                 8447                      \n",
      "  AGE (median [IQR])           67.00 [54.00, 79.00] 66.00 [53.00, 79.00]  0.046\n",
      "  TOTAL_LOS_cls (%)                                                       0.948\n",
      "     [48,216)                  12174 (61.8)          5191 (61.5)               \n",
      "     [216,384)                  4414 (22.4)          1901 (22.5)               \n",
      "     [384,552)                  1585 ( 8.0)           681 ( 8.1)               \n",
      "     [552,Inf)                  1538 ( 7.8)           674 ( 8.0)               \n",
      "  GENDER = M (%)               11237 (57.0)          4792 (56.7)          0.675\n",
      "  Aids = 1 (%)                   164 ( 0.8)            70 ( 0.8)          1.000\n",
      "  Hm = 1 (%)                     490 ( 2.5)           226 ( 2.7)          0.376\n",
      "  Mc = 1 (%)                    1321 ( 6.7)           575 ( 6.8)          0.766\n",
      "  HOSPITAL_EXPIRE_FLAG = 1 (%)  2157 (10.9)           952 (11.3)          0.434\n",
      "  death_within_90d = 1 (%)      7163 (36.3)          3066 (36.3)          0.956\n",
      "  ADMISSION_TYPE (%)                                                      0.428\n",
      "     ELECTIVE                   3462 (17.6)          1474 (17.4)               \n",
      "     EMERGENCY                 15658 (79.4)          6743 (79.8)               \n",
      "     URGENT                      591 ( 3.0)           230 ( 2.7)               \n",
      "                              Stratified by group\n",
      "                               test   \n",
      "  n                                   \n",
      "  AGE (median [IQR])           nonnorm\n",
      "  TOTAL_LOS_cls (%)                   \n",
      "     [48,216)                         \n",
      "     [216,384)                        \n",
      "     [384,552)                        \n",
      "     [552,Inf)                        \n",
      "  GENDER = M (%)                      \n",
      "  Aids = 1 (%)                        \n",
      "  Hm = 1 (%)                          \n",
      "  Mc = 1 (%)                          \n",
      "  HOSPITAL_EXPIRE_FLAG = 1 (%)        \n",
      "  death_within_90d = 1 (%)            \n",
      "  ADMISSION_TYPE (%)                  \n",
      "     ELECTIVE                         \n",
      "     EMERGENCY                        \n",
      "     URGENT                           \n"
     ]
    }
   ],
   "source": [
    "vars <- c(\"AGE\",\"TOTAL_LOS_cls\",\"GENDER\", \"Aids\", \"Hm\", \"Mc\", \"HOSPITAL_EXPIRE_FLAG\",\"death_within_90d\",\"ADMISSION_TYPE\")\n",
    "vars_str <- setdiff(names(base_info), c(\"AGE\"))\n",
    "tab<-CreateTableOne(vars = vars,  factorVars = vars_str, strata = \"group\",data = base_info)\n",
    "non_norm<-c(\"AGE\")\n",
    "tab1<-print(tab, nonnormal = non_norm)"
   ]
  },
  {
   "cell_type": "code",
   "execution_count": 595,
   "metadata": {},
   "outputs": [
    {
     "name": "stdout",
     "output_type": "stream",
     "text": [
      "                              \n",
      "                               Overall             \n",
      "  n                            28158               \n",
      "  AGE (median [IQR])           67.00 [54.00, 79.00]\n",
      "  TOTAL_LOS_cls (%)                                \n",
      "     [48,216)                  17365 (61.7)        \n",
      "     [216,384)                  6315 (22.4)        \n",
      "     [384,552)                  2266 ( 8.0)        \n",
      "     [552,Inf)                  2212 ( 7.9)        \n",
      "  GENDER = M (%)               16029 (56.9)        \n",
      "  Aids = 1 (%)                   234 ( 0.8)        \n",
      "  Hm = 1 (%)                     716 ( 2.5)        \n",
      "  Mc = 1 (%)                    1896 ( 6.7)        \n",
      "  HOSPITAL_EXPIRE_FLAG = 1 (%)  3109 (11.0)        \n",
      "  death_within_90d = 1 (%)     10229 (36.3)        \n",
      "  ADMISSION_TYPE (%)                               \n",
      "     ELECTIVE                   4936 (17.5)        \n",
      "     EMERGENCY                 22401 (79.6)        \n",
      "     URGENT                      821 ( 2.9)        \n"
     ]
    }
   ],
   "source": [
    "# 使用与上面相同的变量和参数，但是不分 group，将 train 和 test 数据集的结果横向拼接\n",
    "vars <- c(\"AGE\",\"TOTAL_LOS_cls\",\"GENDER\", \"Aids\", \"Hm\", \"Mc\", \"HOSPITAL_EXPIRE_FLAG\",\"death_within_90d\",\"ADMISSION_TYPE\")\n",
    "vars_str <- setdiff(names(base_info), c(\"AGE\"))\n",
    "table_all<-CreateTableOne(vars = vars,  factorVars = vars_str, data = base_info)\n",
    "non_norm<-c(\"AGE\")\n",
    "tab_all<-print(table_all, nonnormal = non_norm)"
   ]
  },
  {
   "cell_type": "code",
   "execution_count": 596,
   "metadata": {},
   "outputs": [
    {
     "data": {
      "text/html": [
       "<table class=\"dataframe\">\n",
       "<caption>A matrix: 17 × 5 of type chr</caption>\n",
       "<thead>\n",
       "\t<tr><th></th><th scope=col>Overall</th><th scope=col>1</th><th scope=col>2</th><th scope=col>p</th><th scope=col>test</th></tr>\n",
       "</thead>\n",
       "<tbody>\n",
       "\t<tr><th scope=row>n</th><td>28158               </td><td>19711               </td><td> 8447               </td><td>      </td><td>       </td></tr>\n",
       "\t<tr><th scope=row>AGE (median [IQR])</th><td>67.00 [54.00, 79.00]</td><td>67.00 [54.00, 79.00]</td><td>66.00 [53.00, 79.00]</td><td> 0.046</td><td>nonnorm</td></tr>\n",
       "\t<tr><th scope=row>TOTAL_LOS_cls (%)</th><td>                    </td><td>                    </td><td>                    </td><td> 0.948</td><td>       </td></tr>\n",
       "\t<tr><th scope=row>   [48,216)</th><td>17365 (61.7)        </td><td>12174 (61.8)        </td><td> 5191 (61.5)        </td><td>      </td><td>       </td></tr>\n",
       "\t<tr><th scope=row>   [216,384)</th><td> 6315 (22.4)        </td><td> 4414 (22.4)        </td><td> 1901 (22.5)        </td><td>      </td><td>       </td></tr>\n",
       "\t<tr><th scope=row>   [384,552)</th><td> 2266 ( 8.0)        </td><td> 1585 ( 8.0)        </td><td>  681 ( 8.1)        </td><td>      </td><td>       </td></tr>\n",
       "\t<tr><th scope=row>   [552,Inf)</th><td> 2212 ( 7.9)        </td><td> 1538 ( 7.8)        </td><td>  674 ( 8.0)        </td><td>      </td><td>       </td></tr>\n",
       "\t<tr><th scope=row>GENDER = M (%)</th><td>16029 (56.9)        </td><td>11237 (57.0)        </td><td> 4792 (56.7)        </td><td> 0.675</td><td>       </td></tr>\n",
       "\t<tr><th scope=row>Aids = 1 (%)</th><td>  234 ( 0.8)        </td><td>  164 ( 0.8)        </td><td>   70 ( 0.8)        </td><td> 1.000</td><td>       </td></tr>\n",
       "\t<tr><th scope=row>Hm = 1 (%)</th><td>  716 ( 2.5)        </td><td>  490 ( 2.5)        </td><td>  226 ( 2.7)        </td><td> 0.376</td><td>       </td></tr>\n",
       "\t<tr><th scope=row>Mc = 1 (%)</th><td> 1896 ( 6.7)        </td><td> 1321 ( 6.7)        </td><td>  575 ( 6.8)        </td><td> 0.766</td><td>       </td></tr>\n",
       "\t<tr><th scope=row>HOSPITAL_EXPIRE_FLAG = 1 (%)</th><td> 3109 (11.0)        </td><td> 2157 (10.9)        </td><td>  952 (11.3)        </td><td> 0.434</td><td>       </td></tr>\n",
       "\t<tr><th scope=row>death_within_90d = 1 (%)</th><td>10229 (36.3)        </td><td> 7163 (36.3)        </td><td> 3066 (36.3)        </td><td> 0.956</td><td>       </td></tr>\n",
       "\t<tr><th scope=row>ADMISSION_TYPE (%)</th><td>                    </td><td>                    </td><td>                    </td><td> 0.428</td><td>       </td></tr>\n",
       "\t<tr><th scope=row>   ELECTIVE</th><td> 4936 (17.5)        </td><td> 3462 (17.6)        </td><td> 1474 (17.4)        </td><td>      </td><td>       </td></tr>\n",
       "\t<tr><th scope=row>   EMERGENCY</th><td>22401 (79.6)        </td><td>15658 (79.4)        </td><td> 6743 (79.8)        </td><td>      </td><td>       </td></tr>\n",
       "\t<tr><th scope=row>   URGENT</th><td>  821 ( 2.9)        </td><td>  591 ( 3.0)        </td><td>  230 ( 2.7)        </td><td>      </td><td>       </td></tr>\n",
       "</tbody>\n",
       "</table>\n"
      ],
      "text/latex": [
       "A matrix: 17 × 5 of type chr\n",
       "\\begin{tabular}{r|lllll}\n",
       "  & Overall & 1 & 2 & p & test\\\\\n",
       "\\hline\n",
       "\tn & 28158                & 19711                &  8447                &        &        \\\\\n",
       "\tAGE (median {[}IQR{]}) & 67.00 {[}54.00, 79.00{]} & 67.00 {[}54.00, 79.00{]} & 66.00 {[}53.00, 79.00{]} &  0.046 & nonnorm\\\\\n",
       "\tTOTAL\\_LOS\\_cls (\\%) &                      &                      &                      &  0.948 &        \\\\\n",
       "\t   {[}48,216) & 17365 (61.7)         & 12174 (61.8)         &  5191 (61.5)         &        &        \\\\\n",
       "\t   {[}216,384) &  6315 (22.4)         &  4414 (22.4)         &  1901 (22.5)         &        &        \\\\\n",
       "\t   {[}384,552) &  2266 ( 8.0)         &  1585 ( 8.0)         &   681 ( 8.1)         &        &        \\\\\n",
       "\t   {[}552,Inf) &  2212 ( 7.9)         &  1538 ( 7.8)         &   674 ( 8.0)         &        &        \\\\\n",
       "\tGENDER = M (\\%) & 16029 (56.9)         & 11237 (57.0)         &  4792 (56.7)         &  0.675 &        \\\\\n",
       "\tAids = 1 (\\%) &   234 ( 0.8)         &   164 ( 0.8)         &    70 ( 0.8)         &  1.000 &        \\\\\n",
       "\tHm = 1 (\\%) &   716 ( 2.5)         &   490 ( 2.5)         &   226 ( 2.7)         &  0.376 &        \\\\\n",
       "\tMc = 1 (\\%) &  1896 ( 6.7)         &  1321 ( 6.7)         &   575 ( 6.8)         &  0.766 &        \\\\\n",
       "\tHOSPITAL\\_EXPIRE\\_FLAG = 1 (\\%) &  3109 (11.0)         &  2157 (10.9)         &   952 (11.3)         &  0.434 &        \\\\\n",
       "\tdeath\\_within\\_90d = 1 (\\%) & 10229 (36.3)         &  7163 (36.3)         &  3066 (36.3)         &  0.956 &        \\\\\n",
       "\tADMISSION\\_TYPE (\\%) &                      &                      &                      &  0.428 &        \\\\\n",
       "\t   ELECTIVE &  4936 (17.5)         &  3462 (17.6)         &  1474 (17.4)         &        &        \\\\\n",
       "\t   EMERGENCY & 22401 (79.6)         & 15658 (79.4)         &  6743 (79.8)         &        &        \\\\\n",
       "\t   URGENT &   821 ( 2.9)         &   591 ( 3.0)         &   230 ( 2.7)         &        &        \\\\\n",
       "\\end{tabular}\n"
      ],
      "text/markdown": [
       "\n",
       "A matrix: 17 × 5 of type chr\n",
       "\n",
       "| <!--/--> | Overall | 1 | 2 | p | test |\n",
       "|---|---|---|---|---|---|\n",
       "| n | 28158                | 19711                |  8447                | <!----> | <!----> |\n",
       "| AGE (median [IQR]) | 67.00 [54.00, 79.00] | 67.00 [54.00, 79.00] | 66.00 [53.00, 79.00] |  0.046 | nonnorm |\n",
       "| TOTAL_LOS_cls (%) | <!----> | <!----> | <!----> |  0.948 | <!----> |\n",
       "|    [48,216) | 17365 (61.7)         | 12174 (61.8)         |  5191 (61.5)         | <!----> | <!----> |\n",
       "|    [216,384) |  6315 (22.4)         |  4414 (22.4)         |  1901 (22.5)         | <!----> | <!----> |\n",
       "|    [384,552) |  2266 ( 8.0)         |  1585 ( 8.0)         |   681 ( 8.1)         | <!----> | <!----> |\n",
       "|    [552,Inf) |  2212 ( 7.9)         |  1538 ( 7.8)         |   674 ( 8.0)         | <!----> | <!----> |\n",
       "| GENDER = M (%) | 16029 (56.9)         | 11237 (57.0)         |  4792 (56.7)         |  0.675 | <!----> |\n",
       "| Aids = 1 (%) |   234 ( 0.8)         |   164 ( 0.8)         |    70 ( 0.8)         |  1.000 | <!----> |\n",
       "| Hm = 1 (%) |   716 ( 2.5)         |   490 ( 2.5)         |   226 ( 2.7)         |  0.376 | <!----> |\n",
       "| Mc = 1 (%) |  1896 ( 6.7)         |  1321 ( 6.7)         |   575 ( 6.8)         |  0.766 | <!----> |\n",
       "| HOSPITAL_EXPIRE_FLAG = 1 (%) |  3109 (11.0)         |  2157 (10.9)         |   952 (11.3)         |  0.434 | <!----> |\n",
       "| death_within_90d = 1 (%) | 10229 (36.3)         |  7163 (36.3)         |  3066 (36.3)         |  0.956 | <!----> |\n",
       "| ADMISSION_TYPE (%) | <!----> | <!----> | <!----> |  0.428 | <!----> |\n",
       "|    ELECTIVE |  4936 (17.5)         |  3462 (17.6)         |  1474 (17.4)         | <!----> | <!----> |\n",
       "|    EMERGENCY | 22401 (79.6)         | 15658 (79.4)         |  6743 (79.8)         | <!----> | <!----> |\n",
       "|    URGENT |   821 ( 2.9)         |   591 ( 3.0)         |   230 ( 2.7)         | <!----> | <!----> |\n",
       "\n"
      ],
      "text/plain": [
       "                             Overall              1                   \n",
       "n                            28158                19711               \n",
       "AGE (median [IQR])           67.00 [54.00, 79.00] 67.00 [54.00, 79.00]\n",
       "TOTAL_LOS_cls (%)                                                     \n",
       "   [48,216)                  17365 (61.7)         12174 (61.8)        \n",
       "   [216,384)                  6315 (22.4)          4414 (22.4)        \n",
       "   [384,552)                  2266 ( 8.0)          1585 ( 8.0)        \n",
       "   [552,Inf)                  2212 ( 7.9)          1538 ( 7.8)        \n",
       "GENDER = M (%)               16029 (56.9)         11237 (57.0)        \n",
       "Aids = 1 (%)                   234 ( 0.8)           164 ( 0.8)        \n",
       "Hm = 1 (%)                     716 ( 2.5)           490 ( 2.5)        \n",
       "Mc = 1 (%)                    1896 ( 6.7)          1321 ( 6.7)        \n",
       "HOSPITAL_EXPIRE_FLAG = 1 (%)  3109 (11.0)          2157 (10.9)        \n",
       "death_within_90d = 1 (%)     10229 (36.3)          7163 (36.3)        \n",
       "ADMISSION_TYPE (%)                                                    \n",
       "   ELECTIVE                   4936 (17.5)          3462 (17.6)        \n",
       "   EMERGENCY                 22401 (79.6)         15658 (79.4)        \n",
       "   URGENT                      821 ( 2.9)           591 ( 3.0)        \n",
       "                             2                    p      test   \n",
       "n                             8447                              \n",
       "AGE (median [IQR])           66.00 [53.00, 79.00]  0.046 nonnorm\n",
       "TOTAL_LOS_cls (%)                                  0.948        \n",
       "   [48,216)                   5191 (61.5)                       \n",
       "   [216,384)                  1901 (22.5)                       \n",
       "   [384,552)                   681 ( 8.1)                       \n",
       "   [552,Inf)                   674 ( 8.0)                       \n",
       "GENDER = M (%)                4792 (56.7)          0.675        \n",
       "Aids = 1 (%)                    70 ( 0.8)          1.000        \n",
       "Hm = 1 (%)                     226 ( 2.7)          0.376        \n",
       "Mc = 1 (%)                     575 ( 6.8)          0.766        \n",
       "HOSPITAL_EXPIRE_FLAG = 1 (%)   952 (11.3)          0.434        \n",
       "death_within_90d = 1 (%)      3066 (36.3)          0.956        \n",
       "ADMISSION_TYPE (%)                                 0.428        \n",
       "   ELECTIVE                   1474 (17.4)                       \n",
       "   EMERGENCY                  6743 (79.8)                       \n",
       "   URGENT                      230 ( 2.7)                       "
      ]
     },
     "metadata": {},
     "output_type": "display_data"
    }
   ],
   "source": [
    "cbind(tab_all, tab1)"
   ]
  },
  {
   "cell_type": "code",
   "execution_count": null,
   "metadata": {},
   "outputs": [],
   "source": []
  },
  {
   "cell_type": "code",
   "execution_count": null,
   "metadata": {},
   "outputs": [],
   "source": []
  },
  {
   "cell_type": "code",
   "execution_count": null,
   "metadata": {},
   "outputs": [],
   "source": []
  },
  {
   "cell_type": "code",
   "execution_count": null,
   "metadata": {},
   "outputs": [],
   "source": []
  },
  {
   "cell_type": "code",
   "execution_count": null,
   "metadata": {},
   "outputs": [],
   "source": []
  },
  {
   "cell_type": "code",
   "execution_count": null,
   "metadata": {},
   "outputs": [],
   "source": []
  },
  {
   "cell_type": "code",
   "execution_count": 558,
   "metadata": {},
   "outputs": [],
   "source": [
    "# 读取 dym_X-light\n",
    "dym_X_light <- fread(\"/home/luojiawei/mimic3_Miss_project/dym_X-light.csv\", header = TRUE, fill = TRUE)"
   ]
  },
  {
   "cell_type": "code",
   "execution_count": 560,
   "metadata": {
    "scrolled": true
   },
   "outputs": [
    {
     "data": {
      "text/html": [
       "<table class=\"dataframe\">\n",
       "<caption>A matrix: 24 × 2 of type chr</caption>\n",
       "<tbody>\n",
       "\t<tr><td>1 </td><td>hadm_id             </td></tr>\n",
       "\t<tr><td>2 </td><td>time                </td></tr>\n",
       "\t<tr><td>3 </td><td>GCSVerbal           </td></tr>\n",
       "\t<tr><td>4 </td><td>GCSMotor            </td></tr>\n",
       "\t<tr><td>5 </td><td>GCSEyes             </td></tr>\n",
       "\t<tr><td>6 </td><td>SBP                 </td></tr>\n",
       "\t<tr><td>7 </td><td>HR                  </td></tr>\n",
       "\t<tr><td>8 </td><td>BT                  </td></tr>\n",
       "\t<tr><td>9 </td><td>PFR                 </td></tr>\n",
       "\t<tr><td>10</td><td>UrO                 </td></tr>\n",
       "\t<tr><td>11</td><td>SUN                 </td></tr>\n",
       "\t<tr><td>12</td><td>WBC                 </td></tr>\n",
       "\t<tr><td>13</td><td>Ser                 </td></tr>\n",
       "\t<tr><td>14</td><td>Sod                 </td></tr>\n",
       "\t<tr><td>15</td><td>Pot                 </td></tr>\n",
       "\t<tr><td>16</td><td>Bil                 </td></tr>\n",
       "\t<tr><td>17</td><td>AGE                 </td></tr>\n",
       "\t<tr><td>18</td><td>HOSPITAL_EXPIRE_FLAG</td></tr>\n",
       "\t<tr><td>19</td><td>Aids                </td></tr>\n",
       "\t<tr><td>20</td><td>Hm                  </td></tr>\n",
       "\t<tr><td>21</td><td>Mc                  </td></tr>\n",
       "\t<tr><td>22</td><td>ADtype1             </td></tr>\n",
       "\t<tr><td>23</td><td>ADtype2             </td></tr>\n",
       "\t<tr><td>24</td><td>ADtype3             </td></tr>\n",
       "</tbody>\n",
       "</table>\n"
      ],
      "text/latex": [
       "A matrix: 24 × 2 of type chr\n",
       "\\begin{tabular}{ll}\n",
       "\t 1  & hadm\\_id             \\\\\n",
       "\t 2  & time                \\\\\n",
       "\t 3  & GCSVerbal           \\\\\n",
       "\t 4  & GCSMotor            \\\\\n",
       "\t 5  & GCSEyes             \\\\\n",
       "\t 6  & SBP                 \\\\\n",
       "\t 7  & HR                  \\\\\n",
       "\t 8  & BT                  \\\\\n",
       "\t 9  & PFR                 \\\\\n",
       "\t 10 & UrO                 \\\\\n",
       "\t 11 & SUN                 \\\\\n",
       "\t 12 & WBC                 \\\\\n",
       "\t 13 & Ser                 \\\\\n",
       "\t 14 & Sod                 \\\\\n",
       "\t 15 & Pot                 \\\\\n",
       "\t 16 & Bil                 \\\\\n",
       "\t 17 & AGE                 \\\\\n",
       "\t 18 & HOSPITAL\\_EXPIRE\\_FLAG\\\\\n",
       "\t 19 & Aids                \\\\\n",
       "\t 20 & Hm                  \\\\\n",
       "\t 21 & Mc                  \\\\\n",
       "\t 22 & ADtype1             \\\\\n",
       "\t 23 & ADtype2             \\\\\n",
       "\t 24 & ADtype3             \\\\\n",
       "\\end{tabular}\n"
      ],
      "text/markdown": [
       "\n",
       "A matrix: 24 × 2 of type chr\n",
       "\n",
       "| 1  | hadm_id              |\n",
       "| 2  | time                 |\n",
       "| 3  | GCSVerbal            |\n",
       "| 4  | GCSMotor             |\n",
       "| 5  | GCSEyes              |\n",
       "| 6  | SBP                  |\n",
       "| 7  | HR                   |\n",
       "| 8  | BT                   |\n",
       "| 9  | PFR                  |\n",
       "| 10 | UrO                  |\n",
       "| 11 | SUN                  |\n",
       "| 12 | WBC                  |\n",
       "| 13 | Ser                  |\n",
       "| 14 | Sod                  |\n",
       "| 15 | Pot                  |\n",
       "| 16 | Bil                  |\n",
       "| 17 | AGE                  |\n",
       "| 18 | HOSPITAL_EXPIRE_FLAG |\n",
       "| 19 | Aids                 |\n",
       "| 20 | Hm                   |\n",
       "| 21 | Mc                   |\n",
       "| 22 | ADtype1              |\n",
       "| 23 | ADtype2              |\n",
       "| 24 | ADtype3              |\n",
       "\n"
      ],
      "text/plain": [
       "      [,1] [,2]                \n",
       " [1,] 1    hadm_id             \n",
       " [2,] 2    time                \n",
       " [3,] 3    GCSVerbal           \n",
       " [4,] 4    GCSMotor            \n",
       " [5,] 5    GCSEyes             \n",
       " [6,] 6    SBP                 \n",
       " [7,] 7    HR                  \n",
       " [8,] 8    BT                  \n",
       " [9,] 9    PFR                 \n",
       "[10,] 10   UrO                 \n",
       "[11,] 11   SUN                 \n",
       "[12,] 12   WBC                 \n",
       "[13,] 13   Ser                 \n",
       "[14,] 14   Sod                 \n",
       "[15,] 15   Pot                 \n",
       "[16,] 16   Bil                 \n",
       "[17,] 17   AGE                 \n",
       "[18,] 18   HOSPITAL_EXPIRE_FLAG\n",
       "[19,] 19   Aids                \n",
       "[20,] 20   Hm                  \n",
       "[21,] 21   Mc                  \n",
       "[22,] 22   ADtype1             \n",
       "[23,] 23   ADtype2             \n",
       "[24,] 24   ADtype3             "
      ]
     },
     "metadata": {},
     "output_type": "display_data"
    }
   ],
   "source": [
    "cbind(1:ncol(dym_X_light),names(dym_X_light))"
   ]
  },
  {
   "cell_type": "code",
   "execution_count": 561,
   "metadata": {},
   "outputs": [],
   "source": [
    "# 把 mask 的每一列转换成 0 / 1                               \n",
    "mask <- as.data.frame(lapply(dym_X_light[, c(3:16)], function(x) ifelse(is.na(x), 1, 0)))"
   ]
  },
  {
   "cell_type": "code",
   "execution_count": 562,
   "metadata": {},
   "outputs": [
    {
     "data": {
      "text/html": [
       "<table class=\"dataframe\">\n",
       "<caption>A data.frame: 2 × 14</caption>\n",
       "<thead>\n",
       "\t<tr><th></th><th scope=col>GCSVerbal</th><th scope=col>GCSMotor</th><th scope=col>GCSEyes</th><th scope=col>SBP</th><th scope=col>HR</th><th scope=col>BT</th><th scope=col>PFR</th><th scope=col>UrO</th><th scope=col>SUN</th><th scope=col>WBC</th><th scope=col>Ser</th><th scope=col>Sod</th><th scope=col>Pot</th><th scope=col>Bil</th></tr>\n",
       "\t<tr><th></th><th scope=col>&lt;dbl&gt;</th><th scope=col>&lt;dbl&gt;</th><th scope=col>&lt;dbl&gt;</th><th scope=col>&lt;dbl&gt;</th><th scope=col>&lt;dbl&gt;</th><th scope=col>&lt;dbl&gt;</th><th scope=col>&lt;dbl&gt;</th><th scope=col>&lt;dbl&gt;</th><th scope=col>&lt;dbl&gt;</th><th scope=col>&lt;dbl&gt;</th><th scope=col>&lt;dbl&gt;</th><th scope=col>&lt;dbl&gt;</th><th scope=col>&lt;dbl&gt;</th><th scope=col>&lt;dbl&gt;</th></tr>\n",
       "</thead>\n",
       "<tbody>\n",
       "\t<tr><th scope=row>1</th><td>1</td><td>1</td><td>1</td><td>1</td><td>1</td><td>1</td><td>1</td><td>1</td><td>1</td><td>1</td><td>1</td><td>1</td><td>1</td><td>1</td></tr>\n",
       "\t<tr><th scope=row>2</th><td>0</td><td>0</td><td>0</td><td>0</td><td>0</td><td>0</td><td>1</td><td>0</td><td>0</td><td>0</td><td>0</td><td>0</td><td>0</td><td>1</td></tr>\n",
       "</tbody>\n",
       "</table>\n"
      ],
      "text/latex": [
       "A data.frame: 2 × 14\n",
       "\\begin{tabular}{r|llllllllllllll}\n",
       "  & GCSVerbal & GCSMotor & GCSEyes & SBP & HR & BT & PFR & UrO & SUN & WBC & Ser & Sod & Pot & Bil\\\\\n",
       "  & <dbl> & <dbl> & <dbl> & <dbl> & <dbl> & <dbl> & <dbl> & <dbl> & <dbl> & <dbl> & <dbl> & <dbl> & <dbl> & <dbl>\\\\\n",
       "\\hline\n",
       "\t1 & 1 & 1 & 1 & 1 & 1 & 1 & 1 & 1 & 1 & 1 & 1 & 1 & 1 & 1\\\\\n",
       "\t2 & 0 & 0 & 0 & 0 & 0 & 0 & 1 & 0 & 0 & 0 & 0 & 0 & 0 & 1\\\\\n",
       "\\end{tabular}\n"
      ],
      "text/markdown": [
       "\n",
       "A data.frame: 2 × 14\n",
       "\n",
       "| <!--/--> | GCSVerbal &lt;dbl&gt; | GCSMotor &lt;dbl&gt; | GCSEyes &lt;dbl&gt; | SBP &lt;dbl&gt; | HR &lt;dbl&gt; | BT &lt;dbl&gt; | PFR &lt;dbl&gt; | UrO &lt;dbl&gt; | SUN &lt;dbl&gt; | WBC &lt;dbl&gt; | Ser &lt;dbl&gt; | Sod &lt;dbl&gt; | Pot &lt;dbl&gt; | Bil &lt;dbl&gt; |\n",
       "|---|---|---|---|---|---|---|---|---|---|---|---|---|---|---|\n",
       "| 1 | 1 | 1 | 1 | 1 | 1 | 1 | 1 | 1 | 1 | 1 | 1 | 1 | 1 | 1 |\n",
       "| 2 | 0 | 0 | 0 | 0 | 0 | 0 | 1 | 0 | 0 | 0 | 0 | 0 | 0 | 1 |\n",
       "\n"
      ],
      "text/plain": [
       "  GCSVerbal GCSMotor GCSEyes SBP HR BT PFR UrO SUN WBC Ser Sod Pot Bil\n",
       "1 1         1        1       1   1  1  1   1   1   1   1   1   1   1  \n",
       "2 0         0        0       0   0  0  1   0   0   0   0   0   0   1  "
      ]
     },
     "metadata": {},
     "output_type": "display_data"
    }
   ],
   "source": [
    "mask[1:2,]"
   ]
  },
  {
   "cell_type": "code",
   "execution_count": 563,
   "metadata": {},
   "outputs": [
    {
     "name": "stdout",
     "output_type": "stream",
     "text": [
      "                   \n",
      "                    Overall        \n",
      "  n                 1760566        \n",
      "  GCSVerbal = 1 (%) 1043179 (59.3) \n",
      "  GCSMotor = 1 (%)  1043741 (59.3) \n",
      "  GCSEyes = 1 (%)   1041774 (59.2) \n",
      "  SBP = 1 (%)        994828 (56.5) \n",
      "  HR = 1 (%)         988265 (56.1) \n",
      "  BT = 1 (%)        1104406 (62.7) \n",
      "  PFR = 1 (%)       1514786 (86.0) \n",
      "  UrO = 1 (%)       1366703 (77.6) \n",
      "  SUN = 1 (%)       1347791 (76.6) \n",
      "  WBC = 1 (%)       1382086 (78.5) \n",
      "  Ser = 1 (%)       1356679 (77.1) \n",
      "  Sod = 1 (%)       1340631 (76.1) \n",
      "  Pot = 1 (%)       1247163 (70.8) \n",
      "  Bil = 1 (%)       1664759 (94.6) \n"
     ]
    },
    {
     "data": {
      "text/html": [
       "<table class=\"dataframe\">\n",
       "<caption>A data.frame: 15 × 1</caption>\n",
       "<thead>\n",
       "\t<tr><th></th><th scope=col>Overall</th></tr>\n",
       "\t<tr><th></th><th scope=col>&lt;chr&gt;</th></tr>\n",
       "</thead>\n",
       "<tbody>\n",
       "\t<tr><th scope=row>n</th><td>1760566        </td></tr>\n",
       "\t<tr><th scope=row>GCSVerbal = 1 (%)</th><td>1043179 (59.3) </td></tr>\n",
       "\t<tr><th scope=row>GCSMotor = 1 (%)</th><td>1043741 (59.3) </td></tr>\n",
       "\t<tr><th scope=row>GCSEyes = 1 (%)</th><td>1041774 (59.2) </td></tr>\n",
       "\t<tr><th scope=row>SBP = 1 (%)</th><td> 994828 (56.5) </td></tr>\n",
       "\t<tr><th scope=row>HR = 1 (%)</th><td> 988265 (56.1) </td></tr>\n",
       "\t<tr><th scope=row>BT = 1 (%)</th><td>1104406 (62.7) </td></tr>\n",
       "\t<tr><th scope=row>PFR = 1 (%)</th><td>1514786 (86.0) </td></tr>\n",
       "\t<tr><th scope=row>UrO = 1 (%)</th><td>1366703 (77.6) </td></tr>\n",
       "\t<tr><th scope=row>SUN = 1 (%)</th><td>1347791 (76.6) </td></tr>\n",
       "\t<tr><th scope=row>WBC = 1 (%)</th><td>1382086 (78.5) </td></tr>\n",
       "\t<tr><th scope=row>Ser = 1 (%)</th><td>1356679 (77.1) </td></tr>\n",
       "\t<tr><th scope=row>Sod = 1 (%)</th><td>1340631 (76.1) </td></tr>\n",
       "\t<tr><th scope=row>Pot = 1 (%)</th><td>1247163 (70.8) </td></tr>\n",
       "\t<tr><th scope=row>Bil = 1 (%)</th><td>1664759 (94.6) </td></tr>\n",
       "</tbody>\n",
       "</table>\n"
      ],
      "text/latex": [
       "A data.frame: 15 × 1\n",
       "\\begin{tabular}{r|l}\n",
       "  & Overall\\\\\n",
       "  & <chr>\\\\\n",
       "\\hline\n",
       "\tn & 1760566        \\\\\n",
       "\tGCSVerbal = 1 (\\%) & 1043179 (59.3) \\\\\n",
       "\tGCSMotor = 1 (\\%) & 1043741 (59.3) \\\\\n",
       "\tGCSEyes = 1 (\\%) & 1041774 (59.2) \\\\\n",
       "\tSBP = 1 (\\%) &  994828 (56.5) \\\\\n",
       "\tHR = 1 (\\%) &  988265 (56.1) \\\\\n",
       "\tBT = 1 (\\%) & 1104406 (62.7) \\\\\n",
       "\tPFR = 1 (\\%) & 1514786 (86.0) \\\\\n",
       "\tUrO = 1 (\\%) & 1366703 (77.6) \\\\\n",
       "\tSUN = 1 (\\%) & 1347791 (76.6) \\\\\n",
       "\tWBC = 1 (\\%) & 1382086 (78.5) \\\\\n",
       "\tSer = 1 (\\%) & 1356679 (77.1) \\\\\n",
       "\tSod = 1 (\\%) & 1340631 (76.1) \\\\\n",
       "\tPot = 1 (\\%) & 1247163 (70.8) \\\\\n",
       "\tBil = 1 (\\%) & 1664759 (94.6) \\\\\n",
       "\\end{tabular}\n"
      ],
      "text/markdown": [
       "\n",
       "A data.frame: 15 × 1\n",
       "\n",
       "| <!--/--> | Overall &lt;chr&gt; |\n",
       "|---|---|\n",
       "| n | 1760566         |\n",
       "| GCSVerbal = 1 (%) | 1043179 (59.3)  |\n",
       "| GCSMotor = 1 (%) | 1043741 (59.3)  |\n",
       "| GCSEyes = 1 (%) | 1041774 (59.2)  |\n",
       "| SBP = 1 (%) |  994828 (56.5)  |\n",
       "| HR = 1 (%) |  988265 (56.1)  |\n",
       "| BT = 1 (%) | 1104406 (62.7)  |\n",
       "| PFR = 1 (%) | 1514786 (86.0)  |\n",
       "| UrO = 1 (%) | 1366703 (77.6)  |\n",
       "| SUN = 1 (%) | 1347791 (76.6)  |\n",
       "| WBC = 1 (%) | 1382086 (78.5)  |\n",
       "| Ser = 1 (%) | 1356679 (77.1)  |\n",
       "| Sod = 1 (%) | 1340631 (76.1)  |\n",
       "| Pot = 1 (%) | 1247163 (70.8)  |\n",
       "| Bil = 1 (%) | 1664759 (94.6)  |\n",
       "\n"
      ],
      "text/plain": [
       "                  Overall        \n",
       "n                 1760566        \n",
       "GCSVerbal = 1 (%) 1043179 (59.3) \n",
       "GCSMotor = 1 (%)  1043741 (59.3) \n",
       "GCSEyes = 1 (%)   1041774 (59.2) \n",
       "SBP = 1 (%)        994828 (56.5) \n",
       "HR = 1 (%)         988265 (56.1) \n",
       "BT = 1 (%)        1104406 (62.7) \n",
       "PFR = 1 (%)       1514786 (86.0) \n",
       "UrO = 1 (%)       1366703 (77.6) \n",
       "SUN = 1 (%)       1347791 (76.6) \n",
       "WBC = 1 (%)       1382086 (78.5) \n",
       "Ser = 1 (%)       1356679 (77.1) \n",
       "Sod = 1 (%)       1340631 (76.1) \n",
       "Pot = 1 (%)       1247163 (70.8) \n",
       "Bil = 1 (%)       1664759 (94.6) "
      ]
     },
     "metadata": {},
     "output_type": "display_data"
    }
   ],
   "source": [
    "table_missing <- CreateTableOne(vars = names(mask), data = mask, factorVars = names(mask), test = FALSE)\n",
    "table_missing1<-print(table_missing)\n",
    "as.data.frame(table_missing1)"
   ]
  },
  {
   "cell_type": "code",
   "execution_count": 535,
   "metadata": {},
   "outputs": [
    {
     "data": {
      "text/html": [
       "<strong>95%:</strong> 672"
      ],
      "text/latex": [
       "\\textbf{95\\textbackslash{}\\%:} 672"
      ],
      "text/markdown": [
       "**95%:** 672"
      ],
      "text/plain": [
       "95% \n",
       "672 "
      ]
     },
     "metadata": {},
     "output_type": "display_data"
    },
    {
     "name": "stderr",
     "output_type": "stream",
     "text": [
      "Warning message:\n",
      "“\u001b[1m\u001b[22mRemoved 492 rows containing non-finite values (`stat_bin()`).”\n",
      "Warning message:\n",
      "“\u001b[1m\u001b[22mRemoved 2 rows containing missing values (`geom_bar()`).”\n"
     ]
    },
    {
     "data": {
      "image/png": "[encoded data removed]",
      "text/plain": [
       "plot without title"
      ]
     },
     "metadata": {
      "image/png": {
       "height": 300,
       "width": 840
      }
     },
     "output_type": "display_data"
    }
   ],
   "source": [
    "qq <- quantile(base_info$TOTAL_LOS, 0.95, na.rm = TRUE)\n",
    "qq\n",
    "ggplot(base_info, aes(x = TOTAL_LOS)) +\n",
    "  geom_histogram(fill = \"#0072B2\", color = \"#FFFFFF\", binwidth = 10) +\n",
    "  geom_vline(xintercept = qq, linetype = \"dashed\", color = \"red\") +\n",
    "  annotate(\"text\", x = qq, y = 1000, label = \"95% percentile\", color = \"red\", \n",
    "           hjust = -0.1, vjust = -0.5) +\n",
    "  ggtitle(\"Length of stay distribution\") +\n",
    "  xlab(\"Length of stay\") +\n",
    "  ylab(\"Count\") +\n",
    "  scale_x_continuous(limits = c(48, 1000), breaks = seq(50, 1000, by = 50)) +\n",
    "  theme(plot.title = element_text(size = 14, face = \"bold\"),\n",
    "        axis.title = element_text(size = 12, face = \"bold\"),\n",
    "        axis.text = element_text(size = 10),\n",
    "        axis.line = element_line(size = 0.5, colour = \"black\"),\n",
    "        panel.grid.major = element_blank(),\n",
    "        panel.grid.minor = element_blank(),\n",
    "        panel.border = element_blank(),\n",
    "        panel.background = element_blank())\n"
   ]
  },
  {
   "cell_type": "code",
   "execution_count": 537,
   "metadata": {},
   "outputs": [
    {
     "data": {
      "text/plain": [
       "\n",
       "   1    2    3    4    5 \n",
       "7151 4939 4270 9065 2733 "
      ]
     },
     "metadata": {},
     "output_type": "display_data"
    },
    {
     "data": {
      "text/plain": [
       "\n",
       "         1          2          3          4          5 \n",
       "0.25395980 0.17540308 0.15164429 0.32193338 0.09705945 "
      ]
     },
     "metadata": {},
     "output_type": "display_data"
    }
   ],
   "source": [
    "table(base_info$cluster)\n",
    "prop.table(table(base_info$cluster))"
   ]
  },
  {
   "cell_type": "code",
   "execution_count": 577,
   "metadata": {},
   "outputs": [
    {
     "data": {
      "text/html": [
       "19711"
      ],
      "text/latex": [
       "19711"
      ],
      "text/markdown": [
       "19711"
      ],
      "text/plain": [
       "[1] 19711"
      ]
     },
     "metadata": {},
     "output_type": "display_data"
    }
   ],
   "source": [
    "nrow(train) + nrow(valid)"
   ]
  },
  {
   "cell_type": "code",
   "execution_count": 578,
   "metadata": {},
   "outputs": [
    {
     "data": {
      "text/html": [
       "8447"
      ],
      "text/latex": [
       "8447"
      ],
      "text/markdown": [
       "8447"
      ],
      "text/plain": [
       "[1] 8447"
      ]
     },
     "metadata": {},
     "output_type": "display_data"
    }
   ],
   "source": [
    "nrow(test)"
   ]
  },
  {
   "cell_type": "code",
   "execution_count": null,
   "metadata": {},
   "outputs": [],
   "source": []
  },
  {
   "cell_type": "code",
   "execution_count": null,
   "metadata": {},
   "outputs": [],
   "source": []
  },
  {
   "cell_type": "code",
   "execution_count": 587,
   "metadata": {},
   "outputs": [
    {
     "data": {
      "text/html": [
       "<table class=\"dataframe\">\n",
       "<caption>A data.table: 5 × 24</caption>\n",
       "<thead>\n",
       "\t<tr><th scope=col>hadm_id</th><th scope=col>time</th><th scope=col>GCSVerbal</th><th scope=col>GCSMotor</th><th scope=col>GCSEyes</th><th scope=col>SBP</th><th scope=col>HR</th><th scope=col>BT</th><th scope=col>PFR</th><th scope=col>UrO</th><th scope=col>⋯</th><th scope=col>Pot</th><th scope=col>Bil</th><th scope=col>AGE</th><th scope=col>HOSPITAL_EXPIRE_FLAG</th><th scope=col>Aids</th><th scope=col>Hm</th><th scope=col>Mc</th><th scope=col>ADtype1</th><th scope=col>ADtype2</th><th scope=col>ADtype3</th></tr>\n",
       "\t<tr><th scope=col>&lt;int&gt;</th><th scope=col>&lt;int&gt;</th><th scope=col>&lt;dbl&gt;</th><th scope=col>&lt;dbl&gt;</th><th scope=col>&lt;dbl&gt;</th><th scope=col>&lt;dbl&gt;</th><th scope=col>&lt;dbl&gt;</th><th scope=col>&lt;dbl&gt;</th><th scope=col>&lt;dbl&gt;</th><th scope=col>&lt;dbl&gt;</th><th scope=col>⋯</th><th scope=col>&lt;dbl&gt;</th><th scope=col>&lt;dbl&gt;</th><th scope=col>&lt;int&gt;</th><th scope=col>&lt;int&gt;</th><th scope=col>&lt;int&gt;</th><th scope=col>&lt;int&gt;</th><th scope=col>&lt;int&gt;</th><th scope=col>&lt;int&gt;</th><th scope=col>&lt;int&gt;</th><th scope=col>&lt;int&gt;</th></tr>\n",
       "</thead>\n",
       "<tbody>\n",
       "\t<tr><td>100007</td><td> 0</td><td>NA</td><td>NA</td><td> NA</td><td> NA</td><td>NA</td><td>      NA</td><td>NA</td><td>NA</td><td>⋯</td><td> NA</td><td>NA</td><td>75</td><td>0</td><td>0</td><td>0</td><td>0</td><td>0</td><td>0</td><td>1</td></tr>\n",
       "\t<tr><td>100007</td><td> 4</td><td> 1</td><td> 6</td><td>3.5</td><td>157</td><td>67</td><td>35.38889</td><td>NA</td><td>80</td><td>⋯</td><td>4.1</td><td>NA</td><td>75</td><td>0</td><td>0</td><td>0</td><td>0</td><td>0</td><td>0</td><td>1</td></tr>\n",
       "\t<tr><td>100007</td><td> 8</td><td> 5</td><td> 6</td><td>4.0</td><td>145</td><td>76</td><td>36.61111</td><td>NA</td><td>80</td><td>⋯</td><td> NA</td><td>NA</td><td>75</td><td>0</td><td>0</td><td>0</td><td>0</td><td>0</td><td>0</td><td>1</td></tr>\n",
       "\t<tr><td>100007</td><td>12</td><td> 5</td><td> 6</td><td>4.0</td><td>137</td><td>82</td><td>37.55556</td><td>NA</td><td>80</td><td>⋯</td><td> NA</td><td>NA</td><td>75</td><td>0</td><td>0</td><td>0</td><td>0</td><td>0</td><td>0</td><td>1</td></tr>\n",
       "\t<tr><td>100007</td><td>16</td><td> 5</td><td> 6</td><td>4.0</td><td>131</td><td>82</td><td>37.13889</td><td>NA</td><td>60</td><td>⋯</td><td> NA</td><td>NA</td><td>75</td><td>0</td><td>0</td><td>0</td><td>0</td><td>0</td><td>0</td><td>1</td></tr>\n",
       "</tbody>\n",
       "</table>\n"
      ],
      "text/latex": [
       "A data.table: 5 × 24\n",
       "\\begin{tabular}{lllllllllllllllllllll}\n",
       " hadm\\_id & time & GCSVerbal & GCSMotor & GCSEyes & SBP & HR & BT & PFR & UrO & ⋯ & Pot & Bil & AGE & HOSPITAL\\_EXPIRE\\_FLAG & Aids & Hm & Mc & ADtype1 & ADtype2 & ADtype3\\\\\n",
       " <int> & <int> & <dbl> & <dbl> & <dbl> & <dbl> & <dbl> & <dbl> & <dbl> & <dbl> & ⋯ & <dbl> & <dbl> & <int> & <int> & <int> & <int> & <int> & <int> & <int> & <int>\\\\\n",
       "\\hline\n",
       "\t 100007 &  0 & NA & NA &  NA &  NA & NA &       NA & NA & NA & ⋯ &  NA & NA & 75 & 0 & 0 & 0 & 0 & 0 & 0 & 1\\\\\n",
       "\t 100007 &  4 &  1 &  6 & 3.5 & 157 & 67 & 35.38889 & NA & 80 & ⋯ & 4.1 & NA & 75 & 0 & 0 & 0 & 0 & 0 & 0 & 1\\\\\n",
       "\t 100007 &  8 &  5 &  6 & 4.0 & 145 & 76 & 36.61111 & NA & 80 & ⋯ &  NA & NA & 75 & 0 & 0 & 0 & 0 & 0 & 0 & 1\\\\\n",
       "\t 100007 & 12 &  5 &  6 & 4.0 & 137 & 82 & 37.55556 & NA & 80 & ⋯ &  NA & NA & 75 & 0 & 0 & 0 & 0 & 0 & 0 & 1\\\\\n",
       "\t 100007 & 16 &  5 &  6 & 4.0 & 131 & 82 & 37.13889 & NA & 60 & ⋯ &  NA & NA & 75 & 0 & 0 & 0 & 0 & 0 & 0 & 1\\\\\n",
       "\\end{tabular}\n"
      ],
      "text/markdown": [
       "\n",
       "A data.table: 5 × 24\n",
       "\n",
       "| hadm_id &lt;int&gt; | time &lt;int&gt; | GCSVerbal &lt;dbl&gt; | GCSMotor &lt;dbl&gt; | GCSEyes &lt;dbl&gt; | SBP &lt;dbl&gt; | HR &lt;dbl&gt; | BT &lt;dbl&gt; | PFR &lt;dbl&gt; | UrO &lt;dbl&gt; | ⋯ ⋯ | Pot &lt;dbl&gt; | Bil &lt;dbl&gt; | AGE &lt;int&gt; | HOSPITAL_EXPIRE_FLAG &lt;int&gt; | Aids &lt;int&gt; | Hm &lt;int&gt; | Mc &lt;int&gt; | ADtype1 &lt;int&gt; | ADtype2 &lt;int&gt; | ADtype3 &lt;int&gt; |\n",
       "|---|---|---|---|---|---|---|---|---|---|---|---|---|---|---|---|---|---|---|---|---|\n",
       "| 100007 |  0 | NA | NA |  NA |  NA | NA |       NA | NA | NA | ⋯ |  NA | NA | 75 | 0 | 0 | 0 | 0 | 0 | 0 | 1 |\n",
       "| 100007 |  4 |  1 |  6 | 3.5 | 157 | 67 | 35.38889 | NA | 80 | ⋯ | 4.1 | NA | 75 | 0 | 0 | 0 | 0 | 0 | 0 | 1 |\n",
       "| 100007 |  8 |  5 |  6 | 4.0 | 145 | 76 | 36.61111 | NA | 80 | ⋯ |  NA | NA | 75 | 0 | 0 | 0 | 0 | 0 | 0 | 1 |\n",
       "| 100007 | 12 |  5 |  6 | 4.0 | 137 | 82 | 37.55556 | NA | 80 | ⋯ |  NA | NA | 75 | 0 | 0 | 0 | 0 | 0 | 0 | 1 |\n",
       "| 100007 | 16 |  5 |  6 | 4.0 | 131 | 82 | 37.13889 | NA | 60 | ⋯ |  NA | NA | 75 | 0 | 0 | 0 | 0 | 0 | 0 | 1 |\n",
       "\n"
      ],
      "text/plain": [
       "  hadm_id time GCSVerbal GCSMotor GCSEyes SBP HR BT       PFR UrO ⋯ Pot Bil AGE\n",
       "1 100007   0   NA        NA        NA      NA NA       NA NA  NA  ⋯  NA NA  75 \n",
       "2 100007   4    1         6       3.5     157 67 35.38889 NA  80  ⋯ 4.1 NA  75 \n",
       "3 100007   8    5         6       4.0     145 76 36.61111 NA  80  ⋯  NA NA  75 \n",
       "4 100007  12    5         6       4.0     137 82 37.55556 NA  80  ⋯  NA NA  75 \n",
       "5 100007  16    5         6       4.0     131 82 37.13889 NA  60  ⋯  NA NA  75 \n",
       "  HOSPITAL_EXPIRE_FLAG Aids Hm Mc ADtype1 ADtype2 ADtype3\n",
       "1 0                    0    0  0  0       0       1      \n",
       "2 0                    0    0  0  0       0       1      \n",
       "3 0                    0    0  0  0       0       1      \n",
       "4 0                    0    0  0  0       0       1      \n",
       "5 0                    0    0  0  0       0       1      "
      ]
     },
     "metadata": {},
     "output_type": "display_data"
    }
   ],
   "source": [
    "dym_X_light[1:5,]"
   ]
  }
 ],
 "metadata": {
  "kernelspec": {
   "display_name": "R",
   "language": "R",
   "name": "ir"
  },
  "language_info": {
   "codemirror_mode": "r",
   "file_extension": ".r",
   "mimetype": "text/x-r-source",
   "name": "R",
   "pygments_lexer": "r",
   "version": "4.2.2"
  }
 },
 "nbformat": 4,
 "nbformat_minor": 2
}
